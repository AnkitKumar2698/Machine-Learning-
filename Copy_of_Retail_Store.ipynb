{
  "nbformat": 4,
  "nbformat_minor": 0,
  "metadata": {
    "colab": {
      "name": "Copy of Retail_Store.ipynb",
      "provenance": [],
      "collapsed_sections": []
    },
    "kernelspec": {
      "name": "python3",
      "display_name": "Python 3"
    },
    "language_info": {
      "name": "python"
    }
  },
  "cells": [
    {
      "cell_type": "code",
      "metadata": {
        "id": "B0ipFe1L_rEa"
      },
      "source": [
        "import pandas as pd\n",
        "df = pd.read_csv(\"/content/OnlineRetail.csv\", sep = \",\" , encoding= \"ISO-8859-1\", header = 0)"
      ],
      "execution_count": null,
      "outputs": []
    },
    {
      "cell_type": "code",
      "metadata": {
        "id": "274XfvrW_5gH"
      },
      "source": [
        "df.head()"
      ],
      "execution_count": null,
      "outputs": []
    },
    {
      "cell_type": "code",
      "metadata": {
        "id": "NJ7kqfNuAeJk"
      },
      "source": [
        "df.shape"
      ],
      "execution_count": null,
      "outputs": []
    },
    {
      "cell_type": "code",
      "metadata": {
        "id": "8zQhwFRZAo6M"
      },
      "source": [
        "df.info()"
      ],
      "execution_count": null,
      "outputs": []
    },
    {
      "cell_type": "code",
      "metadata": {
        "id": "REd97BSEAw2d"
      },
      "source": [
        "df.describe()"
      ],
      "execution_count": null,
      "outputs": []
    },
    {
      "cell_type": "code",
      "metadata": {
        "id": "YI8D8-39BD3D"
      },
      "source": [
        "df_null = round(100*(df.isnull().sum())/len(df),2)"
      ],
      "execution_count": null,
      "outputs": []
    },
    {
      "cell_type": "code",
      "metadata": {
        "id": "sVR5J0rcB417"
      },
      "source": [
        "df_null"
      ],
      "execution_count": null,
      "outputs": []
    },
    {
      "cell_type": "code",
      "metadata": {
        "id": "wLxIb4vHB9Kx"
      },
      "source": [
        "df = df.dropna()"
      ],
      "execution_count": null,
      "outputs": []
    },
    {
      "cell_type": "code",
      "metadata": {
        "id": "k8ArjAQyCH3r"
      },
      "source": [
        "df.shape"
      ],
      "execution_count": null,
      "outputs": []
    },
    {
      "cell_type": "code",
      "metadata": {
        "id": "FNWOmOf7CJmy"
      },
      "source": [
        "df['CustomerID'] = df['CustomerID'].astype(str)"
      ],
      "execution_count": null,
      "outputs": []
    },
    {
      "cell_type": "code",
      "metadata": {
        "id": "gQe-xOB5DeZ9"
      },
      "source": [
        "df['Amount'] = df['Quantity']*df['UnitPrice']\n",
        "rfm = df.groupby('CustomerID')['Amount'].sum()\n",
        "rfm = rfm.reset_index()\n",
        "rfm.head()"
      ],
      "execution_count": null,
      "outputs": []
    },
    {
      "cell_type": "code",
      "metadata": {
        "id": "xUuRAngcEEuP"
      },
      "source": [
        "rff = df.groupby('CustomerID')['InvoiceNo'].count()\n",
        "rff = rff.reset_index()\n",
        "rff.columns = ['CustomerID','Frequency']\n",
        "rff.head()"
      ],
      "execution_count": null,
      "outputs": []
    },
    {
      "cell_type": "code",
      "metadata": {
        "id": "9R5XALpDFZE_"
      },
      "source": [
        "rft = pd.merge(rfm, rff, on = 'CustomerID', how = 'inner')\n",
        "rft.head()"
      ],
      "execution_count": null,
      "outputs": []
    },
    {
      "cell_type": "code",
      "metadata": {
        "id": "mKade86PGVHh"
      },
      "source": [
        "  df['InvoiceDate'] = pd.to_datetime(df['InvoiceDate'], format= '%d-%m-%Y %H:%M')"
      ],
      "execution_count": null,
      "outputs": []
    },
    {
      "cell_type": "code",
      "metadata": {
        "id": "80NybsyFG9f1"
      },
      "source": [
        "maxDate = max(df['InvoiceDate'])\n",
        "maxDate"
      ],
      "execution_count": null,
      "outputs": []
    },
    {
      "cell_type": "code",
      "metadata": {
        "id": "avKCxdlFHJHS"
      },
      "source": [
        "df['Diff'] = maxDate - df['InvoiceDate']\n",
        "df.head()"
      ],
      "execution_count": null,
      "outputs": []
    },
    {
      "cell_type": "code",
      "metadata": {
        "id": "Ijql7BRVHh4L"
      },
      "source": [
        "rfp = df.groupby('CustomerID')['Diff'].min()\n",
        "rfp = rfp.reset_index()\n",
        "rfp.head()"
      ],
      "execution_count": null,
      "outputs": []
    },
    {
      "cell_type": "code",
      "metadata": {
        "id": "vhZV6DLbIBWy"
      },
      "source": [
        "rfp['Diff'] =rfp['Diff'].dt.days\n",
        "rfp.head()"
      ],
      "execution_count": null,
      "outputs": []
    },
    {
      "cell_type": "code",
      "metadata": {
        "id": "dmS_o751IiX1"
      },
      "source": [
        "rft = pd.merge(rft, rfp, on = 'CustomerID', how = 'inner')\n",
        "rft.columns = ['CustomerID', 'Amount', 'Frequency', 'Recency']\n",
        "rft.head()"
      ],
      "execution_count": null,
      "outputs": []
    },
    {
      "cell_type": "code",
      "metadata": {
        "id": "GEUbKR8OJwX1"
      },
      "source": [
        "from matplotlib import pyplot as plt\n",
        "import seaborn as sns\n",
        "attributes = ['Amount', 'Frequency', 'Recency']\n",
        "plt.rcParams['figure.figsize'] = [10,8]\n",
        "sns.boxplot(data = rft[attributes], orient =\"v\", palette= \"Set2\", whis = 1.5, saturation= 1, width  = 0.7)\n",
        "plt.title(\"Outliers Detection\", fontsize = 15, fontweight = 'bold')\n",
        "plt.ylabel(\"Range\", fontweight = 'bold')\n",
        "plt.xlabel(\"Attributes\", fontweight= 'bold')"
      ],
      "execution_count": null,
      "outputs": []
    },
    {
      "cell_type": "code",
      "metadata": {
        "id": "ZpM0ZEHLLWvC"
      },
      "source": [
        "Q1 = rft.Amount.quantile(0.05)\n",
        "Q3 = rft.Amount.quantile(0.95)\n",
        "IQR = Q3 - Q1\n",
        "rft = rft[(rft.Amount >= Q1 - 1.5*IQR) & (rfm.Amount <= Q3 + 1.5*IQR)]\n",
        "\n",
        "Q1 = rft.Recency.quantile(0.05)\n",
        "Q3 = rft.Recency.quantile(0.95)\n",
        "IQR = Q3 - Q1\n",
        "rft = rft[(rft.Recency >= Q1 - 1.5*IQR) & (rft.Recency <= Q3 + 1.5 * IQR)]\n",
        "\n",
        "\n",
        "Q1 = rft.Frequency.quantile(0.05)\n",
        "Q3 = rft.Frequency.quantile(0.95)\n",
        "IQR = Q3 - Q1\n",
        "rft = rft[(rft.Frequency >= Q1 - 1.5*IQR) & (rft.Frequency <= Q3 + 1.5 * IQR)]"
      ],
      "execution_count": null,
      "outputs": []
    },
    {
      "cell_type": "code",
      "metadata": {
        "id": "sCTAtO6KNrQC"
      },
      "source": [
        "rft_df = rft[['Amount', 'Frequency', 'Recency']]\n",
        "from sklearn.preprocessing import StandardScaler\n",
        "scaler = StandardScaler()\n",
        "rft_df_scaled = scaler.fit_transform(rft_df)\n",
        "rft_df_scaled.shape"
      ],
      "execution_count": null,
      "outputs": []
    },
    {
      "cell_type": "code",
      "metadata": {
        "id": "8FP0MpbaTxXK"
      },
      "source": [
        "rft_df_scaled = pd.DataFrame(rft_df_scaled)\n",
        "rft_df_scaled.columns = ['Amount', 'Frequency', 'Recency']\n",
        "rft_df_scaled.head()"
      ],
      "execution_count": null,
      "outputs": []
    },
    {
      "cell_type": "code",
      "metadata": {
        "id": "Ck8OOBqkZX1k"
      },
      "source": [
        "from scipy.cluster.hierarchy import linkage\n",
        "from scipy.cluster.hierarchy import dendrogram\n",
        "merg = linkage(rft_df_scaled, method = \"single\", metric = \"euclidean\")\n",
        "dendrogram(merg)\n",
        "plt.show()"
      ],
      "execution_count": null,
      "outputs": []
    },
    {
      "cell_type": "code",
      "metadata": {
        "id": "gO4hQwUiZ-Um"
      },
      "source": [
        "merg = linkage(rft_df_scaled, method = \"complete\", metric = \"euclidean\")\n",
        "dendrogram(merg)\n",
        "plt.show()"
      ],
      "execution_count": null,
      "outputs": []
    },
    {
      "cell_type": "code",
      "metadata": {
        "id": "zZgeL6xvatV3"
      },
      "source": [
        "from scipy.cluster.hierarchy import cut_tree\n",
        "clus_lab = cut_tree(merg, n_clusters = 2).reshape(-1,)\n",
        "clus_lab"
      ],
      "execution_count": null,
      "outputs": []
    },
    {
      "cell_type": "code",
      "metadata": {
        "id": "cQfe0nk2bmJL"
      },
      "source": [
        "rft['Cluster_Labels'] = clus_lab\n",
        "rft.head()"
      ],
      "execution_count": null,
      "outputs": []
    }
  ]
}