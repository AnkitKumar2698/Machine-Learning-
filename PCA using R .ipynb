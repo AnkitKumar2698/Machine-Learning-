{
  "nbformat": 4,
  "nbformat_minor": 0,
  "metadata": {
    "colab": {
      "name": "PCA.ipynb",
      "provenance": [],
      "collapsed_sections": [],
      "authorship_tag": "ABX9TyNvCyvAkUtue9ziTNkd4+wZ",
      "include_colab_link": true
    },
    "kernelspec": {
      "name": "ir",
      "display_name": "R"
    },
    "language_info": {
      "name": "R"
    }
  },
  "cells": [
    {
      "cell_type": "markdown",
      "metadata": {
        "id": "view-in-github",
        "colab_type": "text"
      },
      "source": [
        "<a href=\"https://colab.research.google.com/github/AnkitKumar2698/Machine-Learning-/blob/master/PCA%20using%20R%20.ipynb\" target=\"_parent\"><img src=\"https://colab.research.google.com/assets/colab-badge.svg\" alt=\"Open In Colab\"/></a>"
      ]
    },
    {
      "cell_type": "code",
      "execution_count": null,
      "metadata": {
        "id": "OKUDz09aSCgj"
      },
      "outputs": [],
      "source": [
        "data=read.csv(\"data.csv\")"
      ]
    },
    {
      "cell_type": "code",
      "source": [
        "data"
      ],
      "metadata": {
        "id": "NcghgdmrS1Yn"
      },
      "execution_count": null,
      "outputs": []
    },
    {
      "cell_type": "code",
      "source": [
        "colnames(data)"
      ],
      "metadata": {
        "id": "HzRw_t5mS39y"
      },
      "execution_count": null,
      "outputs": []
    },
    {
      "cell_type": "code",
      "source": [
        "target=data$diagnosis"
      ],
      "metadata": {
        "id": "2JmAjfYzS8se"
      },
      "execution_count": null,
      "outputs": []
    },
    {
      "cell_type": "code",
      "source": [
        "target"
      ],
      "metadata": {
        "id": "wvPIqm9FTP_G"
      },
      "execution_count": null,
      "outputs": []
    },
    {
      "cell_type": "code",
      "source": [
        "target_numeric=ifelse(target==\"B\",1,0)"
      ],
      "metadata": {
        "id": "cU3OASWNTTLl"
      },
      "execution_count": null,
      "outputs": []
    },
    {
      "cell_type": "code",
      "source": [
        "target_numeric"
      ],
      "metadata": {
        "id": "fhOXtlC-Tpcu"
      },
      "execution_count": null,
      "outputs": []
    },
    {
      "cell_type": "code",
      "source": [
        "drop=c(\"X\",\"diagnosis\")\n",
        "features=data[,!(names(data)%in%drop)]"
      ],
      "metadata": {
        "id": "Kn3Dc-udTr1Z"
      },
      "execution_count": null,
      "outputs": []
    },
    {
      "cell_type": "code",
      "source": [
        "features"
      ],
      "metadata": {
        "id": "zumy53guVTj-"
      },
      "execution_count": null,
      "outputs": []
    },
    {
      "cell_type": "code",
      "source": [
        "dim(features)"
      ],
      "metadata": {
        "id": "CM2RK4kqVhCo"
      },
      "execution_count": null,
      "outputs": []
    },
    {
      "cell_type": "code",
      "source": [
        "scales_data=scale(features)"
      ],
      "metadata": {
        "id": "kMS_-Hz5Vmi3"
      },
      "execution_count": null,
      "outputs": []
    },
    {
      "cell_type": "code",
      "source": [
        "scales_data"
      ],
      "metadata": {
        "id": "ita7O2VeVql6"
      },
      "execution_count": null,
      "outputs": []
    },
    {
      "cell_type": "code",
      "source": [
        "scale_target=cbind(scales_data,target_numeric)"
      ],
      "metadata": {
        "id": "DQAYM6eFVtWW"
      },
      "execution_count": null,
      "outputs": []
    },
    {
      "cell_type": "code",
      "source": [
        "scale_target"
      ],
      "metadata": {
        "id": "szpdeqiYWCtK"
      },
      "execution_count": null,
      "outputs": []
    },
    {
      "cell_type": "code",
      "source": [
        "set.seed(101)\n",
        "sample=sample.int(n=nrow(scale_target),size=floor(.75*nrow(scales_data)),replace=F)"
      ],
      "metadata": {
        "id": "Tv2VfwopV8WY"
      },
      "execution_count": null,
      "outputs": []
    },
    {
      "cell_type": "code",
      "source": [
        "train=data.frame(scale_target[sample,])\n",
        "test=data.frame(scale_target[-sample,])\n",
        "target_split=target_numeric[sample]"
      ],
      "metadata": {
        "id": "yFvhIKn4YKm4"
      },
      "execution_count": null,
      "outputs": []
    },
    {
      "cell_type": "code",
      "source": [
        "train"
      ],
      "metadata": {
        "id": "vf9YiQxjZX9x"
      },
      "execution_count": null,
      "outputs": []
    },
    {
      "cell_type": "code",
      "source": [
        "install.packages(\"caTools\")"
      ],
      "metadata": {
        "id": "TKMSlylDZ84_"
      },
      "execution_count": null,
      "outputs": []
    },
    {
      "cell_type": "code",
      "source": [
        "install.packages(\"ROCR\")"
      ],
      "metadata": {
        "id": "VWfBENpZaEmn"
      },
      "execution_count": null,
      "outputs": []
    },
    {
      "cell_type": "code",
      "source": [
        "dim(train)"
      ],
      "metadata": {
        "id": "nHoBAVJyZZDM"
      },
      "execution_count": null,
      "outputs": []
    },
    {
      "cell_type": "code",
      "source": [
        "library(caTools)\n",
        "library(ROCR)"
      ],
      "metadata": {
        "id": "VZlBsWNWZa38",
        "colab": {
          "base_uri": "https://localhost:8080/",
          "height": 148
        },
        "outputId": "ac8d9450-a019-4f42-9c41-429e5fe2eaee"
      },
      "execution_count": null,
      "outputs": [
        {
          "output_type": "error",
          "ename": "ERROR",
          "evalue": "ignored",
          "traceback": [
            "Error in library(caTools): there is no package called ‘caTools’\nTraceback:\n",
            "1. library(caTools)"
          ]
        }
      ]
    },
    {
      "cell_type": "code",
      "source": [
        "length(target)"
      ],
      "metadata": {
        "id": "uT9F8POcbK9-"
      },
      "execution_count": null,
      "outputs": []
    },
    {
      "cell_type": "code",
      "source": [
        "logistic_model=glm(target_numeric~., data=train,family=\"binomial\")"
      ],
      "metadata": {
        "id": "AOAWLK2tZ6D0"
      },
      "execution_count": null,
      "outputs": []
    },
    {
      "cell_type": "code",
      "source": [
        "predic_score=predict(logistic_model,test)"
      ],
      "metadata": {
        "id": "d77RByUfad2e"
      },
      "execution_count": null,
      "outputs": []
    },
    {
      "cell_type": "code",
      "source": [
        "predic_score"
      ],
      "metadata": {
        "id": "D82JNPMbeuVc"
      },
      "execution_count": null,
      "outputs": []
    },
    {
      "cell_type": "code",
      "source": [
        "predict_score=ifelse(predic_score>=0.5,1,0)"
      ],
      "metadata": {
        "id": "heTdDNilexoE"
      },
      "execution_count": null,
      "outputs": []
    },
    {
      "cell_type": "code",
      "source": [
        "predict_score"
      ],
      "metadata": {
        "id": "3cXXmrkie94X"
      },
      "execution_count": null,
      "outputs": []
    },
    {
      "cell_type": "code",
      "source": [
        "df=table(test$target_numeric,predict_score)"
      ],
      "metadata": {
        "id": "zhiIPxWqe_g7"
      },
      "execution_count": null,
      "outputs": []
    },
    {
      "cell_type": "code",
      "source": [
        "df"
      ],
      "metadata": {
        "id": "dT3R7AYRfMfO"
      },
      "execution_count": null,
      "outputs": []
    },
    {
      "cell_type": "code",
      "source": [
        "acc=sum(diag(df))/sum(df)"
      ],
      "metadata": {
        "id": "xmJtcrNAfNJJ"
      },
      "execution_count": null,
      "outputs": []
    },
    {
      "cell_type": "code",
      "source": [
        "acc"
      ],
      "metadata": {
        "colab": {
          "base_uri": "https://localhost:8080/",
          "height": 34
        },
        "id": "tx-BmCL2fS3b",
        "outputId": "66c8682e-0e61-4403-b7b9-2e3c4f743a73"
      },
      "execution_count": null,
      "outputs": [
        {
          "output_type": "display_data",
          "data": {
            "text/plain": [
              "[1] 0.951049"
            ],
            "text/latex": "0.951048951048951",
            "text/markdown": "0.951048951048951",
            "text/html": [
              "0.951048951048951"
            ]
          },
          "metadata": {}
        }
      ]
    },
    {
      "cell_type": "code",
      "source": [
        "install.packages(\"caret\")\n",
        "install.packages(\"e1071\")"
      ],
      "metadata": {
        "id": "YJiH1o2afTUb"
      },
      "execution_count": null,
      "outputs": []
    },
    {
      "cell_type": "code",
      "source": [
        "library(caret)\n",
        "library(e1071)\n",
        "pca=preProcess(train[-9],method=\"pca\",pcaComp=2)"
      ],
      "metadata": {
        "id": "-qbT_1UUfzw-"
      },
      "execution_count": null,
      "outputs": []
    },
    {
      "cell_type": "code",
      "source": [
        "training_set.pca=predict(pca,train)"
      ],
      "metadata": {
        "id": "nBFJCGsqhk33"
      },
      "execution_count": null,
      "outputs": []
    },
    {
      "cell_type": "code",
      "source": [
        "test_set.pca=predict(pca,test)"
      ],
      "metadata": {
        "id": "Yu8MTDCviBWg"
      },
      "execution_count": null,
      "outputs": []
    },
    {
      "cell_type": "code",
      "source": [
        "logistic_model=glm(target_split~., data=training_set.pca)"
      ],
      "metadata": {
        "id": "j96cb-5MiEuI"
      },
      "execution_count": null,
      "outputs": []
    },
    {
      "cell_type": "code",
      "source": [
        "predic_score=predict(logistic_model,test_set.pca)"
      ],
      "metadata": {
        "id": "3lMAXOGCiiWM"
      },
      "execution_count": null,
      "outputs": []
    },
    {
      "cell_type": "code",
      "source": [
        "predict_score=ifelse(predic_score>=0.5,1,0)"
      ],
      "metadata": {
        "id": "eF0c3LWojMwD"
      },
      "execution_count": null,
      "outputs": []
    },
    {
      "cell_type": "code",
      "source": [
        "df=table(test$target_numeric,predict_score)"
      ],
      "metadata": {
        "id": "YOCcb7iXjPzV"
      },
      "execution_count": null,
      "outputs": []
    },
    {
      "cell_type": "code",
      "source": [
        "df"
      ],
      "metadata": {
        "colab": {
          "base_uri": "https://localhost:8080/",
          "height": 86
        },
        "id": "ujbMtY24jTBk",
        "outputId": "23940c97-c5d5-46ea-ffbf-4d1a37a0d0a8"
      },
      "execution_count": null,
      "outputs": [
        {
          "output_type": "display_data",
          "data": {
            "text/plain": [
              "   predict_score\n",
              "     0  1\n",
              "  0 43  8\n",
              "  1  1 91"
            ]
          },
          "metadata": {}
        }
      ]
    },
    {
      "cell_type": "code",
      "source": [
        "acc=sum(diag(df))/sum(df)"
      ],
      "metadata": {
        "id": "BO_5Je1kjZzz"
      },
      "execution_count": null,
      "outputs": []
    },
    {
      "cell_type": "code",
      "source": [
        "acc"
      ],
      "metadata": {
        "id": "mnr2129wje4Y",
        "outputId": "0ff4ebf5-cecd-4f2f-8eee-4699a1f0e0f0",
        "colab": {
          "base_uri": "https://localhost:8080/",
          "height": 34
        }
      },
      "execution_count": null,
      "outputs": [
        {
          "output_type": "display_data",
          "data": {
            "text/plain": [
              "[1] 0.9370629"
            ],
            "text/latex": "0.937062937062937",
            "text/markdown": "0.937062937062937",
            "text/html": [
              "0.937062937062937"
            ]
          },
          "metadata": {}
        }
      ]
    },
    {
      "cell_type": "code",
      "source": [
        ""
      ],
      "metadata": {
        "id": "GaSBg0Eijfx2"
      },
      "execution_count": null,
      "outputs": []
    }
  ]
}