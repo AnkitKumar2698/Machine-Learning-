{
  "nbformat": 4,
  "nbformat_minor": 0,
  "metadata": {
    "colab": {
      "name": "PCA with logistic regression in R.ipynb",
      "provenance": [],
      "authorship_tag": "ABX9TyPkBzNEn3VepD9isU3Tx69R",
      "include_colab_link": true
    },
    "kernelspec": {
      "name": "ir",
      "display_name": "R"
    },
    "language_info": {
      "name": "R"
    }
  },
  "cells": [
    {
      "cell_type": "markdown",
      "metadata": {
        "id": "view-in-github",
        "colab_type": "text"
      },
      "source": [
        "<a href=\"https://colab.research.google.com/github/AnkitKumar2698/Machine-Learning-/blob/master/PCA_with_logistic_regression_in_R.ipynb\" target=\"_parent\"><img src=\"https://colab.research.google.com/assets/colab-badge.svg\" alt=\"Open In Colab\"/></a>"
      ]
    },
    {
      "cell_type": "code",
      "execution_count": null,
      "metadata": {
        "id": "GP-Mdsw3c4QN"
      },
      "outputs": [],
      "source": [
        "xdata=read.csv(\"data.csv\")"
      ]
    },
    {
      "cell_type": "code",
      "source": [
        "head(data,10)"
      ],
      "metadata": {
        "colab": {
          "base_uri": "https://localhost:8080/",
          "height": 432
        },
        "id": "ldcJ5wcrc7rw",
        "outputId": "84eb16c0-58d6-4fe5-906f-689e61d85b3a"
      },
      "execution_count": null,
      "outputs": [
        {
          "output_type": "display_data",
          "data": {
            "text/plain": [
              "   id       diagnosis radius_mean texture_mean perimeter_mean area_mean\n",
              "1    842302 M         17.99       10.38        122.80         1001.0   \n",
              "2    842517 M         20.57       17.77        132.90         1326.0   \n",
              "3  84300903 M         19.69       21.25        130.00         1203.0   \n",
              "4  84348301 M         11.42       20.38         77.58          386.1   \n",
              "5  84358402 M         20.29       14.34        135.10         1297.0   \n",
              "6    843786 M         12.45       15.70         82.57          477.1   \n",
              "7    844359 M         18.25       19.98        119.60         1040.0   \n",
              "8  84458202 M         13.71       20.83         90.20          577.9   \n",
              "9    844981 M         13.00       21.82         87.50          519.8   \n",
              "10 84501001 M         12.46       24.04         83.97          475.9   \n",
              "   smoothness_mean compactness_mean concavity_mean concave.points_mean ⋯\n",
              "1  0.11840         0.27760          0.30010        0.14710             ⋯\n",
              "2  0.08474         0.07864          0.08690        0.07017             ⋯\n",
              "3  0.10960         0.15990          0.19740        0.12790             ⋯\n",
              "4  0.14250         0.28390          0.24140        0.10520             ⋯\n",
              "5  0.10030         0.13280          0.19800        0.10430             ⋯\n",
              "6  0.12780         0.17000          0.15780        0.08089             ⋯\n",
              "7  0.09463         0.10900          0.11270        0.07400             ⋯\n",
              "8  0.11890         0.16450          0.09366        0.05985             ⋯\n",
              "9  0.12730         0.19320          0.18590        0.09353             ⋯\n",
              "10 0.11860         0.23960          0.22730        0.08543             ⋯\n",
              "   texture_worst perimeter_worst area_worst smoothness_worst compactness_worst\n",
              "1  17.33         184.60          2019.0     0.1622           0.6656           \n",
              "2  23.41         158.80          1956.0     0.1238           0.1866           \n",
              "3  25.53         152.50          1709.0     0.1444           0.4245           \n",
              "4  26.50          98.87           567.7     0.2098           0.8663           \n",
              "5  16.67         152.20          1575.0     0.1374           0.2050           \n",
              "6  23.75         103.40           741.6     0.1791           0.5249           \n",
              "7  27.66         153.20          1606.0     0.1442           0.2576           \n",
              "8  28.14         110.60           897.0     0.1654           0.3682           \n",
              "9  30.73         106.20           739.3     0.1703           0.5401           \n",
              "10 40.68          97.65           711.4     0.1853           1.0580           \n",
              "   concavity_worst concave.points_worst symmetry_worst fractal_dimension_worst\n",
              "1  0.7119          0.2654               0.4601         0.11890                \n",
              "2  0.2416          0.1860               0.2750         0.08902                \n",
              "3  0.4504          0.2430               0.3613         0.08758                \n",
              "4  0.6869          0.2575               0.6638         0.17300                \n",
              "5  0.4000          0.1625               0.2364         0.07678                \n",
              "6  0.5355          0.1741               0.3985         0.12440                \n",
              "7  0.3784          0.1932               0.3063         0.08368                \n",
              "8  0.2678          0.1556               0.3196         0.11510                \n",
              "9  0.5390          0.2060               0.4378         0.10720                \n",
              "10 1.1050          0.2210               0.4366         0.20750                \n",
              "   X \n",
              "1  NA\n",
              "2  NA\n",
              "3  NA\n",
              "4  NA\n",
              "5  NA\n",
              "6  NA\n",
              "7  NA\n",
              "8  NA\n",
              "9  NA\n",
              "10 NA"
            ],
            "text/latex": "A data.frame: 10 × 33\n\\begin{tabular}{r|lllllllllllllllllllll}\n  & id & diagnosis & radius\\_mean & texture\\_mean & perimeter\\_mean & area\\_mean & smoothness\\_mean & compactness\\_mean & concavity\\_mean & concave.points\\_mean & ⋯ & texture\\_worst & perimeter\\_worst & area\\_worst & smoothness\\_worst & compactness\\_worst & concavity\\_worst & concave.points\\_worst & symmetry\\_worst & fractal\\_dimension\\_worst & X\\\\\n  & <int> & <chr> & <dbl> & <dbl> & <dbl> & <dbl> & <dbl> & <dbl> & <dbl> & <dbl> & ⋯ & <dbl> & <dbl> & <dbl> & <dbl> & <dbl> & <dbl> & <dbl> & <dbl> & <dbl> & <lgl>\\\\\n\\hline\n\t1 &   842302 & M & 17.99 & 10.38 & 122.80 & 1001.0 & 0.11840 & 0.27760 & 0.30010 & 0.14710 & ⋯ & 17.33 & 184.60 & 2019.0 & 0.1622 & 0.6656 & 0.7119 & 0.2654 & 0.4601 & 0.11890 & NA\\\\\n\t2 &   842517 & M & 20.57 & 17.77 & 132.90 & 1326.0 & 0.08474 & 0.07864 & 0.08690 & 0.07017 & ⋯ & 23.41 & 158.80 & 1956.0 & 0.1238 & 0.1866 & 0.2416 & 0.1860 & 0.2750 & 0.08902 & NA\\\\\n\t3 & 84300903 & M & 19.69 & 21.25 & 130.00 & 1203.0 & 0.10960 & 0.15990 & 0.19740 & 0.12790 & ⋯ & 25.53 & 152.50 & 1709.0 & 0.1444 & 0.4245 & 0.4504 & 0.2430 & 0.3613 & 0.08758 & NA\\\\\n\t4 & 84348301 & M & 11.42 & 20.38 &  77.58 &  386.1 & 0.14250 & 0.28390 & 0.24140 & 0.10520 & ⋯ & 26.50 &  98.87 &  567.7 & 0.2098 & 0.8663 & 0.6869 & 0.2575 & 0.6638 & 0.17300 & NA\\\\\n\t5 & 84358402 & M & 20.29 & 14.34 & 135.10 & 1297.0 & 0.10030 & 0.13280 & 0.19800 & 0.10430 & ⋯ & 16.67 & 152.20 & 1575.0 & 0.1374 & 0.2050 & 0.4000 & 0.1625 & 0.2364 & 0.07678 & NA\\\\\n\t6 &   843786 & M & 12.45 & 15.70 &  82.57 &  477.1 & 0.12780 & 0.17000 & 0.15780 & 0.08089 & ⋯ & 23.75 & 103.40 &  741.6 & 0.1791 & 0.5249 & 0.5355 & 0.1741 & 0.3985 & 0.12440 & NA\\\\\n\t7 &   844359 & M & 18.25 & 19.98 & 119.60 & 1040.0 & 0.09463 & 0.10900 & 0.11270 & 0.07400 & ⋯ & 27.66 & 153.20 & 1606.0 & 0.1442 & 0.2576 & 0.3784 & 0.1932 & 0.3063 & 0.08368 & NA\\\\\n\t8 & 84458202 & M & 13.71 & 20.83 &  90.20 &  577.9 & 0.11890 & 0.16450 & 0.09366 & 0.05985 & ⋯ & 28.14 & 110.60 &  897.0 & 0.1654 & 0.3682 & 0.2678 & 0.1556 & 0.3196 & 0.11510 & NA\\\\\n\t9 &   844981 & M & 13.00 & 21.82 &  87.50 &  519.8 & 0.12730 & 0.19320 & 0.18590 & 0.09353 & ⋯ & 30.73 & 106.20 &  739.3 & 0.1703 & 0.5401 & 0.5390 & 0.2060 & 0.4378 & 0.10720 & NA\\\\\n\t10 & 84501001 & M & 12.46 & 24.04 &  83.97 &  475.9 & 0.11860 & 0.23960 & 0.22730 & 0.08543 & ⋯ & 40.68 &  97.65 &  711.4 & 0.1853 & 1.0580 & 1.1050 & 0.2210 & 0.4366 & 0.20750 & NA\\\\\n\\end{tabular}\n",
            "text/markdown": "\nA data.frame: 10 × 33\n\n| <!--/--> | id &lt;int&gt; | diagnosis &lt;chr&gt; | radius_mean &lt;dbl&gt; | texture_mean &lt;dbl&gt; | perimeter_mean &lt;dbl&gt; | area_mean &lt;dbl&gt; | smoothness_mean &lt;dbl&gt; | compactness_mean &lt;dbl&gt; | concavity_mean &lt;dbl&gt; | concave.points_mean &lt;dbl&gt; | ⋯ ⋯ | texture_worst &lt;dbl&gt; | perimeter_worst &lt;dbl&gt; | area_worst &lt;dbl&gt; | smoothness_worst &lt;dbl&gt; | compactness_worst &lt;dbl&gt; | concavity_worst &lt;dbl&gt; | concave.points_worst &lt;dbl&gt; | symmetry_worst &lt;dbl&gt; | fractal_dimension_worst &lt;dbl&gt; | X &lt;lgl&gt; |\n|---|---|---|---|---|---|---|---|---|---|---|---|---|---|---|---|---|---|---|---|---|---|\n| 1 |   842302 | M | 17.99 | 10.38 | 122.80 | 1001.0 | 0.11840 | 0.27760 | 0.30010 | 0.14710 | ⋯ | 17.33 | 184.60 | 2019.0 | 0.1622 | 0.6656 | 0.7119 | 0.2654 | 0.4601 | 0.11890 | NA |\n| 2 |   842517 | M | 20.57 | 17.77 | 132.90 | 1326.0 | 0.08474 | 0.07864 | 0.08690 | 0.07017 | ⋯ | 23.41 | 158.80 | 1956.0 | 0.1238 | 0.1866 | 0.2416 | 0.1860 | 0.2750 | 0.08902 | NA |\n| 3 | 84300903 | M | 19.69 | 21.25 | 130.00 | 1203.0 | 0.10960 | 0.15990 | 0.19740 | 0.12790 | ⋯ | 25.53 | 152.50 | 1709.0 | 0.1444 | 0.4245 | 0.4504 | 0.2430 | 0.3613 | 0.08758 | NA |\n| 4 | 84348301 | M | 11.42 | 20.38 |  77.58 |  386.1 | 0.14250 | 0.28390 | 0.24140 | 0.10520 | ⋯ | 26.50 |  98.87 |  567.7 | 0.2098 | 0.8663 | 0.6869 | 0.2575 | 0.6638 | 0.17300 | NA |\n| 5 | 84358402 | M | 20.29 | 14.34 | 135.10 | 1297.0 | 0.10030 | 0.13280 | 0.19800 | 0.10430 | ⋯ | 16.67 | 152.20 | 1575.0 | 0.1374 | 0.2050 | 0.4000 | 0.1625 | 0.2364 | 0.07678 | NA |\n| 6 |   843786 | M | 12.45 | 15.70 |  82.57 |  477.1 | 0.12780 | 0.17000 | 0.15780 | 0.08089 | ⋯ | 23.75 | 103.40 |  741.6 | 0.1791 | 0.5249 | 0.5355 | 0.1741 | 0.3985 | 0.12440 | NA |\n| 7 |   844359 | M | 18.25 | 19.98 | 119.60 | 1040.0 | 0.09463 | 0.10900 | 0.11270 | 0.07400 | ⋯ | 27.66 | 153.20 | 1606.0 | 0.1442 | 0.2576 | 0.3784 | 0.1932 | 0.3063 | 0.08368 | NA |\n| 8 | 84458202 | M | 13.71 | 20.83 |  90.20 |  577.9 | 0.11890 | 0.16450 | 0.09366 | 0.05985 | ⋯ | 28.14 | 110.60 |  897.0 | 0.1654 | 0.3682 | 0.2678 | 0.1556 | 0.3196 | 0.11510 | NA |\n| 9 |   844981 | M | 13.00 | 21.82 |  87.50 |  519.8 | 0.12730 | 0.19320 | 0.18590 | 0.09353 | ⋯ | 30.73 | 106.20 |  739.3 | 0.1703 | 0.5401 | 0.5390 | 0.2060 | 0.4378 | 0.10720 | NA |\n| 10 | 84501001 | M | 12.46 | 24.04 |  83.97 |  475.9 | 0.11860 | 0.23960 | 0.22730 | 0.08543 | ⋯ | 40.68 |  97.65 |  711.4 | 0.1853 | 1.0580 | 1.1050 | 0.2210 | 0.4366 | 0.20750 | NA |\n\n",
            "text/html": [
              "<table class=\"dataframe\">\n",
              "<caption>A data.frame: 10 × 33</caption>\n",
              "<thead>\n",
              "\t<tr><th></th><th scope=col>id</th><th scope=col>diagnosis</th><th scope=col>radius_mean</th><th scope=col>texture_mean</th><th scope=col>perimeter_mean</th><th scope=col>area_mean</th><th scope=col>smoothness_mean</th><th scope=col>compactness_mean</th><th scope=col>concavity_mean</th><th scope=col>concave.points_mean</th><th scope=col>⋯</th><th scope=col>texture_worst</th><th scope=col>perimeter_worst</th><th scope=col>area_worst</th><th scope=col>smoothness_worst</th><th scope=col>compactness_worst</th><th scope=col>concavity_worst</th><th scope=col>concave.points_worst</th><th scope=col>symmetry_worst</th><th scope=col>fractal_dimension_worst</th><th scope=col>X</th></tr>\n",
              "\t<tr><th></th><th scope=col>&lt;int&gt;</th><th scope=col>&lt;chr&gt;</th><th scope=col>&lt;dbl&gt;</th><th scope=col>&lt;dbl&gt;</th><th scope=col>&lt;dbl&gt;</th><th scope=col>&lt;dbl&gt;</th><th scope=col>&lt;dbl&gt;</th><th scope=col>&lt;dbl&gt;</th><th scope=col>&lt;dbl&gt;</th><th scope=col>&lt;dbl&gt;</th><th scope=col>⋯</th><th scope=col>&lt;dbl&gt;</th><th scope=col>&lt;dbl&gt;</th><th scope=col>&lt;dbl&gt;</th><th scope=col>&lt;dbl&gt;</th><th scope=col>&lt;dbl&gt;</th><th scope=col>&lt;dbl&gt;</th><th scope=col>&lt;dbl&gt;</th><th scope=col>&lt;dbl&gt;</th><th scope=col>&lt;dbl&gt;</th><th scope=col>&lt;lgl&gt;</th></tr>\n",
              "</thead>\n",
              "<tbody>\n",
              "\t<tr><th scope=row>1</th><td>  842302</td><td>M</td><td>17.99</td><td>10.38</td><td>122.80</td><td>1001.0</td><td>0.11840</td><td>0.27760</td><td>0.30010</td><td>0.14710</td><td>⋯</td><td>17.33</td><td>184.60</td><td>2019.0</td><td>0.1622</td><td>0.6656</td><td>0.7119</td><td>0.2654</td><td>0.4601</td><td>0.11890</td><td>NA</td></tr>\n",
              "\t<tr><th scope=row>2</th><td>  842517</td><td>M</td><td>20.57</td><td>17.77</td><td>132.90</td><td>1326.0</td><td>0.08474</td><td>0.07864</td><td>0.08690</td><td>0.07017</td><td>⋯</td><td>23.41</td><td>158.80</td><td>1956.0</td><td>0.1238</td><td>0.1866</td><td>0.2416</td><td>0.1860</td><td>0.2750</td><td>0.08902</td><td>NA</td></tr>\n",
              "\t<tr><th scope=row>3</th><td>84300903</td><td>M</td><td>19.69</td><td>21.25</td><td>130.00</td><td>1203.0</td><td>0.10960</td><td>0.15990</td><td>0.19740</td><td>0.12790</td><td>⋯</td><td>25.53</td><td>152.50</td><td>1709.0</td><td>0.1444</td><td>0.4245</td><td>0.4504</td><td>0.2430</td><td>0.3613</td><td>0.08758</td><td>NA</td></tr>\n",
              "\t<tr><th scope=row>4</th><td>84348301</td><td>M</td><td>11.42</td><td>20.38</td><td> 77.58</td><td> 386.1</td><td>0.14250</td><td>0.28390</td><td>0.24140</td><td>0.10520</td><td>⋯</td><td>26.50</td><td> 98.87</td><td> 567.7</td><td>0.2098</td><td>0.8663</td><td>0.6869</td><td>0.2575</td><td>0.6638</td><td>0.17300</td><td>NA</td></tr>\n",
              "\t<tr><th scope=row>5</th><td>84358402</td><td>M</td><td>20.29</td><td>14.34</td><td>135.10</td><td>1297.0</td><td>0.10030</td><td>0.13280</td><td>0.19800</td><td>0.10430</td><td>⋯</td><td>16.67</td><td>152.20</td><td>1575.0</td><td>0.1374</td><td>0.2050</td><td>0.4000</td><td>0.1625</td><td>0.2364</td><td>0.07678</td><td>NA</td></tr>\n",
              "\t<tr><th scope=row>6</th><td>  843786</td><td>M</td><td>12.45</td><td>15.70</td><td> 82.57</td><td> 477.1</td><td>0.12780</td><td>0.17000</td><td>0.15780</td><td>0.08089</td><td>⋯</td><td>23.75</td><td>103.40</td><td> 741.6</td><td>0.1791</td><td>0.5249</td><td>0.5355</td><td>0.1741</td><td>0.3985</td><td>0.12440</td><td>NA</td></tr>\n",
              "\t<tr><th scope=row>7</th><td>  844359</td><td>M</td><td>18.25</td><td>19.98</td><td>119.60</td><td>1040.0</td><td>0.09463</td><td>0.10900</td><td>0.11270</td><td>0.07400</td><td>⋯</td><td>27.66</td><td>153.20</td><td>1606.0</td><td>0.1442</td><td>0.2576</td><td>0.3784</td><td>0.1932</td><td>0.3063</td><td>0.08368</td><td>NA</td></tr>\n",
              "\t<tr><th scope=row>8</th><td>84458202</td><td>M</td><td>13.71</td><td>20.83</td><td> 90.20</td><td> 577.9</td><td>0.11890</td><td>0.16450</td><td>0.09366</td><td>0.05985</td><td>⋯</td><td>28.14</td><td>110.60</td><td> 897.0</td><td>0.1654</td><td>0.3682</td><td>0.2678</td><td>0.1556</td><td>0.3196</td><td>0.11510</td><td>NA</td></tr>\n",
              "\t<tr><th scope=row>9</th><td>  844981</td><td>M</td><td>13.00</td><td>21.82</td><td> 87.50</td><td> 519.8</td><td>0.12730</td><td>0.19320</td><td>0.18590</td><td>0.09353</td><td>⋯</td><td>30.73</td><td>106.20</td><td> 739.3</td><td>0.1703</td><td>0.5401</td><td>0.5390</td><td>0.2060</td><td>0.4378</td><td>0.10720</td><td>NA</td></tr>\n",
              "\t<tr><th scope=row>10</th><td>84501001</td><td>M</td><td>12.46</td><td>24.04</td><td> 83.97</td><td> 475.9</td><td>0.11860</td><td>0.23960</td><td>0.22730</td><td>0.08543</td><td>⋯</td><td>40.68</td><td> 97.65</td><td> 711.4</td><td>0.1853</td><td>1.0580</td><td>1.1050</td><td>0.2210</td><td>0.4366</td><td>0.20750</td><td>NA</td></tr>\n",
              "</tbody>\n",
              "</table>\n"
            ]
          },
          "metadata": {}
        }
      ]
    },
    {
      "cell_type": "code",
      "source": [
        "colnames(data)"
      ],
      "metadata": {
        "colab": {
          "base_uri": "https://localhost:8080/",
          "height": 86
        },
        "id": "Azp8KFaAdJFC",
        "outputId": "75bef63e-a0b7-4112-a4e0-c9eefbf6020c"
      },
      "execution_count": null,
      "outputs": [
        {
          "output_type": "display_data",
          "data": {
            "text/plain": [
              " [1] \"id\"                      \"diagnosis\"              \n",
              " [3] \"radius_mean\"             \"texture_mean\"           \n",
              " [5] \"perimeter_mean\"          \"area_mean\"              \n",
              " [7] \"smoothness_mean\"         \"compactness_mean\"       \n",
              " [9] \"concavity_mean\"          \"concave.points_mean\"    \n",
              "[11] \"symmetry_mean\"           \"fractal_dimension_mean\" \n",
              "[13] \"radius_se\"               \"texture_se\"             \n",
              "[15] \"perimeter_se\"            \"area_se\"                \n",
              "[17] \"smoothness_se\"           \"compactness_se\"         \n",
              "[19] \"concavity_se\"            \"concave.points_se\"      \n",
              "[21] \"symmetry_se\"             \"fractal_dimension_se\"   \n",
              "[23] \"radius_worst\"            \"texture_worst\"          \n",
              "[25] \"perimeter_worst\"         \"area_worst\"             \n",
              "[27] \"smoothness_worst\"        \"compactness_worst\"      \n",
              "[29] \"concavity_worst\"         \"concave.points_worst\"   \n",
              "[31] \"symmetry_worst\"          \"fractal_dimension_worst\"\n",
              "[33] \"X\"                      "
            ],
            "text/latex": "\\begin{enumerate*}\n\\item 'id'\n\\item 'diagnosis'\n\\item 'radius\\_mean'\n\\item 'texture\\_mean'\n\\item 'perimeter\\_mean'\n\\item 'area\\_mean'\n\\item 'smoothness\\_mean'\n\\item 'compactness\\_mean'\n\\item 'concavity\\_mean'\n\\item 'concave.points\\_mean'\n\\item 'symmetry\\_mean'\n\\item 'fractal\\_dimension\\_mean'\n\\item 'radius\\_se'\n\\item 'texture\\_se'\n\\item 'perimeter\\_se'\n\\item 'area\\_se'\n\\item 'smoothness\\_se'\n\\item 'compactness\\_se'\n\\item 'concavity\\_se'\n\\item 'concave.points\\_se'\n\\item 'symmetry\\_se'\n\\item 'fractal\\_dimension\\_se'\n\\item 'radius\\_worst'\n\\item 'texture\\_worst'\n\\item 'perimeter\\_worst'\n\\item 'area\\_worst'\n\\item 'smoothness\\_worst'\n\\item 'compactness\\_worst'\n\\item 'concavity\\_worst'\n\\item 'concave.points\\_worst'\n\\item 'symmetry\\_worst'\n\\item 'fractal\\_dimension\\_worst'\n\\item 'X'\n\\end{enumerate*}\n",
            "text/markdown": "1. 'id'\n2. 'diagnosis'\n3. 'radius_mean'\n4. 'texture_mean'\n5. 'perimeter_mean'\n6. 'area_mean'\n7. 'smoothness_mean'\n8. 'compactness_mean'\n9. 'concavity_mean'\n10. 'concave.points_mean'\n11. 'symmetry_mean'\n12. 'fractal_dimension_mean'\n13. 'radius_se'\n14. 'texture_se'\n15. 'perimeter_se'\n16. 'area_se'\n17. 'smoothness_se'\n18. 'compactness_se'\n19. 'concavity_se'\n20. 'concave.points_se'\n21. 'symmetry_se'\n22. 'fractal_dimension_se'\n23. 'radius_worst'\n24. 'texture_worst'\n25. 'perimeter_worst'\n26. 'area_worst'\n27. 'smoothness_worst'\n28. 'compactness_worst'\n29. 'concavity_worst'\n30. 'concave.points_worst'\n31. 'symmetry_worst'\n32. 'fractal_dimension_worst'\n33. 'X'\n\n\n",
            "text/html": [
              "<style>\n",
              ".list-inline {list-style: none; margin:0; padding: 0}\n",
              ".list-inline>li {display: inline-block}\n",
              ".list-inline>li:not(:last-child)::after {content: \"\\00b7\"; padding: 0 .5ex}\n",
              "</style>\n",
              "<ol class=list-inline><li>'id'</li><li>'diagnosis'</li><li>'radius_mean'</li><li>'texture_mean'</li><li>'perimeter_mean'</li><li>'area_mean'</li><li>'smoothness_mean'</li><li>'compactness_mean'</li><li>'concavity_mean'</li><li>'concave.points_mean'</li><li>'symmetry_mean'</li><li>'fractal_dimension_mean'</li><li>'radius_se'</li><li>'texture_se'</li><li>'perimeter_se'</li><li>'area_se'</li><li>'smoothness_se'</li><li>'compactness_se'</li><li>'concavity_se'</li><li>'concave.points_se'</li><li>'symmetry_se'</li><li>'fractal_dimension_se'</li><li>'radius_worst'</li><li>'texture_worst'</li><li>'perimeter_worst'</li><li>'area_worst'</li><li>'smoothness_worst'</li><li>'compactness_worst'</li><li>'concavity_worst'</li><li>'concave.points_worst'</li><li>'symmetry_worst'</li><li>'fractal_dimension_worst'</li><li>'X'</li></ol>\n"
            ]
          },
          "metadata": {}
        }
      ]
    },
    {
      "cell_type": "code",
      "source": [
        ""
      ],
      "metadata": {
        "id": "nJHX50kLj-3d"
      },
      "execution_count": null,
      "outputs": []
    },
    {
      "cell_type": "code",
      "source": [
        "dim(data)"
      ],
      "metadata": {
        "id": "hqC6N86cdYqH",
        "colab": {
          "base_uri": "https://localhost:8080/",
          "height": 35
        },
        "outputId": "de62dbad-9b2d-498e-af71-88fe9bbc4949"
      },
      "execution_count": null,
      "outputs": [
        {
          "output_type": "display_data",
          "data": {
            "text/plain": [
              "[1] 569  33"
            ],
            "text/latex": "\\begin{enumerate*}\n\\item 569\n\\item 33\n\\end{enumerate*}\n",
            "text/markdown": "1. 569\n2. 33\n\n\n",
            "text/html": [
              "<style>\n",
              ".list-inline {list-style: none; margin:0; padding: 0}\n",
              ".list-inline>li {display: inline-block}\n",
              ".list-inline>li:not(:last-child)::after {content: \"\\00b7\"; padding: 0 .5ex}\n",
              "</style>\n",
              "<ol class=list-inline><li>569</li><li>33</li></ol>\n"
            ]
          },
          "metadata": {}
        }
      ]
    },
    {
      "cell_type": "code",
      "source": [
        "target=data$diagnosis\n",
        "target"
      ],
      "metadata": {
        "id": "ZGXIugPKscBA",
        "colab": {
          "base_uri": "https://localhost:8080/",
          "height": 191
        },
        "outputId": "dc455239-a112-4d1f-896f-92939a11423e"
      },
      "execution_count": null,
      "outputs": [
        {
          "output_type": "display_data",
          "data": {
            "text/plain": [
              "  [1] \"M\" \"M\" \"M\" \"M\" \"M\" \"M\" \"M\" \"M\" \"M\" \"M\" \"M\" \"M\" \"M\" \"M\" \"M\" \"M\" \"M\" \"M\"\n",
              " [19] \"M\" \"B\" \"B\" \"B\" \"M\" \"M\" \"M\" \"M\" \"M\" \"M\" \"M\" \"M\" \"M\" \"M\" \"M\" \"M\" \"M\" \"M\"\n",
              " [37] \"M\" \"B\" \"M\" \"M\" \"M\" \"M\" \"M\" \"M\" \"M\" \"M\" \"B\" \"M\" \"B\" \"B\" \"B\" \"B\" \"B\" \"M\"\n",
              " [55] \"M\" \"B\" \"M\" \"M\" \"B\" \"B\" \"B\" \"B\" \"M\" \"B\" \"M\" \"M\" \"B\" \"B\" \"B\" \"B\" \"M\" \"B\"\n",
              " [73] \"M\" \"M\" \"B\" \"M\" \"B\" \"M\" \"M\" \"B\" \"B\" \"B\" \"M\" \"M\" \"B\" \"M\" \"M\" \"M\" \"B\" \"B\"\n",
              " [91] \"B\" \"M\" \"B\" \"B\" \"M\" \"M\" \"B\" \"B\" \"B\" \"M\" \"M\" \"B\" \"B\" \"B\" \"B\" \"M\" \"B\" \"B\"\n",
              "[109] \"M\" \"B\" \"B\" \"B\" \"B\" \"B\" \"B\" \"B\" \"B\" \"M\" \"M\" \"M\" \"B\" \"M\" \"M\" \"B\" \"B\" \"B\"\n",
              "[127] \"M\" \"M\" \"B\" \"M\" \"B\" \"M\" \"M\" \"B\" \"M\" \"M\" \"B\" \"B\" \"M\" \"B\" \"B\" \"M\" \"B\" \"B\"\n",
              "[145] \"B\" \"B\" \"M\" \"B\" \"B\" \"B\" \"B\" \"B\" \"B\" \"B\" \"B\" \"B\" \"M\" \"B\" \"B\" \"B\" \"B\" \"M\"\n",
              "[163] \"M\" \"B\" \"M\" \"B\" \"B\" \"M\" \"M\" \"B\" \"B\" \"M\" \"M\" \"B\" \"B\" \"B\" \"B\" \"M\" \"B\" \"B\"\n",
              "[181] \"M\" \"M\" \"M\" \"B\" \"M\" \"B\" \"M\" \"B\" \"B\" \"B\" \"M\" \"B\" \"B\" \"M\" \"M\" \"B\" \"M\" \"M\"\n",
              "[199] \"M\" \"M\" \"B\" \"M\" \"M\" \"M\" \"B\" \"M\" \"B\" \"M\" \"B\" \"B\" \"M\" \"B\" \"M\" \"M\" \"M\" \"M\"\n",
              "[217] \"B\" \"B\" \"M\" \"M\" \"B\" \"B\" \"B\" \"M\" \"B\" \"B\" \"B\" \"B\" \"B\" \"M\" \"M\" \"B\" \"B\" \"M\"\n",
              "[235] \"B\" \"B\" \"M\" \"M\" \"B\" \"M\" \"B\" \"B\" \"B\" \"B\" \"M\" \"B\" \"B\" \"B\" \"B\" \"B\" \"M\" \"B\"\n",
              "[253] \"M\" \"M\" \"M\" \"M\" \"M\" \"M\" \"M\" \"M\" \"M\" \"M\" \"M\" \"M\" \"M\" \"M\" \"B\" \"B\" \"B\" \"B\"\n",
              "[271] \"B\" \"B\" \"M\" \"B\" \"M\" \"B\" \"B\" \"M\" \"B\" \"B\" \"M\" \"B\" \"M\" \"M\" \"B\" \"B\" \"B\" \"B\"\n",
              "[289] \"B\" \"B\" \"B\" \"B\" \"B\" \"B\" \"B\" \"B\" \"B\" \"M\" \"B\" \"B\" \"M\" \"B\" \"M\" \"B\" \"B\" \"B\"\n",
              "[307] \"B\" \"B\" \"B\" \"B\" \"B\" \"B\" \"B\" \"B\" \"B\" \"B\" \"B\" \"M\" \"B\" \"B\" \"B\" \"M\" \"B\" \"M\"\n",
              "[325] \"B\" \"B\" \"B\" \"B\" \"M\" \"M\" \"M\" \"B\" \"B\" \"B\" \"B\" \"M\" \"B\" \"M\" \"B\" \"M\" \"B\" \"B\"\n",
              "[343] \"B\" \"M\" \"B\" \"B\" \"B\" \"B\" \"B\" \"B\" \"B\" \"M\" \"M\" \"M\" \"B\" \"B\" \"B\" \"B\" \"B\" \"B\"\n",
              "[361] \"B\" \"B\" \"B\" \"B\" \"B\" \"M\" \"M\" \"B\" \"M\" \"M\" \"M\" \"B\" \"M\" \"M\" \"B\" \"B\" \"B\" \"B\"\n",
              "[379] \"B\" \"M\" \"B\" \"B\" \"B\" \"B\" \"B\" \"M\" \"B\" \"B\" \"B\" \"M\" \"B\" \"B\" \"M\" \"M\" \"B\" \"B\"\n",
              "[397] \"B\" \"B\" \"B\" \"B\" \"M\" \"B\" \"B\" \"B\" \"B\" \"B\" \"B\" \"B\" \"M\" \"B\" \"B\" \"B\" \"B\" \"B\"\n",
              "[415] \"M\" \"B\" \"B\" \"M\" \"B\" \"B\" \"B\" \"B\" \"B\" \"B\" \"B\" \"B\" \"B\" \"B\" \"B\" \"B\" \"M\" \"B\"\n",
              "[433] \"M\" \"M\" \"B\" \"M\" \"B\" \"B\" \"B\" \"B\" \"B\" \"M\" \"B\" \"B\" \"M\" \"B\" \"M\" \"B\" \"B\" \"M\"\n",
              "[451] \"B\" \"M\" \"B\" \"B\" \"B\" \"B\" \"B\" \"B\" \"B\" \"B\" \"M\" \"M\" \"B\" \"B\" \"B\" \"B\" \"B\" \"B\"\n",
              "[469] \"M\" \"B\" \"B\" \"B\" \"B\" \"B\" \"B\" \"B\" \"B\" \"B\" \"B\" \"M\" \"B\" \"B\" \"B\" \"B\" \"B\" \"B\"\n",
              "[487] \"B\" \"M\" \"B\" \"M\" \"B\" \"B\" \"M\" \"B\" \"B\" \"B\" \"B\" \"B\" \"M\" \"M\" \"B\" \"M\" \"B\" \"M\"\n",
              "[505] \"B\" \"B\" \"B\" \"B\" \"B\" \"M\" \"B\" \"B\" \"M\" \"B\" \"M\" \"B\" \"M\" \"M\" \"B\" \"B\" \"B\" \"M\"\n",
              "[523] \"B\" \"B\" \"B\" \"B\" \"B\" \"B\" \"B\" \"B\" \"B\" \"B\" \"B\" \"M\" \"B\" \"M\" \"M\" \"B\" \"B\" \"B\"\n",
              "[541] \"B\" \"B\" \"B\" \"B\" \"B\" \"B\" \"B\" \"B\" \"B\" \"B\" \"B\" \"B\" \"B\" \"B\" \"B\" \"B\" \"B\" \"B\"\n",
              "[559] \"B\" \"B\" \"B\" \"B\" \"M\" \"M\" \"M\" \"M\" \"M\" \"M\" \"B\""
            ],
            "text/latex": "\\begin{enumerate*}\n\\item 'M'\n\\item 'M'\n\\item 'M'\n\\item 'M'\n\\item 'M'\n\\item 'M'\n\\item 'M'\n\\item 'M'\n\\item 'M'\n\\item 'M'\n\\item 'M'\n\\item 'M'\n\\item 'M'\n\\item 'M'\n\\item 'M'\n\\item 'M'\n\\item 'M'\n\\item 'M'\n\\item 'M'\n\\item 'B'\n\\item 'B'\n\\item 'B'\n\\item 'M'\n\\item 'M'\n\\item 'M'\n\\item 'M'\n\\item 'M'\n\\item 'M'\n\\item 'M'\n\\item 'M'\n\\item 'M'\n\\item 'M'\n\\item 'M'\n\\item 'M'\n\\item 'M'\n\\item 'M'\n\\item 'M'\n\\item 'B'\n\\item 'M'\n\\item 'M'\n\\item 'M'\n\\item 'M'\n\\item 'M'\n\\item 'M'\n\\item 'M'\n\\item 'M'\n\\item 'B'\n\\item 'M'\n\\item 'B'\n\\item 'B'\n\\item 'B'\n\\item 'B'\n\\item 'B'\n\\item 'M'\n\\item 'M'\n\\item 'B'\n\\item 'M'\n\\item 'M'\n\\item 'B'\n\\item 'B'\n\\item 'B'\n\\item 'B'\n\\item 'M'\n\\item 'B'\n\\item 'M'\n\\item 'M'\n\\item 'B'\n\\item 'B'\n\\item 'B'\n\\item 'B'\n\\item 'M'\n\\item 'B'\n\\item 'M'\n\\item 'M'\n\\item 'B'\n\\item 'M'\n\\item 'B'\n\\item 'M'\n\\item 'M'\n\\item 'B'\n\\item 'B'\n\\item 'B'\n\\item 'M'\n\\item 'M'\n\\item 'B'\n\\item 'M'\n\\item 'M'\n\\item 'M'\n\\item 'B'\n\\item 'B'\n\\item 'B'\n\\item 'M'\n\\item 'B'\n\\item 'B'\n\\item 'M'\n\\item 'M'\n\\item 'B'\n\\item 'B'\n\\item 'B'\n\\item 'M'\n\\item 'M'\n\\item 'B'\n\\item 'B'\n\\item 'B'\n\\item 'B'\n\\item 'M'\n\\item 'B'\n\\item 'B'\n\\item 'M'\n\\item 'B'\n\\item 'B'\n\\item 'B'\n\\item 'B'\n\\item 'B'\n\\item 'B'\n\\item 'B'\n\\item 'B'\n\\item 'M'\n\\item 'M'\n\\item 'M'\n\\item 'B'\n\\item 'M'\n\\item 'M'\n\\item 'B'\n\\item 'B'\n\\item 'B'\n\\item 'M'\n\\item 'M'\n\\item 'B'\n\\item 'M'\n\\item 'B'\n\\item 'M'\n\\item 'M'\n\\item 'B'\n\\item 'M'\n\\item 'M'\n\\item 'B'\n\\item 'B'\n\\item 'M'\n\\item 'B'\n\\item 'B'\n\\item 'M'\n\\item 'B'\n\\item 'B'\n\\item 'B'\n\\item 'B'\n\\item 'M'\n\\item 'B'\n\\item 'B'\n\\item 'B'\n\\item 'B'\n\\item 'B'\n\\item 'B'\n\\item 'B'\n\\item 'B'\n\\item 'B'\n\\item 'M'\n\\item 'B'\n\\item 'B'\n\\item 'B'\n\\item 'B'\n\\item 'M'\n\\item 'M'\n\\item 'B'\n\\item 'M'\n\\item 'B'\n\\item 'B'\n\\item 'M'\n\\item 'M'\n\\item 'B'\n\\item 'B'\n\\item 'M'\n\\item 'M'\n\\item 'B'\n\\item 'B'\n\\item 'B'\n\\item 'B'\n\\item 'M'\n\\item 'B'\n\\item 'B'\n\\item 'M'\n\\item 'M'\n\\item 'M'\n\\item 'B'\n\\item 'M'\n\\item 'B'\n\\item 'M'\n\\item 'B'\n\\item 'B'\n\\item 'B'\n\\item 'M'\n\\item 'B'\n\\item 'B'\n\\item 'M'\n\\item 'M'\n\\item 'B'\n\\item 'M'\n\\item 'M'\n\\item 'M'\n\\item 'M'\n\\item ⋯\n\\item 'M'\n\\item 'M'\n\\item 'B'\n\\item 'M'\n\\item 'M'\n\\item 'B'\n\\item 'B'\n\\item 'B'\n\\item 'B'\n\\item 'B'\n\\item 'M'\n\\item 'B'\n\\item 'B'\n\\item 'B'\n\\item 'B'\n\\item 'B'\n\\item 'M'\n\\item 'B'\n\\item 'B'\n\\item 'B'\n\\item 'M'\n\\item 'B'\n\\item 'B'\n\\item 'M'\n\\item 'M'\n\\item 'B'\n\\item 'B'\n\\item 'B'\n\\item 'B'\n\\item 'B'\n\\item 'B'\n\\item 'M'\n\\item 'B'\n\\item 'B'\n\\item 'B'\n\\item 'B'\n\\item 'B'\n\\item 'B'\n\\item 'B'\n\\item 'M'\n\\item 'B'\n\\item 'B'\n\\item 'B'\n\\item 'B'\n\\item 'B'\n\\item 'M'\n\\item 'B'\n\\item 'B'\n\\item 'M'\n\\item 'B'\n\\item 'B'\n\\item 'B'\n\\item 'B'\n\\item 'B'\n\\item 'B'\n\\item 'B'\n\\item 'B'\n\\item 'B'\n\\item 'B'\n\\item 'B'\n\\item 'B'\n\\item 'M'\n\\item 'B'\n\\item 'M'\n\\item 'M'\n\\item 'B'\n\\item 'M'\n\\item 'B'\n\\item 'B'\n\\item 'B'\n\\item 'B'\n\\item 'B'\n\\item 'M'\n\\item 'B'\n\\item 'B'\n\\item 'M'\n\\item 'B'\n\\item 'M'\n\\item 'B'\n\\item 'B'\n\\item 'M'\n\\item 'B'\n\\item 'M'\n\\item 'B'\n\\item 'B'\n\\item 'B'\n\\item 'B'\n\\item 'B'\n\\item 'B'\n\\item 'B'\n\\item 'B'\n\\item 'M'\n\\item 'M'\n\\item 'B'\n\\item 'B'\n\\item 'B'\n\\item 'B'\n\\item 'B'\n\\item 'B'\n\\item 'M'\n\\item 'B'\n\\item 'B'\n\\item 'B'\n\\item 'B'\n\\item 'B'\n\\item 'B'\n\\item 'B'\n\\item 'B'\n\\item 'B'\n\\item 'B'\n\\item 'M'\n\\item 'B'\n\\item 'B'\n\\item 'B'\n\\item 'B'\n\\item 'B'\n\\item 'B'\n\\item 'B'\n\\item 'M'\n\\item 'B'\n\\item 'M'\n\\item 'B'\n\\item 'B'\n\\item 'M'\n\\item 'B'\n\\item 'B'\n\\item 'B'\n\\item 'B'\n\\item 'B'\n\\item 'M'\n\\item 'M'\n\\item 'B'\n\\item 'M'\n\\item 'B'\n\\item 'M'\n\\item 'B'\n\\item 'B'\n\\item 'B'\n\\item 'B'\n\\item 'B'\n\\item 'M'\n\\item 'B'\n\\item 'B'\n\\item 'M'\n\\item 'B'\n\\item 'M'\n\\item 'B'\n\\item 'M'\n\\item 'M'\n\\item 'B'\n\\item 'B'\n\\item 'B'\n\\item 'M'\n\\item 'B'\n\\item 'B'\n\\item 'B'\n\\item 'B'\n\\item 'B'\n\\item 'B'\n\\item 'B'\n\\item 'B'\n\\item 'B'\n\\item 'B'\n\\item 'B'\n\\item 'M'\n\\item 'B'\n\\item 'M'\n\\item 'M'\n\\item 'B'\n\\item 'B'\n\\item 'B'\n\\item 'B'\n\\item 'B'\n\\item 'B'\n\\item 'B'\n\\item 'B'\n\\item 'B'\n\\item 'B'\n\\item 'B'\n\\item 'B'\n\\item 'B'\n\\item 'B'\n\\item 'B'\n\\item 'B'\n\\item 'B'\n\\item 'B'\n\\item 'B'\n\\item 'B'\n\\item 'B'\n\\item 'B'\n\\item 'B'\n\\item 'B'\n\\item 'B'\n\\item 'M'\n\\item 'M'\n\\item 'M'\n\\item 'M'\n\\item 'M'\n\\item 'M'\n\\item 'B'\n\\end{enumerate*}\n",
            "text/markdown": "1. 'M'\n2. 'M'\n3. 'M'\n4. 'M'\n5. 'M'\n6. 'M'\n7. 'M'\n8. 'M'\n9. 'M'\n10. 'M'\n11. 'M'\n12. 'M'\n13. 'M'\n14. 'M'\n15. 'M'\n16. 'M'\n17. 'M'\n18. 'M'\n19. 'M'\n20. 'B'\n21. 'B'\n22. 'B'\n23. 'M'\n24. 'M'\n25. 'M'\n26. 'M'\n27. 'M'\n28. 'M'\n29. 'M'\n30. 'M'\n31. 'M'\n32. 'M'\n33. 'M'\n34. 'M'\n35. 'M'\n36. 'M'\n37. 'M'\n38. 'B'\n39. 'M'\n40. 'M'\n41. 'M'\n42. 'M'\n43. 'M'\n44. 'M'\n45. 'M'\n46. 'M'\n47. 'B'\n48. 'M'\n49. 'B'\n50. 'B'\n51. 'B'\n52. 'B'\n53. 'B'\n54. 'M'\n55. 'M'\n56. 'B'\n57. 'M'\n58. 'M'\n59. 'B'\n60. 'B'\n61. 'B'\n62. 'B'\n63. 'M'\n64. 'B'\n65. 'M'\n66. 'M'\n67. 'B'\n68. 'B'\n69. 'B'\n70. 'B'\n71. 'M'\n72. 'B'\n73. 'M'\n74. 'M'\n75. 'B'\n76. 'M'\n77. 'B'\n78. 'M'\n79. 'M'\n80. 'B'\n81. 'B'\n82. 'B'\n83. 'M'\n84. 'M'\n85. 'B'\n86. 'M'\n87. 'M'\n88. 'M'\n89. 'B'\n90. 'B'\n91. 'B'\n92. 'M'\n93. 'B'\n94. 'B'\n95. 'M'\n96. 'M'\n97. 'B'\n98. 'B'\n99. 'B'\n100. 'M'\n101. 'M'\n102. 'B'\n103. 'B'\n104. 'B'\n105. 'B'\n106. 'M'\n107. 'B'\n108. 'B'\n109. 'M'\n110. 'B'\n111. 'B'\n112. 'B'\n113. 'B'\n114. 'B'\n115. 'B'\n116. 'B'\n117. 'B'\n118. 'M'\n119. 'M'\n120. 'M'\n121. 'B'\n122. 'M'\n123. 'M'\n124. 'B'\n125. 'B'\n126. 'B'\n127. 'M'\n128. 'M'\n129. 'B'\n130. 'M'\n131. 'B'\n132. 'M'\n133. 'M'\n134. 'B'\n135. 'M'\n136. 'M'\n137. 'B'\n138. 'B'\n139. 'M'\n140. 'B'\n141. 'B'\n142. 'M'\n143. 'B'\n144. 'B'\n145. 'B'\n146. 'B'\n147. 'M'\n148. 'B'\n149. 'B'\n150. 'B'\n151. 'B'\n152. 'B'\n153. 'B'\n154. 'B'\n155. 'B'\n156. 'B'\n157. 'M'\n158. 'B'\n159. 'B'\n160. 'B'\n161. 'B'\n162. 'M'\n163. 'M'\n164. 'B'\n165. 'M'\n166. 'B'\n167. 'B'\n168. 'M'\n169. 'M'\n170. 'B'\n171. 'B'\n172. 'M'\n173. 'M'\n174. 'B'\n175. 'B'\n176. 'B'\n177. 'B'\n178. 'M'\n179. 'B'\n180. 'B'\n181. 'M'\n182. 'M'\n183. 'M'\n184. 'B'\n185. 'M'\n186. 'B'\n187. 'M'\n188. 'B'\n189. 'B'\n190. 'B'\n191. 'M'\n192. 'B'\n193. 'B'\n194. 'M'\n195. 'M'\n196. 'B'\n197. 'M'\n198. 'M'\n199. 'M'\n200. 'M'\n201. ⋯\n202. 'M'\n203. 'M'\n204. 'B'\n205. 'M'\n206. 'M'\n207. 'B'\n208. 'B'\n209. 'B'\n210. 'B'\n211. 'B'\n212. 'M'\n213. 'B'\n214. 'B'\n215. 'B'\n216. 'B'\n217. 'B'\n218. 'M'\n219. 'B'\n220. 'B'\n221. 'B'\n222. 'M'\n223. 'B'\n224. 'B'\n225. 'M'\n226. 'M'\n227. 'B'\n228. 'B'\n229. 'B'\n230. 'B'\n231. 'B'\n232. 'B'\n233. 'M'\n234. 'B'\n235. 'B'\n236. 'B'\n237. 'B'\n238. 'B'\n239. 'B'\n240. 'B'\n241. 'M'\n242. 'B'\n243. 'B'\n244. 'B'\n245. 'B'\n246. 'B'\n247. 'M'\n248. 'B'\n249. 'B'\n250. 'M'\n251. 'B'\n252. 'B'\n253. 'B'\n254. 'B'\n255. 'B'\n256. 'B'\n257. 'B'\n258. 'B'\n259. 'B'\n260. 'B'\n261. 'B'\n262. 'B'\n263. 'M'\n264. 'B'\n265. 'M'\n266. 'M'\n267. 'B'\n268. 'M'\n269. 'B'\n270. 'B'\n271. 'B'\n272. 'B'\n273. 'B'\n274. 'M'\n275. 'B'\n276. 'B'\n277. 'M'\n278. 'B'\n279. 'M'\n280. 'B'\n281. 'B'\n282. 'M'\n283. 'B'\n284. 'M'\n285. 'B'\n286. 'B'\n287. 'B'\n288. 'B'\n289. 'B'\n290. 'B'\n291. 'B'\n292. 'B'\n293. 'M'\n294. 'M'\n295. 'B'\n296. 'B'\n297. 'B'\n298. 'B'\n299. 'B'\n300. 'B'\n301. 'M'\n302. 'B'\n303. 'B'\n304. 'B'\n305. 'B'\n306. 'B'\n307. 'B'\n308. 'B'\n309. 'B'\n310. 'B'\n311. 'B'\n312. 'M'\n313. 'B'\n314. 'B'\n315. 'B'\n316. 'B'\n317. 'B'\n318. 'B'\n319. 'B'\n320. 'M'\n321. 'B'\n322. 'M'\n323. 'B'\n324. 'B'\n325. 'M'\n326. 'B'\n327. 'B'\n328. 'B'\n329. 'B'\n330. 'B'\n331. 'M'\n332. 'M'\n333. 'B'\n334. 'M'\n335. 'B'\n336. 'M'\n337. 'B'\n338. 'B'\n339. 'B'\n340. 'B'\n341. 'B'\n342. 'M'\n343. 'B'\n344. 'B'\n345. 'M'\n346. 'B'\n347. 'M'\n348. 'B'\n349. 'M'\n350. 'M'\n351. 'B'\n352. 'B'\n353. 'B'\n354. 'M'\n355. 'B'\n356. 'B'\n357. 'B'\n358. 'B'\n359. 'B'\n360. 'B'\n361. 'B'\n362. 'B'\n363. 'B'\n364. 'B'\n365. 'B'\n366. 'M'\n367. 'B'\n368. 'M'\n369. 'M'\n370. 'B'\n371. 'B'\n372. 'B'\n373. 'B'\n374. 'B'\n375. 'B'\n376. 'B'\n377. 'B'\n378. 'B'\n379. 'B'\n380. 'B'\n381. 'B'\n382. 'B'\n383. 'B'\n384. 'B'\n385. 'B'\n386. 'B'\n387. 'B'\n388. 'B'\n389. 'B'\n390. 'B'\n391. 'B'\n392. 'B'\n393. 'B'\n394. 'B'\n395. 'M'\n396. 'M'\n397. 'M'\n398. 'M'\n399. 'M'\n400. 'M'\n401. 'B'\n\n\n",
            "text/html": [
              "<style>\n",
              ".list-inline {list-style: none; margin:0; padding: 0}\n",
              ".list-inline>li {display: inline-block}\n",
              ".list-inline>li:not(:last-child)::after {content: \"\\00b7\"; padding: 0 .5ex}\n",
              "</style>\n",
              "<ol class=list-inline><li>'M'</li><li>'M'</li><li>'M'</li><li>'M'</li><li>'M'</li><li>'M'</li><li>'M'</li><li>'M'</li><li>'M'</li><li>'M'</li><li>'M'</li><li>'M'</li><li>'M'</li><li>'M'</li><li>'M'</li><li>'M'</li><li>'M'</li><li>'M'</li><li>'M'</li><li>'B'</li><li>'B'</li><li>'B'</li><li>'M'</li><li>'M'</li><li>'M'</li><li>'M'</li><li>'M'</li><li>'M'</li><li>'M'</li><li>'M'</li><li>'M'</li><li>'M'</li><li>'M'</li><li>'M'</li><li>'M'</li><li>'M'</li><li>'M'</li><li>'B'</li><li>'M'</li><li>'M'</li><li>'M'</li><li>'M'</li><li>'M'</li><li>'M'</li><li>'M'</li><li>'M'</li><li>'B'</li><li>'M'</li><li>'B'</li><li>'B'</li><li>'B'</li><li>'B'</li><li>'B'</li><li>'M'</li><li>'M'</li><li>'B'</li><li>'M'</li><li>'M'</li><li>'B'</li><li>'B'</li><li>'B'</li><li>'B'</li><li>'M'</li><li>'B'</li><li>'M'</li><li>'M'</li><li>'B'</li><li>'B'</li><li>'B'</li><li>'B'</li><li>'M'</li><li>'B'</li><li>'M'</li><li>'M'</li><li>'B'</li><li>'M'</li><li>'B'</li><li>'M'</li><li>'M'</li><li>'B'</li><li>'B'</li><li>'B'</li><li>'M'</li><li>'M'</li><li>'B'</li><li>'M'</li><li>'M'</li><li>'M'</li><li>'B'</li><li>'B'</li><li>'B'</li><li>'M'</li><li>'B'</li><li>'B'</li><li>'M'</li><li>'M'</li><li>'B'</li><li>'B'</li><li>'B'</li><li>'M'</li><li>'M'</li><li>'B'</li><li>'B'</li><li>'B'</li><li>'B'</li><li>'M'</li><li>'B'</li><li>'B'</li><li>'M'</li><li>'B'</li><li>'B'</li><li>'B'</li><li>'B'</li><li>'B'</li><li>'B'</li><li>'B'</li><li>'B'</li><li>'M'</li><li>'M'</li><li>'M'</li><li>'B'</li><li>'M'</li><li>'M'</li><li>'B'</li><li>'B'</li><li>'B'</li><li>'M'</li><li>'M'</li><li>'B'</li><li>'M'</li><li>'B'</li><li>'M'</li><li>'M'</li><li>'B'</li><li>'M'</li><li>'M'</li><li>'B'</li><li>'B'</li><li>'M'</li><li>'B'</li><li>'B'</li><li>'M'</li><li>'B'</li><li>'B'</li><li>'B'</li><li>'B'</li><li>'M'</li><li>'B'</li><li>'B'</li><li>'B'</li><li>'B'</li><li>'B'</li><li>'B'</li><li>'B'</li><li>'B'</li><li>'B'</li><li>'M'</li><li>'B'</li><li>'B'</li><li>'B'</li><li>'B'</li><li>'M'</li><li>'M'</li><li>'B'</li><li>'M'</li><li>'B'</li><li>'B'</li><li>'M'</li><li>'M'</li><li>'B'</li><li>'B'</li><li>'M'</li><li>'M'</li><li>'B'</li><li>'B'</li><li>'B'</li><li>'B'</li><li>'M'</li><li>'B'</li><li>'B'</li><li>'M'</li><li>'M'</li><li>'M'</li><li>'B'</li><li>'M'</li><li>'B'</li><li>'M'</li><li>'B'</li><li>'B'</li><li>'B'</li><li>'M'</li><li>'B'</li><li>'B'</li><li>'M'</li><li>'M'</li><li>'B'</li><li>'M'</li><li>'M'</li><li>'M'</li><li>'M'</li><li>⋯</li><li>'M'</li><li>'M'</li><li>'B'</li><li>'M'</li><li>'M'</li><li>'B'</li><li>'B'</li><li>'B'</li><li>'B'</li><li>'B'</li><li>'M'</li><li>'B'</li><li>'B'</li><li>'B'</li><li>'B'</li><li>'B'</li><li>'M'</li><li>'B'</li><li>'B'</li><li>'B'</li><li>'M'</li><li>'B'</li><li>'B'</li><li>'M'</li><li>'M'</li><li>'B'</li><li>'B'</li><li>'B'</li><li>'B'</li><li>'B'</li><li>'B'</li><li>'M'</li><li>'B'</li><li>'B'</li><li>'B'</li><li>'B'</li><li>'B'</li><li>'B'</li><li>'B'</li><li>'M'</li><li>'B'</li><li>'B'</li><li>'B'</li><li>'B'</li><li>'B'</li><li>'M'</li><li>'B'</li><li>'B'</li><li>'M'</li><li>'B'</li><li>'B'</li><li>'B'</li><li>'B'</li><li>'B'</li><li>'B'</li><li>'B'</li><li>'B'</li><li>'B'</li><li>'B'</li><li>'B'</li><li>'B'</li><li>'M'</li><li>'B'</li><li>'M'</li><li>'M'</li><li>'B'</li><li>'M'</li><li>'B'</li><li>'B'</li><li>'B'</li><li>'B'</li><li>'B'</li><li>'M'</li><li>'B'</li><li>'B'</li><li>'M'</li><li>'B'</li><li>'M'</li><li>'B'</li><li>'B'</li><li>'M'</li><li>'B'</li><li>'M'</li><li>'B'</li><li>'B'</li><li>'B'</li><li>'B'</li><li>'B'</li><li>'B'</li><li>'B'</li><li>'B'</li><li>'M'</li><li>'M'</li><li>'B'</li><li>'B'</li><li>'B'</li><li>'B'</li><li>'B'</li><li>'B'</li><li>'M'</li><li>'B'</li><li>'B'</li><li>'B'</li><li>'B'</li><li>'B'</li><li>'B'</li><li>'B'</li><li>'B'</li><li>'B'</li><li>'B'</li><li>'M'</li><li>'B'</li><li>'B'</li><li>'B'</li><li>'B'</li><li>'B'</li><li>'B'</li><li>'B'</li><li>'M'</li><li>'B'</li><li>'M'</li><li>'B'</li><li>'B'</li><li>'M'</li><li>'B'</li><li>'B'</li><li>'B'</li><li>'B'</li><li>'B'</li><li>'M'</li><li>'M'</li><li>'B'</li><li>'M'</li><li>'B'</li><li>'M'</li><li>'B'</li><li>'B'</li><li>'B'</li><li>'B'</li><li>'B'</li><li>'M'</li><li>'B'</li><li>'B'</li><li>'M'</li><li>'B'</li><li>'M'</li><li>'B'</li><li>'M'</li><li>'M'</li><li>'B'</li><li>'B'</li><li>'B'</li><li>'M'</li><li>'B'</li><li>'B'</li><li>'B'</li><li>'B'</li><li>'B'</li><li>'B'</li><li>'B'</li><li>'B'</li><li>'B'</li><li>'B'</li><li>'B'</li><li>'M'</li><li>'B'</li><li>'M'</li><li>'M'</li><li>'B'</li><li>'B'</li><li>'B'</li><li>'B'</li><li>'B'</li><li>'B'</li><li>'B'</li><li>'B'</li><li>'B'</li><li>'B'</li><li>'B'</li><li>'B'</li><li>'B'</li><li>'B'</li><li>'B'</li><li>'B'</li><li>'B'</li><li>'B'</li><li>'B'</li><li>'B'</li><li>'B'</li><li>'B'</li><li>'B'</li><li>'B'</li><li>'B'</li><li>'M'</li><li>'M'</li><li>'M'</li><li>'M'</li><li>'M'</li><li>'M'</li><li>'B'</li></ol>\n"
            ]
          },
          "metadata": {}
        }
      ]
    },
    {
      "cell_type": "code",
      "source": [
        "target = ifelse(target == \"B\",1,0)\n",
        "target"
      ],
      "metadata": {
        "id": "7POlgTMj3ES6",
        "colab": {
          "base_uri": "https://localhost:8080/",
          "height": 138
        },
        "outputId": "40377924-98ec-4dd6-95c3-ed8726941402"
      },
      "execution_count": null,
      "outputs": [
        {
          "output_type": "display_data",
          "data": {
            "text/plain": [
              "  [1] 0 0 0 0 0 0 0 0 0 0 0 0 0 0 0 0 0 0 0 1 1 1 0 0 0 0 0 0 0 0 0 0 0 0 0 0 0\n",
              " [38] 1 0 0 0 0 0 0 0 0 1 0 1 1 1 1 1 0 0 1 0 0 1 1 1 1 0 1 0 0 1 1 1 1 0 1 0 0\n",
              " [75] 1 0 1 0 0 1 1 1 0 0 1 0 0 0 1 1 1 0 1 1 0 0 1 1 1 0 0 1 1 1 1 0 1 1 0 1 1\n",
              "[112] 1 1 1 1 1 1 0 0 0 1 0 0 1 1 1 0 0 1 0 1 0 0 1 0 0 1 1 0 1 1 0 1 1 1 1 0 1\n",
              "[149] 1 1 1 1 1 1 1 1 0 1 1 1 1 0 0 1 0 1 1 0 0 1 1 0 0 1 1 1 1 0 1 1 0 0 0 1 0\n",
              "[186] 1 0 1 1 1 0 1 1 0 0 1 0 0 0 0 1 0 0 0 1 0 1 0 1 1 0 1 0 0 0 0 1 1 0 0 1 1\n",
              "[223] 1 0 1 1 1 1 1 0 0 1 1 0 1 1 0 0 1 0 1 1 1 1 0 1 1 1 1 1 0 1 0 0 0 0 0 0 0\n",
              "[260] 0 0 0 0 0 0 0 1 1 1 1 1 1 0 1 0 1 1 0 1 1 0 1 0 0 1 1 1 1 1 1 1 1 1 1 1 1\n",
              "[297] 1 0 1 1 0 1 0 1 1 1 1 1 1 1 1 1 1 1 1 1 1 0 1 1 1 0 1 0 1 1 1 1 0 0 0 1 1\n",
              "[334] 1 1 0 1 0 1 0 1 1 1 0 1 1 1 1 1 1 1 0 0 0 1 1 1 1 1 1 1 1 1 1 1 0 0 1 0 0\n",
              "[371] 0 1 0 0 1 1 1 1 1 0 1 1 1 1 1 0 1 1 1 0 1 1 0 0 1 1 1 1 1 1 0 1 1 1 1 1 1\n",
              "[408] 1 0 1 1 1 1 1 0 1 1 0 1 1 1 1 1 1 1 1 1 1 1 1 0 1 0 0 1 0 1 1 1 1 1 0 1 1\n",
              "[445] 0 1 0 1 1 0 1 0 1 1 1 1 1 1 1 1 0 0 1 1 1 1 1 1 0 1 1 1 1 1 1 1 1 1 1 0 1\n",
              "[482] 1 1 1 1 1 1 0 1 0 1 1 0 1 1 1 1 1 0 0 1 0 1 0 1 1 1 1 1 0 1 1 0 1 0 1 0 0\n",
              "[519] 1 1 1 0 1 1 1 1 1 1 1 1 1 1 1 0 1 0 0 1 1 1 1 1 1 1 1 1 1 1 1 1 1 1 1 1 1\n",
              "[556] 1 1 1 1 1 1 1 0 0 0 0 0 0 1"
            ],
            "text/latex": "\\begin{enumerate*}\n\\item 0\n\\item 0\n\\item 0\n\\item 0\n\\item 0\n\\item 0\n\\item 0\n\\item 0\n\\item 0\n\\item 0\n\\item 0\n\\item 0\n\\item 0\n\\item 0\n\\item 0\n\\item 0\n\\item 0\n\\item 0\n\\item 0\n\\item 1\n\\item 1\n\\item 1\n\\item 0\n\\item 0\n\\item 0\n\\item 0\n\\item 0\n\\item 0\n\\item 0\n\\item 0\n\\item 0\n\\item 0\n\\item 0\n\\item 0\n\\item 0\n\\item 0\n\\item 0\n\\item 1\n\\item 0\n\\item 0\n\\item 0\n\\item 0\n\\item 0\n\\item 0\n\\item 0\n\\item 0\n\\item 1\n\\item 0\n\\item 1\n\\item 1\n\\item 1\n\\item 1\n\\item 1\n\\item 0\n\\item 0\n\\item 1\n\\item 0\n\\item 0\n\\item 1\n\\item 1\n\\item 1\n\\item 1\n\\item 0\n\\item 1\n\\item 0\n\\item 0\n\\item 1\n\\item 1\n\\item 1\n\\item 1\n\\item 0\n\\item 1\n\\item 0\n\\item 0\n\\item 1\n\\item 0\n\\item 1\n\\item 0\n\\item 0\n\\item 1\n\\item 1\n\\item 1\n\\item 0\n\\item 0\n\\item 1\n\\item 0\n\\item 0\n\\item 0\n\\item 1\n\\item 1\n\\item 1\n\\item 0\n\\item 1\n\\item 1\n\\item 0\n\\item 0\n\\item 1\n\\item 1\n\\item 1\n\\item 0\n\\item 0\n\\item 1\n\\item 1\n\\item 1\n\\item 1\n\\item 0\n\\item 1\n\\item 1\n\\item 0\n\\item 1\n\\item 1\n\\item 1\n\\item 1\n\\item 1\n\\item 1\n\\item 1\n\\item 1\n\\item 0\n\\item 0\n\\item 0\n\\item 1\n\\item 0\n\\item 0\n\\item 1\n\\item 1\n\\item 1\n\\item 0\n\\item 0\n\\item 1\n\\item 0\n\\item 1\n\\item 0\n\\item 0\n\\item 1\n\\item 0\n\\item 0\n\\item 1\n\\item 1\n\\item 0\n\\item 1\n\\item 1\n\\item 0\n\\item 1\n\\item 1\n\\item 1\n\\item 1\n\\item 0\n\\item 1\n\\item 1\n\\item 1\n\\item 1\n\\item 1\n\\item 1\n\\item 1\n\\item 1\n\\item 1\n\\item 0\n\\item 1\n\\item 1\n\\item 1\n\\item 1\n\\item 0\n\\item 0\n\\item 1\n\\item 0\n\\item 1\n\\item 1\n\\item 0\n\\item 0\n\\item 1\n\\item 1\n\\item 0\n\\item 0\n\\item 1\n\\item 1\n\\item 1\n\\item 1\n\\item 0\n\\item 1\n\\item 1\n\\item 0\n\\item 0\n\\item 0\n\\item 1\n\\item 0\n\\item 1\n\\item 0\n\\item 1\n\\item 1\n\\item 1\n\\item 0\n\\item 1\n\\item 1\n\\item 0\n\\item 0\n\\item 1\n\\item 0\n\\item 0\n\\item 0\n\\item 0\n\\item ⋯\n\\item 0\n\\item 0\n\\item 1\n\\item 0\n\\item 0\n\\item 1\n\\item 1\n\\item 1\n\\item 1\n\\item 1\n\\item 0\n\\item 1\n\\item 1\n\\item 1\n\\item 1\n\\item 1\n\\item 0\n\\item 1\n\\item 1\n\\item 1\n\\item 0\n\\item 1\n\\item 1\n\\item 0\n\\item 0\n\\item 1\n\\item 1\n\\item 1\n\\item 1\n\\item 1\n\\item 1\n\\item 0\n\\item 1\n\\item 1\n\\item 1\n\\item 1\n\\item 1\n\\item 1\n\\item 1\n\\item 0\n\\item 1\n\\item 1\n\\item 1\n\\item 1\n\\item 1\n\\item 0\n\\item 1\n\\item 1\n\\item 0\n\\item 1\n\\item 1\n\\item 1\n\\item 1\n\\item 1\n\\item 1\n\\item 1\n\\item 1\n\\item 1\n\\item 1\n\\item 1\n\\item 1\n\\item 0\n\\item 1\n\\item 0\n\\item 0\n\\item 1\n\\item 0\n\\item 1\n\\item 1\n\\item 1\n\\item 1\n\\item 1\n\\item 0\n\\item 1\n\\item 1\n\\item 0\n\\item 1\n\\item 0\n\\item 1\n\\item 1\n\\item 0\n\\item 1\n\\item 0\n\\item 1\n\\item 1\n\\item 1\n\\item 1\n\\item 1\n\\item 1\n\\item 1\n\\item 1\n\\item 0\n\\item 0\n\\item 1\n\\item 1\n\\item 1\n\\item 1\n\\item 1\n\\item 1\n\\item 0\n\\item 1\n\\item 1\n\\item 1\n\\item 1\n\\item 1\n\\item 1\n\\item 1\n\\item 1\n\\item 1\n\\item 1\n\\item 0\n\\item 1\n\\item 1\n\\item 1\n\\item 1\n\\item 1\n\\item 1\n\\item 1\n\\item 0\n\\item 1\n\\item 0\n\\item 1\n\\item 1\n\\item 0\n\\item 1\n\\item 1\n\\item 1\n\\item 1\n\\item 1\n\\item 0\n\\item 0\n\\item 1\n\\item 0\n\\item 1\n\\item 0\n\\item 1\n\\item 1\n\\item 1\n\\item 1\n\\item 1\n\\item 0\n\\item 1\n\\item 1\n\\item 0\n\\item 1\n\\item 0\n\\item 1\n\\item 0\n\\item 0\n\\item 1\n\\item 1\n\\item 1\n\\item 0\n\\item 1\n\\item 1\n\\item 1\n\\item 1\n\\item 1\n\\item 1\n\\item 1\n\\item 1\n\\item 1\n\\item 1\n\\item 1\n\\item 0\n\\item 1\n\\item 0\n\\item 0\n\\item 1\n\\item 1\n\\item 1\n\\item 1\n\\item 1\n\\item 1\n\\item 1\n\\item 1\n\\item 1\n\\item 1\n\\item 1\n\\item 1\n\\item 1\n\\item 1\n\\item 1\n\\item 1\n\\item 1\n\\item 1\n\\item 1\n\\item 1\n\\item 1\n\\item 1\n\\item 1\n\\item 1\n\\item 1\n\\item 0\n\\item 0\n\\item 0\n\\item 0\n\\item 0\n\\item 0\n\\item 1\n\\end{enumerate*}\n",
            "text/markdown": "1. 0\n2. 0\n3. 0\n4. 0\n5. 0\n6. 0\n7. 0\n8. 0\n9. 0\n10. 0\n11. 0\n12. 0\n13. 0\n14. 0\n15. 0\n16. 0\n17. 0\n18. 0\n19. 0\n20. 1\n21. 1\n22. 1\n23. 0\n24. 0\n25. 0\n26. 0\n27. 0\n28. 0\n29. 0\n30. 0\n31. 0\n32. 0\n33. 0\n34. 0\n35. 0\n36. 0\n37. 0\n38. 1\n39. 0\n40. 0\n41. 0\n42. 0\n43. 0\n44. 0\n45. 0\n46. 0\n47. 1\n48. 0\n49. 1\n50. 1\n51. 1\n52. 1\n53. 1\n54. 0\n55. 0\n56. 1\n57. 0\n58. 0\n59. 1\n60. 1\n61. 1\n62. 1\n63. 0\n64. 1\n65. 0\n66. 0\n67. 1\n68. 1\n69. 1\n70. 1\n71. 0\n72. 1\n73. 0\n74. 0\n75. 1\n76. 0\n77. 1\n78. 0\n79. 0\n80. 1\n81. 1\n82. 1\n83. 0\n84. 0\n85. 1\n86. 0\n87. 0\n88. 0\n89. 1\n90. 1\n91. 1\n92. 0\n93. 1\n94. 1\n95. 0\n96. 0\n97. 1\n98. 1\n99. 1\n100. 0\n101. 0\n102. 1\n103. 1\n104. 1\n105. 1\n106. 0\n107. 1\n108. 1\n109. 0\n110. 1\n111. 1\n112. 1\n113. 1\n114. 1\n115. 1\n116. 1\n117. 1\n118. 0\n119. 0\n120. 0\n121. 1\n122. 0\n123. 0\n124. 1\n125. 1\n126. 1\n127. 0\n128. 0\n129. 1\n130. 0\n131. 1\n132. 0\n133. 0\n134. 1\n135. 0\n136. 0\n137. 1\n138. 1\n139. 0\n140. 1\n141. 1\n142. 0\n143. 1\n144. 1\n145. 1\n146. 1\n147. 0\n148. 1\n149. 1\n150. 1\n151. 1\n152. 1\n153. 1\n154. 1\n155. 1\n156. 1\n157. 0\n158. 1\n159. 1\n160. 1\n161. 1\n162. 0\n163. 0\n164. 1\n165. 0\n166. 1\n167. 1\n168. 0\n169. 0\n170. 1\n171. 1\n172. 0\n173. 0\n174. 1\n175. 1\n176. 1\n177. 1\n178. 0\n179. 1\n180. 1\n181. 0\n182. 0\n183. 0\n184. 1\n185. 0\n186. 1\n187. 0\n188. 1\n189. 1\n190. 1\n191. 0\n192. 1\n193. 1\n194. 0\n195. 0\n196. 1\n197. 0\n198. 0\n199. 0\n200. 0\n201. ⋯\n202. 0\n203. 0\n204. 1\n205. 0\n206. 0\n207. 1\n208. 1\n209. 1\n210. 1\n211. 1\n212. 0\n213. 1\n214. 1\n215. 1\n216. 1\n217. 1\n218. 0\n219. 1\n220. 1\n221. 1\n222. 0\n223. 1\n224. 1\n225. 0\n226. 0\n227. 1\n228. 1\n229. 1\n230. 1\n231. 1\n232. 1\n233. 0\n234. 1\n235. 1\n236. 1\n237. 1\n238. 1\n239. 1\n240. 1\n241. 0\n242. 1\n243. 1\n244. 1\n245. 1\n246. 1\n247. 0\n248. 1\n249. 1\n250. 0\n251. 1\n252. 1\n253. 1\n254. 1\n255. 1\n256. 1\n257. 1\n258. 1\n259. 1\n260. 1\n261. 1\n262. 1\n263. 0\n264. 1\n265. 0\n266. 0\n267. 1\n268. 0\n269. 1\n270. 1\n271. 1\n272. 1\n273. 1\n274. 0\n275. 1\n276. 1\n277. 0\n278. 1\n279. 0\n280. 1\n281. 1\n282. 0\n283. 1\n284. 0\n285. 1\n286. 1\n287. 1\n288. 1\n289. 1\n290. 1\n291. 1\n292. 1\n293. 0\n294. 0\n295. 1\n296. 1\n297. 1\n298. 1\n299. 1\n300. 1\n301. 0\n302. 1\n303. 1\n304. 1\n305. 1\n306. 1\n307. 1\n308. 1\n309. 1\n310. 1\n311. 1\n312. 0\n313. 1\n314. 1\n315. 1\n316. 1\n317. 1\n318. 1\n319. 1\n320. 0\n321. 1\n322. 0\n323. 1\n324. 1\n325. 0\n326. 1\n327. 1\n328. 1\n329. 1\n330. 1\n331. 0\n332. 0\n333. 1\n334. 0\n335. 1\n336. 0\n337. 1\n338. 1\n339. 1\n340. 1\n341. 1\n342. 0\n343. 1\n344. 1\n345. 0\n346. 1\n347. 0\n348. 1\n349. 0\n350. 0\n351. 1\n352. 1\n353. 1\n354. 0\n355. 1\n356. 1\n357. 1\n358. 1\n359. 1\n360. 1\n361. 1\n362. 1\n363. 1\n364. 1\n365. 1\n366. 0\n367. 1\n368. 0\n369. 0\n370. 1\n371. 1\n372. 1\n373. 1\n374. 1\n375. 1\n376. 1\n377. 1\n378. 1\n379. 1\n380. 1\n381. 1\n382. 1\n383. 1\n384. 1\n385. 1\n386. 1\n387. 1\n388. 1\n389. 1\n390. 1\n391. 1\n392. 1\n393. 1\n394. 1\n395. 0\n396. 0\n397. 0\n398. 0\n399. 0\n400. 0\n401. 1\n\n\n",
            "text/html": [
              "<style>\n",
              ".list-inline {list-style: none; margin:0; padding: 0}\n",
              ".list-inline>li {display: inline-block}\n",
              ".list-inline>li:not(:last-child)::after {content: \"\\00b7\"; padding: 0 .5ex}\n",
              "</style>\n",
              "<ol class=list-inline><li>0</li><li>0</li><li>0</li><li>0</li><li>0</li><li>0</li><li>0</li><li>0</li><li>0</li><li>0</li><li>0</li><li>0</li><li>0</li><li>0</li><li>0</li><li>0</li><li>0</li><li>0</li><li>0</li><li>1</li><li>1</li><li>1</li><li>0</li><li>0</li><li>0</li><li>0</li><li>0</li><li>0</li><li>0</li><li>0</li><li>0</li><li>0</li><li>0</li><li>0</li><li>0</li><li>0</li><li>0</li><li>1</li><li>0</li><li>0</li><li>0</li><li>0</li><li>0</li><li>0</li><li>0</li><li>0</li><li>1</li><li>0</li><li>1</li><li>1</li><li>1</li><li>1</li><li>1</li><li>0</li><li>0</li><li>1</li><li>0</li><li>0</li><li>1</li><li>1</li><li>1</li><li>1</li><li>0</li><li>1</li><li>0</li><li>0</li><li>1</li><li>1</li><li>1</li><li>1</li><li>0</li><li>1</li><li>0</li><li>0</li><li>1</li><li>0</li><li>1</li><li>0</li><li>0</li><li>1</li><li>1</li><li>1</li><li>0</li><li>0</li><li>1</li><li>0</li><li>0</li><li>0</li><li>1</li><li>1</li><li>1</li><li>0</li><li>1</li><li>1</li><li>0</li><li>0</li><li>1</li><li>1</li><li>1</li><li>0</li><li>0</li><li>1</li><li>1</li><li>1</li><li>1</li><li>0</li><li>1</li><li>1</li><li>0</li><li>1</li><li>1</li><li>1</li><li>1</li><li>1</li><li>1</li><li>1</li><li>1</li><li>0</li><li>0</li><li>0</li><li>1</li><li>0</li><li>0</li><li>1</li><li>1</li><li>1</li><li>0</li><li>0</li><li>1</li><li>0</li><li>1</li><li>0</li><li>0</li><li>1</li><li>0</li><li>0</li><li>1</li><li>1</li><li>0</li><li>1</li><li>1</li><li>0</li><li>1</li><li>1</li><li>1</li><li>1</li><li>0</li><li>1</li><li>1</li><li>1</li><li>1</li><li>1</li><li>1</li><li>1</li><li>1</li><li>1</li><li>0</li><li>1</li><li>1</li><li>1</li><li>1</li><li>0</li><li>0</li><li>1</li><li>0</li><li>1</li><li>1</li><li>0</li><li>0</li><li>1</li><li>1</li><li>0</li><li>0</li><li>1</li><li>1</li><li>1</li><li>1</li><li>0</li><li>1</li><li>1</li><li>0</li><li>0</li><li>0</li><li>1</li><li>0</li><li>1</li><li>0</li><li>1</li><li>1</li><li>1</li><li>0</li><li>1</li><li>1</li><li>0</li><li>0</li><li>1</li><li>0</li><li>0</li><li>0</li><li>0</li><li>⋯</li><li>0</li><li>0</li><li>1</li><li>0</li><li>0</li><li>1</li><li>1</li><li>1</li><li>1</li><li>1</li><li>0</li><li>1</li><li>1</li><li>1</li><li>1</li><li>1</li><li>0</li><li>1</li><li>1</li><li>1</li><li>0</li><li>1</li><li>1</li><li>0</li><li>0</li><li>1</li><li>1</li><li>1</li><li>1</li><li>1</li><li>1</li><li>0</li><li>1</li><li>1</li><li>1</li><li>1</li><li>1</li><li>1</li><li>1</li><li>0</li><li>1</li><li>1</li><li>1</li><li>1</li><li>1</li><li>0</li><li>1</li><li>1</li><li>0</li><li>1</li><li>1</li><li>1</li><li>1</li><li>1</li><li>1</li><li>1</li><li>1</li><li>1</li><li>1</li><li>1</li><li>1</li><li>0</li><li>1</li><li>0</li><li>0</li><li>1</li><li>0</li><li>1</li><li>1</li><li>1</li><li>1</li><li>1</li><li>0</li><li>1</li><li>1</li><li>0</li><li>1</li><li>0</li><li>1</li><li>1</li><li>0</li><li>1</li><li>0</li><li>1</li><li>1</li><li>1</li><li>1</li><li>1</li><li>1</li><li>1</li><li>1</li><li>0</li><li>0</li><li>1</li><li>1</li><li>1</li><li>1</li><li>1</li><li>1</li><li>0</li><li>1</li><li>1</li><li>1</li><li>1</li><li>1</li><li>1</li><li>1</li><li>1</li><li>1</li><li>1</li><li>0</li><li>1</li><li>1</li><li>1</li><li>1</li><li>1</li><li>1</li><li>1</li><li>0</li><li>1</li><li>0</li><li>1</li><li>1</li><li>0</li><li>1</li><li>1</li><li>1</li><li>1</li><li>1</li><li>0</li><li>0</li><li>1</li><li>0</li><li>1</li><li>0</li><li>1</li><li>1</li><li>1</li><li>1</li><li>1</li><li>0</li><li>1</li><li>1</li><li>0</li><li>1</li><li>0</li><li>1</li><li>0</li><li>0</li><li>1</li><li>1</li><li>1</li><li>0</li><li>1</li><li>1</li><li>1</li><li>1</li><li>1</li><li>1</li><li>1</li><li>1</li><li>1</li><li>1</li><li>1</li><li>0</li><li>1</li><li>0</li><li>0</li><li>1</li><li>1</li><li>1</li><li>1</li><li>1</li><li>1</li><li>1</li><li>1</li><li>1</li><li>1</li><li>1</li><li>1</li><li>1</li><li>1</li><li>1</li><li>1</li><li>1</li><li>1</li><li>1</li><li>1</li><li>1</li><li>1</li><li>1</li><li>1</li><li>1</li><li>0</li><li>0</li><li>0</li><li>0</li><li>0</li><li>0</li><li>1</li></ol>\n"
            ]
          },
          "metadata": {}
        }
      ]
    },
    {
      "cell_type": "code",
      "source": [
        "drops = c(\"X\",\"diagnosis\")\n",
        "feature=data[ , !(names(data) %in% drops)]"
      ],
      "metadata": {
        "id": "xwkhGSoHsQP0"
      },
      "execution_count": null,
      "outputs": []
    },
    {
      "cell_type": "code",
      "source": [
        "dim(feature)"
      ],
      "metadata": {
        "id": "yDmaTKMcsyT8",
        "colab": {
          "base_uri": "https://localhost:8080/",
          "height": 35
        },
        "outputId": "1eea2d5e-88fc-40f4-c622-ed6f20805b79"
      },
      "execution_count": null,
      "outputs": [
        {
          "output_type": "display_data",
          "data": {
            "text/plain": [
              "[1] 569  31"
            ],
            "text/latex": "\\begin{enumerate*}\n\\item 569\n\\item 31\n\\end{enumerate*}\n",
            "text/markdown": "1. 569\n2. 31\n\n\n",
            "text/html": [
              "<style>\n",
              ".list-inline {list-style: none; margin:0; padding: 0}\n",
              ".list-inline>li {display: inline-block}\n",
              ".list-inline>li:not(:last-child)::after {content: \"\\00b7\"; padding: 0 .5ex}\n",
              "</style>\n",
              "<ol class=list-inline><li>569</li><li>31</li></ol>\n"
            ]
          },
          "metadata": {}
        }
      ]
    },
    {
      "cell_type": "code",
      "source": [
        "scaled_data=scale(feature)\n",
        "scaled_data"
      ],
      "metadata": {
        "id": "2UjiNUxNeOzc",
        "colab": {
          "base_uri": "https://localhost:8080/",
          "height": 1000
        },
        "outputId": "d078487e-26b6-4fa0-e9e8-5b4af9a4b95e"
      },
      "execution_count": null,
      "outputs": [
        {
          "output_type": "display_data",
          "data": {
            "text/plain": [
              "      id         radius_mean texture_mean perimeter_mean area_mean   \n",
              " [1,] -0.2361973  1.0960995  -2.0715123    1.26881726     0.98350952 \n",
              " [2,] -0.2361956  1.8282120  -0.3533215    1.68447255     1.90703027 \n",
              " [3,]  0.4313615  1.5784992   0.4557859    1.56512598     1.55751319 \n",
              " [4,]  0.4317407 -0.7682333   0.2535091   -0.59216612    -0.76379174 \n",
              " [5,]  0.4318215  1.7487579  -1.1508038    1.77501133     1.82462380 \n",
              " [6,] -0.2361855 -0.4759559  -0.8346009   -0.38680772    -0.50520593 \n",
              " [7,] -0.2361809  1.1698783   0.1605082    1.13712450     1.09433201 \n",
              " [8,]  0.4326197 -0.1184126   0.3581350   -0.07280278    -0.21877241 \n",
              " [9,] -0.2361759 -0.3198854   0.5883121   -0.18391855    -0.38386951 \n",
              "[10,]  0.4329621 -0.4731182   1.1044669   -0.32919213    -0.50861585 \n",
              "[11,] -0.2361707  0.5370834   0.9184652    0.44162208     0.40609593 \n",
              "[12,]  0.4338339  0.4689800  -0.3254213    0.47866067     0.35835701 \n",
              "[13,] -0.2361660  1.4309417   1.2811685    1.66389556     1.33018500 \n",
              "[14,] -0.2361647  0.4888435   1.0835417    0.48277607     0.36318774 \n",
              "[15,]  0.4342930 -0.1127373   0.7719888    0.06712078    -0.21763577 \n",
              "[16,]  0.4353457  0.1171120   1.9182243    0.19593277     0.01111321 \n",
              "[17,] -0.2361485  0.1568390   0.1953835    0.11403633     0.08414239 \n",
              "[18,]  0.4358496  0.5682975   0.3232597    0.66385362     0.40893753 \n",
              "[19,] -0.2361437  1.6125509   0.6650378    1.56512598     1.71948452 \n",
              "[20,] -0.1748624 -0.1666526  -1.1461538   -0.18556471    -0.25173500 \n",
              "[21,] -0.1748606 -0.2971842  -0.8322759   -0.26087651    -0.38330119 \n",
              "[22,] -0.1748593 -1.3119261  -1.5925579   -1.30166089    -1.08261951 \n",
              "[23,] -0.1748568  0.3441236  -1.1694040    0.43339128     0.14069028 \n",
              "[24,] -0.2361237  1.9956330   0.8719647    1.86143471     2.12867525 \n",
              "[25,] -0.2361154  0.7158551   0.4860112    0.74204620     0.70957906 \n",
              "[26,] -0.2361147  0.8548997  -0.6718494    0.98897014     0.73259604 \n",
              "[27,] -0.2361137  0.1284625   0.5208865    0.22391748    -0.02866922 \n",
              "[28,] -0.2361135  1.2720335   0.2232838    1.24000947     1.24777853 \n",
              "[29,] -0.2361120  0.3327730   1.3904445    0.42927589     0.22025514 \n",
              "[30,] -0.2361102  0.9769184  -0.9857273    0.94781615     0.85307997 \n",
              "[31,] ⋮          ⋮           ⋮            ⋮              ⋮           \n",
              "[32,] -0.2355650 -1.82639119  1.42996986  -1.79550876    -1.376725353\n",
              "[33,] -0.2355648 -0.73418158 -1.12755363  -0.71274731    -0.716052817\n",
              "[34,] -0.2355648  0.09724844  1.32534389   0.15807110     0.004293366\n",
              "[35,] -0.2355627  0.17386486  1.42531981   0.11239017     0.038960915\n",
              "[36,] -0.2355575 -0.26029484  2.03912545  -0.29174200    -0.331015705\n",
              "[37,] -0.2355575 -0.07301027  0.32790973  -0.09049900    -0.199165358\n",
              "[38,] -0.2355553 -0.14395139  0.91614014  -0.19667629    -0.232127945\n",
              "[39,] -0.2355552 -1.08037429 -0.68347455  -1.09712557    -0.937697797\n",
              "[40,] -0.2355531 -1.09740016 -0.62999906  -1.07490241    -0.949348367\n",
              "[41,] -0.2355505 -1.26113228  0.01170683  -1.27244156    -1.049088607\n",
              "[42,] -0.2355481 -0.93849203  1.14399223  -0.94979429    -0.833410993\n",
              "[43,] -0.2355459 -0.92714145  0.50926140  -0.96543280    -0.836536755\n",
              "[44,] -0.2355456 -0.85052503  0.73246345  -0.84279392    -0.785672074\n",
              "[45,] -0.2355432 -0.38515123  2.35765337  -0.43701558    -0.417684576\n",
              "[46,] -0.2355411 -1.36044986  0.61621238  -1.35639570    -1.110751377\n",
              "[47,] -0.2355388 -0.35393713  2.23907729  -0.38968850    -0.399498321\n",
              "[48,] -0.2355364 -1.08888722  1.93449949  -1.08231013    -0.947643405\n",
              "[49,] -0.2355362 -1.12577661  0.06983236  -1.12099488    -0.975206947\n",
              "[50,] -0.2355340 -1.33491106  1.99727507  -1.34610720    -1.090007681\n",
              "[51,] -0.2355336  0.13130018  0.78826396   0.18194041     0.006282488\n",
              "[52,] -0.2355335 -0.74269452  1.07889163  -0.71809733    -0.714347856\n",
              "[53,] -0.2355335 -0.02193265  1.82754851  -0.02424107    -0.154836363\n",
              "[54,] -0.2355334 -0.83066152  2.34370325  -0.87654019    -0.764075896\n",
              "[55,] -0.2355309  0.31007183  2.63433092   0.47042987     0.176210306\n",
              "[56,] -0.2355269  1.92752955  1.34859411   2.10012784     1.966703917\n",
              "[57,] -0.2355245  2.10913884  0.72083834   2.05897385     2.341795421\n",
              "[58,] -0.2355224  1.70335559  2.08330086   1.61451077     1.722326119\n",
              "[59,] -0.2355202  0.70166686  2.04377549   0.67208442     0.577444551\n",
              "[60,] -0.2355179  1.83672491  2.33440316   1.98078127     1.733692528\n",
              "[61,] -0.2421928 -1.80681144  1.22071793  -1.81279344    -1.346604368\n",
              "      smoothness_mean compactness_mean concavity_mean concave.points_mean\n",
              " [1,]  1.56708746      3.28062806       2.65054179     2.53024886        \n",
              " [2,] -0.82623545     -0.48664348      -0.02382489     0.54766227        \n",
              " [3,]  0.94138212      1.05199990       1.36227979     2.03543978        \n",
              " [4,]  3.28066684      3.39991742       1.91421287     1.45043113        \n",
              " [5,]  0.28012535      0.53886631       1.36980615     1.42723695        \n",
              " [6,]  2.23545452      1.24324156       0.86554001     0.82393067        \n",
              " [7,] -0.12302797      0.08821762       0.29980860     0.64636637        \n",
              " [8,]  1.60263890      1.13910006       0.06097210     0.28170239        \n",
              " [9,]  2.19990308      1.68252936       1.21802455     1.14967999        \n",
              "[10,]  1.58130803      2.56110495       1.73734341     0.94093240        \n",
              "[11,] -1.01679116     -0.71291456      -0.70006836    -0.40432978        \n",
              "[12,]  0.05259614      0.47070096       0.13473043     0.44174220        \n",
              "[13,]  0.07392700      2.67850083       1.47642959     1.62052175        \n",
              "[14,] -0.87814055     -0.07840879       0.13272340     0.12166258        \n",
              "[15,]  1.19024220      2.36607632       1.55545637     0.80743704        \n",
              "[16,]  1.24712450      1.04442597       0.94205801     0.63708870        \n",
              "[17,]  0.16422766     -0.61237067      -0.18626883     0.09460271        \n",
              "[18,]  1.46754343      1.85294273       1.04617266     1.38858000        \n",
              "[19,]  0.13863062     -0.03107174       0.74135507     1.18704838        \n",
              "[20,]  0.10165712     -0.43646621      -0.27796499    -0.02858414        \n",
              "[21,]  0.79206608      0.42904436      -0.54088584    -0.45922267        \n",
              "[22,]  0.42944139     -0.74642919      -0.74309405    -0.72569797        \n",
              "[23,]  0.77784550      2.06690618       1.49148231     1.25353835        \n",
              "[24,] -0.14791398     -0.04053915       0.26217680     0.96386887        \n",
              "[25,]  1.11913932      0.78312547       0.79905716     1.10251850        \n",
              "[26,]  1.58130803      2.33388713       1.68215010     2.34984972        \n",
              "[27,]  0.64275003      1.56134652       0.67361783     1.00278354        \n",
              "[28,] -0.13938164      0.04277406       0.75515339     0.73166940        \n",
              "[29,]  0.84183809      1.23756112       0.99725132     0.99453672        \n",
              "[30,]  0.15000708      0.21508091       0.12482072     0.78888170        \n",
              "[31,] ⋮               ⋮                ⋮              ⋮                  \n",
              "[32,] -0.68829586      0.29460714       0.04667202    -0.9091897         \n",
              "[33,]  0.24741802      0.14502208      -0.26880792    -0.5922026         \n",
              "[34,] -0.56813200      0.35330508       0.15179018    -0.2582065         \n",
              "[35,] -0.96773018     -0.60971980      -0.59896425    -0.4806129         \n",
              "[36,] -0.68616278     -0.67353014      -0.73920543    -0.4167000         \n",
              "[37,] -0.04125966     -0.04811307      -0.65127246    -0.6501880         \n",
              "[38,] -0.27732122     -0.69814540      -0.74083615    -0.6311173         \n",
              "[39,] -0.14364781     -1.03007278      -0.98694813    -1.1190970         \n",
              "[40,] -0.53969084     -0.44839514      -0.56722810    -0.6324058         \n",
              "[41,] -0.81414796     -1.02325624      -0.82074100    -1.0129192         \n",
              "[42,] -1.02674557     -0.72560089      -0.91971264    -1.0504164         \n",
              "[43,] -1.56783847     -1.17530284      -1.11389274    -1.2607103         \n",
              "[44,] -0.04979201     -0.42415858      -0.50877337    -0.6790519         \n",
              "[45,] -0.96701915     -1.17397740      -0.86339038    -0.8743984         \n",
              "[46,] -0.28158739     -0.91438103      -0.61263714    -0.9303221         \n",
              "[47,] -1.07580655     -0.87291378      -0.33679604    -0.6568886         \n",
              "[48,] -0.43090344     -0.52564920      -0.36138215    -0.5550919         \n",
              "[49,]  0.28012535     -0.55480883      -1.05085947    -0.9731025         \n",
              "[50,] -1.07580655     -1.03442778      -1.11389274    -1.2607103         \n",
              "[51,] -0.82694648      0.54265327       0.17687805    -0.2978943         \n",
              "[52,] -0.26665579     -0.04243263       0.28099270    -0.2027982         \n",
              "[53,]  0.20831144      0.15638297      -0.55418241    -0.1515133         \n",
              "[54,] -1.55503996     -1.30197677      -1.11389274    -1.2607103         \n",
              "[55,]  0.60008830      1.97601905       2.08481037     1.1692662         \n",
              "[56,]  0.96271299      2.25814785       2.86755184     2.5379803         \n",
              "[57,]  1.04092615      0.21886787       1.94557271     2.3189242         \n",
              "[58,]  0.10236815     -0.01781736       0.69243373     1.2625583         \n",
              "[59,] -0.83974499     -0.03864567       0.04654658     0.1056844         \n",
              "[60,]  1.52442573      3.26926717       3.29404559     2.6565283         \n",
              "[61,] -3.10934889     -1.14974083      -1.11389274    -1.2607103         \n",
              "      symmetry_mean ⋯ radius_worst texture_worst perimeter_worst area_worst  \n",
              " [1,]  2.215565542  ⋯  1.8850310   -1.35809849    2.30157548      1.999478159\n",
              " [2,]  0.001391139  ⋯  1.8043398   -0.36887865    1.53377643      1.888827020\n",
              " [3,]  0.938858720  ⋯  1.5105411   -0.02395331    1.34629062      1.455004298\n",
              " [4,]  2.864862154  ⋯ -0.2812170    0.13386631   -0.24971958     -0.549537693\n",
              " [5,] -0.009552062  ⋯  1.2974336   -1.46548091    1.33736272      1.219651081\n",
              " [6,]  1.004517928  ⋯ -0.1653528   -0.31356043   -0.11490835     -0.244105421\n",
              " [7,] -0.064268069  ⋯  1.3677798    0.32259904    1.36712237      1.274098467\n",
              " [8,]  1.402120910  ⋯  0.1636190    0.40069534    0.09936115      0.028834057\n",
              " [9,]  1.963871911  ⋯ -0.1612147    0.82208998   -0.03158132     -0.248145066\n",
              "[10,]  0.796597103  ⋯ -0.2439749    2.44096127   -0.28602635     -0.297147713\n",
              "[11,] -1.034565253  ⋯  0.6043170    1.33459697    0.49218857      0.473194982\n",
              "[12,]  0.110823153  ⋯  0.8588046    0.26077280    0.87013617      0.734893708\n",
              "[13,]  2.135315399  ⋯  0.9705309    0.69355648    1.32248289      0.792853829\n",
              "[14,]  0.129061821  ⋯  0.1181009    0.32259904    0.14102467     -0.007171473\n",
              "[15,]  0.938858720  ⋯ -0.2563890    1.03034679    0.04579378     -0.321209945\n",
              "[16,]  1.792428424  ⋯  0.2463792    1.86337402    0.50111647      0.109978225\n",
              "[17,] -0.822996694  ⋯  0.5794890    0.84649507    0.48028471      0.452118574\n",
              "[18,]  1.285393429  ⋯  0.9705309    0.94411545    0.87906406      0.762995585\n",
              "[19,] -0.837587629  ⋯  2.2864179    0.84649507    2.36704672      2.665141363\n",
              "[20,]  0.267675705  ⋯ -0.2398369   -1.04408627   -0.22501907     -0.297498987\n",
              "[21,]  0.566789875  ⋯ -0.3660462   -0.84396449   -0.33245141     -0.439237827\n",
              "[22,]  0.012334341  ⋯ -1.2495113   -1.62980855   -1.25381027     -0.993547345\n",
              "[23,]  2.587634387  ⋯  0.3725885   -1.07337238    0.53087612      0.176193272\n",
              "[24,] -0.155461413  ⋯  2.6691838    1.61281505    2.40275830      3.046273066\n",
              "[25,]  0.668926420  ⋯  2.1084835    0.95713150    2.07540212      2.343726149\n",
              "[26,]  4.480808217  ⋯  1.2374325   -0.69590692    1.34331465      1.019425210\n",
              "[27,]  1.606394001  ⋯  0.2794833    1.22558755    0.45052506      0.028658420\n",
              "[28,] -0.418098245  ⋯  1.0429460    0.25751879    0.97131899      0.917555907\n",
              "[29,]  0.417232790  ⋯  0.8277695    1.79503976    1.25105973      0.682202690\n",
              "[30,] -0.264893426  ⋯  0.7739754   -1.00178411    0.82252072      0.608435263\n",
              "[31,] ⋮             ⋱ ⋮            ⋮             ⋮               ⋮           \n",
              "[32,]  0.82213124   ⋯ -1.57062081   1.01082271   -1.570452980    -1.15390368 \n",
              "[33,]  0.02327754   ⋯ -0.82950329  -0.97575200   -0.847591007    -0.74256246 \n",
              "[34,]  0.22025517   ⋯ -0.01017739   0.98479061    0.185664147    -0.12590190 \n",
              "[35,]  0.10352768   ⋯  0.04982374   1.07590297    0.004130263    -0.09516547 \n",
              "[36,] -0.66979188   ⋯ -0.39294328   1.86988205   -0.439883760    -0.44081856 \n",
              "[37,] -0.69897375   ⋯ -0.25225096  -0.15085980   -0.240791681    -0.33719289 \n",
              "[38,] -0.53847346   ⋯ -0.19018081   0.55526094   -0.288109530    -0.26483055 \n",
              "[39,]  0.26767570   ⋯ -1.03847278  -0.63570768   -1.075549950    -0.87060163 \n",
              "[40,] -0.52023479   ⋯ -1.12537098  -0.59177851   -1.076740336    -0.91890173 \n",
              "[41,] -0.84488310   ⋯ -1.10468093  -0.01419127   -1.135664449    -0.90695844 \n",
              "[42,]  0.59961948   ⋯ -0.67018992   0.93923443   -0.695221584    -0.65860810 \n",
              "[43,] -0.54941666   ⋯ -0.95364358  -0.14760579   -0.987461377    -0.82247717 \n",
              "[44,]  0.79659710   ⋯ -0.87915941   0.42021942   -0.876755467    -0.77979745 \n",
              "[45,] -0.99444018   ⋯ -0.49639352   1.67952231   -0.570231041    -0.50211578 \n",
              "[46,] -0.43633691   ⋯ -1.32916795  -0.10204961   -1.321364684    -1.02709396 \n",
              "[47,] -0.89595137   ⋯ -0.49225551   1.63722015   -0.548208898    -0.50035941 \n",
              "[48,] -0.79746256   ⋯ -1.12330197   1.50217862   -1.121677412    -0.91855046 \n",
              "[49,] -0.07521127   ⋯ -1.16261306  -0.45510998   -1.171971226    -0.93664104 \n",
              "[50,] -0.25395023   ⋯ -1.19571714   1.39316920   -1.213039547    -0.96597238 \n",
              "[51,] -1.30449755   ⋯ -0.16328375   0.25914579   -0.040509216    -0.25833200 \n",
              "[52,] -1.54524798   ⋯ -0.78398519   1.86825504   -0.743432222    -0.71375803 \n",
              "[53,] -1.00173565   ⋯ -0.20052584   1.21907952   -0.210139239    -0.30540264 \n",
              "[54,] -2.74170466   ⋯ -0.89984946   2.05373376   -0.954428162    -0.77452834 \n",
              "[55,]  1.15407501   ⋯  0.25879323   2.78425960    0.638010874     0.06044867 \n",
              "[56,]  1.23067742   ⋯  1.65950947   0.60732514    2.137897388     1.64820470 \n",
              "[57,] -0.31231397   ⋯  1.89951403   0.11759624    1.751021898     2.01352910 \n",
              "[58,] -0.21747289   ⋯  1.53536919   2.04559873    1.420689749     1.49364438 \n",
              "[59,] -0.80840576   ⋯  0.56086793   1.37364512    0.578491567     0.42752943 \n",
              "[60,]  2.13531540   ⋯  1.95951517   2.23595847    2.301575480     1.65171744 \n",
              "[61,] -0.81934896   ⋯ -1.40965224   0.76351775   -1.431475401    -1.07486715 \n",
              "      smoothness_worst compactness_worst concavity_worst concave.points_worst\n",
              " [1,]  1.306536657      2.61436466        2.10767182      2.29405760         \n",
              " [2,] -0.375281748     -0.43006581       -0.14661996      1.08612862         \n",
              " [3,]  0.526943750      1.08198014        0.85422232      1.95328166         \n",
              " [4,]  3.391290721      3.88997467        1.98783917      2.17387323         \n",
              " [5,]  0.220362270     -0.31311900        0.61263970      0.72861815         \n",
              " [6,]  2.046711944      1.72010293        1.26213265      0.90509140         \n",
              " [7,]  0.518184279      0.02119633        0.50910429      1.19566374         \n",
              " [8,]  1.446688190      0.72414833       -0.02103534      0.62364699         \n",
              " [9,]  1.661295226      1.81671116        1.27890922      1.39039284         \n",
              "[10,]  2.318255541      5.10838243        3.99192038      1.61859101         \n",
              "[11,] -0.624926668     -0.63027366       -0.60533934     -0.22601086         \n",
              "[12,]  0.316716450      1.94891190        0.59586313      1.01006256         \n",
              "[13,] -1.255608570      0.86461162        0.43960136      0.94464575         \n",
              "[14,] -0.843913439     -0.39320214       -0.19167703     -0.04117035         \n",
              "[15,]  1.433548984      3.29380018        2.02330963      1.61554837         \n",
              "[16,]  1.551801841      2.56415380        2.06309407      0.86097309         \n",
              "[17,]  0.614538459     -0.42688790        0.09208668      0.70427701         \n",
              "[18,]  2.037952473      1.07435317        0.98843488      1.41017002         \n",
              "[19,]  0.824765759      0.38601952        1.27028127      1.88938618         \n",
              "[20,]  0.509424808     -0.48917479       -0.15908255      0.21593293         \n",
              "[21,] -0.051181327      0.14831242       -0.39874785     -0.63555051         \n",
              "[22,]  0.001375499     -0.88641259       -0.87966023     -0.79620203         \n",
              "[23,]  0.290438037      2.16818717        1.71749672      1.89699278         \n",
              "[24,]  0.338615127      0.03645026        0.20760535      1.31280547         \n",
              "[25,]  2.108028240      0.65804796        0.94577446      1.44363908         \n",
              "[26,]  0.969297028      0.89384832        0.54217810      2.13584020         \n",
              "[27,]  0.881702320      2.60610211        1.35032948      2.36555969         \n",
              "[28,]  0.062691795     -0.27053511        0.34709055      0.52323980         \n",
              "[29,]  1.389751630      2.26733772        1.73187663      1.33562528         \n",
              "[30,] -0.300826246      0.17119332       -0.11162882      0.47151488         \n",
              "[31,] ⋮                ⋮                 ⋮               ⋮                   \n",
              "[32,]  1.19266354       0.33135960        0.3216860      -0.98286813         \n",
              "[33,]  0.09334994      -0.26989953       -0.4433256      -0.69107873         \n",
              "[34,]  0.07145127       1.05465018        0.6318129       0.08966327         \n",
              "[35,] -1.15487465      -0.74150024       -0.5324811      -0.07768205         \n",
              "[36,] -1.10231783      -0.73832234       -0.7956336      -0.53286134         \n",
              "[37,] -0.26140863      -0.32138155       -0.6446444      -0.70218438         \n",
              "[38,] -0.47163593      -0.65188339       -0.8018649      -0.65213291         \n",
              "[39,] -0.16943418      -1.05407871       -1.0945441      -1.38130213         \n",
              "[40,]  0.60139925      -0.18854523       -0.4500362      -0.47581179         \n",
              "[41,] -0.54609143      -1.00933385       -0.8565086      -1.15842859         \n",
              "[42,] -0.52419275      -0.57815606       -1.0077853      -1.24696948         \n",
              "[43,] -1.41327905      -1.14903444       -1.3046827      -1.74352870         \n",
              "[44,] -1.03662180      -0.48345457       -0.5550096      -0.76790545         \n",
              "[45,] -0.39280069      -0.93980135       -0.8899179      -0.75497422         \n",
              "[46,] -0.96654603      -1.08865429       -0.9215537      -1.35346196         \n",
              "[47,] -0.42345884      -0.58641860       -0.1355954      -0.75573488         \n",
              "[48,]  0.26415962      -0.52921636       -0.3460215      -0.35501890         \n",
              "[49,] -0.25702889      -0.85336240       -1.2565099      -1.40396982         \n",
              "[50,] -1.09793809      -1.16111047       -1.3046827      -1.74352870         \n",
              "[51,] -1.30378566       0.39936671        0.4506260      -0.06246884         \n",
              "[52,] -0.11249762      -0.01630292        0.4352874      -0.27499740         \n",
              "[53,] -0.36214254      -0.17710478       -0.6690903      -0.14918415         \n",
              "[54,] -1.73869339      -1.26687106       -1.3046827      -1.74352870         \n",
              "[55,]  0.40869089       3.41583163        4.3034853       1.84070390         \n",
              "[56,]  0.36489354       1.04448089        1.8584199       2.12366963         \n",
              "[57,]  0.37803275      -0.27307743        0.6639281       1.62771894         \n",
              "[58,] -0.69062270      -0.39447330        0.2363652       0.73318211         \n",
              "[59,] -0.80887556       0.35042701        0.3264793       0.41370467         \n",
              "[60,]  1.42916925       3.90141512        3.1947936       2.28797231         \n",
              "[61,] -1.85738422      -1.20649091       -1.3046827      -1.74352870         \n",
              "      symmetry_worst fractal_dimension_worst\n",
              " [1,]  2.7482041      1.93531174            \n",
              " [2,] -0.2436753      0.28094279            \n",
              " [3,]  1.1512420      0.20121416            \n",
              " [4,]  6.0407261      4.93067187            \n",
              " [5,] -0.8675896     -0.39675052            \n",
              " [6,]  1.7525273      2.23983079            \n",
              " [7,]  0.2622449     -0.01471753            \n",
              " [8,]  0.4772206      1.72491676            \n",
              " [9,]  2.3877562      1.28751667            \n",
              "[10,]  2.3683599      6.84083682            \n",
              "[11,]  0.0763637      0.03179084            \n",
              "[12,]  1.4405702      1.15463563            \n",
              "[13,]  0.4448934      1.01621788            \n",
              "[14,] -0.1483101     -1.16690689            \n",
              "[15,]  1.1237639      3.27519557            \n",
              "[16,]  2.1291389      2.77689167            \n",
              "[17,]  0.2072887     -0.09887552            \n",
              "[18,]  1.3015634      1.67508637            \n",
              "[19,] -0.2145808     -0.43163179            \n",
              "[20,]  0.1232381     -0.62873867            \n",
              "[21,]  0.4578243     -0.11714666            \n",
              "[22,] -0.7285828     -0.34415178            \n",
              "[23,]  2.8548838      0.85897531            \n",
              "[24,] -0.1272975     -0.48090851            \n",
              "[25,]  1.1512420      0.64747299            \n",
              "[26,]  1.8834524      1.21553944            \n",
              "[27,]  2.2034913      2.41146880            \n",
              "[28,] -0.9047658     -0.53904397            \n",
              "[29,]  1.8204144      0.82021834            \n",
              "[30,] -0.2339771     -0.26331581            \n",
              "[31,] ⋮              ⋮                      \n",
              "[32,] -0.17902092     1.25429641            \n",
              "[33,] -0.92416214    -0.14427654            \n",
              "[34,]  0.46267336     1.01621788            \n",
              "[35,] -0.28893329    -0.79650098            \n",
              "[36,] -0.69140653    -1.08053421            \n",
              "[37,] -1.05347081     0.05393768            \n",
              "[38,] -0.41824196    -0.79816200            \n",
              "[39,] -0.35520399    -0.55122473            \n",
              "[40,] -0.33904040     0.60041095            \n",
              "[41,] -0.56371422    -0.26276214            \n",
              "[42,]  0.25577948    -0.42554141            \n",
              "[43,] -0.71565191    -0.99803723            \n",
              "[44,]  0.43357890    -0.20075099            \n",
              "[45,] -0.79808619    -1.05783370            \n",
              "[46,] -0.75282815    -0.55454676            \n",
              "[47,] -0.85465873    -0.63815108            \n",
              "[48,] -1.09064705    -0.06177956            \n",
              "[49,] -1.03245815    -0.91498658            \n",
              "[50,] -0.68817382    -0.78930326            \n",
              "[51,] -1.03892359    -0.21625377            \n",
              "[52,] -1.27491191     0.18681872            \n",
              "[53,] -1.05185445    -0.04074007            \n",
              "[54,] -2.15744359    -1.37840921            \n",
              "[55,]  1.92062862     3.15338795            \n",
              "[56,]  0.04565289     0.81855733            \n",
              "[57,] -1.35896255    -0.70846730            \n",
              "[58,] -0.53138705    -0.97312203            \n",
              "[59,] -1.10357792    -0.31812924            \n",
              "[60,]  1.91739590     2.21768395            \n",
              "[61,] -0.04809589    -0.75054629            "
            ],
            "text/latex": "A matrix: 569 × 31 of type dbl\n\\begin{tabular}{lllllllllllllllllllll}\n id & radius\\_mean & texture\\_mean & perimeter\\_mean & area\\_mean & smoothness\\_mean & compactness\\_mean & concavity\\_mean & concave.points\\_mean & symmetry\\_mean & ⋯ & radius\\_worst & texture\\_worst & perimeter\\_worst & area\\_worst & smoothness\\_worst & compactness\\_worst & concavity\\_worst & concave.points\\_worst & symmetry\\_worst & fractal\\_dimension\\_worst\\\\\n\\hline\n\t -0.2361973 &  1.0960995 & -2.0715123 &  1.26881726 &  0.98350952 &  1.56708746 &  3.28062806 &  2.65054179 &  2.53024886 &  2.215565542 & ⋯ &  1.8850310 & -1.35809849 &  2.30157548 &  1.999478159 &  1.306536657 &  2.61436466 &  2.10767182 &  2.29405760 &  2.7482041 &  1.93531174\\\\\n\t -0.2361956 &  1.8282120 & -0.3533215 &  1.68447255 &  1.90703027 & -0.82623545 & -0.48664348 & -0.02382489 &  0.54766227 &  0.001391139 & ⋯ &  1.8043398 & -0.36887865 &  1.53377643 &  1.888827020 & -0.375281748 & -0.43006581 & -0.14661996 &  1.08612862 & -0.2436753 &  0.28094279\\\\\n\t  0.4313615 &  1.5784992 &  0.4557859 &  1.56512598 &  1.55751319 &  0.94138212 &  1.05199990 &  1.36227979 &  2.03543978 &  0.938858720 & ⋯ &  1.5105411 & -0.02395331 &  1.34629062 &  1.455004298 &  0.526943750 &  1.08198014 &  0.85422232 &  1.95328166 &  1.1512420 &  0.20121416\\\\\n\t  0.4317407 & -0.7682333 &  0.2535091 & -0.59216612 & -0.76379174 &  3.28066684 &  3.39991742 &  1.91421287 &  1.45043113 &  2.864862154 & ⋯ & -0.2812170 &  0.13386631 & -0.24971958 & -0.549537693 &  3.391290721 &  3.88997467 &  1.98783917 &  2.17387323 &  6.0407261 &  4.93067187\\\\\n\t  0.4318215 &  1.7487579 & -1.1508038 &  1.77501133 &  1.82462380 &  0.28012535 &  0.53886631 &  1.36980615 &  1.42723695 & -0.009552062 & ⋯ &  1.2974336 & -1.46548091 &  1.33736272 &  1.219651081 &  0.220362270 & -0.31311900 &  0.61263970 &  0.72861815 & -0.8675896 & -0.39675052\\\\\n\t -0.2361855 & -0.4759559 & -0.8346009 & -0.38680772 & -0.50520593 &  2.23545452 &  1.24324156 &  0.86554001 &  0.82393067 &  1.004517928 & ⋯ & -0.1653528 & -0.31356043 & -0.11490835 & -0.244105421 &  2.046711944 &  1.72010293 &  1.26213265 &  0.90509140 &  1.7525273 &  2.23983079\\\\\n\t -0.2361809 &  1.1698783 &  0.1605082 &  1.13712450 &  1.09433201 & -0.12302797 &  0.08821762 &  0.29980860 &  0.64636637 & -0.064268069 & ⋯ &  1.3677798 &  0.32259904 &  1.36712237 &  1.274098467 &  0.518184279 &  0.02119633 &  0.50910429 &  1.19566374 &  0.2622449 & -0.01471753\\\\\n\t  0.4326197 & -0.1184126 &  0.3581350 & -0.07280278 & -0.21877241 &  1.60263890 &  1.13910006 &  0.06097210 &  0.28170239 &  1.402120910 & ⋯ &  0.1636190 &  0.40069534 &  0.09936115 &  0.028834057 &  1.446688190 &  0.72414833 & -0.02103534 &  0.62364699 &  0.4772206 &  1.72491676\\\\\n\t -0.2361759 & -0.3198854 &  0.5883121 & -0.18391855 & -0.38386951 &  2.19990308 &  1.68252936 &  1.21802455 &  1.14967999 &  1.963871911 & ⋯ & -0.1612147 &  0.82208998 & -0.03158132 & -0.248145066 &  1.661295226 &  1.81671116 &  1.27890922 &  1.39039284 &  2.3877562 &  1.28751667\\\\\n\t  0.4329621 & -0.4731182 &  1.1044669 & -0.32919213 & -0.50861585 &  1.58130803 &  2.56110495 &  1.73734341 &  0.94093240 &  0.796597103 & ⋯ & -0.2439749 &  2.44096127 & -0.28602635 & -0.297147713 &  2.318255541 &  5.10838243 &  3.99192038 &  1.61859101 &  2.3683599 &  6.84083682\\\\\n\t -0.2361707 &  0.5370834 &  0.9184652 &  0.44162208 &  0.40609593 & -1.01679116 & -0.71291456 & -0.70006836 & -0.40432978 & -1.034565253 & ⋯ &  0.6043170 &  1.33459697 &  0.49218857 &  0.473194982 & -0.624926668 & -0.63027366 & -0.60533934 & -0.22601086 &  0.0763637 &  0.03179084\\\\\n\t  0.4338339 &  0.4689800 & -0.3254213 &  0.47866067 &  0.35835701 &  0.05259614 &  0.47070096 &  0.13473043 &  0.44174220 &  0.110823153 & ⋯ &  0.8588046 &  0.26077280 &  0.87013617 &  0.734893708 &  0.316716450 &  1.94891190 &  0.59586313 &  1.01006256 &  1.4405702 &  1.15463563\\\\\n\t -0.2361660 &  1.4309417 &  1.2811685 &  1.66389556 &  1.33018500 &  0.07392700 &  2.67850083 &  1.47642959 &  1.62052175 &  2.135315399 & ⋯ &  0.9705309 &  0.69355648 &  1.32248289 &  0.792853829 & -1.255608570 &  0.86461162 &  0.43960136 &  0.94464575 &  0.4448934 &  1.01621788\\\\\n\t -0.2361647 &  0.4888435 &  1.0835417 &  0.48277607 &  0.36318774 & -0.87814055 & -0.07840879 &  0.13272340 &  0.12166258 &  0.129061821 & ⋯ &  0.1181009 &  0.32259904 &  0.14102467 & -0.007171473 & -0.843913439 & -0.39320214 & -0.19167703 & -0.04117035 & -0.1483101 & -1.16690689\\\\\n\t  0.4342930 & -0.1127373 &  0.7719888 &  0.06712078 & -0.21763577 &  1.19024220 &  2.36607632 &  1.55545637 &  0.80743704 &  0.938858720 & ⋯ & -0.2563890 &  1.03034679 &  0.04579378 & -0.321209945 &  1.433548984 &  3.29380018 &  2.02330963 &  1.61554837 &  1.1237639 &  3.27519557\\\\\n\t  0.4353457 &  0.1171120 &  1.9182243 &  0.19593277 &  0.01111321 &  1.24712450 &  1.04442597 &  0.94205801 &  0.63708870 &  1.792428424 & ⋯ &  0.2463792 &  1.86337402 &  0.50111647 &  0.109978225 &  1.551801841 &  2.56415380 &  2.06309407 &  0.86097309 &  2.1291389 &  2.77689167\\\\\n\t -0.2361485 &  0.1568390 &  0.1953835 &  0.11403633 &  0.08414239 &  0.16422766 & -0.61237067 & -0.18626883 &  0.09460271 & -0.822996694 & ⋯ &  0.5794890 &  0.84649507 &  0.48028471 &  0.452118574 &  0.614538459 & -0.42688790 &  0.09208668 &  0.70427701 &  0.2072887 & -0.09887552\\\\\n\t  0.4358496 &  0.5682975 &  0.3232597 &  0.66385362 &  0.40893753 &  1.46754343 &  1.85294273 &  1.04617266 &  1.38858000 &  1.285393429 & ⋯ &  0.9705309 &  0.94411545 &  0.87906406 &  0.762995585 &  2.037952473 &  1.07435317 &  0.98843488 &  1.41017002 &  1.3015634 &  1.67508637\\\\\n\t -0.2361437 &  1.6125509 &  0.6650378 &  1.56512598 &  1.71948452 &  0.13863062 & -0.03107174 &  0.74135507 &  1.18704838 & -0.837587629 & ⋯ &  2.2864179 &  0.84649507 &  2.36704672 &  2.665141363 &  0.824765759 &  0.38601952 &  1.27028127 &  1.88938618 & -0.2145808 & -0.43163179\\\\\n\t -0.1748624 & -0.1666526 & -1.1461538 & -0.18556471 & -0.25173500 &  0.10165712 & -0.43646621 & -0.27796499 & -0.02858414 &  0.267675705 & ⋯ & -0.2398369 & -1.04408627 & -0.22501907 & -0.297498987 &  0.509424808 & -0.48917479 & -0.15908255 &  0.21593293 &  0.1232381 & -0.62873867\\\\\n\t -0.1748606 & -0.2971842 & -0.8322759 & -0.26087651 & -0.38330119 &  0.79206608 &  0.42904436 & -0.54088584 & -0.45922267 &  0.566789875 & ⋯ & -0.3660462 & -0.84396449 & -0.33245141 & -0.439237827 & -0.051181327 &  0.14831242 & -0.39874785 & -0.63555051 &  0.4578243 & -0.11714666\\\\\n\t -0.1748593 & -1.3119261 & -1.5925579 & -1.30166089 & -1.08261951 &  0.42944139 & -0.74642919 & -0.74309405 & -0.72569797 &  0.012334341 & ⋯ & -1.2495113 & -1.62980855 & -1.25381027 & -0.993547345 &  0.001375499 & -0.88641259 & -0.87966023 & -0.79620203 & -0.7285828 & -0.34415178\\\\\n\t -0.1748568 &  0.3441236 & -1.1694040 &  0.43339128 &  0.14069028 &  0.77784550 &  2.06690618 &  1.49148231 &  1.25353835 &  2.587634387 & ⋯ &  0.3725885 & -1.07337238 &  0.53087612 &  0.176193272 &  0.290438037 &  2.16818717 &  1.71749672 &  1.89699278 &  2.8548838 &  0.85897531\\\\\n\t -0.2361237 &  1.9956330 &  0.8719647 &  1.86143471 &  2.12867525 & -0.14791398 & -0.04053915 &  0.26217680 &  0.96386887 & -0.155461413 & ⋯ &  2.6691838 &  1.61281505 &  2.40275830 &  3.046273066 &  0.338615127 &  0.03645026 &  0.20760535 &  1.31280547 & -0.1272975 & -0.48090851\\\\\n\t -0.2361154 &  0.7158551 &  0.4860112 &  0.74204620 &  0.70957906 &  1.11913932 &  0.78312547 &  0.79905716 &  1.10251850 &  0.668926420 & ⋯ &  2.1084835 &  0.95713150 &  2.07540212 &  2.343726149 &  2.108028240 &  0.65804796 &  0.94577446 &  1.44363908 &  1.1512420 &  0.64747299\\\\\n\t -0.2361147 &  0.8548997 & -0.6718494 &  0.98897014 &  0.73259604 &  1.58130803 &  2.33388713 &  1.68215010 &  2.34984972 &  4.480808217 & ⋯ &  1.2374325 & -0.69590692 &  1.34331465 &  1.019425210 &  0.969297028 &  0.89384832 &  0.54217810 &  2.13584020 &  1.8834524 &  1.21553944\\\\\n\t -0.2361137 &  0.1284625 &  0.5208865 &  0.22391748 & -0.02866922 &  0.64275003 &  1.56134652 &  0.67361783 &  1.00278354 &  1.606394001 & ⋯ &  0.2794833 &  1.22558755 &  0.45052506 &  0.028658420 &  0.881702320 &  2.60610211 &  1.35032948 &  2.36555969 &  2.2034913 &  2.41146880\\\\\n\t -0.2361135 &  1.2720335 &  0.2232838 &  1.24000947 &  1.24777853 & -0.13938164 &  0.04277406 &  0.75515339 &  0.73166940 & -0.418098245 & ⋯ &  1.0429460 &  0.25751879 &  0.97131899 &  0.917555907 &  0.062691795 & -0.27053511 &  0.34709055 &  0.52323980 & -0.9047658 & -0.53904397\\\\\n\t -0.2361120 &  0.3327730 &  1.3904445 &  0.42927589 &  0.22025514 &  0.84183809 &  1.23756112 &  0.99725132 &  0.99453672 &  0.417232790 & ⋯ &  0.8277695 &  1.79503976 &  1.25105973 &  0.682202690 &  1.389751630 &  2.26733772 &  1.73187663 &  1.33562528 &  1.8204144 &  0.82021834\\\\\n\t -0.2361102 &  0.9769184 & -0.9857273 &  0.94781615 &  0.85307997 &  0.15000708 &  0.21508091 &  0.12482072 &  0.78888170 & -0.264893426 & ⋯ &  0.7739754 & -1.00178411 &  0.82252072 &  0.608435263 & -0.300826246 &  0.17119332 & -0.11162882 &  0.47151488 & -0.2339771 & -0.26331581\\\\\n\t ⋮ & ⋮ & ⋮ & ⋮ & ⋮ & ⋮ & ⋮ & ⋮ & ⋮ & ⋮ & ⋱ & ⋮ & ⋮ & ⋮ & ⋮ & ⋮ & ⋮ & ⋮ & ⋮ & ⋮ & ⋮\\\\\n\t -0.2355650 & -1.82639119 &  1.42996986 & -1.79550876 & -1.376725353 & -0.68829586 &  0.29460714 &  0.04667202 & -0.9091897 &  0.82213124 & ⋯ & -1.57062081 &  1.01082271 & -1.570452980 & -1.15390368 &  1.19266354 &  0.33135960 &  0.3216860 & -0.98286813 & -0.17902092 &  1.25429641\\\\\n\t -0.2355648 & -0.73418158 & -1.12755363 & -0.71274731 & -0.716052817 &  0.24741802 &  0.14502208 & -0.26880792 & -0.5922026 &  0.02327754 & ⋯ & -0.82950329 & -0.97575200 & -0.847591007 & -0.74256246 &  0.09334994 & -0.26989953 & -0.4433256 & -0.69107873 & -0.92416214 & -0.14427654\\\\\n\t -0.2355648 &  0.09724844 &  1.32534389 &  0.15807110 &  0.004293366 & -0.56813200 &  0.35330508 &  0.15179018 & -0.2582065 &  0.22025517 & ⋯ & -0.01017739 &  0.98479061 &  0.185664147 & -0.12590190 &  0.07145127 &  1.05465018 &  0.6318129 &  0.08966327 &  0.46267336 &  1.01621788\\\\\n\t -0.2355627 &  0.17386486 &  1.42531981 &  0.11239017 &  0.038960915 & -0.96773018 & -0.60971980 & -0.59896425 & -0.4806129 &  0.10352768 & ⋯ &  0.04982374 &  1.07590297 &  0.004130263 & -0.09516547 & -1.15487465 & -0.74150024 & -0.5324811 & -0.07768205 & -0.28893329 & -0.79650098\\\\\n\t -0.2355575 & -0.26029484 &  2.03912545 & -0.29174200 & -0.331015705 & -0.68616278 & -0.67353014 & -0.73920543 & -0.4167000 & -0.66979188 & ⋯ & -0.39294328 &  1.86988205 & -0.439883760 & -0.44081856 & -1.10231783 & -0.73832234 & -0.7956336 & -0.53286134 & -0.69140653 & -1.08053421\\\\\n\t -0.2355575 & -0.07301027 &  0.32790973 & -0.09049900 & -0.199165358 & -0.04125966 & -0.04811307 & -0.65127246 & -0.6501880 & -0.69897375 & ⋯ & -0.25225096 & -0.15085980 & -0.240791681 & -0.33719289 & -0.26140863 & -0.32138155 & -0.6446444 & -0.70218438 & -1.05347081 &  0.05393768\\\\\n\t -0.2355553 & -0.14395139 &  0.91614014 & -0.19667629 & -0.232127945 & -0.27732122 & -0.69814540 & -0.74083615 & -0.6311173 & -0.53847346 & ⋯ & -0.19018081 &  0.55526094 & -0.288109530 & -0.26483055 & -0.47163593 & -0.65188339 & -0.8018649 & -0.65213291 & -0.41824196 & -0.79816200\\\\\n\t -0.2355552 & -1.08037429 & -0.68347455 & -1.09712557 & -0.937697797 & -0.14364781 & -1.03007278 & -0.98694813 & -1.1190970 &  0.26767570 & ⋯ & -1.03847278 & -0.63570768 & -1.075549950 & -0.87060163 & -0.16943418 & -1.05407871 & -1.0945441 & -1.38130213 & -0.35520399 & -0.55122473\\\\\n\t -0.2355531 & -1.09740016 & -0.62999906 & -1.07490241 & -0.949348367 & -0.53969084 & -0.44839514 & -0.56722810 & -0.6324058 & -0.52023479 & ⋯ & -1.12537098 & -0.59177851 & -1.076740336 & -0.91890173 &  0.60139925 & -0.18854523 & -0.4500362 & -0.47581179 & -0.33904040 &  0.60041095\\\\\n\t -0.2355505 & -1.26113228 &  0.01170683 & -1.27244156 & -1.049088607 & -0.81414796 & -1.02325624 & -0.82074100 & -1.0129192 & -0.84488310 & ⋯ & -1.10468093 & -0.01419127 & -1.135664449 & -0.90695844 & -0.54609143 & -1.00933385 & -0.8565086 & -1.15842859 & -0.56371422 & -0.26276214\\\\\n\t -0.2355481 & -0.93849203 &  1.14399223 & -0.94979429 & -0.833410993 & -1.02674557 & -0.72560089 & -0.91971264 & -1.0504164 &  0.59961948 & ⋯ & -0.67018992 &  0.93923443 & -0.695221584 & -0.65860810 & -0.52419275 & -0.57815606 & -1.0077853 & -1.24696948 &  0.25577948 & -0.42554141\\\\\n\t -0.2355459 & -0.92714145 &  0.50926140 & -0.96543280 & -0.836536755 & -1.56783847 & -1.17530284 & -1.11389274 & -1.2607103 & -0.54941666 & ⋯ & -0.95364358 & -0.14760579 & -0.987461377 & -0.82247717 & -1.41327905 & -1.14903444 & -1.3046827 & -1.74352870 & -0.71565191 & -0.99803723\\\\\n\t -0.2355456 & -0.85052503 &  0.73246345 & -0.84279392 & -0.785672074 & -0.04979201 & -0.42415858 & -0.50877337 & -0.6790519 &  0.79659710 & ⋯ & -0.87915941 &  0.42021942 & -0.876755467 & -0.77979745 & -1.03662180 & -0.48345457 & -0.5550096 & -0.76790545 &  0.43357890 & -0.20075099\\\\\n\t -0.2355432 & -0.38515123 &  2.35765337 & -0.43701558 & -0.417684576 & -0.96701915 & -1.17397740 & -0.86339038 & -0.8743984 & -0.99444018 & ⋯ & -0.49639352 &  1.67952231 & -0.570231041 & -0.50211578 & -0.39280069 & -0.93980135 & -0.8899179 & -0.75497422 & -0.79808619 & -1.05783370\\\\\n\t -0.2355411 & -1.36044986 &  0.61621238 & -1.35639570 & -1.110751377 & -0.28158739 & -0.91438103 & -0.61263714 & -0.9303221 & -0.43633691 & ⋯ & -1.32916795 & -0.10204961 & -1.321364684 & -1.02709396 & -0.96654603 & -1.08865429 & -0.9215537 & -1.35346196 & -0.75282815 & -0.55454676\\\\\n\t -0.2355388 & -0.35393713 &  2.23907729 & -0.38968850 & -0.399498321 & -1.07580655 & -0.87291378 & -0.33679604 & -0.6568886 & -0.89595137 & ⋯ & -0.49225551 &  1.63722015 & -0.548208898 & -0.50035941 & -0.42345884 & -0.58641860 & -0.1355954 & -0.75573488 & -0.85465873 & -0.63815108\\\\\n\t -0.2355364 & -1.08888722 &  1.93449949 & -1.08231013 & -0.947643405 & -0.43090344 & -0.52564920 & -0.36138215 & -0.5550919 & -0.79746256 & ⋯ & -1.12330197 &  1.50217862 & -1.121677412 & -0.91855046 &  0.26415962 & -0.52921636 & -0.3460215 & -0.35501890 & -1.09064705 & -0.06177956\\\\\n\t -0.2355362 & -1.12577661 &  0.06983236 & -1.12099488 & -0.975206947 &  0.28012535 & -0.55480883 & -1.05085947 & -0.9731025 & -0.07521127 & ⋯ & -1.16261306 & -0.45510998 & -1.171971226 & -0.93664104 & -0.25702889 & -0.85336240 & -1.2565099 & -1.40396982 & -1.03245815 & -0.91498658\\\\\n\t -0.2355340 & -1.33491106 &  1.99727507 & -1.34610720 & -1.090007681 & -1.07580655 & -1.03442778 & -1.11389274 & -1.2607103 & -0.25395023 & ⋯ & -1.19571714 &  1.39316920 & -1.213039547 & -0.96597238 & -1.09793809 & -1.16111047 & -1.3046827 & -1.74352870 & -0.68817382 & -0.78930326\\\\\n\t -0.2355336 &  0.13130018 &  0.78826396 &  0.18194041 &  0.006282488 & -0.82694648 &  0.54265327 &  0.17687805 & -0.2978943 & -1.30449755 & ⋯ & -0.16328375 &  0.25914579 & -0.040509216 & -0.25833200 & -1.30378566 &  0.39936671 &  0.4506260 & -0.06246884 & -1.03892359 & -0.21625377\\\\\n\t -0.2355335 & -0.74269452 &  1.07889163 & -0.71809733 & -0.714347856 & -0.26665579 & -0.04243263 &  0.28099270 & -0.2027982 & -1.54524798 & ⋯ & -0.78398519 &  1.86825504 & -0.743432222 & -0.71375803 & -0.11249762 & -0.01630292 &  0.4352874 & -0.27499740 & -1.27491191 &  0.18681872\\\\\n\t -0.2355335 & -0.02193265 &  1.82754851 & -0.02424107 & -0.154836363 &  0.20831144 &  0.15638297 & -0.55418241 & -0.1515133 & -1.00173565 & ⋯ & -0.20052584 &  1.21907952 & -0.210139239 & -0.30540264 & -0.36214254 & -0.17710478 & -0.6690903 & -0.14918415 & -1.05185445 & -0.04074007\\\\\n\t -0.2355334 & -0.83066152 &  2.34370325 & -0.87654019 & -0.764075896 & -1.55503996 & -1.30197677 & -1.11389274 & -1.2607103 & -2.74170466 & ⋯ & -0.89984946 &  2.05373376 & -0.954428162 & -0.77452834 & -1.73869339 & -1.26687106 & -1.3046827 & -1.74352870 & -2.15744359 & -1.37840921\\\\\n\t -0.2355309 &  0.31007183 &  2.63433092 &  0.47042987 &  0.176210306 &  0.60008830 &  1.97601905 &  2.08481037 &  1.1692662 &  1.15407501 & ⋯ &  0.25879323 &  2.78425960 &  0.638010874 &  0.06044867 &  0.40869089 &  3.41583163 &  4.3034853 &  1.84070390 &  1.92062862 &  3.15338795\\\\\n\t -0.2355269 &  1.92752955 &  1.34859411 &  2.10012784 &  1.966703917 &  0.96271299 &  2.25814785 &  2.86755184 &  2.5379803 &  1.23067742 & ⋯ &  1.65950947 &  0.60732514 &  2.137897388 &  1.64820470 &  0.36489354 &  1.04448089 &  1.8584199 &  2.12366963 &  0.04565289 &  0.81855733\\\\\n\t -0.2355245 &  2.10913884 &  0.72083834 &  2.05897385 &  2.341795421 &  1.04092615 &  0.21886787 &  1.94557271 &  2.3189242 & -0.31231397 & ⋯ &  1.89951403 &  0.11759624 &  1.751021898 &  2.01352910 &  0.37803275 & -0.27307743 &  0.6639281 &  1.62771894 & -1.35896255 & -0.70846730\\\\\n\t -0.2355224 &  1.70335559 &  2.08330086 &  1.61451077 &  1.722326119 &  0.10236815 & -0.01781736 &  0.69243373 &  1.2625583 & -0.21747289 & ⋯ &  1.53536919 &  2.04559873 &  1.420689749 &  1.49364438 & -0.69062270 & -0.39447330 &  0.2363652 &  0.73318211 & -0.53138705 & -0.97312203\\\\\n\t -0.2355202 &  0.70166686 &  2.04377549 &  0.67208442 &  0.577444551 & -0.83974499 & -0.03864567 &  0.04654658 &  0.1056844 & -0.80840576 & ⋯ &  0.56086793 &  1.37364512 &  0.578491567 &  0.42752943 & -0.80887556 &  0.35042701 &  0.3264793 &  0.41370467 & -1.10357792 & -0.31812924\\\\\n\t -0.2355179 &  1.83672491 &  2.33440316 &  1.98078127 &  1.733692528 &  1.52442573 &  3.26926717 &  3.29404559 &  2.6565283 &  2.13531540 & ⋯ &  1.95951517 &  2.23595847 &  2.301575480 &  1.65171744 &  1.42916925 &  3.90141512 &  3.1947936 &  2.28797231 &  1.91739590 &  2.21768395\\\\\n\t -0.2421928 & -1.80681144 &  1.22071793 & -1.81279344 & -1.346604368 & -3.10934889 & -1.14974083 & -1.11389274 & -1.2607103 & -0.81934896 & ⋯ & -1.40965224 &  0.76351775 & -1.431475401 & -1.07486715 & -1.85738422 & -1.20649091 & -1.3046827 & -1.74352870 & -0.04809589 & -0.75054629\\\\\n\\end{tabular}\n",
            "text/markdown": "\nA matrix: 569 × 31 of type dbl\n\n| id | radius_mean | texture_mean | perimeter_mean | area_mean | smoothness_mean | compactness_mean | concavity_mean | concave.points_mean | symmetry_mean | ⋯ | radius_worst | texture_worst | perimeter_worst | area_worst | smoothness_worst | compactness_worst | concavity_worst | concave.points_worst | symmetry_worst | fractal_dimension_worst |\n|---|---|---|---|---|---|---|---|---|---|---|---|---|---|---|---|---|---|---|---|---|\n| -0.2361973 |  1.0960995 | -2.0715123 |  1.26881726 |  0.98350952 |  1.56708746 |  3.28062806 |  2.65054179 |  2.53024886 |  2.215565542 | ⋯ |  1.8850310 | -1.35809849 |  2.30157548 |  1.999478159 |  1.306536657 |  2.61436466 |  2.10767182 |  2.29405760 |  2.7482041 |  1.93531174 |\n| -0.2361956 |  1.8282120 | -0.3533215 |  1.68447255 |  1.90703027 | -0.82623545 | -0.48664348 | -0.02382489 |  0.54766227 |  0.001391139 | ⋯ |  1.8043398 | -0.36887865 |  1.53377643 |  1.888827020 | -0.375281748 | -0.43006581 | -0.14661996 |  1.08612862 | -0.2436753 |  0.28094279 |\n|  0.4313615 |  1.5784992 |  0.4557859 |  1.56512598 |  1.55751319 |  0.94138212 |  1.05199990 |  1.36227979 |  2.03543978 |  0.938858720 | ⋯ |  1.5105411 | -0.02395331 |  1.34629062 |  1.455004298 |  0.526943750 |  1.08198014 |  0.85422232 |  1.95328166 |  1.1512420 |  0.20121416 |\n|  0.4317407 | -0.7682333 |  0.2535091 | -0.59216612 | -0.76379174 |  3.28066684 |  3.39991742 |  1.91421287 |  1.45043113 |  2.864862154 | ⋯ | -0.2812170 |  0.13386631 | -0.24971958 | -0.549537693 |  3.391290721 |  3.88997467 |  1.98783917 |  2.17387323 |  6.0407261 |  4.93067187 |\n|  0.4318215 |  1.7487579 | -1.1508038 |  1.77501133 |  1.82462380 |  0.28012535 |  0.53886631 |  1.36980615 |  1.42723695 | -0.009552062 | ⋯ |  1.2974336 | -1.46548091 |  1.33736272 |  1.219651081 |  0.220362270 | -0.31311900 |  0.61263970 |  0.72861815 | -0.8675896 | -0.39675052 |\n| -0.2361855 | -0.4759559 | -0.8346009 | -0.38680772 | -0.50520593 |  2.23545452 |  1.24324156 |  0.86554001 |  0.82393067 |  1.004517928 | ⋯ | -0.1653528 | -0.31356043 | -0.11490835 | -0.244105421 |  2.046711944 |  1.72010293 |  1.26213265 |  0.90509140 |  1.7525273 |  2.23983079 |\n| -0.2361809 |  1.1698783 |  0.1605082 |  1.13712450 |  1.09433201 | -0.12302797 |  0.08821762 |  0.29980860 |  0.64636637 | -0.064268069 | ⋯ |  1.3677798 |  0.32259904 |  1.36712237 |  1.274098467 |  0.518184279 |  0.02119633 |  0.50910429 |  1.19566374 |  0.2622449 | -0.01471753 |\n|  0.4326197 | -0.1184126 |  0.3581350 | -0.07280278 | -0.21877241 |  1.60263890 |  1.13910006 |  0.06097210 |  0.28170239 |  1.402120910 | ⋯ |  0.1636190 |  0.40069534 |  0.09936115 |  0.028834057 |  1.446688190 |  0.72414833 | -0.02103534 |  0.62364699 |  0.4772206 |  1.72491676 |\n| -0.2361759 | -0.3198854 |  0.5883121 | -0.18391855 | -0.38386951 |  2.19990308 |  1.68252936 |  1.21802455 |  1.14967999 |  1.963871911 | ⋯ | -0.1612147 |  0.82208998 | -0.03158132 | -0.248145066 |  1.661295226 |  1.81671116 |  1.27890922 |  1.39039284 |  2.3877562 |  1.28751667 |\n|  0.4329621 | -0.4731182 |  1.1044669 | -0.32919213 | -0.50861585 |  1.58130803 |  2.56110495 |  1.73734341 |  0.94093240 |  0.796597103 | ⋯ | -0.2439749 |  2.44096127 | -0.28602635 | -0.297147713 |  2.318255541 |  5.10838243 |  3.99192038 |  1.61859101 |  2.3683599 |  6.84083682 |\n| -0.2361707 |  0.5370834 |  0.9184652 |  0.44162208 |  0.40609593 | -1.01679116 | -0.71291456 | -0.70006836 | -0.40432978 | -1.034565253 | ⋯ |  0.6043170 |  1.33459697 |  0.49218857 |  0.473194982 | -0.624926668 | -0.63027366 | -0.60533934 | -0.22601086 |  0.0763637 |  0.03179084 |\n|  0.4338339 |  0.4689800 | -0.3254213 |  0.47866067 |  0.35835701 |  0.05259614 |  0.47070096 |  0.13473043 |  0.44174220 |  0.110823153 | ⋯ |  0.8588046 |  0.26077280 |  0.87013617 |  0.734893708 |  0.316716450 |  1.94891190 |  0.59586313 |  1.01006256 |  1.4405702 |  1.15463563 |\n| -0.2361660 |  1.4309417 |  1.2811685 |  1.66389556 |  1.33018500 |  0.07392700 |  2.67850083 |  1.47642959 |  1.62052175 |  2.135315399 | ⋯ |  0.9705309 |  0.69355648 |  1.32248289 |  0.792853829 | -1.255608570 |  0.86461162 |  0.43960136 |  0.94464575 |  0.4448934 |  1.01621788 |\n| -0.2361647 |  0.4888435 |  1.0835417 |  0.48277607 |  0.36318774 | -0.87814055 | -0.07840879 |  0.13272340 |  0.12166258 |  0.129061821 | ⋯ |  0.1181009 |  0.32259904 |  0.14102467 | -0.007171473 | -0.843913439 | -0.39320214 | -0.19167703 | -0.04117035 | -0.1483101 | -1.16690689 |\n|  0.4342930 | -0.1127373 |  0.7719888 |  0.06712078 | -0.21763577 |  1.19024220 |  2.36607632 |  1.55545637 |  0.80743704 |  0.938858720 | ⋯ | -0.2563890 |  1.03034679 |  0.04579378 | -0.321209945 |  1.433548984 |  3.29380018 |  2.02330963 |  1.61554837 |  1.1237639 |  3.27519557 |\n|  0.4353457 |  0.1171120 |  1.9182243 |  0.19593277 |  0.01111321 |  1.24712450 |  1.04442597 |  0.94205801 |  0.63708870 |  1.792428424 | ⋯ |  0.2463792 |  1.86337402 |  0.50111647 |  0.109978225 |  1.551801841 |  2.56415380 |  2.06309407 |  0.86097309 |  2.1291389 |  2.77689167 |\n| -0.2361485 |  0.1568390 |  0.1953835 |  0.11403633 |  0.08414239 |  0.16422766 | -0.61237067 | -0.18626883 |  0.09460271 | -0.822996694 | ⋯ |  0.5794890 |  0.84649507 |  0.48028471 |  0.452118574 |  0.614538459 | -0.42688790 |  0.09208668 |  0.70427701 |  0.2072887 | -0.09887552 |\n|  0.4358496 |  0.5682975 |  0.3232597 |  0.66385362 |  0.40893753 |  1.46754343 |  1.85294273 |  1.04617266 |  1.38858000 |  1.285393429 | ⋯ |  0.9705309 |  0.94411545 |  0.87906406 |  0.762995585 |  2.037952473 |  1.07435317 |  0.98843488 |  1.41017002 |  1.3015634 |  1.67508637 |\n| -0.2361437 |  1.6125509 |  0.6650378 |  1.56512598 |  1.71948452 |  0.13863062 | -0.03107174 |  0.74135507 |  1.18704838 | -0.837587629 | ⋯ |  2.2864179 |  0.84649507 |  2.36704672 |  2.665141363 |  0.824765759 |  0.38601952 |  1.27028127 |  1.88938618 | -0.2145808 | -0.43163179 |\n| -0.1748624 | -0.1666526 | -1.1461538 | -0.18556471 | -0.25173500 |  0.10165712 | -0.43646621 | -0.27796499 | -0.02858414 |  0.267675705 | ⋯ | -0.2398369 | -1.04408627 | -0.22501907 | -0.297498987 |  0.509424808 | -0.48917479 | -0.15908255 |  0.21593293 |  0.1232381 | -0.62873867 |\n| -0.1748606 | -0.2971842 | -0.8322759 | -0.26087651 | -0.38330119 |  0.79206608 |  0.42904436 | -0.54088584 | -0.45922267 |  0.566789875 | ⋯ | -0.3660462 | -0.84396449 | -0.33245141 | -0.439237827 | -0.051181327 |  0.14831242 | -0.39874785 | -0.63555051 |  0.4578243 | -0.11714666 |\n| -0.1748593 | -1.3119261 | -1.5925579 | -1.30166089 | -1.08261951 |  0.42944139 | -0.74642919 | -0.74309405 | -0.72569797 |  0.012334341 | ⋯ | -1.2495113 | -1.62980855 | -1.25381027 | -0.993547345 |  0.001375499 | -0.88641259 | -0.87966023 | -0.79620203 | -0.7285828 | -0.34415178 |\n| -0.1748568 |  0.3441236 | -1.1694040 |  0.43339128 |  0.14069028 |  0.77784550 |  2.06690618 |  1.49148231 |  1.25353835 |  2.587634387 | ⋯ |  0.3725885 | -1.07337238 |  0.53087612 |  0.176193272 |  0.290438037 |  2.16818717 |  1.71749672 |  1.89699278 |  2.8548838 |  0.85897531 |\n| -0.2361237 |  1.9956330 |  0.8719647 |  1.86143471 |  2.12867525 | -0.14791398 | -0.04053915 |  0.26217680 |  0.96386887 | -0.155461413 | ⋯ |  2.6691838 |  1.61281505 |  2.40275830 |  3.046273066 |  0.338615127 |  0.03645026 |  0.20760535 |  1.31280547 | -0.1272975 | -0.48090851 |\n| -0.2361154 |  0.7158551 |  0.4860112 |  0.74204620 |  0.70957906 |  1.11913932 |  0.78312547 |  0.79905716 |  1.10251850 |  0.668926420 | ⋯ |  2.1084835 |  0.95713150 |  2.07540212 |  2.343726149 |  2.108028240 |  0.65804796 |  0.94577446 |  1.44363908 |  1.1512420 |  0.64747299 |\n| -0.2361147 |  0.8548997 | -0.6718494 |  0.98897014 |  0.73259604 |  1.58130803 |  2.33388713 |  1.68215010 |  2.34984972 |  4.480808217 | ⋯ |  1.2374325 | -0.69590692 |  1.34331465 |  1.019425210 |  0.969297028 |  0.89384832 |  0.54217810 |  2.13584020 |  1.8834524 |  1.21553944 |\n| -0.2361137 |  0.1284625 |  0.5208865 |  0.22391748 | -0.02866922 |  0.64275003 |  1.56134652 |  0.67361783 |  1.00278354 |  1.606394001 | ⋯ |  0.2794833 |  1.22558755 |  0.45052506 |  0.028658420 |  0.881702320 |  2.60610211 |  1.35032948 |  2.36555969 |  2.2034913 |  2.41146880 |\n| -0.2361135 |  1.2720335 |  0.2232838 |  1.24000947 |  1.24777853 | -0.13938164 |  0.04277406 |  0.75515339 |  0.73166940 | -0.418098245 | ⋯ |  1.0429460 |  0.25751879 |  0.97131899 |  0.917555907 |  0.062691795 | -0.27053511 |  0.34709055 |  0.52323980 | -0.9047658 | -0.53904397 |\n| -0.2361120 |  0.3327730 |  1.3904445 |  0.42927589 |  0.22025514 |  0.84183809 |  1.23756112 |  0.99725132 |  0.99453672 |  0.417232790 | ⋯ |  0.8277695 |  1.79503976 |  1.25105973 |  0.682202690 |  1.389751630 |  2.26733772 |  1.73187663 |  1.33562528 |  1.8204144 |  0.82021834 |\n| -0.2361102 |  0.9769184 | -0.9857273 |  0.94781615 |  0.85307997 |  0.15000708 |  0.21508091 |  0.12482072 |  0.78888170 | -0.264893426 | ⋯ |  0.7739754 | -1.00178411 |  0.82252072 |  0.608435263 | -0.300826246 |  0.17119332 | -0.11162882 |  0.47151488 | -0.2339771 | -0.26331581 |\n| ⋮ | ⋮ | ⋮ | ⋮ | ⋮ | ⋮ | ⋮ | ⋮ | ⋮ | ⋮ | ⋱ | ⋮ | ⋮ | ⋮ | ⋮ | ⋮ | ⋮ | ⋮ | ⋮ | ⋮ | ⋮ |\n| -0.2355650 | -1.82639119 |  1.42996986 | -1.79550876 | -1.376725353 | -0.68829586 |  0.29460714 |  0.04667202 | -0.9091897 |  0.82213124 | ⋯ | -1.57062081 |  1.01082271 | -1.570452980 | -1.15390368 |  1.19266354 |  0.33135960 |  0.3216860 | -0.98286813 | -0.17902092 |  1.25429641 |\n| -0.2355648 | -0.73418158 | -1.12755363 | -0.71274731 | -0.716052817 |  0.24741802 |  0.14502208 | -0.26880792 | -0.5922026 |  0.02327754 | ⋯ | -0.82950329 | -0.97575200 | -0.847591007 | -0.74256246 |  0.09334994 | -0.26989953 | -0.4433256 | -0.69107873 | -0.92416214 | -0.14427654 |\n| -0.2355648 |  0.09724844 |  1.32534389 |  0.15807110 |  0.004293366 | -0.56813200 |  0.35330508 |  0.15179018 | -0.2582065 |  0.22025517 | ⋯ | -0.01017739 |  0.98479061 |  0.185664147 | -0.12590190 |  0.07145127 |  1.05465018 |  0.6318129 |  0.08966327 |  0.46267336 |  1.01621788 |\n| -0.2355627 |  0.17386486 |  1.42531981 |  0.11239017 |  0.038960915 | -0.96773018 | -0.60971980 | -0.59896425 | -0.4806129 |  0.10352768 | ⋯ |  0.04982374 |  1.07590297 |  0.004130263 | -0.09516547 | -1.15487465 | -0.74150024 | -0.5324811 | -0.07768205 | -0.28893329 | -0.79650098 |\n| -0.2355575 | -0.26029484 |  2.03912545 | -0.29174200 | -0.331015705 | -0.68616278 | -0.67353014 | -0.73920543 | -0.4167000 | -0.66979188 | ⋯ | -0.39294328 |  1.86988205 | -0.439883760 | -0.44081856 | -1.10231783 | -0.73832234 | -0.7956336 | -0.53286134 | -0.69140653 | -1.08053421 |\n| -0.2355575 | -0.07301027 |  0.32790973 | -0.09049900 | -0.199165358 | -0.04125966 | -0.04811307 | -0.65127246 | -0.6501880 | -0.69897375 | ⋯ | -0.25225096 | -0.15085980 | -0.240791681 | -0.33719289 | -0.26140863 | -0.32138155 | -0.6446444 | -0.70218438 | -1.05347081 |  0.05393768 |\n| -0.2355553 | -0.14395139 |  0.91614014 | -0.19667629 | -0.232127945 | -0.27732122 | -0.69814540 | -0.74083615 | -0.6311173 | -0.53847346 | ⋯ | -0.19018081 |  0.55526094 | -0.288109530 | -0.26483055 | -0.47163593 | -0.65188339 | -0.8018649 | -0.65213291 | -0.41824196 | -0.79816200 |\n| -0.2355552 | -1.08037429 | -0.68347455 | -1.09712557 | -0.937697797 | -0.14364781 | -1.03007278 | -0.98694813 | -1.1190970 |  0.26767570 | ⋯ | -1.03847278 | -0.63570768 | -1.075549950 | -0.87060163 | -0.16943418 | -1.05407871 | -1.0945441 | -1.38130213 | -0.35520399 | -0.55122473 |\n| -0.2355531 | -1.09740016 | -0.62999906 | -1.07490241 | -0.949348367 | -0.53969084 | -0.44839514 | -0.56722810 | -0.6324058 | -0.52023479 | ⋯ | -1.12537098 | -0.59177851 | -1.076740336 | -0.91890173 |  0.60139925 | -0.18854523 | -0.4500362 | -0.47581179 | -0.33904040 |  0.60041095 |\n| -0.2355505 | -1.26113228 |  0.01170683 | -1.27244156 | -1.049088607 | -0.81414796 | -1.02325624 | -0.82074100 | -1.0129192 | -0.84488310 | ⋯ | -1.10468093 | -0.01419127 | -1.135664449 | -0.90695844 | -0.54609143 | -1.00933385 | -0.8565086 | -1.15842859 | -0.56371422 | -0.26276214 |\n| -0.2355481 | -0.93849203 |  1.14399223 | -0.94979429 | -0.833410993 | -1.02674557 | -0.72560089 | -0.91971264 | -1.0504164 |  0.59961948 | ⋯ | -0.67018992 |  0.93923443 | -0.695221584 | -0.65860810 | -0.52419275 | -0.57815606 | -1.0077853 | -1.24696948 |  0.25577948 | -0.42554141 |\n| -0.2355459 | -0.92714145 |  0.50926140 | -0.96543280 | -0.836536755 | -1.56783847 | -1.17530284 | -1.11389274 | -1.2607103 | -0.54941666 | ⋯ | -0.95364358 | -0.14760579 | -0.987461377 | -0.82247717 | -1.41327905 | -1.14903444 | -1.3046827 | -1.74352870 | -0.71565191 | -0.99803723 |\n| -0.2355456 | -0.85052503 |  0.73246345 | -0.84279392 | -0.785672074 | -0.04979201 | -0.42415858 | -0.50877337 | -0.6790519 |  0.79659710 | ⋯ | -0.87915941 |  0.42021942 | -0.876755467 | -0.77979745 | -1.03662180 | -0.48345457 | -0.5550096 | -0.76790545 |  0.43357890 | -0.20075099 |\n| -0.2355432 | -0.38515123 |  2.35765337 | -0.43701558 | -0.417684576 | -0.96701915 | -1.17397740 | -0.86339038 | -0.8743984 | -0.99444018 | ⋯ | -0.49639352 |  1.67952231 | -0.570231041 | -0.50211578 | -0.39280069 | -0.93980135 | -0.8899179 | -0.75497422 | -0.79808619 | -1.05783370 |\n| -0.2355411 | -1.36044986 |  0.61621238 | -1.35639570 | -1.110751377 | -0.28158739 | -0.91438103 | -0.61263714 | -0.9303221 | -0.43633691 | ⋯ | -1.32916795 | -0.10204961 | -1.321364684 | -1.02709396 | -0.96654603 | -1.08865429 | -0.9215537 | -1.35346196 | -0.75282815 | -0.55454676 |\n| -0.2355388 | -0.35393713 |  2.23907729 | -0.38968850 | -0.399498321 | -1.07580655 | -0.87291378 | -0.33679604 | -0.6568886 | -0.89595137 | ⋯ | -0.49225551 |  1.63722015 | -0.548208898 | -0.50035941 | -0.42345884 | -0.58641860 | -0.1355954 | -0.75573488 | -0.85465873 | -0.63815108 |\n| -0.2355364 | -1.08888722 |  1.93449949 | -1.08231013 | -0.947643405 | -0.43090344 | -0.52564920 | -0.36138215 | -0.5550919 | -0.79746256 | ⋯ | -1.12330197 |  1.50217862 | -1.121677412 | -0.91855046 |  0.26415962 | -0.52921636 | -0.3460215 | -0.35501890 | -1.09064705 | -0.06177956 |\n| -0.2355362 | -1.12577661 |  0.06983236 | -1.12099488 | -0.975206947 |  0.28012535 | -0.55480883 | -1.05085947 | -0.9731025 | -0.07521127 | ⋯ | -1.16261306 | -0.45510998 | -1.171971226 | -0.93664104 | -0.25702889 | -0.85336240 | -1.2565099 | -1.40396982 | -1.03245815 | -0.91498658 |\n| -0.2355340 | -1.33491106 |  1.99727507 | -1.34610720 | -1.090007681 | -1.07580655 | -1.03442778 | -1.11389274 | -1.2607103 | -0.25395023 | ⋯ | -1.19571714 |  1.39316920 | -1.213039547 | -0.96597238 | -1.09793809 | -1.16111047 | -1.3046827 | -1.74352870 | -0.68817382 | -0.78930326 |\n| -0.2355336 |  0.13130018 |  0.78826396 |  0.18194041 |  0.006282488 | -0.82694648 |  0.54265327 |  0.17687805 | -0.2978943 | -1.30449755 | ⋯ | -0.16328375 |  0.25914579 | -0.040509216 | -0.25833200 | -1.30378566 |  0.39936671 |  0.4506260 | -0.06246884 | -1.03892359 | -0.21625377 |\n| -0.2355335 | -0.74269452 |  1.07889163 | -0.71809733 | -0.714347856 | -0.26665579 | -0.04243263 |  0.28099270 | -0.2027982 | -1.54524798 | ⋯ | -0.78398519 |  1.86825504 | -0.743432222 | -0.71375803 | -0.11249762 | -0.01630292 |  0.4352874 | -0.27499740 | -1.27491191 |  0.18681872 |\n| -0.2355335 | -0.02193265 |  1.82754851 | -0.02424107 | -0.154836363 |  0.20831144 |  0.15638297 | -0.55418241 | -0.1515133 | -1.00173565 | ⋯ | -0.20052584 |  1.21907952 | -0.210139239 | -0.30540264 | -0.36214254 | -0.17710478 | -0.6690903 | -0.14918415 | -1.05185445 | -0.04074007 |\n| -0.2355334 | -0.83066152 |  2.34370325 | -0.87654019 | -0.764075896 | -1.55503996 | -1.30197677 | -1.11389274 | -1.2607103 | -2.74170466 | ⋯ | -0.89984946 |  2.05373376 | -0.954428162 | -0.77452834 | -1.73869339 | -1.26687106 | -1.3046827 | -1.74352870 | -2.15744359 | -1.37840921 |\n| -0.2355309 |  0.31007183 |  2.63433092 |  0.47042987 |  0.176210306 |  0.60008830 |  1.97601905 |  2.08481037 |  1.1692662 |  1.15407501 | ⋯ |  0.25879323 |  2.78425960 |  0.638010874 |  0.06044867 |  0.40869089 |  3.41583163 |  4.3034853 |  1.84070390 |  1.92062862 |  3.15338795 |\n| -0.2355269 |  1.92752955 |  1.34859411 |  2.10012784 |  1.966703917 |  0.96271299 |  2.25814785 |  2.86755184 |  2.5379803 |  1.23067742 | ⋯ |  1.65950947 |  0.60732514 |  2.137897388 |  1.64820470 |  0.36489354 |  1.04448089 |  1.8584199 |  2.12366963 |  0.04565289 |  0.81855733 |\n| -0.2355245 |  2.10913884 |  0.72083834 |  2.05897385 |  2.341795421 |  1.04092615 |  0.21886787 |  1.94557271 |  2.3189242 | -0.31231397 | ⋯ |  1.89951403 |  0.11759624 |  1.751021898 |  2.01352910 |  0.37803275 | -0.27307743 |  0.6639281 |  1.62771894 | -1.35896255 | -0.70846730 |\n| -0.2355224 |  1.70335559 |  2.08330086 |  1.61451077 |  1.722326119 |  0.10236815 | -0.01781736 |  0.69243373 |  1.2625583 | -0.21747289 | ⋯ |  1.53536919 |  2.04559873 |  1.420689749 |  1.49364438 | -0.69062270 | -0.39447330 |  0.2363652 |  0.73318211 | -0.53138705 | -0.97312203 |\n| -0.2355202 |  0.70166686 |  2.04377549 |  0.67208442 |  0.577444551 | -0.83974499 | -0.03864567 |  0.04654658 |  0.1056844 | -0.80840576 | ⋯ |  0.56086793 |  1.37364512 |  0.578491567 |  0.42752943 | -0.80887556 |  0.35042701 |  0.3264793 |  0.41370467 | -1.10357792 | -0.31812924 |\n| -0.2355179 |  1.83672491 |  2.33440316 |  1.98078127 |  1.733692528 |  1.52442573 |  3.26926717 |  3.29404559 |  2.6565283 |  2.13531540 | ⋯ |  1.95951517 |  2.23595847 |  2.301575480 |  1.65171744 |  1.42916925 |  3.90141512 |  3.1947936 |  2.28797231 |  1.91739590 |  2.21768395 |\n| -0.2421928 | -1.80681144 |  1.22071793 | -1.81279344 | -1.346604368 | -3.10934889 | -1.14974083 | -1.11389274 | -1.2607103 | -0.81934896 | ⋯ | -1.40965224 |  0.76351775 | -1.431475401 | -1.07486715 | -1.85738422 | -1.20649091 | -1.3046827 | -1.74352870 | -0.04809589 | -0.75054629 |\n\n",
            "text/html": [
              "<table class=\"dataframe\">\n",
              "<caption>A matrix: 569 × 31 of type dbl</caption>\n",
              "<thead>\n",
              "\t<tr><th scope=col>id</th><th scope=col>radius_mean</th><th scope=col>texture_mean</th><th scope=col>perimeter_mean</th><th scope=col>area_mean</th><th scope=col>smoothness_mean</th><th scope=col>compactness_mean</th><th scope=col>concavity_mean</th><th scope=col>concave.points_mean</th><th scope=col>symmetry_mean</th><th scope=col>⋯</th><th scope=col>radius_worst</th><th scope=col>texture_worst</th><th scope=col>perimeter_worst</th><th scope=col>area_worst</th><th scope=col>smoothness_worst</th><th scope=col>compactness_worst</th><th scope=col>concavity_worst</th><th scope=col>concave.points_worst</th><th scope=col>symmetry_worst</th><th scope=col>fractal_dimension_worst</th></tr>\n",
              "</thead>\n",
              "<tbody>\n",
              "\t<tr><td>-0.2361973</td><td> 1.0960995</td><td>-2.0715123</td><td> 1.26881726</td><td> 0.98350952</td><td> 1.56708746</td><td> 3.28062806</td><td> 2.65054179</td><td> 2.53024886</td><td> 2.215565542</td><td>⋯</td><td> 1.8850310</td><td>-1.35809849</td><td> 2.30157548</td><td> 1.999478159</td><td> 1.306536657</td><td> 2.61436466</td><td> 2.10767182</td><td> 2.29405760</td><td> 2.7482041</td><td> 1.93531174</td></tr>\n",
              "\t<tr><td>-0.2361956</td><td> 1.8282120</td><td>-0.3533215</td><td> 1.68447255</td><td> 1.90703027</td><td>-0.82623545</td><td>-0.48664348</td><td>-0.02382489</td><td> 0.54766227</td><td> 0.001391139</td><td>⋯</td><td> 1.8043398</td><td>-0.36887865</td><td> 1.53377643</td><td> 1.888827020</td><td>-0.375281748</td><td>-0.43006581</td><td>-0.14661996</td><td> 1.08612862</td><td>-0.2436753</td><td> 0.28094279</td></tr>\n",
              "\t<tr><td> 0.4313615</td><td> 1.5784992</td><td> 0.4557859</td><td> 1.56512598</td><td> 1.55751319</td><td> 0.94138212</td><td> 1.05199990</td><td> 1.36227979</td><td> 2.03543978</td><td> 0.938858720</td><td>⋯</td><td> 1.5105411</td><td>-0.02395331</td><td> 1.34629062</td><td> 1.455004298</td><td> 0.526943750</td><td> 1.08198014</td><td> 0.85422232</td><td> 1.95328166</td><td> 1.1512420</td><td> 0.20121416</td></tr>\n",
              "\t<tr><td> 0.4317407</td><td>-0.7682333</td><td> 0.2535091</td><td>-0.59216612</td><td>-0.76379174</td><td> 3.28066684</td><td> 3.39991742</td><td> 1.91421287</td><td> 1.45043113</td><td> 2.864862154</td><td>⋯</td><td>-0.2812170</td><td> 0.13386631</td><td>-0.24971958</td><td>-0.549537693</td><td> 3.391290721</td><td> 3.88997467</td><td> 1.98783917</td><td> 2.17387323</td><td> 6.0407261</td><td> 4.93067187</td></tr>\n",
              "\t<tr><td> 0.4318215</td><td> 1.7487579</td><td>-1.1508038</td><td> 1.77501133</td><td> 1.82462380</td><td> 0.28012535</td><td> 0.53886631</td><td> 1.36980615</td><td> 1.42723695</td><td>-0.009552062</td><td>⋯</td><td> 1.2974336</td><td>-1.46548091</td><td> 1.33736272</td><td> 1.219651081</td><td> 0.220362270</td><td>-0.31311900</td><td> 0.61263970</td><td> 0.72861815</td><td>-0.8675896</td><td>-0.39675052</td></tr>\n",
              "\t<tr><td>-0.2361855</td><td>-0.4759559</td><td>-0.8346009</td><td>-0.38680772</td><td>-0.50520593</td><td> 2.23545452</td><td> 1.24324156</td><td> 0.86554001</td><td> 0.82393067</td><td> 1.004517928</td><td>⋯</td><td>-0.1653528</td><td>-0.31356043</td><td>-0.11490835</td><td>-0.244105421</td><td> 2.046711944</td><td> 1.72010293</td><td> 1.26213265</td><td> 0.90509140</td><td> 1.7525273</td><td> 2.23983079</td></tr>\n",
              "\t<tr><td>-0.2361809</td><td> 1.1698783</td><td> 0.1605082</td><td> 1.13712450</td><td> 1.09433201</td><td>-0.12302797</td><td> 0.08821762</td><td> 0.29980860</td><td> 0.64636637</td><td>-0.064268069</td><td>⋯</td><td> 1.3677798</td><td> 0.32259904</td><td> 1.36712237</td><td> 1.274098467</td><td> 0.518184279</td><td> 0.02119633</td><td> 0.50910429</td><td> 1.19566374</td><td> 0.2622449</td><td>-0.01471753</td></tr>\n",
              "\t<tr><td> 0.4326197</td><td>-0.1184126</td><td> 0.3581350</td><td>-0.07280278</td><td>-0.21877241</td><td> 1.60263890</td><td> 1.13910006</td><td> 0.06097210</td><td> 0.28170239</td><td> 1.402120910</td><td>⋯</td><td> 0.1636190</td><td> 0.40069534</td><td> 0.09936115</td><td> 0.028834057</td><td> 1.446688190</td><td> 0.72414833</td><td>-0.02103534</td><td> 0.62364699</td><td> 0.4772206</td><td> 1.72491676</td></tr>\n",
              "\t<tr><td>-0.2361759</td><td>-0.3198854</td><td> 0.5883121</td><td>-0.18391855</td><td>-0.38386951</td><td> 2.19990308</td><td> 1.68252936</td><td> 1.21802455</td><td> 1.14967999</td><td> 1.963871911</td><td>⋯</td><td>-0.1612147</td><td> 0.82208998</td><td>-0.03158132</td><td>-0.248145066</td><td> 1.661295226</td><td> 1.81671116</td><td> 1.27890922</td><td> 1.39039284</td><td> 2.3877562</td><td> 1.28751667</td></tr>\n",
              "\t<tr><td> 0.4329621</td><td>-0.4731182</td><td> 1.1044669</td><td>-0.32919213</td><td>-0.50861585</td><td> 1.58130803</td><td> 2.56110495</td><td> 1.73734341</td><td> 0.94093240</td><td> 0.796597103</td><td>⋯</td><td>-0.2439749</td><td> 2.44096127</td><td>-0.28602635</td><td>-0.297147713</td><td> 2.318255541</td><td> 5.10838243</td><td> 3.99192038</td><td> 1.61859101</td><td> 2.3683599</td><td> 6.84083682</td></tr>\n",
              "\t<tr><td>-0.2361707</td><td> 0.5370834</td><td> 0.9184652</td><td> 0.44162208</td><td> 0.40609593</td><td>-1.01679116</td><td>-0.71291456</td><td>-0.70006836</td><td>-0.40432978</td><td>-1.034565253</td><td>⋯</td><td> 0.6043170</td><td> 1.33459697</td><td> 0.49218857</td><td> 0.473194982</td><td>-0.624926668</td><td>-0.63027366</td><td>-0.60533934</td><td>-0.22601086</td><td> 0.0763637</td><td> 0.03179084</td></tr>\n",
              "\t<tr><td> 0.4338339</td><td> 0.4689800</td><td>-0.3254213</td><td> 0.47866067</td><td> 0.35835701</td><td> 0.05259614</td><td> 0.47070096</td><td> 0.13473043</td><td> 0.44174220</td><td> 0.110823153</td><td>⋯</td><td> 0.8588046</td><td> 0.26077280</td><td> 0.87013617</td><td> 0.734893708</td><td> 0.316716450</td><td> 1.94891190</td><td> 0.59586313</td><td> 1.01006256</td><td> 1.4405702</td><td> 1.15463563</td></tr>\n",
              "\t<tr><td>-0.2361660</td><td> 1.4309417</td><td> 1.2811685</td><td> 1.66389556</td><td> 1.33018500</td><td> 0.07392700</td><td> 2.67850083</td><td> 1.47642959</td><td> 1.62052175</td><td> 2.135315399</td><td>⋯</td><td> 0.9705309</td><td> 0.69355648</td><td> 1.32248289</td><td> 0.792853829</td><td>-1.255608570</td><td> 0.86461162</td><td> 0.43960136</td><td> 0.94464575</td><td> 0.4448934</td><td> 1.01621788</td></tr>\n",
              "\t<tr><td>-0.2361647</td><td> 0.4888435</td><td> 1.0835417</td><td> 0.48277607</td><td> 0.36318774</td><td>-0.87814055</td><td>-0.07840879</td><td> 0.13272340</td><td> 0.12166258</td><td> 0.129061821</td><td>⋯</td><td> 0.1181009</td><td> 0.32259904</td><td> 0.14102467</td><td>-0.007171473</td><td>-0.843913439</td><td>-0.39320214</td><td>-0.19167703</td><td>-0.04117035</td><td>-0.1483101</td><td>-1.16690689</td></tr>\n",
              "\t<tr><td> 0.4342930</td><td>-0.1127373</td><td> 0.7719888</td><td> 0.06712078</td><td>-0.21763577</td><td> 1.19024220</td><td> 2.36607632</td><td> 1.55545637</td><td> 0.80743704</td><td> 0.938858720</td><td>⋯</td><td>-0.2563890</td><td> 1.03034679</td><td> 0.04579378</td><td>-0.321209945</td><td> 1.433548984</td><td> 3.29380018</td><td> 2.02330963</td><td> 1.61554837</td><td> 1.1237639</td><td> 3.27519557</td></tr>\n",
              "\t<tr><td> 0.4353457</td><td> 0.1171120</td><td> 1.9182243</td><td> 0.19593277</td><td> 0.01111321</td><td> 1.24712450</td><td> 1.04442597</td><td> 0.94205801</td><td> 0.63708870</td><td> 1.792428424</td><td>⋯</td><td> 0.2463792</td><td> 1.86337402</td><td> 0.50111647</td><td> 0.109978225</td><td> 1.551801841</td><td> 2.56415380</td><td> 2.06309407</td><td> 0.86097309</td><td> 2.1291389</td><td> 2.77689167</td></tr>\n",
              "\t<tr><td>-0.2361485</td><td> 0.1568390</td><td> 0.1953835</td><td> 0.11403633</td><td> 0.08414239</td><td> 0.16422766</td><td>-0.61237067</td><td>-0.18626883</td><td> 0.09460271</td><td>-0.822996694</td><td>⋯</td><td> 0.5794890</td><td> 0.84649507</td><td> 0.48028471</td><td> 0.452118574</td><td> 0.614538459</td><td>-0.42688790</td><td> 0.09208668</td><td> 0.70427701</td><td> 0.2072887</td><td>-0.09887552</td></tr>\n",
              "\t<tr><td> 0.4358496</td><td> 0.5682975</td><td> 0.3232597</td><td> 0.66385362</td><td> 0.40893753</td><td> 1.46754343</td><td> 1.85294273</td><td> 1.04617266</td><td> 1.38858000</td><td> 1.285393429</td><td>⋯</td><td> 0.9705309</td><td> 0.94411545</td><td> 0.87906406</td><td> 0.762995585</td><td> 2.037952473</td><td> 1.07435317</td><td> 0.98843488</td><td> 1.41017002</td><td> 1.3015634</td><td> 1.67508637</td></tr>\n",
              "\t<tr><td>-0.2361437</td><td> 1.6125509</td><td> 0.6650378</td><td> 1.56512598</td><td> 1.71948452</td><td> 0.13863062</td><td>-0.03107174</td><td> 0.74135507</td><td> 1.18704838</td><td>-0.837587629</td><td>⋯</td><td> 2.2864179</td><td> 0.84649507</td><td> 2.36704672</td><td> 2.665141363</td><td> 0.824765759</td><td> 0.38601952</td><td> 1.27028127</td><td> 1.88938618</td><td>-0.2145808</td><td>-0.43163179</td></tr>\n",
              "\t<tr><td>-0.1748624</td><td>-0.1666526</td><td>-1.1461538</td><td>-0.18556471</td><td>-0.25173500</td><td> 0.10165712</td><td>-0.43646621</td><td>-0.27796499</td><td>-0.02858414</td><td> 0.267675705</td><td>⋯</td><td>-0.2398369</td><td>-1.04408627</td><td>-0.22501907</td><td>-0.297498987</td><td> 0.509424808</td><td>-0.48917479</td><td>-0.15908255</td><td> 0.21593293</td><td> 0.1232381</td><td>-0.62873867</td></tr>\n",
              "\t<tr><td>-0.1748606</td><td>-0.2971842</td><td>-0.8322759</td><td>-0.26087651</td><td>-0.38330119</td><td> 0.79206608</td><td> 0.42904436</td><td>-0.54088584</td><td>-0.45922267</td><td> 0.566789875</td><td>⋯</td><td>-0.3660462</td><td>-0.84396449</td><td>-0.33245141</td><td>-0.439237827</td><td>-0.051181327</td><td> 0.14831242</td><td>-0.39874785</td><td>-0.63555051</td><td> 0.4578243</td><td>-0.11714666</td></tr>\n",
              "\t<tr><td>-0.1748593</td><td>-1.3119261</td><td>-1.5925579</td><td>-1.30166089</td><td>-1.08261951</td><td> 0.42944139</td><td>-0.74642919</td><td>-0.74309405</td><td>-0.72569797</td><td> 0.012334341</td><td>⋯</td><td>-1.2495113</td><td>-1.62980855</td><td>-1.25381027</td><td>-0.993547345</td><td> 0.001375499</td><td>-0.88641259</td><td>-0.87966023</td><td>-0.79620203</td><td>-0.7285828</td><td>-0.34415178</td></tr>\n",
              "\t<tr><td>-0.1748568</td><td> 0.3441236</td><td>-1.1694040</td><td> 0.43339128</td><td> 0.14069028</td><td> 0.77784550</td><td> 2.06690618</td><td> 1.49148231</td><td> 1.25353835</td><td> 2.587634387</td><td>⋯</td><td> 0.3725885</td><td>-1.07337238</td><td> 0.53087612</td><td> 0.176193272</td><td> 0.290438037</td><td> 2.16818717</td><td> 1.71749672</td><td> 1.89699278</td><td> 2.8548838</td><td> 0.85897531</td></tr>\n",
              "\t<tr><td>-0.2361237</td><td> 1.9956330</td><td> 0.8719647</td><td> 1.86143471</td><td> 2.12867525</td><td>-0.14791398</td><td>-0.04053915</td><td> 0.26217680</td><td> 0.96386887</td><td>-0.155461413</td><td>⋯</td><td> 2.6691838</td><td> 1.61281505</td><td> 2.40275830</td><td> 3.046273066</td><td> 0.338615127</td><td> 0.03645026</td><td> 0.20760535</td><td> 1.31280547</td><td>-0.1272975</td><td>-0.48090851</td></tr>\n",
              "\t<tr><td>-0.2361154</td><td> 0.7158551</td><td> 0.4860112</td><td> 0.74204620</td><td> 0.70957906</td><td> 1.11913932</td><td> 0.78312547</td><td> 0.79905716</td><td> 1.10251850</td><td> 0.668926420</td><td>⋯</td><td> 2.1084835</td><td> 0.95713150</td><td> 2.07540212</td><td> 2.343726149</td><td> 2.108028240</td><td> 0.65804796</td><td> 0.94577446</td><td> 1.44363908</td><td> 1.1512420</td><td> 0.64747299</td></tr>\n",
              "\t<tr><td>-0.2361147</td><td> 0.8548997</td><td>-0.6718494</td><td> 0.98897014</td><td> 0.73259604</td><td> 1.58130803</td><td> 2.33388713</td><td> 1.68215010</td><td> 2.34984972</td><td> 4.480808217</td><td>⋯</td><td> 1.2374325</td><td>-0.69590692</td><td> 1.34331465</td><td> 1.019425210</td><td> 0.969297028</td><td> 0.89384832</td><td> 0.54217810</td><td> 2.13584020</td><td> 1.8834524</td><td> 1.21553944</td></tr>\n",
              "\t<tr><td>-0.2361137</td><td> 0.1284625</td><td> 0.5208865</td><td> 0.22391748</td><td>-0.02866922</td><td> 0.64275003</td><td> 1.56134652</td><td> 0.67361783</td><td> 1.00278354</td><td> 1.606394001</td><td>⋯</td><td> 0.2794833</td><td> 1.22558755</td><td> 0.45052506</td><td> 0.028658420</td><td> 0.881702320</td><td> 2.60610211</td><td> 1.35032948</td><td> 2.36555969</td><td> 2.2034913</td><td> 2.41146880</td></tr>\n",
              "\t<tr><td>-0.2361135</td><td> 1.2720335</td><td> 0.2232838</td><td> 1.24000947</td><td> 1.24777853</td><td>-0.13938164</td><td> 0.04277406</td><td> 0.75515339</td><td> 0.73166940</td><td>-0.418098245</td><td>⋯</td><td> 1.0429460</td><td> 0.25751879</td><td> 0.97131899</td><td> 0.917555907</td><td> 0.062691795</td><td>-0.27053511</td><td> 0.34709055</td><td> 0.52323980</td><td>-0.9047658</td><td>-0.53904397</td></tr>\n",
              "\t<tr><td>-0.2361120</td><td> 0.3327730</td><td> 1.3904445</td><td> 0.42927589</td><td> 0.22025514</td><td> 0.84183809</td><td> 1.23756112</td><td> 0.99725132</td><td> 0.99453672</td><td> 0.417232790</td><td>⋯</td><td> 0.8277695</td><td> 1.79503976</td><td> 1.25105973</td><td> 0.682202690</td><td> 1.389751630</td><td> 2.26733772</td><td> 1.73187663</td><td> 1.33562528</td><td> 1.8204144</td><td> 0.82021834</td></tr>\n",
              "\t<tr><td>-0.2361102</td><td> 0.9769184</td><td>-0.9857273</td><td> 0.94781615</td><td> 0.85307997</td><td> 0.15000708</td><td> 0.21508091</td><td> 0.12482072</td><td> 0.78888170</td><td>-0.264893426</td><td>⋯</td><td> 0.7739754</td><td>-1.00178411</td><td> 0.82252072</td><td> 0.608435263</td><td>-0.300826246</td><td> 0.17119332</td><td>-0.11162882</td><td> 0.47151488</td><td>-0.2339771</td><td>-0.26331581</td></tr>\n",
              "\t<tr><td>⋮</td><td>⋮</td><td>⋮</td><td>⋮</td><td>⋮</td><td>⋮</td><td>⋮</td><td>⋮</td><td>⋮</td><td>⋮</td><td>⋱</td><td>⋮</td><td>⋮</td><td>⋮</td><td>⋮</td><td>⋮</td><td>⋮</td><td>⋮</td><td>⋮</td><td>⋮</td><td>⋮</td></tr>\n",
              "\t<tr><td>-0.2355650</td><td>-1.82639119</td><td> 1.42996986</td><td>-1.79550876</td><td>-1.376725353</td><td>-0.68829586</td><td> 0.29460714</td><td> 0.04667202</td><td>-0.9091897</td><td> 0.82213124</td><td>⋯</td><td>-1.57062081</td><td> 1.01082271</td><td>-1.570452980</td><td>-1.15390368</td><td> 1.19266354</td><td> 0.33135960</td><td> 0.3216860</td><td>-0.98286813</td><td>-0.17902092</td><td> 1.25429641</td></tr>\n",
              "\t<tr><td>-0.2355648</td><td>-0.73418158</td><td>-1.12755363</td><td>-0.71274731</td><td>-0.716052817</td><td> 0.24741802</td><td> 0.14502208</td><td>-0.26880792</td><td>-0.5922026</td><td> 0.02327754</td><td>⋯</td><td>-0.82950329</td><td>-0.97575200</td><td>-0.847591007</td><td>-0.74256246</td><td> 0.09334994</td><td>-0.26989953</td><td>-0.4433256</td><td>-0.69107873</td><td>-0.92416214</td><td>-0.14427654</td></tr>\n",
              "\t<tr><td>-0.2355648</td><td> 0.09724844</td><td> 1.32534389</td><td> 0.15807110</td><td> 0.004293366</td><td>-0.56813200</td><td> 0.35330508</td><td> 0.15179018</td><td>-0.2582065</td><td> 0.22025517</td><td>⋯</td><td>-0.01017739</td><td> 0.98479061</td><td> 0.185664147</td><td>-0.12590190</td><td> 0.07145127</td><td> 1.05465018</td><td> 0.6318129</td><td> 0.08966327</td><td> 0.46267336</td><td> 1.01621788</td></tr>\n",
              "\t<tr><td>-0.2355627</td><td> 0.17386486</td><td> 1.42531981</td><td> 0.11239017</td><td> 0.038960915</td><td>-0.96773018</td><td>-0.60971980</td><td>-0.59896425</td><td>-0.4806129</td><td> 0.10352768</td><td>⋯</td><td> 0.04982374</td><td> 1.07590297</td><td> 0.004130263</td><td>-0.09516547</td><td>-1.15487465</td><td>-0.74150024</td><td>-0.5324811</td><td>-0.07768205</td><td>-0.28893329</td><td>-0.79650098</td></tr>\n",
              "\t<tr><td>-0.2355575</td><td>-0.26029484</td><td> 2.03912545</td><td>-0.29174200</td><td>-0.331015705</td><td>-0.68616278</td><td>-0.67353014</td><td>-0.73920543</td><td>-0.4167000</td><td>-0.66979188</td><td>⋯</td><td>-0.39294328</td><td> 1.86988205</td><td>-0.439883760</td><td>-0.44081856</td><td>-1.10231783</td><td>-0.73832234</td><td>-0.7956336</td><td>-0.53286134</td><td>-0.69140653</td><td>-1.08053421</td></tr>\n",
              "\t<tr><td>-0.2355575</td><td>-0.07301027</td><td> 0.32790973</td><td>-0.09049900</td><td>-0.199165358</td><td>-0.04125966</td><td>-0.04811307</td><td>-0.65127246</td><td>-0.6501880</td><td>-0.69897375</td><td>⋯</td><td>-0.25225096</td><td>-0.15085980</td><td>-0.240791681</td><td>-0.33719289</td><td>-0.26140863</td><td>-0.32138155</td><td>-0.6446444</td><td>-0.70218438</td><td>-1.05347081</td><td> 0.05393768</td></tr>\n",
              "\t<tr><td>-0.2355553</td><td>-0.14395139</td><td> 0.91614014</td><td>-0.19667629</td><td>-0.232127945</td><td>-0.27732122</td><td>-0.69814540</td><td>-0.74083615</td><td>-0.6311173</td><td>-0.53847346</td><td>⋯</td><td>-0.19018081</td><td> 0.55526094</td><td>-0.288109530</td><td>-0.26483055</td><td>-0.47163593</td><td>-0.65188339</td><td>-0.8018649</td><td>-0.65213291</td><td>-0.41824196</td><td>-0.79816200</td></tr>\n",
              "\t<tr><td>-0.2355552</td><td>-1.08037429</td><td>-0.68347455</td><td>-1.09712557</td><td>-0.937697797</td><td>-0.14364781</td><td>-1.03007278</td><td>-0.98694813</td><td>-1.1190970</td><td> 0.26767570</td><td>⋯</td><td>-1.03847278</td><td>-0.63570768</td><td>-1.075549950</td><td>-0.87060163</td><td>-0.16943418</td><td>-1.05407871</td><td>-1.0945441</td><td>-1.38130213</td><td>-0.35520399</td><td>-0.55122473</td></tr>\n",
              "\t<tr><td>-0.2355531</td><td>-1.09740016</td><td>-0.62999906</td><td>-1.07490241</td><td>-0.949348367</td><td>-0.53969084</td><td>-0.44839514</td><td>-0.56722810</td><td>-0.6324058</td><td>-0.52023479</td><td>⋯</td><td>-1.12537098</td><td>-0.59177851</td><td>-1.076740336</td><td>-0.91890173</td><td> 0.60139925</td><td>-0.18854523</td><td>-0.4500362</td><td>-0.47581179</td><td>-0.33904040</td><td> 0.60041095</td></tr>\n",
              "\t<tr><td>-0.2355505</td><td>-1.26113228</td><td> 0.01170683</td><td>-1.27244156</td><td>-1.049088607</td><td>-0.81414796</td><td>-1.02325624</td><td>-0.82074100</td><td>-1.0129192</td><td>-0.84488310</td><td>⋯</td><td>-1.10468093</td><td>-0.01419127</td><td>-1.135664449</td><td>-0.90695844</td><td>-0.54609143</td><td>-1.00933385</td><td>-0.8565086</td><td>-1.15842859</td><td>-0.56371422</td><td>-0.26276214</td></tr>\n",
              "\t<tr><td>-0.2355481</td><td>-0.93849203</td><td> 1.14399223</td><td>-0.94979429</td><td>-0.833410993</td><td>-1.02674557</td><td>-0.72560089</td><td>-0.91971264</td><td>-1.0504164</td><td> 0.59961948</td><td>⋯</td><td>-0.67018992</td><td> 0.93923443</td><td>-0.695221584</td><td>-0.65860810</td><td>-0.52419275</td><td>-0.57815606</td><td>-1.0077853</td><td>-1.24696948</td><td> 0.25577948</td><td>-0.42554141</td></tr>\n",
              "\t<tr><td>-0.2355459</td><td>-0.92714145</td><td> 0.50926140</td><td>-0.96543280</td><td>-0.836536755</td><td>-1.56783847</td><td>-1.17530284</td><td>-1.11389274</td><td>-1.2607103</td><td>-0.54941666</td><td>⋯</td><td>-0.95364358</td><td>-0.14760579</td><td>-0.987461377</td><td>-0.82247717</td><td>-1.41327905</td><td>-1.14903444</td><td>-1.3046827</td><td>-1.74352870</td><td>-0.71565191</td><td>-0.99803723</td></tr>\n",
              "\t<tr><td>-0.2355456</td><td>-0.85052503</td><td> 0.73246345</td><td>-0.84279392</td><td>-0.785672074</td><td>-0.04979201</td><td>-0.42415858</td><td>-0.50877337</td><td>-0.6790519</td><td> 0.79659710</td><td>⋯</td><td>-0.87915941</td><td> 0.42021942</td><td>-0.876755467</td><td>-0.77979745</td><td>-1.03662180</td><td>-0.48345457</td><td>-0.5550096</td><td>-0.76790545</td><td> 0.43357890</td><td>-0.20075099</td></tr>\n",
              "\t<tr><td>-0.2355432</td><td>-0.38515123</td><td> 2.35765337</td><td>-0.43701558</td><td>-0.417684576</td><td>-0.96701915</td><td>-1.17397740</td><td>-0.86339038</td><td>-0.8743984</td><td>-0.99444018</td><td>⋯</td><td>-0.49639352</td><td> 1.67952231</td><td>-0.570231041</td><td>-0.50211578</td><td>-0.39280069</td><td>-0.93980135</td><td>-0.8899179</td><td>-0.75497422</td><td>-0.79808619</td><td>-1.05783370</td></tr>\n",
              "\t<tr><td>-0.2355411</td><td>-1.36044986</td><td> 0.61621238</td><td>-1.35639570</td><td>-1.110751377</td><td>-0.28158739</td><td>-0.91438103</td><td>-0.61263714</td><td>-0.9303221</td><td>-0.43633691</td><td>⋯</td><td>-1.32916795</td><td>-0.10204961</td><td>-1.321364684</td><td>-1.02709396</td><td>-0.96654603</td><td>-1.08865429</td><td>-0.9215537</td><td>-1.35346196</td><td>-0.75282815</td><td>-0.55454676</td></tr>\n",
              "\t<tr><td>-0.2355388</td><td>-0.35393713</td><td> 2.23907729</td><td>-0.38968850</td><td>-0.399498321</td><td>-1.07580655</td><td>-0.87291378</td><td>-0.33679604</td><td>-0.6568886</td><td>-0.89595137</td><td>⋯</td><td>-0.49225551</td><td> 1.63722015</td><td>-0.548208898</td><td>-0.50035941</td><td>-0.42345884</td><td>-0.58641860</td><td>-0.1355954</td><td>-0.75573488</td><td>-0.85465873</td><td>-0.63815108</td></tr>\n",
              "\t<tr><td>-0.2355364</td><td>-1.08888722</td><td> 1.93449949</td><td>-1.08231013</td><td>-0.947643405</td><td>-0.43090344</td><td>-0.52564920</td><td>-0.36138215</td><td>-0.5550919</td><td>-0.79746256</td><td>⋯</td><td>-1.12330197</td><td> 1.50217862</td><td>-1.121677412</td><td>-0.91855046</td><td> 0.26415962</td><td>-0.52921636</td><td>-0.3460215</td><td>-0.35501890</td><td>-1.09064705</td><td>-0.06177956</td></tr>\n",
              "\t<tr><td>-0.2355362</td><td>-1.12577661</td><td> 0.06983236</td><td>-1.12099488</td><td>-0.975206947</td><td> 0.28012535</td><td>-0.55480883</td><td>-1.05085947</td><td>-0.9731025</td><td>-0.07521127</td><td>⋯</td><td>-1.16261306</td><td>-0.45510998</td><td>-1.171971226</td><td>-0.93664104</td><td>-0.25702889</td><td>-0.85336240</td><td>-1.2565099</td><td>-1.40396982</td><td>-1.03245815</td><td>-0.91498658</td></tr>\n",
              "\t<tr><td>-0.2355340</td><td>-1.33491106</td><td> 1.99727507</td><td>-1.34610720</td><td>-1.090007681</td><td>-1.07580655</td><td>-1.03442778</td><td>-1.11389274</td><td>-1.2607103</td><td>-0.25395023</td><td>⋯</td><td>-1.19571714</td><td> 1.39316920</td><td>-1.213039547</td><td>-0.96597238</td><td>-1.09793809</td><td>-1.16111047</td><td>-1.3046827</td><td>-1.74352870</td><td>-0.68817382</td><td>-0.78930326</td></tr>\n",
              "\t<tr><td>-0.2355336</td><td> 0.13130018</td><td> 0.78826396</td><td> 0.18194041</td><td> 0.006282488</td><td>-0.82694648</td><td> 0.54265327</td><td> 0.17687805</td><td>-0.2978943</td><td>-1.30449755</td><td>⋯</td><td>-0.16328375</td><td> 0.25914579</td><td>-0.040509216</td><td>-0.25833200</td><td>-1.30378566</td><td> 0.39936671</td><td> 0.4506260</td><td>-0.06246884</td><td>-1.03892359</td><td>-0.21625377</td></tr>\n",
              "\t<tr><td>-0.2355335</td><td>-0.74269452</td><td> 1.07889163</td><td>-0.71809733</td><td>-0.714347856</td><td>-0.26665579</td><td>-0.04243263</td><td> 0.28099270</td><td>-0.2027982</td><td>-1.54524798</td><td>⋯</td><td>-0.78398519</td><td> 1.86825504</td><td>-0.743432222</td><td>-0.71375803</td><td>-0.11249762</td><td>-0.01630292</td><td> 0.4352874</td><td>-0.27499740</td><td>-1.27491191</td><td> 0.18681872</td></tr>\n",
              "\t<tr><td>-0.2355335</td><td>-0.02193265</td><td> 1.82754851</td><td>-0.02424107</td><td>-0.154836363</td><td> 0.20831144</td><td> 0.15638297</td><td>-0.55418241</td><td>-0.1515133</td><td>-1.00173565</td><td>⋯</td><td>-0.20052584</td><td> 1.21907952</td><td>-0.210139239</td><td>-0.30540264</td><td>-0.36214254</td><td>-0.17710478</td><td>-0.6690903</td><td>-0.14918415</td><td>-1.05185445</td><td>-0.04074007</td></tr>\n",
              "\t<tr><td>-0.2355334</td><td>-0.83066152</td><td> 2.34370325</td><td>-0.87654019</td><td>-0.764075896</td><td>-1.55503996</td><td>-1.30197677</td><td>-1.11389274</td><td>-1.2607103</td><td>-2.74170466</td><td>⋯</td><td>-0.89984946</td><td> 2.05373376</td><td>-0.954428162</td><td>-0.77452834</td><td>-1.73869339</td><td>-1.26687106</td><td>-1.3046827</td><td>-1.74352870</td><td>-2.15744359</td><td>-1.37840921</td></tr>\n",
              "\t<tr><td>-0.2355309</td><td> 0.31007183</td><td> 2.63433092</td><td> 0.47042987</td><td> 0.176210306</td><td> 0.60008830</td><td> 1.97601905</td><td> 2.08481037</td><td> 1.1692662</td><td> 1.15407501</td><td>⋯</td><td> 0.25879323</td><td> 2.78425960</td><td> 0.638010874</td><td> 0.06044867</td><td> 0.40869089</td><td> 3.41583163</td><td> 4.3034853</td><td> 1.84070390</td><td> 1.92062862</td><td> 3.15338795</td></tr>\n",
              "\t<tr><td>-0.2355269</td><td> 1.92752955</td><td> 1.34859411</td><td> 2.10012784</td><td> 1.966703917</td><td> 0.96271299</td><td> 2.25814785</td><td> 2.86755184</td><td> 2.5379803</td><td> 1.23067742</td><td>⋯</td><td> 1.65950947</td><td> 0.60732514</td><td> 2.137897388</td><td> 1.64820470</td><td> 0.36489354</td><td> 1.04448089</td><td> 1.8584199</td><td> 2.12366963</td><td> 0.04565289</td><td> 0.81855733</td></tr>\n",
              "\t<tr><td>-0.2355245</td><td> 2.10913884</td><td> 0.72083834</td><td> 2.05897385</td><td> 2.341795421</td><td> 1.04092615</td><td> 0.21886787</td><td> 1.94557271</td><td> 2.3189242</td><td>-0.31231397</td><td>⋯</td><td> 1.89951403</td><td> 0.11759624</td><td> 1.751021898</td><td> 2.01352910</td><td> 0.37803275</td><td>-0.27307743</td><td> 0.6639281</td><td> 1.62771894</td><td>-1.35896255</td><td>-0.70846730</td></tr>\n",
              "\t<tr><td>-0.2355224</td><td> 1.70335559</td><td> 2.08330086</td><td> 1.61451077</td><td> 1.722326119</td><td> 0.10236815</td><td>-0.01781736</td><td> 0.69243373</td><td> 1.2625583</td><td>-0.21747289</td><td>⋯</td><td> 1.53536919</td><td> 2.04559873</td><td> 1.420689749</td><td> 1.49364438</td><td>-0.69062270</td><td>-0.39447330</td><td> 0.2363652</td><td> 0.73318211</td><td>-0.53138705</td><td>-0.97312203</td></tr>\n",
              "\t<tr><td>-0.2355202</td><td> 0.70166686</td><td> 2.04377549</td><td> 0.67208442</td><td> 0.577444551</td><td>-0.83974499</td><td>-0.03864567</td><td> 0.04654658</td><td> 0.1056844</td><td>-0.80840576</td><td>⋯</td><td> 0.56086793</td><td> 1.37364512</td><td> 0.578491567</td><td> 0.42752943</td><td>-0.80887556</td><td> 0.35042701</td><td> 0.3264793</td><td> 0.41370467</td><td>-1.10357792</td><td>-0.31812924</td></tr>\n",
              "\t<tr><td>-0.2355179</td><td> 1.83672491</td><td> 2.33440316</td><td> 1.98078127</td><td> 1.733692528</td><td> 1.52442573</td><td> 3.26926717</td><td> 3.29404559</td><td> 2.6565283</td><td> 2.13531540</td><td>⋯</td><td> 1.95951517</td><td> 2.23595847</td><td> 2.301575480</td><td> 1.65171744</td><td> 1.42916925</td><td> 3.90141512</td><td> 3.1947936</td><td> 2.28797231</td><td> 1.91739590</td><td> 2.21768395</td></tr>\n",
              "\t<tr><td>-0.2421928</td><td>-1.80681144</td><td> 1.22071793</td><td>-1.81279344</td><td>-1.346604368</td><td>-3.10934889</td><td>-1.14974083</td><td>-1.11389274</td><td>-1.2607103</td><td>-0.81934896</td><td>⋯</td><td>-1.40965224</td><td> 0.76351775</td><td>-1.431475401</td><td>-1.07486715</td><td>-1.85738422</td><td>-1.20649091</td><td>-1.3046827</td><td>-1.74352870</td><td>-0.04809589</td><td>-0.75054629</td></tr>\n",
              "</tbody>\n",
              "</table>\n"
            ]
          },
          "metadata": {}
        }
      ]
    },
    {
      "cell_type": "code",
      "source": [
        " scaled_data=cbind(scaled_data,target)\n",
        "tail(scaled_data)"
      ],
      "metadata": {
        "colab": {
          "base_uri": "https://localhost:8080/",
          "height": 275
        },
        "id": "r1P9uoAHejMu",
        "outputId": "6ad6b773-3084-443b-9195-122e1ccc1082"
      },
      "execution_count": null,
      "outputs": [
        {
          "output_type": "display_data",
          "data": {
            "text/plain": [
              "       id         radius_mean texture_mean perimeter_mean area_mean \n",
              "[564,] -0.2355269  1.9275296  1.3485941     2.1001278      1.9667039\n",
              "[565,] -0.2355245  2.1091388  0.7208383     2.0589739      2.3417954\n",
              "[566,] -0.2355224  1.7033556  2.0833009     1.6145108      1.7223261\n",
              "[567,] -0.2355202  0.7016669  2.0437755     0.6720844      0.5774446\n",
              "[568,] -0.2355179  1.8367249  2.3344032     1.9807813      1.7336925\n",
              "[569,] -0.2421928 -1.8068114  1.2207179    -1.8127934     -1.3466044\n",
              "       smoothness_mean compactness_mean concavity_mean concave.points_mean\n",
              "[564,]  0.9627130       2.25814785       2.86755184     2.5379803         \n",
              "[565,]  1.0409262       0.21886787       1.94557271     2.3189242         \n",
              "[566,]  0.1023682      -0.01781736       0.69243373     1.2625583         \n",
              "[567,] -0.8397450      -0.03864567       0.04654658     0.1056844         \n",
              "[568,]  1.5244257       3.26926717       3.29404559     2.6565283         \n",
              "[569,] -3.1093489      -1.14974083      -1.11389274    -1.2607103         \n",
              "       symmetry_mean ⋯ texture_worst perimeter_worst area_worst\n",
              "[564,]  1.2306774    ⋯ 0.6073251      2.1378974       1.6482047\n",
              "[565,] -0.3123140    ⋯ 0.1175962      1.7510219       2.0135291\n",
              "[566,] -0.2174729    ⋯ 2.0455987      1.4206897       1.4936444\n",
              "[567,] -0.8084058    ⋯ 1.3736451      0.5784916       0.4275294\n",
              "[568,]  2.1353154    ⋯ 2.2359585      2.3015755       1.6517174\n",
              "[569,] -0.8193490    ⋯ 0.7635178     -1.4314754      -1.0748672\n",
              "       smoothness_worst compactness_worst concavity_worst concave.points_worst\n",
              "[564,]  0.3648935        1.0444809         1.8584199       2.1236696          \n",
              "[565,]  0.3780327       -0.2730774         0.6639281       1.6277189          \n",
              "[566,] -0.6906227       -0.3944733         0.2363652       0.7331821          \n",
              "[567,] -0.8088756        0.3504270         0.3264793       0.4137047          \n",
              "[568,]  1.4291692        3.9014151         3.1947936       2.2879723          \n",
              "[569,] -1.8573842       -1.2064909        -1.3046827      -1.7435287          \n",
              "       symmetry_worst fractal_dimension_worst target\n",
              "[564,]  0.04565289     0.8185573              0     \n",
              "[565,] -1.35896255    -0.7084673              0     \n",
              "[566,] -0.53138705    -0.9731220              0     \n",
              "[567,] -1.10357792    -0.3181292              0     \n",
              "[568,]  1.91739590     2.2176840              0     \n",
              "[569,] -0.04809589    -0.7505463              1     "
            ],
            "text/latex": "A matrix: 6 × 32 of type dbl\n\\begin{tabular}{r|lllllllllllllllllllll}\n  & id & radius\\_mean & texture\\_mean & perimeter\\_mean & area\\_mean & smoothness\\_mean & compactness\\_mean & concavity\\_mean & concave.points\\_mean & symmetry\\_mean & ⋯ & texture\\_worst & perimeter\\_worst & area\\_worst & smoothness\\_worst & compactness\\_worst & concavity\\_worst & concave.points\\_worst & symmetry\\_worst & fractal\\_dimension\\_worst & target\\\\\n\\hline\n\t{[}564,{]} & -0.2355269 &  1.9275296 & 1.3485941 &  2.1001278 &  1.9667039 &  0.9627130 &  2.25814785 &  2.86755184 &  2.5379803 &  1.2306774 & ⋯ & 0.6073251 &  2.1378974 &  1.6482047 &  0.3648935 &  1.0444809 &  1.8584199 &  2.1236696 &  0.04565289 &  0.8185573 & 0\\\\\n\t{[}565,{]} & -0.2355245 &  2.1091388 & 0.7208383 &  2.0589739 &  2.3417954 &  1.0409262 &  0.21886787 &  1.94557271 &  2.3189242 & -0.3123140 & ⋯ & 0.1175962 &  1.7510219 &  2.0135291 &  0.3780327 & -0.2730774 &  0.6639281 &  1.6277189 & -1.35896255 & -0.7084673 & 0\\\\\n\t{[}566,{]} & -0.2355224 &  1.7033556 & 2.0833009 &  1.6145108 &  1.7223261 &  0.1023682 & -0.01781736 &  0.69243373 &  1.2625583 & -0.2174729 & ⋯ & 2.0455987 &  1.4206897 &  1.4936444 & -0.6906227 & -0.3944733 &  0.2363652 &  0.7331821 & -0.53138705 & -0.9731220 & 0\\\\\n\t{[}567,{]} & -0.2355202 &  0.7016669 & 2.0437755 &  0.6720844 &  0.5774446 & -0.8397450 & -0.03864567 &  0.04654658 &  0.1056844 & -0.8084058 & ⋯ & 1.3736451 &  0.5784916 &  0.4275294 & -0.8088756 &  0.3504270 &  0.3264793 &  0.4137047 & -1.10357792 & -0.3181292 & 0\\\\\n\t{[}568,{]} & -0.2355179 &  1.8367249 & 2.3344032 &  1.9807813 &  1.7336925 &  1.5244257 &  3.26926717 &  3.29404559 &  2.6565283 &  2.1353154 & ⋯ & 2.2359585 &  2.3015755 &  1.6517174 &  1.4291692 &  3.9014151 &  3.1947936 &  2.2879723 &  1.91739590 &  2.2176840 & 0\\\\\n\t{[}569,{]} & -0.2421928 & -1.8068114 & 1.2207179 & -1.8127934 & -1.3466044 & -3.1093489 & -1.14974083 & -1.11389274 & -1.2607103 & -0.8193490 & ⋯ & 0.7635178 & -1.4314754 & -1.0748672 & -1.8573842 & -1.2064909 & -1.3046827 & -1.7435287 & -0.04809589 & -0.7505463 & 1\\\\\n\\end{tabular}\n",
            "text/markdown": "\nA matrix: 6 × 32 of type dbl\n\n| <!--/--> | id | radius_mean | texture_mean | perimeter_mean | area_mean | smoothness_mean | compactness_mean | concavity_mean | concave.points_mean | symmetry_mean | ⋯ | texture_worst | perimeter_worst | area_worst | smoothness_worst | compactness_worst | concavity_worst | concave.points_worst | symmetry_worst | fractal_dimension_worst | target |\n|---|---|---|---|---|---|---|---|---|---|---|---|---|---|---|---|---|---|---|---|---|---|\n| [564,] | -0.2355269 |  1.9275296 | 1.3485941 |  2.1001278 |  1.9667039 |  0.9627130 |  2.25814785 |  2.86755184 |  2.5379803 |  1.2306774 | ⋯ | 0.6073251 |  2.1378974 |  1.6482047 |  0.3648935 |  1.0444809 |  1.8584199 |  2.1236696 |  0.04565289 |  0.8185573 | 0 |\n| [565,] | -0.2355245 |  2.1091388 | 0.7208383 |  2.0589739 |  2.3417954 |  1.0409262 |  0.21886787 |  1.94557271 |  2.3189242 | -0.3123140 | ⋯ | 0.1175962 |  1.7510219 |  2.0135291 |  0.3780327 | -0.2730774 |  0.6639281 |  1.6277189 | -1.35896255 | -0.7084673 | 0 |\n| [566,] | -0.2355224 |  1.7033556 | 2.0833009 |  1.6145108 |  1.7223261 |  0.1023682 | -0.01781736 |  0.69243373 |  1.2625583 | -0.2174729 | ⋯ | 2.0455987 |  1.4206897 |  1.4936444 | -0.6906227 | -0.3944733 |  0.2363652 |  0.7331821 | -0.53138705 | -0.9731220 | 0 |\n| [567,] | -0.2355202 |  0.7016669 | 2.0437755 |  0.6720844 |  0.5774446 | -0.8397450 | -0.03864567 |  0.04654658 |  0.1056844 | -0.8084058 | ⋯ | 1.3736451 |  0.5784916 |  0.4275294 | -0.8088756 |  0.3504270 |  0.3264793 |  0.4137047 | -1.10357792 | -0.3181292 | 0 |\n| [568,] | -0.2355179 |  1.8367249 | 2.3344032 |  1.9807813 |  1.7336925 |  1.5244257 |  3.26926717 |  3.29404559 |  2.6565283 |  2.1353154 | ⋯ | 2.2359585 |  2.3015755 |  1.6517174 |  1.4291692 |  3.9014151 |  3.1947936 |  2.2879723 |  1.91739590 |  2.2176840 | 0 |\n| [569,] | -0.2421928 | -1.8068114 | 1.2207179 | -1.8127934 | -1.3466044 | -3.1093489 | -1.14974083 | -1.11389274 | -1.2607103 | -0.8193490 | ⋯ | 0.7635178 | -1.4314754 | -1.0748672 | -1.8573842 | -1.2064909 | -1.3046827 | -1.7435287 | -0.04809589 | -0.7505463 | 1 |\n\n",
            "text/html": [
              "<table class=\"dataframe\">\n",
              "<caption>A matrix: 6 × 32 of type dbl</caption>\n",
              "<thead>\n",
              "\t<tr><th></th><th scope=col>id</th><th scope=col>radius_mean</th><th scope=col>texture_mean</th><th scope=col>perimeter_mean</th><th scope=col>area_mean</th><th scope=col>smoothness_mean</th><th scope=col>compactness_mean</th><th scope=col>concavity_mean</th><th scope=col>concave.points_mean</th><th scope=col>symmetry_mean</th><th scope=col>⋯</th><th scope=col>texture_worst</th><th scope=col>perimeter_worst</th><th scope=col>area_worst</th><th scope=col>smoothness_worst</th><th scope=col>compactness_worst</th><th scope=col>concavity_worst</th><th scope=col>concave.points_worst</th><th scope=col>symmetry_worst</th><th scope=col>fractal_dimension_worst</th><th scope=col>target</th></tr>\n",
              "</thead>\n",
              "<tbody>\n",
              "\t<tr><th scope=row>[564,]</th><td>-0.2355269</td><td> 1.9275296</td><td>1.3485941</td><td> 2.1001278</td><td> 1.9667039</td><td> 0.9627130</td><td> 2.25814785</td><td> 2.86755184</td><td> 2.5379803</td><td> 1.2306774</td><td>⋯</td><td>0.6073251</td><td> 2.1378974</td><td> 1.6482047</td><td> 0.3648935</td><td> 1.0444809</td><td> 1.8584199</td><td> 2.1236696</td><td> 0.04565289</td><td> 0.8185573</td><td>0</td></tr>\n",
              "\t<tr><th scope=row>[565,]</th><td>-0.2355245</td><td> 2.1091388</td><td>0.7208383</td><td> 2.0589739</td><td> 2.3417954</td><td> 1.0409262</td><td> 0.21886787</td><td> 1.94557271</td><td> 2.3189242</td><td>-0.3123140</td><td>⋯</td><td>0.1175962</td><td> 1.7510219</td><td> 2.0135291</td><td> 0.3780327</td><td>-0.2730774</td><td> 0.6639281</td><td> 1.6277189</td><td>-1.35896255</td><td>-0.7084673</td><td>0</td></tr>\n",
              "\t<tr><th scope=row>[566,]</th><td>-0.2355224</td><td> 1.7033556</td><td>2.0833009</td><td> 1.6145108</td><td> 1.7223261</td><td> 0.1023682</td><td>-0.01781736</td><td> 0.69243373</td><td> 1.2625583</td><td>-0.2174729</td><td>⋯</td><td>2.0455987</td><td> 1.4206897</td><td> 1.4936444</td><td>-0.6906227</td><td>-0.3944733</td><td> 0.2363652</td><td> 0.7331821</td><td>-0.53138705</td><td>-0.9731220</td><td>0</td></tr>\n",
              "\t<tr><th scope=row>[567,]</th><td>-0.2355202</td><td> 0.7016669</td><td>2.0437755</td><td> 0.6720844</td><td> 0.5774446</td><td>-0.8397450</td><td>-0.03864567</td><td> 0.04654658</td><td> 0.1056844</td><td>-0.8084058</td><td>⋯</td><td>1.3736451</td><td> 0.5784916</td><td> 0.4275294</td><td>-0.8088756</td><td> 0.3504270</td><td> 0.3264793</td><td> 0.4137047</td><td>-1.10357792</td><td>-0.3181292</td><td>0</td></tr>\n",
              "\t<tr><th scope=row>[568,]</th><td>-0.2355179</td><td> 1.8367249</td><td>2.3344032</td><td> 1.9807813</td><td> 1.7336925</td><td> 1.5244257</td><td> 3.26926717</td><td> 3.29404559</td><td> 2.6565283</td><td> 2.1353154</td><td>⋯</td><td>2.2359585</td><td> 2.3015755</td><td> 1.6517174</td><td> 1.4291692</td><td> 3.9014151</td><td> 3.1947936</td><td> 2.2879723</td><td> 1.91739590</td><td> 2.2176840</td><td>0</td></tr>\n",
              "\t<tr><th scope=row>[569,]</th><td>-0.2421928</td><td>-1.8068114</td><td>1.2207179</td><td>-1.8127934</td><td>-1.3466044</td><td>-3.1093489</td><td>-1.14974083</td><td>-1.11389274</td><td>-1.2607103</td><td>-0.8193490</td><td>⋯</td><td>0.7635178</td><td>-1.4314754</td><td>-1.0748672</td><td>-1.8573842</td><td>-1.2064909</td><td>-1.3046827</td><td>-1.7435287</td><td>-0.04809589</td><td>-0.7505463</td><td>1</td></tr>\n",
              "</tbody>\n",
              "</table>\n"
            ]
          },
          "metadata": {}
        }
      ]
    },
    {
      "cell_type": "code",
      "source": [
        "head(scaled_data)"
      ],
      "metadata": {
        "id": "6BoQzYr4etzr",
        "colab": {
          "base_uri": "https://localhost:8080/",
          "height": 275
        },
        "outputId": "cb180878-c4ef-4202-d7f1-5e1208e65897"
      },
      "execution_count": null,
      "outputs": [
        {
          "output_type": "display_data",
          "data": {
            "text/plain": [
              "     id         radius_mean texture_mean perimeter_mean area_mean \n",
              "[1,] -0.2361973  1.0960995  -2.0715123    1.2688173      0.9835095\n",
              "[2,] -0.2361956  1.8282120  -0.3533215    1.6844726      1.9070303\n",
              "[3,]  0.4313615  1.5784992   0.4557859    1.5651260      1.5575132\n",
              "[4,]  0.4317407 -0.7682333   0.2535091   -0.5921661     -0.7637917\n",
              "[5,]  0.4318215  1.7487579  -1.1508038    1.7750113      1.8246238\n",
              "[6,] -0.2361855 -0.4759559  -0.8346009   -0.3868077     -0.5052059\n",
              "     smoothness_mean compactness_mean concavity_mean concave.points_mean\n",
              "[1,]  1.5670875       3.2806281        2.65054179    2.5302489          \n",
              "[2,] -0.8262354      -0.4866435       -0.02382489    0.5476623          \n",
              "[3,]  0.9413821       1.0519999        1.36227979    2.0354398          \n",
              "[4,]  3.2806668       3.3999174        1.91421287    1.4504311          \n",
              "[5,]  0.2801253       0.5388663        1.36980615    1.4272370          \n",
              "[6,]  2.2354545       1.2432416        0.86554001    0.8239307          \n",
              "     symmetry_mean ⋯ texture_worst perimeter_worst area_worst smoothness_worst\n",
              "[1,]  2.215565542  ⋯ -1.35809849    2.3015755       1.9994782  1.3065367      \n",
              "[2,]  0.001391139  ⋯ -0.36887865    1.5337764       1.8888270 -0.3752817      \n",
              "[3,]  0.938858720  ⋯ -0.02395331    1.3462906       1.4550043  0.5269438      \n",
              "[4,]  2.864862154  ⋯  0.13386631   -0.2497196      -0.5495377  3.3912907      \n",
              "[5,] -0.009552062  ⋯ -1.46548091    1.3373627       1.2196511  0.2203623      \n",
              "[6,]  1.004517928  ⋯ -0.31356043   -0.1149083      -0.2441054  2.0467119      \n",
              "     compactness_worst concavity_worst concave.points_worst symmetry_worst\n",
              "[1,]  2.6143647         2.1076718      2.2940576             2.7482041    \n",
              "[2,] -0.4300658        -0.1466200      1.0861286            -0.2436753    \n",
              "[3,]  1.0819801         0.8542223      1.9532817             1.1512420    \n",
              "[4,]  3.8899747         1.9878392      2.1738732             6.0407261    \n",
              "[5,] -0.3131190         0.6126397      0.7286181            -0.8675896    \n",
              "[6,]  1.7201029         1.2621327      0.9050914             1.7525273    \n",
              "     fractal_dimension_worst target\n",
              "[1,]  1.9353117              0     \n",
              "[2,]  0.2809428              0     \n",
              "[3,]  0.2012142              0     \n",
              "[4,]  4.9306719              0     \n",
              "[5,] -0.3967505              0     \n",
              "[6,]  2.2398308              0     "
            ],
            "text/latex": "A matrix: 6 × 32 of type dbl\n\\begin{tabular}{lllllllllllllllllllll}\n id & radius\\_mean & texture\\_mean & perimeter\\_mean & area\\_mean & smoothness\\_mean & compactness\\_mean & concavity\\_mean & concave.points\\_mean & symmetry\\_mean & ⋯ & texture\\_worst & perimeter\\_worst & area\\_worst & smoothness\\_worst & compactness\\_worst & concavity\\_worst & concave.points\\_worst & symmetry\\_worst & fractal\\_dimension\\_worst & target\\\\\n\\hline\n\t -0.2361973 &  1.0960995 & -2.0715123 &  1.2688173 &  0.9835095 &  1.5670875 &  3.2806281 &  2.65054179 & 2.5302489 &  2.215565542 & ⋯ & -1.35809849 &  2.3015755 &  1.9994782 &  1.3065367 &  2.6143647 &  2.1076718 & 2.2940576 &  2.7482041 &  1.9353117 & 0\\\\\n\t -0.2361956 &  1.8282120 & -0.3533215 &  1.6844726 &  1.9070303 & -0.8262354 & -0.4866435 & -0.02382489 & 0.5476623 &  0.001391139 & ⋯ & -0.36887865 &  1.5337764 &  1.8888270 & -0.3752817 & -0.4300658 & -0.1466200 & 1.0861286 & -0.2436753 &  0.2809428 & 0\\\\\n\t  0.4313615 &  1.5784992 &  0.4557859 &  1.5651260 &  1.5575132 &  0.9413821 &  1.0519999 &  1.36227979 & 2.0354398 &  0.938858720 & ⋯ & -0.02395331 &  1.3462906 &  1.4550043 &  0.5269438 &  1.0819801 &  0.8542223 & 1.9532817 &  1.1512420 &  0.2012142 & 0\\\\\n\t  0.4317407 & -0.7682333 &  0.2535091 & -0.5921661 & -0.7637917 &  3.2806668 &  3.3999174 &  1.91421287 & 1.4504311 &  2.864862154 & ⋯ &  0.13386631 & -0.2497196 & -0.5495377 &  3.3912907 &  3.8899747 &  1.9878392 & 2.1738732 &  6.0407261 &  4.9306719 & 0\\\\\n\t  0.4318215 &  1.7487579 & -1.1508038 &  1.7750113 &  1.8246238 &  0.2801253 &  0.5388663 &  1.36980615 & 1.4272370 & -0.009552062 & ⋯ & -1.46548091 &  1.3373627 &  1.2196511 &  0.2203623 & -0.3131190 &  0.6126397 & 0.7286181 & -0.8675896 & -0.3967505 & 0\\\\\n\t -0.2361855 & -0.4759559 & -0.8346009 & -0.3868077 & -0.5052059 &  2.2354545 &  1.2432416 &  0.86554001 & 0.8239307 &  1.004517928 & ⋯ & -0.31356043 & -0.1149083 & -0.2441054 &  2.0467119 &  1.7201029 &  1.2621327 & 0.9050914 &  1.7525273 &  2.2398308 & 0\\\\\n\\end{tabular}\n",
            "text/markdown": "\nA matrix: 6 × 32 of type dbl\n\n| id | radius_mean | texture_mean | perimeter_mean | area_mean | smoothness_mean | compactness_mean | concavity_mean | concave.points_mean | symmetry_mean | ⋯ | texture_worst | perimeter_worst | area_worst | smoothness_worst | compactness_worst | concavity_worst | concave.points_worst | symmetry_worst | fractal_dimension_worst | target |\n|---|---|---|---|---|---|---|---|---|---|---|---|---|---|---|---|---|---|---|---|---|\n| -0.2361973 |  1.0960995 | -2.0715123 |  1.2688173 |  0.9835095 |  1.5670875 |  3.2806281 |  2.65054179 | 2.5302489 |  2.215565542 | ⋯ | -1.35809849 |  2.3015755 |  1.9994782 |  1.3065367 |  2.6143647 |  2.1076718 | 2.2940576 |  2.7482041 |  1.9353117 | 0 |\n| -0.2361956 |  1.8282120 | -0.3533215 |  1.6844726 |  1.9070303 | -0.8262354 | -0.4866435 | -0.02382489 | 0.5476623 |  0.001391139 | ⋯ | -0.36887865 |  1.5337764 |  1.8888270 | -0.3752817 | -0.4300658 | -0.1466200 | 1.0861286 | -0.2436753 |  0.2809428 | 0 |\n|  0.4313615 |  1.5784992 |  0.4557859 |  1.5651260 |  1.5575132 |  0.9413821 |  1.0519999 |  1.36227979 | 2.0354398 |  0.938858720 | ⋯ | -0.02395331 |  1.3462906 |  1.4550043 |  0.5269438 |  1.0819801 |  0.8542223 | 1.9532817 |  1.1512420 |  0.2012142 | 0 |\n|  0.4317407 | -0.7682333 |  0.2535091 | -0.5921661 | -0.7637917 |  3.2806668 |  3.3999174 |  1.91421287 | 1.4504311 |  2.864862154 | ⋯ |  0.13386631 | -0.2497196 | -0.5495377 |  3.3912907 |  3.8899747 |  1.9878392 | 2.1738732 |  6.0407261 |  4.9306719 | 0 |\n|  0.4318215 |  1.7487579 | -1.1508038 |  1.7750113 |  1.8246238 |  0.2801253 |  0.5388663 |  1.36980615 | 1.4272370 | -0.009552062 | ⋯ | -1.46548091 |  1.3373627 |  1.2196511 |  0.2203623 | -0.3131190 |  0.6126397 | 0.7286181 | -0.8675896 | -0.3967505 | 0 |\n| -0.2361855 | -0.4759559 | -0.8346009 | -0.3868077 | -0.5052059 |  2.2354545 |  1.2432416 |  0.86554001 | 0.8239307 |  1.004517928 | ⋯ | -0.31356043 | -0.1149083 | -0.2441054 |  2.0467119 |  1.7201029 |  1.2621327 | 0.9050914 |  1.7525273 |  2.2398308 | 0 |\n\n",
            "text/html": [
              "<table class=\"dataframe\">\n",
              "<caption>A matrix: 6 × 32 of type dbl</caption>\n",
              "<thead>\n",
              "\t<tr><th scope=col>id</th><th scope=col>radius_mean</th><th scope=col>texture_mean</th><th scope=col>perimeter_mean</th><th scope=col>area_mean</th><th scope=col>smoothness_mean</th><th scope=col>compactness_mean</th><th scope=col>concavity_mean</th><th scope=col>concave.points_mean</th><th scope=col>symmetry_mean</th><th scope=col>⋯</th><th scope=col>texture_worst</th><th scope=col>perimeter_worst</th><th scope=col>area_worst</th><th scope=col>smoothness_worst</th><th scope=col>compactness_worst</th><th scope=col>concavity_worst</th><th scope=col>concave.points_worst</th><th scope=col>symmetry_worst</th><th scope=col>fractal_dimension_worst</th><th scope=col>target</th></tr>\n",
              "</thead>\n",
              "<tbody>\n",
              "\t<tr><td>-0.2361973</td><td> 1.0960995</td><td>-2.0715123</td><td> 1.2688173</td><td> 0.9835095</td><td> 1.5670875</td><td> 3.2806281</td><td> 2.65054179</td><td>2.5302489</td><td> 2.215565542</td><td>⋯</td><td>-1.35809849</td><td> 2.3015755</td><td> 1.9994782</td><td> 1.3065367</td><td> 2.6143647</td><td> 2.1076718</td><td>2.2940576</td><td> 2.7482041</td><td> 1.9353117</td><td>0</td></tr>\n",
              "\t<tr><td>-0.2361956</td><td> 1.8282120</td><td>-0.3533215</td><td> 1.6844726</td><td> 1.9070303</td><td>-0.8262354</td><td>-0.4866435</td><td>-0.02382489</td><td>0.5476623</td><td> 0.001391139</td><td>⋯</td><td>-0.36887865</td><td> 1.5337764</td><td> 1.8888270</td><td>-0.3752817</td><td>-0.4300658</td><td>-0.1466200</td><td>1.0861286</td><td>-0.2436753</td><td> 0.2809428</td><td>0</td></tr>\n",
              "\t<tr><td> 0.4313615</td><td> 1.5784992</td><td> 0.4557859</td><td> 1.5651260</td><td> 1.5575132</td><td> 0.9413821</td><td> 1.0519999</td><td> 1.36227979</td><td>2.0354398</td><td> 0.938858720</td><td>⋯</td><td>-0.02395331</td><td> 1.3462906</td><td> 1.4550043</td><td> 0.5269438</td><td> 1.0819801</td><td> 0.8542223</td><td>1.9532817</td><td> 1.1512420</td><td> 0.2012142</td><td>0</td></tr>\n",
              "\t<tr><td> 0.4317407</td><td>-0.7682333</td><td> 0.2535091</td><td>-0.5921661</td><td>-0.7637917</td><td> 3.2806668</td><td> 3.3999174</td><td> 1.91421287</td><td>1.4504311</td><td> 2.864862154</td><td>⋯</td><td> 0.13386631</td><td>-0.2497196</td><td>-0.5495377</td><td> 3.3912907</td><td> 3.8899747</td><td> 1.9878392</td><td>2.1738732</td><td> 6.0407261</td><td> 4.9306719</td><td>0</td></tr>\n",
              "\t<tr><td> 0.4318215</td><td> 1.7487579</td><td>-1.1508038</td><td> 1.7750113</td><td> 1.8246238</td><td> 0.2801253</td><td> 0.5388663</td><td> 1.36980615</td><td>1.4272370</td><td>-0.009552062</td><td>⋯</td><td>-1.46548091</td><td> 1.3373627</td><td> 1.2196511</td><td> 0.2203623</td><td>-0.3131190</td><td> 0.6126397</td><td>0.7286181</td><td>-0.8675896</td><td>-0.3967505</td><td>0</td></tr>\n",
              "\t<tr><td>-0.2361855</td><td>-0.4759559</td><td>-0.8346009</td><td>-0.3868077</td><td>-0.5052059</td><td> 2.2354545</td><td> 1.2432416</td><td> 0.86554001</td><td>0.8239307</td><td> 1.004517928</td><td>⋯</td><td>-0.31356043</td><td>-0.1149083</td><td>-0.2441054</td><td> 2.0467119</td><td> 1.7201029</td><td> 1.2621327</td><td>0.9050914</td><td> 1.7525273</td><td> 2.2398308</td><td>0</td></tr>\n",
              "</tbody>\n",
              "</table>\n"
            ]
          },
          "metadata": {}
        }
      ]
    },
    {
      "cell_type": "code",
      "source": [
        "set.seed(101)\n",
        "sample=sample.int(n = nrow(scaled_data), size = floor(.75*nrow(scaled_data)), replace = F)\n",
        "train=data.frame(scaled_data[sample, ])\n",
        "test =data.frame(scaled_data[-sample, ])\n",
        "target_Split=target[sample]"
      ],
      "metadata": {
        "id": "4IpH3_lye1AP"
      },
      "execution_count": null,
      "outputs": []
    },
    {
      "cell_type": "code",
      "source": [
        "length(target_Split)"
      ],
      "metadata": {
        "colab": {
          "base_uri": "https://localhost:8080/",
          "height": 35
        },
        "id": "ERPqnsGiiSXg",
        "outputId": "dba2b791-5a41-4b1c-c0fa-837dd63ad8cb"
      },
      "execution_count": null,
      "outputs": [
        {
          "output_type": "display_data",
          "data": {
            "text/plain": [
              "[1] 426"
            ],
            "text/latex": "426",
            "text/markdown": "426",
            "text/html": [
              "426"
            ]
          },
          "metadata": {}
        }
      ]
    },
    {
      "cell_type": "code",
      "source": [
        "library(caTools)\n",
        "library(ROCR) "
      ],
      "metadata": {
        "id": "3Z6AZiVGkq7b"
      },
      "execution_count": null,
      "outputs": []
    },
    {
      "cell_type": "code",
      "source": [
        ""
      ],
      "metadata": {
        "id": "aY02aTCMt5Xl"
      },
      "execution_count": null,
      "outputs": []
    },
    {
      "cell_type": "code",
      "source": [
        "typeof(x)\n",
        "dim(target)\n",
        "dim(scaled_data)"
      ],
      "metadata": {
        "colab": {
          "base_uri": "https://localhost:8080/",
          "height": 70
        },
        "id": "gXXo0ujKmnQz",
        "outputId": "cd831667-9f4b-4cfb-b014-c2cdf8582b01"
      },
      "execution_count": null,
      "outputs": [
        {
          "output_type": "display_data",
          "data": {
            "text/plain": [
              "[1] \"double\""
            ],
            "text/latex": "'double'",
            "text/markdown": "'double'",
            "text/html": [
              "'double'"
            ]
          },
          "metadata": {}
        },
        {
          "output_type": "display_data",
          "data": {
            "text/plain": [
              "NULL"
            ]
          },
          "metadata": {}
        },
        {
          "output_type": "display_data",
          "data": {
            "text/plain": [
              "[1] 569  32"
            ],
            "text/latex": "\\begin{enumerate*}\n\\item 569\n\\item 32\n\\end{enumerate*}\n",
            "text/markdown": "1. 569\n2. 32\n\n\n",
            "text/html": [
              "<style>\n",
              ".list-inline {list-style: none; margin:0; padding: 0}\n",
              ".list-inline>li {display: inline-block}\n",
              ".list-inline>li:not(:last-child)::after {content: \"\\00b7\"; padding: 0 .5ex}\n",
              "</style>\n",
              "<ol class=list-inline><li>569</li><li>32</li></ol>\n"
            ]
          },
          "metadata": {}
        }
      ]
    },
    {
      "cell_type": "code",
      "source": [
        "logistic_model = glm(target~., \n",
        "                      data = train, \n",
        "                      family = \"binomial\")"
      ],
      "metadata": {
        "colab": {
          "base_uri": "https://localhost:8080/"
        },
        "id": "6djGHZ-sjw_z",
        "outputId": "08cd3ad8-1525-48a9-a1f7-81d842e6f2cf"
      },
      "execution_count": null,
      "outputs": [
        {
          "output_type": "stream",
          "name": "stderr",
          "text": [
            "Warning message:\n",
            "“glm.fit: algorithm did not converge”\n",
            "Warning message:\n",
            "“glm.fit: fitted probabilities numerically 0 or 1 occurred”\n"
          ]
        }
      ]
    },
    {
      "cell_type": "code",
      "source": [
        "summary(logistic_model)"
      ],
      "metadata": {
        "colab": {
          "base_uri": "https://localhost:8080/",
          "height": 930
        },
        "id": "wYQLfy_QkfVv",
        "outputId": "2db346a9-05c0-4525-9f95-47e08ced9852"
      },
      "execution_count": null,
      "outputs": [
        {
          "output_type": "display_data",
          "data": {
            "text/plain": [
              "\n",
              "Call:\n",
              "glm(formula = target ~ ., family = \"binomial\", data = train)\n",
              "\n",
              "Deviance Residuals: \n",
              "       Min          1Q      Median          3Q         Max  \n",
              "-1.509e-04  -2.100e-08   2.100e-08   2.100e-08   1.419e-04  \n",
              "\n",
              "Coefficients:\n",
              "                          Estimate Std. Error z value Pr(>|z|)\n",
              "(Intercept)             -1.653e+01  4.125e+04   0.000    1.000\n",
              "id                       2.285e+00  1.179e+04   0.000    1.000\n",
              "radius_mean              1.219e+03  8.842e+05   0.001    0.999\n",
              "texture_mean            -1.238e+01  1.224e+04  -0.001    0.999\n",
              "perimeter_mean          -9.230e+02  7.322e+05  -0.001    0.999\n",
              "area_mean               -2.043e+02  6.537e+05   0.000    1.000\n",
              "smoothness_mean         -1.255e+01  4.624e+04   0.000    1.000\n",
              "compactness_mean         2.092e+02  1.680e+05   0.001    0.999\n",
              "concavity_mean           7.458e+01  7.302e+04   0.001    0.999\n",
              "concave.points_mean     -1.472e+02  1.053e+05  -0.001    0.999\n",
              "symmetry_mean           -2.183e+01  1.972e+04  -0.001    0.999\n",
              "fractal_dimension_mean  -2.702e+01  7.311e+04   0.000    1.000\n",
              "radius_se               -3.590e+02  2.557e+05  -0.001    0.999\n",
              "texture_se              -1.307e+00  1.310e+04   0.000    1.000\n",
              "perimeter_se             4.200e+02  9.630e+04   0.004    0.997\n",
              "area_se                 -1.416e+02  6.158e+05   0.000    1.000\n",
              "smoothness_se            7.305e+01  4.213e+04   0.002    0.999\n",
              "compactness_se          -2.663e+01  1.030e+05   0.000    1.000\n",
              "concavity_se             2.832e+01  8.570e+04   0.000    1.000\n",
              "concave.points_se       -1.145e+02  2.270e+04  -0.005    0.996\n",
              "symmetry_se             -3.734e+01  2.720e+04  -0.001    0.999\n",
              "fractal_dimension_se     8.982e+01  1.356e+05   0.001    0.999\n",
              "radius_worst            -1.200e+01  6.257e+05   0.000    1.000\n",
              "texture_worst           -3.874e+01  1.584e+04  -0.002    0.998\n",
              "perimeter_worst         -6.531e+02  1.548e+05  -0.004    0.997\n",
              "area_worst               3.209e+02  1.177e+06   0.000    1.000\n",
              "smoothness_worst        -7.080e+01  6.551e+04  -0.001    0.999\n",
              "compactness_worst        6.203e+01  5.140e+04   0.001    0.999\n",
              "concavity_worst         -1.496e+02  6.617e+04  -0.002    0.998\n",
              "concave.points_worst     1.176e+02  8.220e+04   0.001    0.999\n",
              "symmetry_worst           1.020e+01  1.112e+04   0.001    0.999\n",
              "fractal_dimension_worst -7.542e+01  3.519e+04  -0.002    0.998\n",
              "\n",
              "(Dispersion parameter for binomial family taken to be 1)\n",
              "\n",
              "    Null deviance: 5.6491e+02  on 425  degrees of freedom\n",
              "Residual deviance: 2.1137e-07  on 394  degrees of freedom\n",
              "AIC: 64\n",
              "\n",
              "Number of Fisher Scoring iterations: 25\n"
            ]
          },
          "metadata": {}
        }
      ]
    },
    {
      "cell_type": "code",
      "source": [
        "\n",
        "predict_reg = predict(logistic_model, \n",
        "                       test)"
      ],
      "metadata": {
        "id": "tyQAwu8E6otW"
      },
      "execution_count": null,
      "outputs": []
    },
    {
      "cell_type": "code",
      "source": [
        "predict_reg <- ifelse(predict_reg >0.5, 1, 0)\n"
      ],
      "metadata": {
        "id": "oM_37GiZwWvl"
      },
      "execution_count": null,
      "outputs": []
    },
    {
      "cell_type": "code",
      "source": [
        "df=table(test$target, predict_reg)\n",
        "df"
      ],
      "metadata": {
        "colab": {
          "base_uri": "https://localhost:8080/",
          "height": 90
        },
        "id": "BGVBDyBavMvD",
        "outputId": "c32a3fea-afda-4e7b-de44-c45bbd2d2fc4"
      },
      "execution_count": null,
      "outputs": [
        {
          "output_type": "display_data",
          "data": {
            "text/plain": [
              "   predict_reg\n",
              "     0  1\n",
              "  0 48  3\n",
              "  1  4 88"
            ]
          },
          "metadata": {}
        }
      ]
    },
    {
      "cell_type": "code",
      "source": [
        "acc <-  (sum(diag(df))/sum(df))*100"
      ],
      "metadata": {
        "id": "q5csFGTzvSEU"
      },
      "execution_count": null,
      "outputs": []
    },
    {
      "cell_type": "code",
      "source": [
        "acc"
      ],
      "metadata": {
        "colab": {
          "base_uri": "https://localhost:8080/",
          "height": 35
        },
        "id": "LKSmRW_ZwyWU",
        "outputId": "95ae9bea-c603-405b-d94c-e3c65c2aa6eb"
      },
      "execution_count": null,
      "outputs": [
        {
          "output_type": "display_data",
          "data": {
            "text/plain": [
              "[1] 95.1049"
            ],
            "text/latex": "95.1048951048951",
            "text/markdown": "95.1048951048951",
            "text/html": [
              "95.1048951048951"
            ]
          },
          "metadata": {}
        }
      ]
    },
    {
      "cell_type": "code",
      "source": [
        "install.packages(\"caret\") # Execute Once\n",
        "library(caret)\n",
        "install.packages(\"e1071\") # Execute Once\n",
        "library(e1071)"
      ],
      "metadata": {
        "id": "6uS63i7Rw9rq",
        "colab": {
          "base_uri": "https://localhost:8080/"
        },
        "outputId": "9d46d2c5-e88e-46a1-df0b-8f5521dc9bf3"
      },
      "execution_count": null,
      "outputs": [
        {
          "output_type": "stream",
          "name": "stderr",
          "text": [
            "Installing package into ‘/usr/local/lib/R/site-library’\n",
            "(as ‘lib’ is unspecified)\n",
            "\n",
            "Installing package into ‘/usr/local/lib/R/site-library’\n",
            "(as ‘lib’ is unspecified)\n",
            "\n"
          ]
        }
      ]
    },
    {
      "cell_type": "code",
      "source": [
        "pca = preProcess(train[-9], method = 'pca', pcaComp = 2)"
      ],
      "metadata": {
        "id": "e_IVpAqk28hM"
      },
      "execution_count": null,
      "outputs": []
    },
    {
      "cell_type": "code",
      "source": [
        "training_set.pca = predict(pca, train)\n",
        "test_set.pca = predict(pca, test)\n",
        "test_set.pca = test_set.pca[c(2,3,1)]\n"
      ],
      "metadata": {
        "id": "V1rDDvlg3AqQ"
      },
      "execution_count": null,
      "outputs": []
    },
    {
      "cell_type": "code",
      "source": [
        "length(training_set.pca$concave.points_mean)\n",
        "length(target)"
      ],
      "metadata": {
        "id": "zF1bg1sB8K04",
        "outputId": "1ef6b6fe-2731-40d2-e75a-2cc04184b4fc",
        "colab": {
          "base_uri": "https://localhost:8080/",
          "height": 52
        }
      },
      "execution_count": null,
      "outputs": [
        {
          "output_type": "display_data",
          "data": {
            "text/plain": [
              "[1] 426"
            ],
            "text/latex": "426",
            "text/markdown": "426",
            "text/html": [
              "426"
            ]
          },
          "metadata": {}
        },
        {
          "output_type": "display_data",
          "data": {
            "text/plain": [
              "[1] 569"
            ],
            "text/latex": "569",
            "text/markdown": "569",
            "text/html": [
              "569"
            ]
          },
          "metadata": {}
        }
      ]
    },
    {
      "cell_type": "code",
      "source": [
        "logistic_model = glm(target_Split~., \n",
        "                      data = training_set.pca\n",
        "                      )"
      ],
      "metadata": {
        "id": "pRhc_l103X4p"
      },
      "execution_count": null,
      "outputs": []
    },
    {
      "cell_type": "code",
      "source": [
        "predict_reg = predict(logistic_model,test_set.pca)"
      ],
      "metadata": {
        "id": "U0aOi1jp7jie"
      },
      "execution_count": null,
      "outputs": []
    },
    {
      "cell_type": "code",
      "source": [
        "predict_reg"
      ],
      "metadata": {
        "id": "Q1INOg869tmi",
        "outputId": "bf1793bb-63fe-4331-8060-0a297a70e5cf",
        "colab": {
          "base_uri": "https://localhost:8080/",
          "height": 503
        }
      },
      "execution_count": null,
      "outputs": [
        {
          "output_type": "display_data",
          "data": {
            "text/plain": [
              "            1             2             3             4             5 \n",
              " 0.4502638792 -0.0077683340  0.1953065023  0.3136494865  0.2645618861 \n",
              "            6             7             8             9            10 \n",
              " 0.7142980362  0.6186887742  0.5274165316  0.9523376196  0.9957798890 \n",
              "           11            12            13            14            15 \n",
              " 0.2154262922  0.4705895949  1.0288202309  1.0009315443  0.5359217546 \n",
              "           16            17            18            19            20 \n",
              " 0.9707962303  0.1184017440  0.8759417942  0.8788656057  0.1860546173 \n",
              "           21            22            23            24            25 \n",
              " 0.7369880123  0.0346717822  1.1024910705  0.9771877133  0.4582721376 \n",
              "           26            27            28            29            30 \n",
              " 0.4519397247  1.0409449141  0.8608560176  0.3540617499  0.9860759798 \n",
              "           31            32            33            34            35 \n",
              " 0.1956356851 -0.5933765667  0.8849836199  0.2193508495  0.3894591013 \n",
              "           36            37            38            39            40 \n",
              " 0.6908061382  0.2369526182  0.9903024319  0.9355269476  0.8454397847 \n",
              "           41            42            43            44            45 \n",
              " 0.8441288197  0.3844642898  0.6024730569  1.1141741869  0.8106339726 \n",
              "           46            47            48            49            50 \n",
              " 1.0176061840  0.4338354626  0.9570804923  0.5654625076  1.0031569661 \n",
              "           51            52            53            54            55 \n",
              " 0.4187029816  0.3474289543  0.7548674314  1.0750620759 -1.0997380295 \n",
              "           56            57            58            59            60 \n",
              " 0.3523566735  0.4359086504 -0.0681393310  0.8666959138  0.4062992959 \n",
              "           61            62            63            64            65 \n",
              " 0.6917713588  0.6578094662  0.9516252123  0.0759105498  0.9277056296 \n",
              "           66            67            68            69            70 \n",
              "-0.2286166149  0.5617691704  0.8644239469  1.0130696256  0.4100608059 \n",
              "           71            72            73            74            75 \n",
              " 0.4621965814  0.9051356681  0.1364596530  0.7996997526  0.9808133391 \n",
              "           76            77            78            79            80 \n",
              " 0.8611992582  0.9383298815  1.0413583550  0.8238212915  1.2418304571 \n",
              "           81            82            83            84            85 \n",
              " 1.0026520598  0.9395307418  0.9199796792  0.4077241235  1.0235900365 \n",
              "           86            87            88            89            90 \n",
              " 1.0652077167  0.9368151939  0.0111272986  1.0165427575  0.6173508966 \n",
              "           91            92            93            94            95 \n",
              " 0.9492640815  0.9540760214  0.9267521843  1.0626574933  1.0279876613 \n",
              "           96            97            98            99           100 \n",
              " 0.8975970862 -0.6438163645  0.8038615586  0.7203605694  0.9758707774 \n",
              "          101           102           103           104           105 \n",
              " 0.8778020974  0.9065513926  0.1424875575  0.8541974046  0.2074172976 \n",
              "          106           107           108           109           110 \n",
              " 0.6062790481  0.8441581085  0.1206257790  0.8870992201  1.0179641773 \n",
              "          111           112           113           114           115 \n",
              " 0.8909473156  0.9601734586  0.9849431663  0.8838594891  1.1141801285 \n",
              "          116           117           118           119           120 \n",
              " 0.5545730652  0.7521516180  0.7710684294  0.7975056098  0.8863073006 \n",
              "          121           122           123           124           125 \n",
              "-1.5938191511  0.7957930202  0.6429942988  0.8826237715  0.9221340425 \n",
              "          126           127           128           129           130 \n",
              " 0.7848273581  0.6405148919  0.0006520634  0.8264391217  0.7224519803 \n",
              "          131           132           133           134           135 \n",
              " 0.2915260875  0.2567471642  0.9390542294  0.8416123218  0.8554118121 \n",
              "          136           137           138           139           140 \n",
              " 0.7909628035  1.0932888342  0.8307807397  0.9363020710  1.0587699668 \n",
              "          141           142           143 \n",
              " 1.0587924800  0.1085824034  0.0557487664 "
            ],
            "text/latex": "\\begin{description*}\n\\item[1] 0.450263879166281\n\\item[2] -0.0077683340411929\n\\item[3] 0.195306502331679\n\\item[4] 0.313649486517398\n\\item[5] 0.264561886077201\n\\item[6] 0.714298036249571\n\\item[7] 0.618688774186263\n\\item[8] 0.527416531610575\n\\item[9] 0.952337619572951\n\\item[10] 0.995779888993028\n\\item[11] 0.215426292248814\n\\item[12] 0.470589594860122\n\\item[13] 1.0288202308741\n\\item[14] 1.00093154433128\n\\item[15] 0.535921754644936\n\\item[16] 0.970796230258335\n\\item[17] 0.118401743972772\n\\item[18] 0.87594179422516\n\\item[19] 0.878865605651582\n\\item[20] 0.186054617277279\n\\item[21] 0.73698801226528\n\\item[22] 0.034671782178135\n\\item[23] 1.10249107047141\n\\item[24] 0.977187713336428\n\\item[25] 0.45827213762609\n\\item[26] 0.451939724713227\n\\item[27] 1.04094491414801\n\\item[28] 0.86085601756519\n\\item[29] 0.354061749939754\n\\item[30] 0.986075979798197\n\\item[31] 0.19563568511815\n\\item[32] -0.593376566699822\n\\item[33] 0.884983619918459\n\\item[34] 0.219350849458927\n\\item[35] 0.389459101255798\n\\item[36] 0.69080613817991\n\\item[37] 0.236952618230351\n\\item[38] 0.990302431893737\n\\item[39] 0.935526947554072\n\\item[40] 0.845439784694696\n\\item[41] 0.844128819742328\n\\item[42] 0.384464289811209\n\\item[43] 0.602473056914697\n\\item[44] 1.11417418690721\n\\item[45] 0.810633972561324\n\\item[46] 1.01760618396051\n\\item[47] 0.433835462568105\n\\item[48] 0.957080492299281\n\\item[49] 0.565462507573874\n\\item[50] 1.00315696611359\n\\item[51] 0.418702981554321\n\\item[52] 0.347428954256371\n\\item[53] 0.754867431377233\n\\item[54] 1.07506207587762\n\\item[55] -1.09973802950843\n\\item[56] 0.35235667352961\n\\item[57] 0.43590865036111\n\\item[58] -0.0681393310426216\n\\item[59] 0.866695913790487\n\\item[60] 0.406299295906898\n\\item[61] 0.691771358787404\n\\item[62] 0.657809466164289\n\\item[63] 0.951625212344768\n\\item[64] 0.0759105497852791\n\\item[65] 0.927705629636145\n\\item[66] -0.228616614913098\n\\item[67] 0.561769170385713\n\\item[68] 0.864423946922129\n\\item[69] 1.01306962563738\n\\item[70] 0.410060805889005\n\\item[71] 0.462196581448775\n\\item[72] 0.905135668135298\n\\item[73] 0.136459652963781\n\\item[74] 0.799699752558003\n\\item[75] 0.980813339055389\n\\item[76] 0.861199258165496\n\\item[77] 0.938329881452629\n\\item[78] 1.0413583549695\n\\item[79] 0.823821291548269\n\\item[80] 1.24183045711174\n\\item[81] 1.00265205978925\n\\item[82] 0.93953074183305\n\\item[83] 0.91997967922528\n\\item[84] 0.407724123480242\n\\item[85] 1.02359003652133\n\\item[86] 1.06520771666548\n\\item[87] 0.936815193862798\n\\item[88] 0.0111272985911454\n\\item[89] 1.016542757485\n\\item[90] 0.61735089661788\n\\item[91] 0.949264081489697\n\\item[92] 0.954076021363538\n\\item[93] 0.926752184344987\n\\item[94] 1.06265749327797\n\\item[95] 1.02798766128435\n\\item[96] 0.897597086151\n\\item[97] -0.64381636445901\n\\item[98] 0.803861558637878\n\\item[99] 0.720360569382086\n\\item[100] 0.975870777361696\n\\item[101] 0.877802097371518\n\\item[102] 0.906551392625028\n\\item[103] 0.14248755748979\n\\item[104] 0.854197404608524\n\\item[105] 0.207417297568276\n\\item[106] 0.606279048112264\n\\item[107] 0.844158108450107\n\\item[108] 0.120625779012263\n\\item[109] 0.887099220127059\n\\item[110] 1.01796417733059\n\\item[111] 0.890947315593866\n\\item[112] 0.96017345857844\n\\item[113] 0.984943166258211\n\\item[114] 0.883859489111227\n\\item[115] 1.11418012854506\n\\item[116] 0.554573065228421\n\\item[117] 0.752151618045618\n\\item[118] 0.771068429387396\n\\item[119] 0.797505609779082\n\\item[120] 0.886307300608698\n\\item[121] -1.59381915105125\n\\item[122] 0.795793020168569\n\\item[123] 0.642994298764866\n\\item[124] 0.882623771464648\n\\item[125] 0.922134042535443\n\\item[126] 0.784827358147726\n\\item[127] 0.640514891877096\n\\item[128] 0.00065206336027001\n\\item[129] 0.826439121652211\n\\item[130] 0.722451980288127\n\\item[131] 0.29152608751673\n\\item[132] 0.256747164165201\n\\item[133] 0.939054229400528\n\\item[134] 0.841612321797621\n\\item[135] 0.855411812059328\n\\item[136] 0.79096280349419\n\\item[137] 1.09328883421889\n\\item[138] 0.830780739682238\n\\item[139] 0.936302071006806\n\\item[140] 1.05876996682245\n\\item[141] 1.05879247997132\n\\item[142] 0.108582403369072\n\\item[143] 0.0557487663733521\n\\end{description*}\n",
            "text/markdown": "1\n:   0.4502638791662812\n:   -0.00776833404119293\n:   0.1953065023316794\n:   0.3136494865173985\n:   0.2645618860772016\n:   0.7142980362495717\n:   0.6186887741862638\n:   0.5274165316105759\n:   0.95233761957295110\n:   0.99577988899302811\n:   0.21542629224881412\n:   0.47058959486012213\n:   1.028820230874114\n:   1.0009315443312815\n:   0.53592175464493616\n:   0.97079623025833517\n:   0.11840174397277218\n:   0.8759417942251619\n:   0.87886560565158220\n:   0.18605461727727921\n:   0.7369880122652822\n:   0.03467178217813523\n:   1.1024910704714124\n:   0.97718771333642825\n:   0.4582721376260926\n:   0.45193972471322727\n:   1.0409449141480128\n:   0.8608560175651929\n:   0.35406174993975430\n:   0.98607597979819731\n:   0.1956356851181532\n:   -0.59337656669982233\n:   0.88498361991845934\n:   0.21935084945892735\n:   0.38945910125579836\n:   0.6908061381799137\n:   0.23695261823035138\n:   0.99030243189373739\n:   0.93552694755407240\n:   0.84543978469469641\n:   0.84412881974232842\n:   0.38446428981120943\n:   0.60247305691469744\n:   1.1141741869072145\n:   0.81063397256132446\n:   1.0176061839605147\n:   0.43383546256810548\n:   0.95708049229928149\n:   0.56546250757387450\n:   1.0031569661135951\n:   0.41870298155432152\n:   0.34742895425637153\n:   0.75486743137723354\n:   1.0750620758776255\n:   -1.0997380295084356\n:   0.3523566735296157\n:   0.4359086503611158\n:   -0.068139331042621659\n:   0.86669591379048760\n:   0.40629929590689861\n:   0.69177135878740462\n:   0.65780946616428963\n:   0.95162521234476864\n:   0.075910549785279165\n:   0.92770562963614566\n:   -0.22861661491309867\n:   0.56176917038571368\n:   0.86442394692212969\n:   1.0130696256373870\n:   0.41006080588900571\n:   0.46219658144877572\n:   0.90513566813529873\n:   0.13645965296378174\n:   0.79969975255800375\n:   0.98081333905538976\n:   0.86119925816549677\n:   0.93832988145262978\n:   1.041358354969579\n:   0.82382129154826980\n:   1.2418304571117481\n:   1.0026520597892582\n:   0.9395307418330583\n:   0.9199796792252884\n:   0.40772412348024285\n:   1.0235900365213386\n:   1.0652077166654887\n:   0.93681519386279888\n:   0.011127298591145489\n:   1.01654275748590\n:   0.6173508966178891\n:   0.94926408148969792\n:   0.95407602136353893\n:   0.92675218434498794\n:   1.0626574932779795\n:   1.0279876612843596\n:   0.89759708615197\n:   -0.6438163644590198\n:   0.80386155863787899\n:   0.720360569382086100\n:   0.975870777361696101\n:   0.877802097371518102\n:   0.906551392625028103\n:   0.14248755748979104\n:   0.854197404608524105\n:   0.207417297568276106\n:   0.606279048112264107\n:   0.844158108450107108\n:   0.120625779012263109\n:   0.887099220127059110\n:   1.01796417733059111\n:   0.890947315593866112\n:   0.96017345857844113\n:   0.984943166258211114\n:   0.883859489111227115\n:   1.11418012854506116\n:   0.554573065228421117\n:   0.752151618045618118\n:   0.771068429387396119\n:   0.797505609779082120\n:   0.886307300608698121\n:   -1.59381915105125122\n:   0.795793020168569123\n:   0.642994298764866124\n:   0.882623771464648125\n:   0.922134042535443126\n:   0.784827358147726127\n:   0.640514891877096128\n:   0.00065206336027001129\n:   0.826439121652211130\n:   0.722451980288127131\n:   0.29152608751673132\n:   0.256747164165201133\n:   0.939054229400528134\n:   0.841612321797621135\n:   0.855411812059328136\n:   0.79096280349419137\n:   1.09328883421889138\n:   0.830780739682238139\n:   0.936302071006806140\n:   1.05876996682245141\n:   1.05879247997132142\n:   0.108582403369072143\n:   0.0557487663733521\n\n",
            "text/html": [
              "<style>\n",
              ".dl-inline {width: auto; margin:0; padding: 0}\n",
              ".dl-inline>dt, .dl-inline>dd {float: none; width: auto; display: inline-block}\n",
              ".dl-inline>dt::after {content: \":\\0020\"; padding-right: .5ex}\n",
              ".dl-inline>dt:not(:first-of-type) {padding-left: .5ex}\n",
              "</style><dl class=dl-inline><dt>1</dt><dd>0.450263879166281</dd><dt>2</dt><dd>-0.0077683340411929</dd><dt>3</dt><dd>0.195306502331679</dd><dt>4</dt><dd>0.313649486517398</dd><dt>5</dt><dd>0.264561886077201</dd><dt>6</dt><dd>0.714298036249571</dd><dt>7</dt><dd>0.618688774186263</dd><dt>8</dt><dd>0.527416531610575</dd><dt>9</dt><dd>0.952337619572951</dd><dt>10</dt><dd>0.995779888993028</dd><dt>11</dt><dd>0.215426292248814</dd><dt>12</dt><dd>0.470589594860122</dd><dt>13</dt><dd>1.0288202308741</dd><dt>14</dt><dd>1.00093154433128</dd><dt>15</dt><dd>0.535921754644936</dd><dt>16</dt><dd>0.970796230258335</dd><dt>17</dt><dd>0.118401743972772</dd><dt>18</dt><dd>0.87594179422516</dd><dt>19</dt><dd>0.878865605651582</dd><dt>20</dt><dd>0.186054617277279</dd><dt>21</dt><dd>0.73698801226528</dd><dt>22</dt><dd>0.034671782178135</dd><dt>23</dt><dd>1.10249107047141</dd><dt>24</dt><dd>0.977187713336428</dd><dt>25</dt><dd>0.45827213762609</dd><dt>26</dt><dd>0.451939724713227</dd><dt>27</dt><dd>1.04094491414801</dd><dt>28</dt><dd>0.86085601756519</dd><dt>29</dt><dd>0.354061749939754</dd><dt>30</dt><dd>0.986075979798197</dd><dt>31</dt><dd>0.19563568511815</dd><dt>32</dt><dd>-0.593376566699822</dd><dt>33</dt><dd>0.884983619918459</dd><dt>34</dt><dd>0.219350849458927</dd><dt>35</dt><dd>0.389459101255798</dd><dt>36</dt><dd>0.69080613817991</dd><dt>37</dt><dd>0.236952618230351</dd><dt>38</dt><dd>0.990302431893737</dd><dt>39</dt><dd>0.935526947554072</dd><dt>40</dt><dd>0.845439784694696</dd><dt>41</dt><dd>0.844128819742328</dd><dt>42</dt><dd>0.384464289811209</dd><dt>43</dt><dd>0.602473056914697</dd><dt>44</dt><dd>1.11417418690721</dd><dt>45</dt><dd>0.810633972561324</dd><dt>46</dt><dd>1.01760618396051</dd><dt>47</dt><dd>0.433835462568105</dd><dt>48</dt><dd>0.957080492299281</dd><dt>49</dt><dd>0.565462507573874</dd><dt>50</dt><dd>1.00315696611359</dd><dt>51</dt><dd>0.418702981554321</dd><dt>52</dt><dd>0.347428954256371</dd><dt>53</dt><dd>0.754867431377233</dd><dt>54</dt><dd>1.07506207587762</dd><dt>55</dt><dd>-1.09973802950843</dd><dt>56</dt><dd>0.35235667352961</dd><dt>57</dt><dd>0.43590865036111</dd><dt>58</dt><dd>-0.0681393310426216</dd><dt>59</dt><dd>0.866695913790487</dd><dt>60</dt><dd>0.406299295906898</dd><dt>61</dt><dd>0.691771358787404</dd><dt>62</dt><dd>0.657809466164289</dd><dt>63</dt><dd>0.951625212344768</dd><dt>64</dt><dd>0.0759105497852791</dd><dt>65</dt><dd>0.927705629636145</dd><dt>66</dt><dd>-0.228616614913098</dd><dt>67</dt><dd>0.561769170385713</dd><dt>68</dt><dd>0.864423946922129</dd><dt>69</dt><dd>1.01306962563738</dd><dt>70</dt><dd>0.410060805889005</dd><dt>71</dt><dd>0.462196581448775</dd><dt>72</dt><dd>0.905135668135298</dd><dt>73</dt><dd>0.136459652963781</dd><dt>74</dt><dd>0.799699752558003</dd><dt>75</dt><dd>0.980813339055389</dd><dt>76</dt><dd>0.861199258165496</dd><dt>77</dt><dd>0.938329881452629</dd><dt>78</dt><dd>1.0413583549695</dd><dt>79</dt><dd>0.823821291548269</dd><dt>80</dt><dd>1.24183045711174</dd><dt>81</dt><dd>1.00265205978925</dd><dt>82</dt><dd>0.93953074183305</dd><dt>83</dt><dd>0.91997967922528</dd><dt>84</dt><dd>0.407724123480242</dd><dt>85</dt><dd>1.02359003652133</dd><dt>86</dt><dd>1.06520771666548</dd><dt>87</dt><dd>0.936815193862798</dd><dt>88</dt><dd>0.0111272985911454</dd><dt>89</dt><dd>1.016542757485</dd><dt>90</dt><dd>0.61735089661788</dd><dt>91</dt><dd>0.949264081489697</dd><dt>92</dt><dd>0.954076021363538</dd><dt>93</dt><dd>0.926752184344987</dd><dt>94</dt><dd>1.06265749327797</dd><dt>95</dt><dd>1.02798766128435</dd><dt>96</dt><dd>0.897597086151</dd><dt>97</dt><dd>-0.64381636445901</dd><dt>98</dt><dd>0.803861558637878</dd><dt>99</dt><dd>0.720360569382086</dd><dt>100</dt><dd>0.975870777361696</dd><dt>101</dt><dd>0.877802097371518</dd><dt>102</dt><dd>0.906551392625028</dd><dt>103</dt><dd>0.14248755748979</dd><dt>104</dt><dd>0.854197404608524</dd><dt>105</dt><dd>0.207417297568276</dd><dt>106</dt><dd>0.606279048112264</dd><dt>107</dt><dd>0.844158108450107</dd><dt>108</dt><dd>0.120625779012263</dd><dt>109</dt><dd>0.887099220127059</dd><dt>110</dt><dd>1.01796417733059</dd><dt>111</dt><dd>0.890947315593866</dd><dt>112</dt><dd>0.96017345857844</dd><dt>113</dt><dd>0.984943166258211</dd><dt>114</dt><dd>0.883859489111227</dd><dt>115</dt><dd>1.11418012854506</dd><dt>116</dt><dd>0.554573065228421</dd><dt>117</dt><dd>0.752151618045618</dd><dt>118</dt><dd>0.771068429387396</dd><dt>119</dt><dd>0.797505609779082</dd><dt>120</dt><dd>0.886307300608698</dd><dt>121</dt><dd>-1.59381915105125</dd><dt>122</dt><dd>0.795793020168569</dd><dt>123</dt><dd>0.642994298764866</dd><dt>124</dt><dd>0.882623771464648</dd><dt>125</dt><dd>0.922134042535443</dd><dt>126</dt><dd>0.784827358147726</dd><dt>127</dt><dd>0.640514891877096</dd><dt>128</dt><dd>0.00065206336027001</dd><dt>129</dt><dd>0.826439121652211</dd><dt>130</dt><dd>0.722451980288127</dd><dt>131</dt><dd>0.29152608751673</dd><dt>132</dt><dd>0.256747164165201</dd><dt>133</dt><dd>0.939054229400528</dd><dt>134</dt><dd>0.841612321797621</dd><dt>135</dt><dd>0.855411812059328</dd><dt>136</dt><dd>0.79096280349419</dd><dt>137</dt><dd>1.09328883421889</dd><dt>138</dt><dd>0.830780739682238</dd><dt>139</dt><dd>0.936302071006806</dd><dt>140</dt><dd>1.05876996682245</dd><dt>141</dt><dd>1.05879247997132</dd><dt>142</dt><dd>0.108582403369072</dd><dt>143</dt><dd>0.0557487663733521</dd></dl>\n"
            ]
          },
          "metadata": {}
        }
      ]
    },
    {
      "cell_type": "code",
      "source": [
        "predict_reg <- ifelse(predict_reg >0.5, 1, 0)\n"
      ],
      "metadata": {
        "id": "D0lROmca_BmU"
      },
      "execution_count": null,
      "outputs": []
    },
    {
      "cell_type": "code",
      "source": [
        "df=table(test$target, predict_reg)\n",
        "df"
      ],
      "metadata": {
        "id": "yGr7O5AJ_Cxt",
        "outputId": "dc6cdded-460b-45ff-dff9-1816b59cd34d",
        "colab": {
          "base_uri": "https://localhost:8080/",
          "height": 90
        }
      },
      "execution_count": null,
      "outputs": [
        {
          "output_type": "display_data",
          "data": {
            "text/plain": [
              "   predict_reg\n",
              "     0  1\n",
              "  0 43  8\n",
              "  1  1 91"
            ]
          },
          "metadata": {}
        }
      ]
    },
    {
      "cell_type": "code",
      "source": [
        "acc <-  (sum(diag(df))/sum(df))*100"
      ],
      "metadata": {
        "id": "7VnY2ZDl_LcZ"
      },
      "execution_count": null,
      "outputs": []
    },
    {
      "cell_type": "code",
      "source": [
        "acc"
      ],
      "metadata": {
        "id": "gdITe49V_O7p",
        "outputId": "b1a42fc1-d25c-4806-97ca-5de37a15874b",
        "colab": {
          "base_uri": "https://localhost:8080/",
          "height": 35
        }
      },
      "execution_count": null,
      "outputs": [
        {
          "output_type": "display_data",
          "data": {
            "text/plain": [
              "[1] 93.70629"
            ],
            "text/latex": "93.7062937062937",
            "text/markdown": "93.7062937062937",
            "text/html": [
              "93.7062937062937"
            ]
          },
          "metadata": {}
        }
      ]
    },
    {
      "cell_type": "code",
      "source": [
        ""
      ],
      "metadata": {
        "id": "np-EbXWV_Pqc"
      },
      "execution_count": null,
      "outputs": []
    }
  ]
}