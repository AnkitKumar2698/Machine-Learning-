{
  "nbformat": 4,
  "nbformat_minor": 0,
  "metadata": {
    "colab": {
      "name": "SVM SVC.ipynb",
      "provenance": []
    },
    "kernelspec": {
      "name": "python3",
      "display_name": "Python 3"
    },
    "language_info": {
      "name": "python"
    }
  },
  "cells": [
    {
      "cell_type": "code",
      "metadata": {
        "colab": {
          "base_uri": "https://localhost:8080/",
          "height": 461
        },
        "id": "z20twSYeaOIi",
        "outputId": "8f2002b8-d569-453b-b8cc-232b422312c9"
      },
      "source": [
        "import pandas as pd\n",
        "import numpy as np\n",
        "import scipy.stats as stats \n",
        "import matplotlib.pyplot as plt \n",
        "import sklearn\n",
        "df=pd.read_csv('drive/MyDrive/data/fetal_health.csv')\n",
        "df"
      ],
      "execution_count": null,
      "outputs": [
        {
          "output_type": "execute_result",
          "data": {
            "text/html": [
              "<div>\n",
              "<style scoped>\n",
              "    .dataframe tbody tr th:only-of-type {\n",
              "        vertical-align: middle;\n",
              "    }\n",
              "\n",
              "    .dataframe tbody tr th {\n",
              "        vertical-align: top;\n",
              "    }\n",
              "\n",
              "    .dataframe thead th {\n",
              "        text-align: right;\n",
              "    }\n",
              "</style>\n",
              "<table border=\"1\" class=\"dataframe\">\n",
              "  <thead>\n",
              "    <tr style=\"text-align: right;\">\n",
              "      <th></th>\n",
              "      <th>baseline value</th>\n",
              "      <th>accelerations</th>\n",
              "      <th>fetal_movement</th>\n",
              "      <th>uterine_contractions</th>\n",
              "      <th>light_decelerations</th>\n",
              "      <th>severe_decelerations</th>\n",
              "      <th>prolongued_decelerations</th>\n",
              "      <th>abnormal_short_term_variability</th>\n",
              "      <th>mean_value_of_short_term_variability</th>\n",
              "      <th>percentage_of_time_with_abnormal_long_term_variability</th>\n",
              "      <th>mean_value_of_long_term_variability</th>\n",
              "      <th>histogram_width</th>\n",
              "      <th>histogram_min</th>\n",
              "      <th>histogram_max</th>\n",
              "      <th>histogram_number_of_peaks</th>\n",
              "      <th>histogram_number_of_zeroes</th>\n",
              "      <th>histogram_mode</th>\n",
              "      <th>histogram_mean</th>\n",
              "      <th>histogram_median</th>\n",
              "      <th>histogram_variance</th>\n",
              "      <th>histogram_tendency</th>\n",
              "      <th>fetal_health</th>\n",
              "    </tr>\n",
              "  </thead>\n",
              "  <tbody>\n",
              "    <tr>\n",
              "      <th>0</th>\n",
              "      <td>120.0</td>\n",
              "      <td>0.000</td>\n",
              "      <td>0.000</td>\n",
              "      <td>0.000</td>\n",
              "      <td>0.000</td>\n",
              "      <td>0.0</td>\n",
              "      <td>0.0</td>\n",
              "      <td>73.0</td>\n",
              "      <td>0.5</td>\n",
              "      <td>43.0</td>\n",
              "      <td>2.4</td>\n",
              "      <td>64.0</td>\n",
              "      <td>62.0</td>\n",
              "      <td>126.0</td>\n",
              "      <td>2.0</td>\n",
              "      <td>0.0</td>\n",
              "      <td>120.0</td>\n",
              "      <td>137.0</td>\n",
              "      <td>121.0</td>\n",
              "      <td>73.0</td>\n",
              "      <td>1.0</td>\n",
              "      <td>2.0</td>\n",
              "    </tr>\n",
              "    <tr>\n",
              "      <th>1</th>\n",
              "      <td>132.0</td>\n",
              "      <td>0.006</td>\n",
              "      <td>0.000</td>\n",
              "      <td>0.006</td>\n",
              "      <td>0.003</td>\n",
              "      <td>0.0</td>\n",
              "      <td>0.0</td>\n",
              "      <td>17.0</td>\n",
              "      <td>2.1</td>\n",
              "      <td>0.0</td>\n",
              "      <td>10.4</td>\n",
              "      <td>130.0</td>\n",
              "      <td>68.0</td>\n",
              "      <td>198.0</td>\n",
              "      <td>6.0</td>\n",
              "      <td>1.0</td>\n",
              "      <td>141.0</td>\n",
              "      <td>136.0</td>\n",
              "      <td>140.0</td>\n",
              "      <td>12.0</td>\n",
              "      <td>0.0</td>\n",
              "      <td>1.0</td>\n",
              "    </tr>\n",
              "    <tr>\n",
              "      <th>2</th>\n",
              "      <td>133.0</td>\n",
              "      <td>0.003</td>\n",
              "      <td>0.000</td>\n",
              "      <td>0.008</td>\n",
              "      <td>0.003</td>\n",
              "      <td>0.0</td>\n",
              "      <td>0.0</td>\n",
              "      <td>16.0</td>\n",
              "      <td>2.1</td>\n",
              "      <td>0.0</td>\n",
              "      <td>13.4</td>\n",
              "      <td>130.0</td>\n",
              "      <td>68.0</td>\n",
              "      <td>198.0</td>\n",
              "      <td>5.0</td>\n",
              "      <td>1.0</td>\n",
              "      <td>141.0</td>\n",
              "      <td>135.0</td>\n",
              "      <td>138.0</td>\n",
              "      <td>13.0</td>\n",
              "      <td>0.0</td>\n",
              "      <td>1.0</td>\n",
              "    </tr>\n",
              "    <tr>\n",
              "      <th>3</th>\n",
              "      <td>134.0</td>\n",
              "      <td>0.003</td>\n",
              "      <td>0.000</td>\n",
              "      <td>0.008</td>\n",
              "      <td>0.003</td>\n",
              "      <td>0.0</td>\n",
              "      <td>0.0</td>\n",
              "      <td>16.0</td>\n",
              "      <td>2.4</td>\n",
              "      <td>0.0</td>\n",
              "      <td>23.0</td>\n",
              "      <td>117.0</td>\n",
              "      <td>53.0</td>\n",
              "      <td>170.0</td>\n",
              "      <td>11.0</td>\n",
              "      <td>0.0</td>\n",
              "      <td>137.0</td>\n",
              "      <td>134.0</td>\n",
              "      <td>137.0</td>\n",
              "      <td>13.0</td>\n",
              "      <td>1.0</td>\n",
              "      <td>1.0</td>\n",
              "    </tr>\n",
              "    <tr>\n",
              "      <th>4</th>\n",
              "      <td>132.0</td>\n",
              "      <td>0.007</td>\n",
              "      <td>0.000</td>\n",
              "      <td>0.008</td>\n",
              "      <td>0.000</td>\n",
              "      <td>0.0</td>\n",
              "      <td>0.0</td>\n",
              "      <td>16.0</td>\n",
              "      <td>2.4</td>\n",
              "      <td>0.0</td>\n",
              "      <td>19.9</td>\n",
              "      <td>117.0</td>\n",
              "      <td>53.0</td>\n",
              "      <td>170.0</td>\n",
              "      <td>9.0</td>\n",
              "      <td>0.0</td>\n",
              "      <td>137.0</td>\n",
              "      <td>136.0</td>\n",
              "      <td>138.0</td>\n",
              "      <td>11.0</td>\n",
              "      <td>1.0</td>\n",
              "      <td>1.0</td>\n",
              "    </tr>\n",
              "    <tr>\n",
              "      <th>...</th>\n",
              "      <td>...</td>\n",
              "      <td>...</td>\n",
              "      <td>...</td>\n",
              "      <td>...</td>\n",
              "      <td>...</td>\n",
              "      <td>...</td>\n",
              "      <td>...</td>\n",
              "      <td>...</td>\n",
              "      <td>...</td>\n",
              "      <td>...</td>\n",
              "      <td>...</td>\n",
              "      <td>...</td>\n",
              "      <td>...</td>\n",
              "      <td>...</td>\n",
              "      <td>...</td>\n",
              "      <td>...</td>\n",
              "      <td>...</td>\n",
              "      <td>...</td>\n",
              "      <td>...</td>\n",
              "      <td>...</td>\n",
              "      <td>...</td>\n",
              "      <td>...</td>\n",
              "    </tr>\n",
              "    <tr>\n",
              "      <th>2121</th>\n",
              "      <td>140.0</td>\n",
              "      <td>0.000</td>\n",
              "      <td>0.000</td>\n",
              "      <td>0.007</td>\n",
              "      <td>0.000</td>\n",
              "      <td>0.0</td>\n",
              "      <td>0.0</td>\n",
              "      <td>79.0</td>\n",
              "      <td>0.2</td>\n",
              "      <td>25.0</td>\n",
              "      <td>7.2</td>\n",
              "      <td>40.0</td>\n",
              "      <td>137.0</td>\n",
              "      <td>177.0</td>\n",
              "      <td>4.0</td>\n",
              "      <td>0.0</td>\n",
              "      <td>153.0</td>\n",
              "      <td>150.0</td>\n",
              "      <td>152.0</td>\n",
              "      <td>2.0</td>\n",
              "      <td>0.0</td>\n",
              "      <td>2.0</td>\n",
              "    </tr>\n",
              "    <tr>\n",
              "      <th>2122</th>\n",
              "      <td>140.0</td>\n",
              "      <td>0.001</td>\n",
              "      <td>0.000</td>\n",
              "      <td>0.007</td>\n",
              "      <td>0.000</td>\n",
              "      <td>0.0</td>\n",
              "      <td>0.0</td>\n",
              "      <td>78.0</td>\n",
              "      <td>0.4</td>\n",
              "      <td>22.0</td>\n",
              "      <td>7.1</td>\n",
              "      <td>66.0</td>\n",
              "      <td>103.0</td>\n",
              "      <td>169.0</td>\n",
              "      <td>6.0</td>\n",
              "      <td>0.0</td>\n",
              "      <td>152.0</td>\n",
              "      <td>148.0</td>\n",
              "      <td>151.0</td>\n",
              "      <td>3.0</td>\n",
              "      <td>1.0</td>\n",
              "      <td>2.0</td>\n",
              "    </tr>\n",
              "    <tr>\n",
              "      <th>2123</th>\n",
              "      <td>140.0</td>\n",
              "      <td>0.001</td>\n",
              "      <td>0.000</td>\n",
              "      <td>0.007</td>\n",
              "      <td>0.000</td>\n",
              "      <td>0.0</td>\n",
              "      <td>0.0</td>\n",
              "      <td>79.0</td>\n",
              "      <td>0.4</td>\n",
              "      <td>20.0</td>\n",
              "      <td>6.1</td>\n",
              "      <td>67.0</td>\n",
              "      <td>103.0</td>\n",
              "      <td>170.0</td>\n",
              "      <td>5.0</td>\n",
              "      <td>0.0</td>\n",
              "      <td>153.0</td>\n",
              "      <td>148.0</td>\n",
              "      <td>152.0</td>\n",
              "      <td>4.0</td>\n",
              "      <td>1.0</td>\n",
              "      <td>2.0</td>\n",
              "    </tr>\n",
              "    <tr>\n",
              "      <th>2124</th>\n",
              "      <td>140.0</td>\n",
              "      <td>0.001</td>\n",
              "      <td>0.000</td>\n",
              "      <td>0.006</td>\n",
              "      <td>0.000</td>\n",
              "      <td>0.0</td>\n",
              "      <td>0.0</td>\n",
              "      <td>78.0</td>\n",
              "      <td>0.4</td>\n",
              "      <td>27.0</td>\n",
              "      <td>7.0</td>\n",
              "      <td>66.0</td>\n",
              "      <td>103.0</td>\n",
              "      <td>169.0</td>\n",
              "      <td>6.0</td>\n",
              "      <td>0.0</td>\n",
              "      <td>152.0</td>\n",
              "      <td>147.0</td>\n",
              "      <td>151.0</td>\n",
              "      <td>4.0</td>\n",
              "      <td>1.0</td>\n",
              "      <td>2.0</td>\n",
              "    </tr>\n",
              "    <tr>\n",
              "      <th>2125</th>\n",
              "      <td>142.0</td>\n",
              "      <td>0.002</td>\n",
              "      <td>0.002</td>\n",
              "      <td>0.008</td>\n",
              "      <td>0.000</td>\n",
              "      <td>0.0</td>\n",
              "      <td>0.0</td>\n",
              "      <td>74.0</td>\n",
              "      <td>0.4</td>\n",
              "      <td>36.0</td>\n",
              "      <td>5.0</td>\n",
              "      <td>42.0</td>\n",
              "      <td>117.0</td>\n",
              "      <td>159.0</td>\n",
              "      <td>2.0</td>\n",
              "      <td>1.0</td>\n",
              "      <td>145.0</td>\n",
              "      <td>143.0</td>\n",
              "      <td>145.0</td>\n",
              "      <td>1.0</td>\n",
              "      <td>0.0</td>\n",
              "      <td>1.0</td>\n",
              "    </tr>\n",
              "  </tbody>\n",
              "</table>\n",
              "<p>2126 rows × 22 columns</p>\n",
              "</div>"
            ],
            "text/plain": [
              "      baseline value  accelerations  ...  histogram_tendency  fetal_health\n",
              "0              120.0          0.000  ...                 1.0           2.0\n",
              "1              132.0          0.006  ...                 0.0           1.0\n",
              "2              133.0          0.003  ...                 0.0           1.0\n",
              "3              134.0          0.003  ...                 1.0           1.0\n",
              "4              132.0          0.007  ...                 1.0           1.0\n",
              "...              ...            ...  ...                 ...           ...\n",
              "2121           140.0          0.000  ...                 0.0           2.0\n",
              "2122           140.0          0.001  ...                 1.0           2.0\n",
              "2123           140.0          0.001  ...                 1.0           2.0\n",
              "2124           140.0          0.001  ...                 1.0           2.0\n",
              "2125           142.0          0.002  ...                 0.0           1.0\n",
              "\n",
              "[2126 rows x 22 columns]"
            ]
          },
          "metadata": {},
          "execution_count": 1
        }
      ]
    },
    {
      "cell_type": "code",
      "metadata": {
        "colab": {
          "base_uri": "https://localhost:8080/"
        },
        "id": "z2V6Ag_8dXQ4",
        "outputId": "2b029860-f56c-4c68-f0d1-b36494244b03"
      },
      "source": [
        "df.info()"
      ],
      "execution_count": null,
      "outputs": [
        {
          "output_type": "stream",
          "name": "stdout",
          "text": [
            "<class 'pandas.core.frame.DataFrame'>\n",
            "RangeIndex: 2126 entries, 0 to 2125\n",
            "Data columns (total 22 columns):\n",
            " #   Column                                                  Non-Null Count  Dtype  \n",
            "---  ------                                                  --------------  -----  \n",
            " 0   baseline value                                          2126 non-null   float64\n",
            " 1   accelerations                                           2126 non-null   float64\n",
            " 2   fetal_movement                                          2126 non-null   float64\n",
            " 3   uterine_contractions                                    2126 non-null   float64\n",
            " 4   light_decelerations                                     2126 non-null   float64\n",
            " 5   severe_decelerations                                    2126 non-null   float64\n",
            " 6   prolongued_decelerations                                2126 non-null   float64\n",
            " 7   abnormal_short_term_variability                         2126 non-null   float64\n",
            " 8   mean_value_of_short_term_variability                    2126 non-null   float64\n",
            " 9   percentage_of_time_with_abnormal_long_term_variability  2126 non-null   float64\n",
            " 10  mean_value_of_long_term_variability                     2126 non-null   float64\n",
            " 11  histogram_width                                         2126 non-null   float64\n",
            " 12  histogram_min                                           2126 non-null   float64\n",
            " 13  histogram_max                                           2126 non-null   float64\n",
            " 14  histogram_number_of_peaks                               2126 non-null   float64\n",
            " 15  histogram_number_of_zeroes                              2126 non-null   float64\n",
            " 16  histogram_mode                                          2126 non-null   float64\n",
            " 17  histogram_mean                                          2126 non-null   float64\n",
            " 18  histogram_median                                        2126 non-null   float64\n",
            " 19  histogram_variance                                      2126 non-null   float64\n",
            " 20  histogram_tendency                                      2126 non-null   float64\n",
            " 21  fetal_health                                            2126 non-null   float64\n",
            "dtypes: float64(22)\n",
            "memory usage: 365.5 KB\n"
          ]
        }
      ]
    },
    {
      "cell_type": "code",
      "metadata": {
        "colab": {
          "base_uri": "https://localhost:8080/"
        },
        "id": "8HymujhF0euC",
        "outputId": "15499c68-2f0c-45a2-8a9e-3b31b0fbf739"
      },
      "source": [
        "df.corr()[\"fetal_health\"].sort_values(ascending=False)"
      ],
      "execution_count": null,
      "outputs": [
        {
          "output_type": "execute_result",
          "data": {
            "text/plain": [
              "fetal_health                                              1.000000\n",
              "prolongued_decelerations                                  0.484859\n",
              "abnormal_short_term_variability                           0.471191\n",
              "percentage_of_time_with_abnormal_long_term_variability    0.426146\n",
              "histogram_variance                                        0.206630\n",
              "baseline value                                            0.148151\n",
              "severe_decelerations                                      0.131934\n",
              "fetal_movement                                            0.088010\n",
              "histogram_min                                             0.063175\n",
              "light_decelerations                                       0.058870\n",
              "histogram_number_of_zeroes                               -0.016682\n",
              "histogram_number_of_peaks                                -0.023666\n",
              "histogram_max                                            -0.045265\n",
              "histogram_width                                          -0.068789\n",
              "mean_value_of_short_term_variability                     -0.103382\n",
              "histogram_tendency                                       -0.131976\n",
              "uterine_contractions                                     -0.204894\n",
              "histogram_median                                         -0.205033\n",
              "mean_value_of_long_term_variability                      -0.226797\n",
              "histogram_mean                                           -0.226985\n",
              "histogram_mode                                           -0.250412\n",
              "accelerations                                            -0.364066\n",
              "Name: fetal_health, dtype: float64"
            ]
          },
          "metadata": {},
          "execution_count": 3
        }
      ]
    },
    {
      "cell_type": "code",
      "metadata": {
        "colab": {
          "base_uri": "https://localhost:8080/"
        },
        "id": "8prG1mOuaVIC",
        "outputId": "1b58d9b0-ebe8-419a-bc5a-c27ef8d6d121"
      },
      "source": [
        "df['fetal_health'].unique()"
      ],
      "execution_count": null,
      "outputs": [
        {
          "output_type": "execute_result",
          "data": {
            "text/plain": [
              "array([2., 1., 3.])"
            ]
          },
          "metadata": {},
          "execution_count": 4
        }
      ]
    },
    {
      "cell_type": "code",
      "metadata": {
        "id": "m_UyTvuEcbjI"
      },
      "source": [
        "X = df.drop('fetal_health', axis=1)"
      ],
      "execution_count": null,
      "outputs": []
    },
    {
      "cell_type": "code",
      "metadata": {
        "colab": {
          "base_uri": "https://localhost:8080/",
          "height": 461
        },
        "id": "lMDLzDyzdJA6",
        "outputId": "cec6c9b9-ba10-40e2-8ec7-a05527620d29"
      },
      "source": [
        "X"
      ],
      "execution_count": null,
      "outputs": [
        {
          "output_type": "execute_result",
          "data": {
            "text/html": [
              "<div>\n",
              "<style scoped>\n",
              "    .dataframe tbody tr th:only-of-type {\n",
              "        vertical-align: middle;\n",
              "    }\n",
              "\n",
              "    .dataframe tbody tr th {\n",
              "        vertical-align: top;\n",
              "    }\n",
              "\n",
              "    .dataframe thead th {\n",
              "        text-align: right;\n",
              "    }\n",
              "</style>\n",
              "<table border=\"1\" class=\"dataframe\">\n",
              "  <thead>\n",
              "    <tr style=\"text-align: right;\">\n",
              "      <th></th>\n",
              "      <th>baseline value</th>\n",
              "      <th>accelerations</th>\n",
              "      <th>fetal_movement</th>\n",
              "      <th>uterine_contractions</th>\n",
              "      <th>light_decelerations</th>\n",
              "      <th>severe_decelerations</th>\n",
              "      <th>prolongued_decelerations</th>\n",
              "      <th>abnormal_short_term_variability</th>\n",
              "      <th>mean_value_of_short_term_variability</th>\n",
              "      <th>percentage_of_time_with_abnormal_long_term_variability</th>\n",
              "      <th>mean_value_of_long_term_variability</th>\n",
              "      <th>histogram_width</th>\n",
              "      <th>histogram_min</th>\n",
              "      <th>histogram_max</th>\n",
              "      <th>histogram_number_of_peaks</th>\n",
              "      <th>histogram_number_of_zeroes</th>\n",
              "      <th>histogram_mode</th>\n",
              "      <th>histogram_mean</th>\n",
              "      <th>histogram_median</th>\n",
              "      <th>histogram_variance</th>\n",
              "      <th>histogram_tendency</th>\n",
              "    </tr>\n",
              "  </thead>\n",
              "  <tbody>\n",
              "    <tr>\n",
              "      <th>0</th>\n",
              "      <td>120.0</td>\n",
              "      <td>0.000</td>\n",
              "      <td>0.000</td>\n",
              "      <td>0.000</td>\n",
              "      <td>0.000</td>\n",
              "      <td>0.0</td>\n",
              "      <td>0.0</td>\n",
              "      <td>73.0</td>\n",
              "      <td>0.5</td>\n",
              "      <td>43.0</td>\n",
              "      <td>2.4</td>\n",
              "      <td>64.0</td>\n",
              "      <td>62.0</td>\n",
              "      <td>126.0</td>\n",
              "      <td>2.0</td>\n",
              "      <td>0.0</td>\n",
              "      <td>120.0</td>\n",
              "      <td>137.0</td>\n",
              "      <td>121.0</td>\n",
              "      <td>73.0</td>\n",
              "      <td>1.0</td>\n",
              "    </tr>\n",
              "    <tr>\n",
              "      <th>1</th>\n",
              "      <td>132.0</td>\n",
              "      <td>0.006</td>\n",
              "      <td>0.000</td>\n",
              "      <td>0.006</td>\n",
              "      <td>0.003</td>\n",
              "      <td>0.0</td>\n",
              "      <td>0.0</td>\n",
              "      <td>17.0</td>\n",
              "      <td>2.1</td>\n",
              "      <td>0.0</td>\n",
              "      <td>10.4</td>\n",
              "      <td>130.0</td>\n",
              "      <td>68.0</td>\n",
              "      <td>198.0</td>\n",
              "      <td>6.0</td>\n",
              "      <td>1.0</td>\n",
              "      <td>141.0</td>\n",
              "      <td>136.0</td>\n",
              "      <td>140.0</td>\n",
              "      <td>12.0</td>\n",
              "      <td>0.0</td>\n",
              "    </tr>\n",
              "    <tr>\n",
              "      <th>2</th>\n",
              "      <td>133.0</td>\n",
              "      <td>0.003</td>\n",
              "      <td>0.000</td>\n",
              "      <td>0.008</td>\n",
              "      <td>0.003</td>\n",
              "      <td>0.0</td>\n",
              "      <td>0.0</td>\n",
              "      <td>16.0</td>\n",
              "      <td>2.1</td>\n",
              "      <td>0.0</td>\n",
              "      <td>13.4</td>\n",
              "      <td>130.0</td>\n",
              "      <td>68.0</td>\n",
              "      <td>198.0</td>\n",
              "      <td>5.0</td>\n",
              "      <td>1.0</td>\n",
              "      <td>141.0</td>\n",
              "      <td>135.0</td>\n",
              "      <td>138.0</td>\n",
              "      <td>13.0</td>\n",
              "      <td>0.0</td>\n",
              "    </tr>\n",
              "    <tr>\n",
              "      <th>3</th>\n",
              "      <td>134.0</td>\n",
              "      <td>0.003</td>\n",
              "      <td>0.000</td>\n",
              "      <td>0.008</td>\n",
              "      <td>0.003</td>\n",
              "      <td>0.0</td>\n",
              "      <td>0.0</td>\n",
              "      <td>16.0</td>\n",
              "      <td>2.4</td>\n",
              "      <td>0.0</td>\n",
              "      <td>23.0</td>\n",
              "      <td>117.0</td>\n",
              "      <td>53.0</td>\n",
              "      <td>170.0</td>\n",
              "      <td>11.0</td>\n",
              "      <td>0.0</td>\n",
              "      <td>137.0</td>\n",
              "      <td>134.0</td>\n",
              "      <td>137.0</td>\n",
              "      <td>13.0</td>\n",
              "      <td>1.0</td>\n",
              "    </tr>\n",
              "    <tr>\n",
              "      <th>4</th>\n",
              "      <td>132.0</td>\n",
              "      <td>0.007</td>\n",
              "      <td>0.000</td>\n",
              "      <td>0.008</td>\n",
              "      <td>0.000</td>\n",
              "      <td>0.0</td>\n",
              "      <td>0.0</td>\n",
              "      <td>16.0</td>\n",
              "      <td>2.4</td>\n",
              "      <td>0.0</td>\n",
              "      <td>19.9</td>\n",
              "      <td>117.0</td>\n",
              "      <td>53.0</td>\n",
              "      <td>170.0</td>\n",
              "      <td>9.0</td>\n",
              "      <td>0.0</td>\n",
              "      <td>137.0</td>\n",
              "      <td>136.0</td>\n",
              "      <td>138.0</td>\n",
              "      <td>11.0</td>\n",
              "      <td>1.0</td>\n",
              "    </tr>\n",
              "    <tr>\n",
              "      <th>...</th>\n",
              "      <td>...</td>\n",
              "      <td>...</td>\n",
              "      <td>...</td>\n",
              "      <td>...</td>\n",
              "      <td>...</td>\n",
              "      <td>...</td>\n",
              "      <td>...</td>\n",
              "      <td>...</td>\n",
              "      <td>...</td>\n",
              "      <td>...</td>\n",
              "      <td>...</td>\n",
              "      <td>...</td>\n",
              "      <td>...</td>\n",
              "      <td>...</td>\n",
              "      <td>...</td>\n",
              "      <td>...</td>\n",
              "      <td>...</td>\n",
              "      <td>...</td>\n",
              "      <td>...</td>\n",
              "      <td>...</td>\n",
              "      <td>...</td>\n",
              "    </tr>\n",
              "    <tr>\n",
              "      <th>2121</th>\n",
              "      <td>140.0</td>\n",
              "      <td>0.000</td>\n",
              "      <td>0.000</td>\n",
              "      <td>0.007</td>\n",
              "      <td>0.000</td>\n",
              "      <td>0.0</td>\n",
              "      <td>0.0</td>\n",
              "      <td>79.0</td>\n",
              "      <td>0.2</td>\n",
              "      <td>25.0</td>\n",
              "      <td>7.2</td>\n",
              "      <td>40.0</td>\n",
              "      <td>137.0</td>\n",
              "      <td>177.0</td>\n",
              "      <td>4.0</td>\n",
              "      <td>0.0</td>\n",
              "      <td>153.0</td>\n",
              "      <td>150.0</td>\n",
              "      <td>152.0</td>\n",
              "      <td>2.0</td>\n",
              "      <td>0.0</td>\n",
              "    </tr>\n",
              "    <tr>\n",
              "      <th>2122</th>\n",
              "      <td>140.0</td>\n",
              "      <td>0.001</td>\n",
              "      <td>0.000</td>\n",
              "      <td>0.007</td>\n",
              "      <td>0.000</td>\n",
              "      <td>0.0</td>\n",
              "      <td>0.0</td>\n",
              "      <td>78.0</td>\n",
              "      <td>0.4</td>\n",
              "      <td>22.0</td>\n",
              "      <td>7.1</td>\n",
              "      <td>66.0</td>\n",
              "      <td>103.0</td>\n",
              "      <td>169.0</td>\n",
              "      <td>6.0</td>\n",
              "      <td>0.0</td>\n",
              "      <td>152.0</td>\n",
              "      <td>148.0</td>\n",
              "      <td>151.0</td>\n",
              "      <td>3.0</td>\n",
              "      <td>1.0</td>\n",
              "    </tr>\n",
              "    <tr>\n",
              "      <th>2123</th>\n",
              "      <td>140.0</td>\n",
              "      <td>0.001</td>\n",
              "      <td>0.000</td>\n",
              "      <td>0.007</td>\n",
              "      <td>0.000</td>\n",
              "      <td>0.0</td>\n",
              "      <td>0.0</td>\n",
              "      <td>79.0</td>\n",
              "      <td>0.4</td>\n",
              "      <td>20.0</td>\n",
              "      <td>6.1</td>\n",
              "      <td>67.0</td>\n",
              "      <td>103.0</td>\n",
              "      <td>170.0</td>\n",
              "      <td>5.0</td>\n",
              "      <td>0.0</td>\n",
              "      <td>153.0</td>\n",
              "      <td>148.0</td>\n",
              "      <td>152.0</td>\n",
              "      <td>4.0</td>\n",
              "      <td>1.0</td>\n",
              "    </tr>\n",
              "    <tr>\n",
              "      <th>2124</th>\n",
              "      <td>140.0</td>\n",
              "      <td>0.001</td>\n",
              "      <td>0.000</td>\n",
              "      <td>0.006</td>\n",
              "      <td>0.000</td>\n",
              "      <td>0.0</td>\n",
              "      <td>0.0</td>\n",
              "      <td>78.0</td>\n",
              "      <td>0.4</td>\n",
              "      <td>27.0</td>\n",
              "      <td>7.0</td>\n",
              "      <td>66.0</td>\n",
              "      <td>103.0</td>\n",
              "      <td>169.0</td>\n",
              "      <td>6.0</td>\n",
              "      <td>0.0</td>\n",
              "      <td>152.0</td>\n",
              "      <td>147.0</td>\n",
              "      <td>151.0</td>\n",
              "      <td>4.0</td>\n",
              "      <td>1.0</td>\n",
              "    </tr>\n",
              "    <tr>\n",
              "      <th>2125</th>\n",
              "      <td>142.0</td>\n",
              "      <td>0.002</td>\n",
              "      <td>0.002</td>\n",
              "      <td>0.008</td>\n",
              "      <td>0.000</td>\n",
              "      <td>0.0</td>\n",
              "      <td>0.0</td>\n",
              "      <td>74.0</td>\n",
              "      <td>0.4</td>\n",
              "      <td>36.0</td>\n",
              "      <td>5.0</td>\n",
              "      <td>42.0</td>\n",
              "      <td>117.0</td>\n",
              "      <td>159.0</td>\n",
              "      <td>2.0</td>\n",
              "      <td>1.0</td>\n",
              "      <td>145.0</td>\n",
              "      <td>143.0</td>\n",
              "      <td>145.0</td>\n",
              "      <td>1.0</td>\n",
              "      <td>0.0</td>\n",
              "    </tr>\n",
              "  </tbody>\n",
              "</table>\n",
              "<p>2126 rows × 21 columns</p>\n",
              "</div>"
            ],
            "text/plain": [
              "      baseline value  accelerations  ...  histogram_variance  histogram_tendency\n",
              "0              120.0          0.000  ...                73.0                 1.0\n",
              "1              132.0          0.006  ...                12.0                 0.0\n",
              "2              133.0          0.003  ...                13.0                 0.0\n",
              "3              134.0          0.003  ...                13.0                 1.0\n",
              "4              132.0          0.007  ...                11.0                 1.0\n",
              "...              ...            ...  ...                 ...                 ...\n",
              "2121           140.0          0.000  ...                 2.0                 0.0\n",
              "2122           140.0          0.001  ...                 3.0                 1.0\n",
              "2123           140.0          0.001  ...                 4.0                 1.0\n",
              "2124           140.0          0.001  ...                 4.0                 1.0\n",
              "2125           142.0          0.002  ...                 1.0                 0.0\n",
              "\n",
              "[2126 rows x 21 columns]"
            ]
          },
          "metadata": {},
          "execution_count": 6
        }
      ]
    },
    {
      "cell_type": "code",
      "metadata": {
        "id": "e1Zwi-p7dNrK"
      },
      "source": [
        "y = df['fetal_health']"
      ],
      "execution_count": null,
      "outputs": []
    },
    {
      "cell_type": "code",
      "metadata": {
        "id": "H6OlqFv9djzQ"
      },
      "source": [
        "from sklearn.model_selection import train_test_split\n",
        "X_train, X_test, y_train, y_test = train_test_split( X, y, test_size=0.30, random_state=42)"
      ],
      "execution_count": null,
      "outputs": []
    },
    {
      "cell_type": "code",
      "metadata": {
        "id": "2bEblERhdvaH"
      },
      "source": [
        "from sklearn.svm import SVC \n",
        "model = SVC()"
      ],
      "execution_count": null,
      "outputs": []
    },
    {
      "cell_type": "code",
      "metadata": {
        "colab": {
          "base_uri": "https://localhost:8080/"
        },
        "id": "sJ3WuGaldybM",
        "outputId": "0f4b1a89-6db5-47be-a3d9-8737a2dad1c3"
      },
      "source": [
        "model.fit(X_train, y_train)"
      ],
      "execution_count": null,
      "outputs": [
        {
          "output_type": "execute_result",
          "data": {
            "text/plain": [
              "SVC()"
            ]
          },
          "metadata": {},
          "execution_count": 10
        }
      ]
    },
    {
      "cell_type": "code",
      "metadata": {
        "colab": {
          "base_uri": "https://localhost:8080/"
        },
        "id": "HI7w8fc4d10N",
        "outputId": "f7993d8f-a304-4e3a-85d3-cde1b90d4717"
      },
      "source": [
        "model.score(X_test, y_test)"
      ],
      "execution_count": null,
      "outputs": [
        {
          "output_type": "execute_result",
          "data": {
            "text/plain": [
              "0.85423197492163"
            ]
          },
          "metadata": {},
          "execution_count": 11
        }
      ]
    },
    {
      "cell_type": "code",
      "metadata": {
        "id": "NXqMR3PWd922"
      },
      "source": [
        "from sklearn.model_selection import GridSearchCV\n",
        "param_grid = {'C':range(1,100)}\n",
        "grid = GridSearchCV(model,param_grid,cv=3)"
      ],
      "execution_count": null,
      "outputs": []
    },
    {
      "cell_type": "code",
      "metadata": {
        "colab": {
          "base_uri": "https://localhost:8080/"
        },
        "id": "xWoK8iZ1ec7w",
        "outputId": "087a3d2f-3115-4550-d7c4-e0bf2fc4a75c"
      },
      "source": [
        "grid.fit(X_train,y_train)"
      ],
      "execution_count": null,
      "outputs": [
        {
          "output_type": "execute_result",
          "data": {
            "text/plain": [
              "GridSearchCV(cv=3, estimator=SVC(), param_grid={'C': range(1, 100)})"
            ]
          },
          "metadata": {},
          "execution_count": 13
        }
      ]
    },
    {
      "cell_type": "code",
      "metadata": {
        "colab": {
          "base_uri": "https://localhost:8080/"
        },
        "id": "2qbABiBYedhB",
        "outputId": "8c1e7115-e922-4fca-98c6-7e9826c52449"
      },
      "source": [
        "grid.best_params_"
      ],
      "execution_count": null,
      "outputs": [
        {
          "output_type": "execute_result",
          "data": {
            "text/plain": [
              "{'C': 91}"
            ]
          },
          "metadata": {},
          "execution_count": 14
        }
      ]
    },
    {
      "cell_type": "code",
      "metadata": {
        "id": "nMWt1oDNeu06"
      },
      "source": [
        "model = SVC(kernel='rbf',C=91)"
      ],
      "execution_count": null,
      "outputs": []
    },
    {
      "cell_type": "code",
      "metadata": {
        "colab": {
          "base_uri": "https://localhost:8080/"
        },
        "id": "ChkC6d_VfSNc",
        "outputId": "009175b8-fd9b-4a8b-9687-bc8baacc4164"
      },
      "source": [
        "model.fit(X_train,y_train)"
      ],
      "execution_count": null,
      "outputs": [
        {
          "output_type": "execute_result",
          "data": {
            "text/plain": [
              "SVC(C=91)"
            ]
          },
          "metadata": {},
          "execution_count": 16
        }
      ]
    },
    {
      "cell_type": "code",
      "metadata": {
        "colab": {
          "base_uri": "https://localhost:8080/"
        },
        "id": "y05A2Wy2fchu",
        "outputId": "ab3ecd35-dd49-41a7-a20e-0a5c447d7414"
      },
      "source": [
        "model.score(X_test,y_test)"
      ],
      "execution_count": null,
      "outputs": [
        {
          "output_type": "execute_result",
          "data": {
            "text/plain": [
              "0.9059561128526645"
            ]
          },
          "metadata": {},
          "execution_count": 17
        }
      ]
    },
    {
      "cell_type": "code",
      "metadata": {
        "id": "9k3EF0nTzWgr"
      },
      "source": [
        "df['fetal_health'] = df['fetal_health'].astype('uint32')\n",
        "y = df['fetal_health']\n",
        "X = df[['prolongued_decelerations', 'abnormal_short_term_variability']]"
      ],
      "execution_count": null,
      "outputs": []
    },
    {
      "cell_type": "code",
      "metadata": {
        "id": "-lkKIo6P0OcK"
      },
      "source": [
        "import matplotlib.pyplot as plt"
      ],
      "execution_count": null,
      "outputs": []
    },
    {
      "cell_type": "code",
      "metadata": {
        "colab": {
          "base_uri": "https://localhost:8080/",
          "height": 542
        },
        "id": "xl40wKgcg83H",
        "outputId": "d40daf5e-1f97-4501-c165-c6d8889270bc"
      },
      "source": [
        "import plotly.express as px\n",
        "\n",
        "fig = px.scatter_3d(df,df['prolongued_decelerations'],df['abnormal_short_term_variability'],df['accelerations'],color='fetal_health')\n",
        "fig.show()"
      ],
      "execution_count": null,
      "outputs": [
        {
          "output_type": "display_data",
          "data": {
            "text/html": [
              "<html>\n",
              "<head><meta charset=\"utf-8\" /></head>\n",
              "<body>\n",
              "    <div>\n",
              "            <script src=\"https://cdnjs.cloudflare.com/ajax/libs/mathjax/2.7.5/MathJax.js?config=TeX-AMS-MML_SVG\"></script><script type=\"text/javascript\">if (window.MathJax) {MathJax.Hub.Config({SVG: {font: \"STIX-Web\"}});}</script>\n",
              "                <script type=\"text/javascript\">window.PlotlyConfig = {MathJaxConfig: 'local'};</script>\n",
              "        <script src=\"https://cdn.plot.ly/plotly-latest.min.js\"></script>    \n",
              "            <div id=\"9725a148-a895-41bc-b635-4e40f1b95531\" class=\"plotly-graph-div\" style=\"height:525px; width:100%;\"></div>\n",
              "            <script type=\"text/javascript\">\n",
              "                \n",
              "                    window.PLOTLYENV=window.PLOTLYENV || {};\n",
              "                    \n",
              "                if (document.getElementById(\"9725a148-a895-41bc-b635-4e40f1b95531\")) {\n",
              "                    Plotly.newPlot(\n",
              "                        '9725a148-a895-41bc-b635-4e40f1b95531',\n",
              "                        [{\"hoverlabel\": {\"namelength\": 0}, \"hovertemplate\": \"fetal_health=2<br>prolongued_decelerations=%{x}<br>abnormal_short_term_variability=%{y}<br>accelerations=%{z}\", \"legendgroup\": \"fetal_health=2\", \"marker\": {\"color\": \"#636efa\", \"symbol\": \"circle\"}, \"mode\": \"markers\", \"name\": \"fetal_health=2\", \"scene\": \"scene\", \"showlegend\": true, \"type\": \"scatter3d\", \"x\": [0.0, 0.0, 0.0, 0.002, 0.001, 0.001, 0.0, 0.0, 0.0, 0.0, 0.0, 0.0, 0.0, 0.0, 0.0, 0.0, 0.0, 0.0, 0.002, 0.0, 0.0, 0.0, 0.0, 0.0, 0.0, 0.0, 0.0, 0.0, 0.0, 0.0, 0.0, 0.0, 0.0, 0.0, 0.0, 0.0, 0.0, 0.0, 0.0, 0.0, 0.0, 0.0, 0.0, 0.0, 0.0, 0.0, 0.0, 0.0, 0.0, 0.0, 0.0, 0.0, 0.0, 0.0, 0.0, 0.0, 0.0, 0.0, 0.0, 0.0, 0.0, 0.0, 0.0, 0.0, 0.0, 0.0, 0.0, 0.0, 0.0, 0.0, 0.0, 0.0, 0.0, 0.0, 0.0, 0.0, 0.0, 0.0, 0.0, 0.0, 0.0, 0.0, 0.0, 0.0, 0.0, 0.0, 0.0, 0.0, 0.0, 0.0, 0.0, 0.0, 0.0, 0.0, 0.0, 0.0, 0.0, 0.0, 0.0, 0.0, 0.0, 0.0, 0.0, 0.0, 0.0, 0.0, 0.0, 0.0, 0.0, 0.0, 0.0, 0.0, 0.0, 0.0, 0.0, 0.0, 0.0, 0.0, 0.0, 0.0, 0.0, 0.0, 0.0, 0.0, 0.0, 0.0, 0.0, 0.0, 0.0, 0.0, 0.0, 0.0, 0.0, 0.0, 0.0, 0.0, 0.0, 0.0, 0.0, 0.0, 0.0, 0.0, 0.0, 0.0, 0.0, 0.0, 0.0, 0.0, 0.0, 0.0, 0.0, 0.0, 0.0, 0.0, 0.0, 0.0, 0.0, 0.0, 0.0, 0.0, 0.0, 0.0, 0.0, 0.0, 0.0, 0.0, 0.0, 0.0, 0.0, 0.0, 0.0, 0.0, 0.0, 0.0, 0.0, 0.0, 0.0, 0.0, 0.0, 0.0, 0.0, 0.0, 0.0, 0.0, 0.0, 0.0, 0.0, 0.0, 0.003, 0.002, 0.003, 0.002, 0.002, 0.0, 0.0, 0.002, 0.0, 0.001, 0.001, 0.0, 0.0, 0.0, 0.0, 0.0, 0.0, 0.0, 0.0, 0.0, 0.0, 0.0, 0.0, 0.0, 0.0, 0.0, 0.0, 0.0, 0.0, 0.0, 0.0, 0.0, 0.0, 0.0, 0.0, 0.0, 0.0, 0.0, 0.0, 0.0, 0.0, 0.0, 0.0, 0.0, 0.0, 0.0, 0.0, 0.0, 0.0, 0.0, 0.0, 0.0, 0.0, 0.0, 0.0, 0.0, 0.0, 0.0, 0.0, 0.0, 0.0, 0.0, 0.0, 0.0, 0.0, 0.003, 0.0, 0.0, 0.002, 0.0, 0.0, 0.0, 0.0, 0.0, 0.0, 0.0, 0.0, 0.0, 0.0, 0.0, 0.0, 0.0, 0.0, 0.0, 0.0, 0.0, 0.0, 0.0, 0.0, 0.0, 0.0, 0.001, 0.0, 0.0, 0.0, 0.0, 0.0, 0.0, 0.0, 0.0, 0.0, 0.0, 0.0, 0.0, 0.0, 0.0, 0.0], \"y\": [73.0, 64.0, 64.0, 18.0, 29.0, 34.0, 61.0, 57.0, 58.0, 65.0, 61.0, 51.0, 64.0, 67.0, 70.0, 63.0, 60.0, 61.0, 28.0, 65.0, 69.0, 62.0, 65.0, 66.0, 66.0, 57.0, 58.0, 48.0, 43.0, 43.0, 45.0, 44.0, 49.0, 46.0, 56.0, 57.0, 49.0, 63.0, 61.0, 66.0, 67.0, 70.0, 66.0, 67.0, 70.0, 64.0, 61.0, 67.0, 30.0, 67.0, 74.0, 61.0, 75.0, 65.0, 61.0, 66.0, 74.0, 72.0, 75.0, 77.0, 71.0, 75.0, 77.0, 74.0, 77.0, 61.0, 71.0, 69.0, 76.0, 65.0, 72.0, 77.0, 68.0, 74.0, 74.0, 73.0, 56.0, 54.0, 76.0, 75.0, 77.0, 78.0, 79.0, 77.0, 76.0, 64.0, 64.0, 65.0, 75.0, 77.0, 78.0, 77.0, 76.0, 78.0, 78.0, 75.0, 69.0, 67.0, 61.0, 59.0, 60.0, 64.0, 69.0, 67.0, 61.0, 63.0, 65.0, 61.0, 64.0, 68.0, 60.0, 66.0, 60.0, 60.0, 53.0, 59.0, 56.0, 70.0, 63.0, 65.0, 65.0, 47.0, 53.0, 48.0, 73.0, 70.0, 78.0, 76.0, 76.0, 78.0, 66.0, 71.0, 60.0, 63.0, 68.0, 63.0, 70.0, 65.0, 64.0, 65.0, 65.0, 63.0, 60.0, 64.0, 61.0, 57.0, 53.0, 60.0, 61.0, 58.0, 68.0, 69.0, 68.0, 69.0, 78.0, 62.0, 66.0, 60.0, 60.0, 64.0, 55.0, 54.0, 61.0, 64.0, 56.0, 60.0, 63.0, 65.0, 66.0, 65.0, 54.0, 66.0, 70.0, 63.0, 59.0, 61.0, 60.0, 79.0, 78.0, 75.0, 76.0, 51.0, 47.0, 62.0, 60.0, 74.0, 72.0, 70.0, 23.0, 57.0, 57.0, 60.0, 61.0, 62.0, 65.0, 58.0, 62.0, 21.0, 25.0, 60.0, 64.0, 64.0, 65.0, 70.0, 55.0, 61.0, 79.0, 66.0, 69.0, 67.0, 76.0, 61.0, 74.0, 75.0, 77.0, 75.0, 75.0, 75.0, 73.0, 73.0, 78.0, 74.0, 69.0, 72.0, 64.0, 66.0, 65.0, 65.0, 65.0, 69.0, 65.0, 65.0, 53.0, 61.0, 53.0, 60.0, 61.0, 60.0, 62.0, 60.0, 62.0, 59.0, 61.0, 45.0, 44.0, 66.0, 61.0, 63.0, 61.0, 61.0, 63.0, 62.0, 60.0, 30.0, 60.0, 61.0, 24.0, 60.0, 60.0, 59.0, 58.0, 50.0, 50.0, 51.0, 51.0, 51.0, 52.0, 43.0, 45.0, 48.0, 44.0, 41.0, 50.0, 51.0, 38.0, 44.0, 44.0, 37.0, 36.0, 34.0, 43.0, 48.0, 61.0, 63.0, 62.0, 61.0, 36.0, 32.0, 42.0, 48.0, 74.0, 79.0, 78.0, 79.0, 78.0], \"z\": [0.0, 0.0, 0.0, 0.002, 0.0, 0.0, 0.0, 0.0, 0.0, 0.0, 0.0, 0.002, 0.002, 0.0, 0.0, 0.0, 0.0, 0.0, 0.0, 0.0, 0.0, 0.0, 0.0, 0.0, 0.0, 0.001, 0.002, 0.0, 0.001, 0.002, 0.0, 0.001, 0.002, 0.001, 0.0, 0.0, 0.0, 0.0, 0.0, 0.0, 0.0, 0.0, 0.0, 0.0, 0.0, 0.002, 0.003, 0.0, 0.0, 0.0, 0.0, 0.0, 0.0, 0.0, 0.0, 0.0, 0.0, 0.0, 0.0, 0.0, 0.0, 0.0, 0.0, 0.0, 0.0, 0.0, 0.0, 0.0, 0.0, 0.0, 0.0, 0.0, 0.0, 0.0, 0.0, 0.0, 0.0, 0.002, 0.0, 0.0, 0.0, 0.0, 0.0, 0.0, 0.0, 0.0, 0.0, 0.0, 0.0, 0.0, 0.0, 0.0, 0.0, 0.0, 0.0, 0.0, 0.0, 0.0, 0.0, 0.0, 0.0, 0.0, 0.0, 0.0, 0.0, 0.0, 0.0, 0.0, 0.0, 0.0, 0.0, 0.0, 0.0, 0.0, 0.005, 0.001, 0.001, 0.0, 0.0, 0.0, 0.0, 0.002, 0.0, 0.0, 0.0, 0.0, 0.0, 0.0, 0.0, 0.0, 0.0, 0.0, 0.0, 0.002, 0.001, 0.002, 0.001, 0.0, 0.0, 0.0, 0.0, 0.0, 0.0, 0.0, 0.0, 0.0, 0.0, 0.0, 0.0, 0.0, 0.0, 0.0, 0.0, 0.0, 0.0, 0.0, 0.0, 0.0, 0.0, 0.0, 0.002, 0.001, 0.0, 0.0, 0.003, 0.0, 0.0, 0.0, 0.0, 0.0, 0.003, 0.0, 0.0, 0.0, 0.0, 0.0, 0.0, 0.0, 0.0, 0.0, 0.002, 0.0, 0.0, 0.0, 0.0, 0.0, 0.0, 0.0, 0.0, 0.0, 0.0, 0.0, 0.0, 0.0, 0.0, 0.0, 0.002, 0.004, 0.001, 0.0, 0.0, 0.0, 0.0, 0.0, 0.0, 0.002, 0.0, 0.0, 0.0, 0.0, 0.0, 0.0, 0.0, 0.0, 0.0, 0.0, 0.0, 0.0, 0.0, 0.0, 0.0, 0.0, 0.0, 0.0, 0.0, 0.0, 0.0, 0.0, 0.0, 0.0, 0.0, 0.0, 0.0, 0.0, 0.0, 0.0, 0.0, 0.0, 0.0, 0.0, 0.0, 0.0, 0.0, 0.0, 0.0, 0.0, 0.001, 0.0, 0.0, 0.001, 0.001, 0.001, 0.001, 0.003, 0.0, 0.0, 0.0, 0.0, 0.0, 0.0, 0.0, 0.0, 0.002, 0.0, 0.0, 0.002, 0.0, 0.0, 0.0, 0.0, 0.002, 0.0, 0.0, 0.0, 0.0, 0.0, 0.0, 0.002, 0.001, 0.002, 0.0, 0.0, 0.0, 0.0, 0.0, 0.0, 0.0, 0.001, 0.0, 0.0, 0.0, 0.0, 0.001, 0.001, 0.001]}, {\"hoverlabel\": {\"namelength\": 0}, \"hovertemplate\": \"fetal_health=1<br>prolongued_decelerations=%{x}<br>abnormal_short_term_variability=%{y}<br>accelerations=%{z}\", \"legendgroup\": \"fetal_health=1\", \"marker\": {\"color\": \"#EF553B\", \"symbol\": \"circle\"}, \"mode\": \"markers\", \"name\": \"fetal_health=1\", \"scene\": \"scene\", \"showlegend\": true, \"type\": \"scatter3d\", \"x\": [0.0, 0.0, 0.0, 0.0, 0.0, 0.0, 0.001, 0.001, 0.0, 0.001, 0.001, 0.002, 0.0, 0.0, 0.0, 0.0, 0.0, 0.0, 0.0, 0.0, 0.0, 0.0, 0.0, 0.0, 0.0, 0.0, 0.0, 0.0, 0.0, 0.0, 0.0, 0.0, 0.0, 0.0, 0.0, 0.0, 0.0, 0.0, 0.0, 0.0, 0.0, 0.0, 0.0, 0.0, 0.0, 0.0, 0.0, 0.0, 0.0, 0.0, 0.0, 0.0, 0.0, 0.0, 0.0, 0.0, 0.0, 0.0, 0.0, 0.0, 0.0, 0.0, 0.0, 0.0, 0.0, 0.0, 0.0, 0.0, 0.0, 0.0, 0.0, 0.0, 0.0, 0.0, 0.0, 0.0, 0.0, 0.0, 0.0, 0.0, 0.0, 0.0, 0.0, 0.0, 0.0, 0.0, 0.0, 0.0, 0.0, 0.0, 0.0, 0.0, 0.0, 0.0, 0.0, 0.0, 0.0, 0.0, 0.0, 0.0, 0.0, 0.0, 0.0, 0.0, 0.0, 0.0, 0.0, 0.0, 0.0, 0.0, 0.0, 0.0, 0.0, 0.0, 0.0, 0.0, 0.0, 0.0, 0.0, 0.0, 0.0, 0.0, 0.0, 0.0, 0.0, 0.0, 0.0, 0.0, 0.0, 0.0, 0.0, 0.0, 0.0, 0.0, 0.0, 0.0, 0.0, 0.0, 0.0, 0.0, 0.0, 0.0, 0.0, 0.0, 0.0, 0.0, 0.0, 0.0, 0.0, 0.0, 0.0, 0.0, 0.0, 0.0, 0.0, 0.0, 0.0, 0.0, 0.0, 0.0, 0.0, 0.0, 0.0, 0.0, 0.0, 0.0, 0.0, 0.0, 0.0, 0.0, 0.0, 0.0, 0.0, 0.0, 0.0, 0.0, 0.0, 0.0, 0.0, 0.0, 0.0, 0.0, 0.0, 0.0, 0.0, 0.0, 0.0, 0.0, 0.0, 0.0, 0.0, 0.0, 0.0, 0.0, 0.0, 0.0, 0.0, 0.0, 0.0, 0.0, 0.0, 0.0, 0.0, 0.0, 0.0, 0.0, 0.0, 0.0, 0.0, 0.0, 0.0, 0.0, 0.0, 0.0, 0.0, 0.0, 0.0, 0.0, 0.0, 0.0, 0.0, 0.0, 0.0, 0.0, 0.0, 0.0, 0.0, 0.0, 0.0, 0.0, 0.0, 0.0, 0.0, 0.0, 0.0, 0.0, 0.0, 0.0, 0.0, 0.0, 0.0, 0.0, 0.0, 0.0, 0.0, 0.0, 0.0, 0.0, 0.0, 0.0, 0.0, 0.0, 0.0, 0.0, 0.0, 0.0, 0.0, 0.0, 0.0, 0.0, 0.0, 0.0, 0.0, 0.0, 0.0, 0.0, 0.0, 0.0, 0.0, 0.0, 0.0, 0.0, 0.0, 0.0, 0.0, 0.0, 0.0, 0.0, 0.0, 0.0, 0.0, 0.0, 0.0, 0.0, 0.0, 0.0, 0.0, 0.0, 0.0, 0.0, 0.0, 0.0, 0.0, 0.0, 0.0, 0.0, 0.0, 0.0, 0.0, 0.0, 0.0, 0.0, 0.0, 0.0, 0.0, 0.0, 0.0, 0.0, 0.0, 0.0, 0.0, 0.0, 0.0, 0.0, 0.0, 0.0, 0.0, 0.0, 0.0, 0.0, 0.0, 0.0, 0.0, 0.0, 0.0, 0.0, 0.0, 0.0, 0.0, 0.0, 0.0, 0.0, 0.0, 0.0, 0.0, 0.0, 0.0, 0.0, 0.0, 0.0, 0.0, 0.0, 0.0, 0.0, 0.0, 0.0, 0.0, 0.0, 0.0, 0.0, 0.0, 0.0, 0.0, 0.0, 0.0, 0.0, 0.0, 0.0, 0.0, 0.0, 0.0, 0.0, 0.0, 0.0, 0.0, 0.0, 0.0, 0.0, 0.0, 0.0, 0.0, 0.0, 0.0, 0.0, 0.0, 0.0, 0.0, 0.0, 0.0, 0.0, 0.0, 0.0, 0.0, 0.0, 0.0, 0.0, 0.0, 0.0, 0.0, 0.0, 0.0, 0.0, 0.0, 0.0, 0.0, 0.0, 0.0, 0.0, 0.0, 0.0, 0.0, 0.0, 0.0, 0.0, 0.0, 0.0, 0.0, 0.0, 0.0, 0.0, 0.0, 0.0, 0.0, 0.0, 0.0, 0.0, 0.0, 0.0, 0.0, 0.0, 0.0, 0.0, 0.0, 0.0, 0.0, 0.0, 0.0, 0.0, 0.0, 0.0, 0.0, 0.0, 0.0, 0.0, 0.001, 0.0, 0.001, 0.0, 0.0, 0.0, 0.0, 0.0, 0.0, 0.0, 0.0, 0.0, 0.0, 0.0, 0.0, 0.0, 0.0, 0.0, 0.0, 0.0, 0.0, 0.0, 0.0, 0.0, 0.0, 0.0, 0.0, 0.0, 0.0, 0.0, 0.0, 0.0, 0.0, 0.0, 0.0, 0.0, 0.0, 0.0, 0.0, 0.0, 0.0, 0.0, 0.0, 0.0, 0.0, 0.0, 0.0, 0.0, 0.0, 0.0, 0.0, 0.0, 0.0, 0.0, 0.0, 0.0, 0.0, 0.0, 0.0, 0.0, 0.0, 0.0, 0.0, 0.0, 0.0, 0.0, 0.0, 0.0, 0.0, 0.0, 0.0, 0.0, 0.0, 0.0, 0.0, 0.0, 0.0, 0.0, 0.0, 0.0, 0.0, 0.0, 0.0, 0.0, 0.0, 0.0, 0.0, 0.0, 0.0, 0.0, 0.0, 0.0, 0.0, 0.0, 0.0, 0.0, 0.0, 0.0, 0.0, 0.0, 0.0, 0.0, 0.0, 0.0, 0.0, 0.0, 0.0, 0.0, 0.0, 0.0, 0.0, 0.0, 0.0, 0.0, 0.0, 0.0, 0.0, 0.0, 0.0, 0.0, 0.0, 0.0, 0.0, 0.0, 0.0, 0.0, 0.0, 0.0, 0.0, 0.0, 0.0, 0.0, 0.0, 0.0, 0.0, 0.0, 0.0, 0.0, 0.0, 0.0, 0.0, 0.0, 0.0, 0.0, 0.0, 0.0, 0.0, 0.0, 0.0, 0.0, 0.0, 0.0, 0.0, 0.0, 0.0, 0.0, 0.002, 0.002, 0.0, 0.0, 0.0, 0.0, 0.001, 0.0, 0.0, 0.0, 0.0, 0.0, 0.0, 0.0, 0.0, 0.0, 0.0, 0.0, 0.0, 0.0, 0.0, 0.0, 0.0, 0.0, 0.0, 0.0, 0.0, 0.0, 0.0, 0.0, 0.0, 0.0, 0.0, 0.0, 0.0, 0.0, 0.0, 0.0, 0.0, 0.0, 0.0, 0.0, 0.0, 0.0, 0.0, 0.0, 0.0, 0.0, 0.0, 0.0, 0.0, 0.0, 0.0, 0.0, 0.0, 0.0, 0.0, 0.0, 0.0, 0.001, 0.002, 0.0, 0.0, 0.0, 0.0, 0.0, 0.0, 0.0, 0.0, 0.0, 0.0, 0.0, 0.0, 0.0, 0.0, 0.0, 0.0, 0.0, 0.0, 0.0, 0.0, 0.0, 0.0, 0.0, 0.0, 0.0, 0.0, 0.0, 0.0, 0.0, 0.0, 0.0, 0.0, 0.0, 0.0, 0.0, 0.0, 0.0, 0.0, 0.0, 0.0, 0.0, 0.0, 0.0, 0.0, 0.0, 0.0, 0.0, 0.0, 0.0, 0.0, 0.0, 0.0, 0.0, 0.0, 0.0, 0.0, 0.0, 0.0, 0.0, 0.0, 0.0, 0.0, 0.0, 0.0, 0.0, 0.0, 0.0, 0.0, 0.0, 0.0, 0.0, 0.0, 0.0, 0.0, 0.0, 0.0, 0.0, 0.0, 0.0, 0.0, 0.0, 0.0, 0.0, 0.0, 0.0, 0.0, 0.0, 0.0, 0.0, 0.0, 0.0, 0.0, 0.0, 0.0, 0.0, 0.0, 0.0, 0.0, 0.0, 0.0, 0.0, 0.0, 0.0, 0.0, 0.0, 0.0, 0.0, 0.0, 0.0, 0.0, 0.0, 0.0, 0.0, 0.0, 0.0, 0.0, 0.0, 0.0, 0.0, 0.0, 0.0, 0.0, 0.0, 0.0, 0.0, 0.0, 0.0, 0.0, 0.0, 0.0, 0.0, 0.0, 0.0, 0.0, 0.0, 0.0, 0.0, 0.0, 0.0, 0.0, 0.0, 0.0, 0.0, 0.0, 0.0, 0.0, 0.0, 0.0, 0.0, 0.0, 0.0, 0.0, 0.0, 0.0, 0.0, 0.0, 0.0, 0.0, 0.0, 0.0, 0.0, 0.0, 0.0, 0.0, 0.0, 0.0, 0.0, 0.0, 0.0, 0.0, 0.0, 0.0, 0.0, 0.0, 0.0, 0.0, 0.0, 0.0, 0.001, 0.0, 0.0, 0.0, 0.0, 0.0, 0.0, 0.0, 0.0, 0.0, 0.0, 0.0, 0.0, 0.0, 0.0, 0.0, 0.0, 0.0, 0.0, 0.0, 0.0, 0.0, 0.0, 0.0, 0.0, 0.0, 0.0, 0.0, 0.0, 0.0, 0.0, 0.0, 0.0, 0.0, 0.0, 0.0, 0.0, 0.0, 0.0, 0.0, 0.0, 0.0, 0.0, 0.0, 0.0, 0.0, 0.0, 0.0, 0.0, 0.0, 0.0, 0.0, 0.0, 0.0, 0.0, 0.0, 0.0, 0.0, 0.0, 0.0, 0.0, 0.0, 0.0, 0.0, 0.0, 0.0, 0.0, 0.0, 0.0, 0.0, 0.0, 0.0, 0.0, 0.0, 0.0, 0.0, 0.0, 0.0, 0.0, 0.0, 0.0, 0.0, 0.0, 0.0, 0.0, 0.0, 0.0, 0.0, 0.0, 0.0, 0.0, 0.0, 0.0, 0.0, 0.0, 0.0, 0.0, 0.0, 0.0, 0.0, 0.0, 0.0, 0.0, 0.0, 0.0, 0.0, 0.0, 0.0, 0.0, 0.0, 0.0, 0.0, 0.0, 0.0, 0.001, 0.0, 0.0, 0.0, 0.0, 0.0, 0.0, 0.0, 0.0, 0.0, 0.001, 0.002, 0.0, 0.0, 0.0, 0.0, 0.001, 0.001, 0.001, 0.001, 0.001, 0.0, 0.001, 0.001, 0.0, 0.0, 0.0, 0.0, 0.0, 0.0, 0.0, 0.0, 0.001, 0.0, 0.0, 0.001, 0.0, 0.0, 0.0, 0.0, 0.0, 0.001, 0.001, 0.001, 0.002, 0.001, 0.001, 0.001, 0.002, 0.0, 0.0, 0.0, 0.0, 0.0, 0.0, 0.001, 0.003, 0.001, 0.002, 0.001, 0.002, 0.001, 0.0, 0.0, 0.0, 0.001, 0.0, 0.0, 0.0, 0.0, 0.0, 0.0, 0.0, 0.0, 0.0, 0.0, 0.0, 0.0, 0.0, 0.0, 0.0, 0.0, 0.0, 0.0, 0.0, 0.0, 0.0, 0.0, 0.0, 0.0, 0.0, 0.0, 0.0, 0.0, 0.001, 0.002, 0.001, 0.0, 0.0, 0.0, 0.0, 0.0, 0.0, 0.0, 0.0, 0.0, 0.0, 0.0, 0.0, 0.0, 0.0, 0.0, 0.0, 0.0, 0.0, 0.0, 0.0, 0.0, 0.0, 0.0, 0.0, 0.0, 0.0, 0.0, 0.0, 0.0, 0.0, 0.0, 0.0, 0.0, 0.0, 0.0, 0.0, 0.0, 0.0, 0.0, 0.0, 0.0, 0.0, 0.0, 0.0, 0.0, 0.0, 0.0, 0.0, 0.0, 0.0, 0.0, 0.0, 0.0, 0.0, 0.0, 0.0, 0.0, 0.0, 0.0, 0.0, 0.0, 0.0, 0.0, 0.0, 0.0, 0.0, 0.0, 0.0, 0.0, 0.0, 0.0, 0.0, 0.0, 0.0, 0.0, 0.0, 0.0, 0.0, 0.0, 0.0, 0.0, 0.001, 0.002, 0.001, 0.0, 0.0, 0.0, 0.0, 0.0, 0.002, 0.0, 0.0, 0.0, 0.0, 0.0, 0.0, 0.0, 0.0, 0.0, 0.0, 0.0, 0.0, 0.0, 0.0, 0.0, 0.0, 0.0, 0.0, 0.0, 0.0, 0.0, 0.0, 0.0, 0.0, 0.0, 0.0, 0.0, 0.0, 0.0, 0.0, 0.0, 0.0, 0.0, 0.0, 0.0, 0.0, 0.0, 0.0, 0.0, 0.0, 0.0, 0.0, 0.0, 0.0, 0.0, 0.0, 0.0, 0.0, 0.0, 0.0, 0.0, 0.0, 0.0, 0.0, 0.0, 0.0, 0.0, 0.0, 0.0, 0.0, 0.0, 0.0, 0.0, 0.0, 0.0, 0.0, 0.0, 0.0, 0.0, 0.0, 0.0, 0.0, 0.0, 0.0, 0.0, 0.0, 0.0, 0.0, 0.0, 0.0, 0.0, 0.0, 0.0, 0.0, 0.0, 0.0, 0.0, 0.0, 0.0, 0.0, 0.0, 0.0, 0.0, 0.0, 0.0, 0.0, 0.0, 0.0, 0.0, 0.0, 0.0, 0.0, 0.0, 0.0, 0.0, 0.0, 0.0, 0.001, 0.001, 0.001, 0.001, 0.0, 0.0, 0.0, 0.0, 0.0, 0.0, 0.0, 0.0, 0.0, 0.0, 0.0, 0.0, 0.0, 0.0, 0.0, 0.0, 0.0, 0.0, 0.0, 0.0, 0.0, 0.0, 0.0, 0.0, 0.0, 0.0, 0.0, 0.0, 0.0, 0.0, 0.0, 0.0, 0.0, 0.0, 0.0, 0.0, 0.0, 0.0, 0.0, 0.0, 0.0, 0.0, 0.0, 0.0, 0.0, 0.0, 0.0, 0.0, 0.0, 0.0, 0.0, 0.0, 0.0, 0.0, 0.0, 0.0, 0.0, 0.0, 0.0, 0.0, 0.0, 0.0, 0.0, 0.0, 0.0, 0.0, 0.0, 0.0, 0.0, 0.0, 0.0, 0.0, 0.0, 0.0, 0.0, 0.0, 0.0, 0.0, 0.0, 0.0, 0.0, 0.0, 0.001, 0.0, 0.0, 0.0, 0.0, 0.0, 0.0, 0.0, 0.0, 0.0, 0.0, 0.0, 0.0, 0.0, 0.0, 0.0, 0.0, 0.001, 0.0, 0.0, 0.0, 0.0, 0.0, 0.0, 0.0, 0.0, 0.0, 0.0, 0.0, 0.0, 0.0, 0.0, 0.0, 0.0, 0.0, 0.0, 0.0, 0.0, 0.0, 0.0, 0.0, 0.0, 0.0, 0.0, 0.0, 0.0, 0.0, 0.0, 0.0, 0.0, 0.0, 0.0, 0.0, 0.0, 0.0, 0.0, 0.0, 0.0, 0.0, 0.0, 0.0, 0.0, 0.0, 0.0, 0.0, 0.0, 0.0, 0.0, 0.0, 0.0, 0.0, 0.0, 0.0, 0.0, 0.0, 0.0, 0.0, 0.0, 0.0, 0.0, 0.0, 0.0, 0.0, 0.0, 0.0, 0.0, 0.0, 0.0, 0.0, 0.0, 0.0, 0.0, 0.0, 0.0, 0.0, 0.0, 0.0, 0.0, 0.0, 0.0, 0.0, 0.0, 0.0, 0.0, 0.0, 0.0, 0.0, 0.0, 0.0, 0.0, 0.0, 0.0, 0.0, 0.0, 0.0, 0.0, 0.0, 0.0, 0.0, 0.0, 0.0, 0.0, 0.0, 0.0, 0.0, 0.0, 0.0, 0.0, 0.0, 0.0, 0.0, 0.0, 0.0, 0.0, 0.0, 0.0, 0.0, 0.0, 0.0, 0.0, 0.0, 0.0, 0.0, 0.0, 0.0, 0.0, 0.0, 0.0, 0.0, 0.0, 0.0, 0.0, 0.0, 0.0, 0.0, 0.0, 0.0, 0.0, 0.0, 0.0, 0.0, 0.0, 0.0, 0.0, 0.0, 0.0, 0.0, 0.0, 0.0, 0.0, 0.0, 0.0, 0.0, 0.0, 0.0, 0.001, 0.001, 0.0, 0.0, 0.0, 0.0, 0.0, 0.0, 0.0, 0.0, 0.0, 0.0, 0.0, 0.0, 0.0, 0.0, 0.0, 0.0, 0.0, 0.0, 0.0, 0.0, 0.0, 0.0, 0.0, 0.0, 0.0, 0.0, 0.0, 0.0, 0.0, 0.0, 0.0, 0.0, 0.0, 0.0, 0.0, 0.0, 0.0, 0.0, 0.0, 0.0, 0.0, 0.0, 0.0, 0.0, 0.0, 0.0, 0.0, 0.0, 0.0, 0.0, 0.0, 0.0, 0.0, 0.0, 0.0, 0.0, 0.0, 0.0, 0.0, 0.0, 0.001, 0.001, 0.001, 0.001, 0.001, 0.001, 0.001, 0.001, 0.001, 0.001, 0.0, 0.0, 0.0, 0.0, 0.0, 0.0, 0.0, 0.0, 0.0, 0.0, 0.0, 0.0, 0.0, 0.0, 0.0, 0.0, 0.0, 0.0, 0.0, 0.0, 0.0, 0.0, 0.0, 0.0, 0.0, 0.0, 0.0, 0.0, 0.0, 0.0, 0.0, 0.0, 0.0, 0.0, 0.0, 0.0, 0.0, 0.0, 0.0, 0.0, 0.0, 0.0, 0.0, 0.0, 0.0, 0.0, 0.0, 0.0, 0.0, 0.0, 0.0, 0.0, 0.0, 0.0, 0.0, 0.0, 0.0, 0.0, 0.0, 0.0, 0.0, 0.0, 0.0, 0.0, 0.0, 0.0, 0.0, 0.0, 0.0, 0.0, 0.0, 0.0, 0.0, 0.001, 0.002, 0.002, 0.0, 0.0, 0.0, 0.0, 0.0, 0.0, 0.0, 0.0, 0.0], \"y\": [17.0, 16.0, 16.0, 16.0, 28.0, 28.0, 21.0, 19.0, 24.0, 23.0, 29.0, 26.0, 26.0, 26.0, 22.0, 29.0, 28.0, 28.0, 27.0, 23.0, 24.0, 22.0, 27.0, 28.0, 27.0, 40.0, 40.0, 22.0, 21.0, 17.0, 20.0, 22.0, 27.0, 29.0, 43.0, 39.0, 41.0, 33.0, 39.0, 39.0, 25.0, 24.0, 25.0, 40.0, 44.0, 34.0, 34.0, 46.0, 45.0, 52.0, 53.0, 52.0, 56.0, 36.0, 34.0, 35.0, 34.0, 40.0, 41.0, 43.0, 41.0, 40.0, 41.0, 38.0, 62.0, 58.0, 19.0, 25.0, 24.0, 24.0, 29.0, 22.0, 22.0, 22.0, 22.0, 20.0, 25.0, 23.0, 34.0, 35.0, 38.0, 22.0, 22.0, 30.0, 29.0, 24.0, 47.0, 50.0, 45.0, 33.0, 54.0, 55.0, 56.0, 57.0, 61.0, 58.0, 58.0, 57.0, 44.0, 44.0, 50.0, 50.0, 51.0, 51.0, 51.0, 54.0, 57.0, 55.0, 41.0, 31.0, 34.0, 38.0, 39.0, 38.0, 34.0, 33.0, 36.0, 35.0, 32.0, 32.0, 31.0, 56.0, 53.0, 67.0, 67.0, 46.0, 43.0, 48.0, 29.0, 30.0, 31.0, 31.0, 34.0, 30.0, 26.0, 33.0, 27.0, 35.0, 37.0, 38.0, 31.0, 36.0, 49.0, 32.0, 54.0, 49.0, 53.0, 51.0, 56.0, 54.0, 57.0, 51.0, 56.0, 55.0, 53.0, 46.0, 59.0, 48.0, 51.0, 50.0, 47.0, 61.0, 58.0, 54.0, 53.0, 52.0, 55.0, 47.0, 44.0, 53.0, 56.0, 48.0, 48.0, 47.0, 52.0, 55.0, 50.0, 55.0, 49.0, 49.0, 56.0, 52.0, 58.0, 43.0, 48.0, 56.0, 50.0, 57.0, 53.0, 51.0, 14.0, 12.0, 16.0, 13.0, 13.0, 22.0, 23.0, 24.0, 22.0, 21.0, 46.0, 45.0, 48.0, 49.0, 34.0, 34.0, 41.0, 32.0, 44.0, 37.0, 41.0, 54.0, 50.0, 50.0, 56.0, 41.0, 46.0, 45.0, 44.0, 58.0, 51.0, 57.0, 46.0, 54.0, 55.0, 46.0, 50.0, 41.0, 37.0, 44.0, 48.0, 36.0, 36.0, 37.0, 39.0, 37.0, 36.0, 59.0, 46.0, 56.0, 51.0, 47.0, 63.0, 59.0, 55.0, 53.0, 53.0, 40.0, 39.0, 39.0, 39.0, 41.0, 37.0, 44.0, 55.0, 55.0, 59.0, 58.0, 59.0, 58.0, 43.0, 55.0, 58.0, 53.0, 34.0, 42.0, 45.0, 46.0, 62.0, 56.0, 51.0, 53.0, 57.0, 35.0, 35.0, 33.0, 34.0, 35.0, 33.0, 36.0, 36.0, 35.0, 38.0, 32.0, 34.0, 31.0, 34.0, 29.0, 31.0, 36.0, 34.0, 40.0, 39.0, 49.0, 50.0, 48.0, 49.0, 48.0, 45.0, 56.0, 43.0, 46.0, 42.0, 43.0, 41.0, 42.0, 40.0, 40.0, 41.0, 41.0, 40.0, 42.0, 36.0, 38.0, 38.0, 32.0, 32.0, 38.0, 59.0, 52.0, 55.0, 51.0, 52.0, 53.0, 58.0, 35.0, 35.0, 35.0, 35.0, 38.0, 38.0, 40.0, 36.0, 35.0, 37.0, 37.0, 46.0, 30.0, 28.0, 45.0, 43.0, 50.0, 42.0, 36.0, 39.0, 36.0, 36.0, 37.0, 34.0, 38.0, 39.0, 69.0, 41.0, 45.0, 37.0, 41.0, 40.0, 42.0, 42.0, 45.0, 40.0, 36.0, 38.0, 38.0, 35.0, 35.0, 35.0, 37.0, 77.0, 73.0, 71.0, 73.0, 67.0, 71.0, 67.0, 73.0, 34.0, 36.0, 35.0, 33.0, 39.0, 41.0, 40.0, 40.0, 41.0, 30.0, 40.0, 45.0, 45.0, 43.0, 36.0, 38.0, 45.0, 46.0, 37.0, 46.0, 50.0, 47.0, 48.0, 50.0, 57.0, 56.0, 44.0, 45.0, 42.0, 38.0, 38.0, 40.0, 46.0, 22.0, 23.0, 22.0, 24.0, 21.0, 23.0, 54.0, 56.0, 47.0, 57.0, 57.0, 55.0, 59.0, 56.0, 58.0, 50.0, 54.0, 34.0, 27.0, 26.0, 29.0, 26.0, 28.0, 25.0, 24.0, 29.0, 35.0, 24.0, 32.0, 54.0, 55.0, 56.0, 56.0, 41.0, 41.0, 43.0, 55.0, 52.0, 58.0, 51.0, 55.0, 52.0, 54.0, 52.0, 50.0, 50.0, 53.0, 45.0, 51.0, 41.0, 44.0, 40.0, 40.0, 39.0, 39.0, 41.0, 39.0, 54.0, 28.0, 14.0, 23.0, 29.0, 25.0, 56.0, 56.0, 59.0, 59.0, 47.0, 48.0, 61.0, 61.0, 61.0, 59.0, 53.0, 51.0, 52.0, 52.0, 56.0, 50.0, 50.0, 55.0, 52.0, 49.0, 27.0, 28.0, 50.0, 53.0, 42.0, 37.0, 38.0, 31.0, 28.0, 28.0, 28.0, 59.0, 58.0, 55.0, 58.0, 57.0, 56.0, 57.0, 23.0, 16.0, 20.0, 26.0, 45.0, 46.0, 42.0, 42.0, 43.0, 39.0, 39.0, 40.0, 41.0, 41.0, 43.0, 45.0, 39.0, 41.0, 44.0, 45.0, 43.0, 44.0, 41.0, 41.0, 39.0, 46.0, 36.0, 44.0, 45.0, 38.0, 49.0, 43.0, 44.0, 42.0, 42.0, 42.0, 42.0, 44.0, 44.0, 42.0, 41.0, 40.0, 39.0, 37.0, 37.0, 39.0, 36.0, 37.0, 39.0, 44.0, 45.0, 51.0, 52.0, 46.0, 47.0, 51.0, 43.0, 38.0, 36.0, 37.0, 35.0, 32.0, 30.0, 32.0, 29.0, 26.0, 22.0, 28.0, 30.0, 30.0, 29.0, 29.0, 28.0, 27.0, 19.0, 25.0, 27.0, 40.0, 37.0, 32.0, 27.0, 33.0, 36.0, 39.0, 37.0, 31.0, 31.0, 31.0, 31.0, 23.0, 27.0, 26.0, 28.0, 32.0, 34.0, 30.0, 34.0, 26.0, 25.0, 30.0, 33.0, 34.0, 34.0, 56.0, 54.0, 54.0, 46.0, 32.0, 30.0, 45.0, 39.0, 34.0, 31.0, 35.0, 37.0, 35.0, 32.0, 32.0, 33.0, 33.0, 20.0, 20.0, 35.0, 33.0, 37.0, 27.0, 28.0, 29.0, 27.0, 37.0, 41.0, 44.0, 29.0, 25.0, 32.0, 39.0, 32.0, 42.0, 40.0, 33.0, 35.0, 38.0, 42.0, 29.0, 29.0, 29.0, 25.0, 24.0, 28.0, 29.0, 23.0, 25.0, 25.0, 27.0, 28.0, 27.0, 28.0, 25.0, 23.0, 24.0, 23.0, 22.0, 22.0, 21.0, 22.0, 23.0, 15.0, 13.0, 13.0, 17.0, 12.0, 33.0, 34.0, 41.0, 34.0, 39.0, 38.0, 37.0, 38.0, 35.0, 29.0, 28.0, 27.0, 26.0, 26.0, 23.0, 27.0, 23.0, 24.0, 25.0, 24.0, 23.0, 23.0, 22.0, 25.0, 26.0, 32.0, 35.0, 37.0, 38.0, 38.0, 37.0, 38.0, 37.0, 38.0, 38.0, 36.0, 37.0, 33.0, 32.0, 28.0, 26.0, 33.0, 34.0, 30.0, 32.0, 22.0, 21.0, 18.0, 20.0, 17.0, 17.0, 32.0, 33.0, 19.0, 19.0, 32.0, 31.0, 28.0, 33.0, 17.0, 16.0, 27.0, 31.0, 36.0, 31.0, 27.0, 20.0, 26.0, 31.0, 25.0, 14.0, 36.0, 28.0, 25.0, 21.0, 21.0, 23.0, 20.0, 20.0, 27.0, 29.0, 26.0, 23.0, 22.0, 22.0, 22.0, 24.0, 21.0, 22.0, 22.0, 22.0, 21.0, 23.0, 19.0, 21.0, 19.0, 21.0, 17.0, 18.0, 21.0, 20.0, 20.0, 19.0, 19.0, 19.0, 19.0, 25.0, 26.0, 21.0, 22.0, 23.0, 25.0, 21.0, 20.0, 25.0, 25.0, 27.0, 29.0, 22.0, 22.0, 20.0, 18.0, 16.0, 13.0, 16.0, 17.0, 27.0, 30.0, 27.0, 25.0, 27.0, 26.0, 22.0, 21.0, 24.0, 21.0, 21.0, 18.0, 21.0, 26.0, 24.0, 25.0, 18.0, 16.0, 13.0, 13.0, 23.0, 25.0, 22.0, 22.0, 24.0, 24.0, 27.0, 23.0, 26.0, 24.0, 23.0, 35.0, 36.0, 26.0, 21.0, 34.0, 28.0, 23.0, 25.0, 29.0, 28.0, 27.0, 25.0, 27.0, 30.0, 30.0, 29.0, 49.0, 51.0, 53.0, 47.0, 49.0, 50.0, 50.0, 49.0, 52.0, 52.0, 41.0, 38.0, 37.0, 37.0, 50.0, 53.0, 44.0, 37.0, 44.0, 43.0, 47.0, 48.0, 46.0, 45.0, 48.0, 47.0, 59.0, 58.0, 59.0, 54.0, 51.0, 52.0, 50.0, 48.0, 50.0, 47.0, 47.0, 43.0, 45.0, 40.0, 44.0, 34.0, 32.0, 31.0, 32.0, 30.0, 32.0, 32.0, 36.0, 19.0, 20.0, 20.0, 23.0, 20.0, 24.0, 22.0, 24.0, 23.0, 24.0, 25.0, 24.0, 25.0, 24.0, 23.0, 20.0, 26.0, 24.0, 25.0, 26.0, 25.0, 25.0, 21.0, 24.0, 26.0, 23.0, 24.0, 25.0, 25.0, 23.0, 26.0, 24.0, 27.0, 27.0, 20.0, 20.0, 20.0, 20.0, 20.0, 21.0, 17.0, 19.0, 17.0, 17.0, 21.0, 16.0, 23.0, 26.0, 26.0, 25.0, 17.0, 15.0, 21.0, 15.0, 22.0, 19.0, 24.0, 25.0, 23.0, 21.0, 19.0, 18.0, 24.0, 25.0, 39.0, 36.0, 34.0, 34.0, 32.0, 33.0, 28.0, 28.0, 21.0, 22.0, 22.0, 21.0, 23.0, 23.0, 22.0, 22.0, 18.0, 20.0, 19.0, 22.0, 22.0, 24.0, 22.0, 25.0, 17.0, 30.0, 32.0, 31.0, 31.0, 30.0, 27.0, 21.0, 14.0, 22.0, 22.0, 26.0, 16.0, 29.0, 29.0, 32.0, 33.0, 29.0, 36.0, 27.0, 19.0, 28.0, 33.0, 25.0, 24.0, 20.0, 19.0, 21.0, 26.0, 22.0, 20.0, 26.0, 29.0, 28.0, 23.0, 30.0, 29.0, 28.0, 30.0, 32.0, 27.0, 24.0, 21.0, 24.0, 25.0, 25.0, 26.0, 24.0, 27.0, 28.0, 34.0, 28.0, 37.0, 39.0, 37.0, 41.0, 58.0, 58.0, 49.0, 41.0, 41.0, 44.0, 32.0, 25.0, 46.0, 46.0, 51.0, 55.0, 55.0, 57.0, 43.0, 41.0, 44.0, 48.0, 41.0, 42.0, 42.0, 42.0, 41.0, 40.0, 41.0, 40.0, 38.0, 39.0, 43.0, 42.0, 34.0, 33.0, 38.0, 43.0, 38.0, 39.0, 37.0, 38.0, 37.0, 35.0, 44.0, 41.0, 46.0, 46.0, 46.0, 42.0, 36.0, 44.0, 49.0, 44.0, 40.0, 42.0, 40.0, 40.0, 46.0, 37.0, 50.0, 51.0, 51.0, 51.0, 27.0, 21.0, 36.0, 42.0, 37.0, 34.0, 29.0, 30.0, 35.0, 43.0, 47.0, 51.0, 35.0, 30.0, 30.0, 28.0, 31.0, 32.0, 33.0, 33.0, 32.0, 32.0, 30.0, 30.0, 27.0, 29.0, 40.0, 51.0, 38.0, 36.0, 48.0, 53.0, 40.0, 47.0, 52.0, 37.0, 33.0, 39.0, 31.0, 31.0, 28.0, 41.0, 49.0, 28.0, 31.0, 34.0, 32.0, 27.0, 22.0, 34.0, 36.0, 40.0, 34.0, 33.0, 35.0, 42.0, 36.0, 47.0, 37.0, 53.0, 54.0, 42.0, 43.0, 43.0, 48.0, 48.0, 42.0, 39.0, 55.0, 59.0, 51.0, 45.0, 50.0, 32.0, 33.0, 28.0, 22.0, 34.0, 33.0, 40.0, 38.0, 40.0, 26.0, 45.0, 48.0, 24.0, 24.0, 25.0, 25.0, 25.0, 26.0, 28.0, 22.0, 34.0, 35.0, 28.0, 30.0, 25.0, 16.0, 29.0, 26.0, 30.0, 35.0, 28.0, 15.0, 32.0, 27.0, 33.0, 37.0, 20.0, 27.0, 20.0, 21.0, 22.0, 33.0, 31.0, 37.0, 42.0, 19.0, 18.0, 62.0, 64.0, 65.0, 65.0, 63.0, 65.0, 65.0, 64.0, 65.0, 65.0, 66.0, 66.0, 66.0, 66.0, 64.0, 64.0, 65.0, 53.0, 53.0, 53.0, 55.0, 55.0, 55.0, 53.0, 55.0, 52.0, 52.0, 53.0, 52.0, 52.0, 51.0, 50.0, 52.0, 52.0, 53.0, 51.0, 51.0, 51.0, 49.0, 51.0, 52.0, 51.0, 55.0, 56.0, 55.0, 56.0, 58.0, 65.0, 65.0, 64.0, 64.0, 65.0, 61.0, 62.0, 63.0, 63.0, 63.0, 63.0, 64.0, 64.0, 62.0, 61.0, 63.0, 64.0, 64.0, 65.0, 63.0, 63.0, 64.0, 64.0, 63.0, 63.0, 64.0, 64.0, 64.0, 53.0, 54.0, 56.0, 56.0, 57.0, 57.0, 56.0, 58.0, 57.0, 56.0, 58.0, 58.0, 58.0, 58.0, 57.0, 57.0, 59.0, 58.0, 56.0, 57.0, 56.0, 60.0, 57.0, 53.0, 53.0, 55.0, 55.0, 55.0, 55.0, 54.0, 54.0, 54.0, 54.0, 52.0, 52.0, 53.0, 56.0, 57.0, 59.0, 60.0, 60.0, 60.0, 61.0, 62.0, 60.0, 59.0, 55.0, 61.0, 61.0, 62.0, 62.0, 63.0, 63.0, 60.0, 59.0, 59.0, 57.0, 57.0, 56.0, 55.0, 58.0, 57.0, 58.0, 57.0, 58.0, 58.0, 57.0, 57.0, 55.0, 54.0, 56.0, 56.0, 56.0, 55.0, 56.0, 56.0, 58.0, 59.0, 60.0, 60.0, 66.0, 66.0, 66.0, 67.0, 67.0, 68.0, 68.0, 68.0, 69.0, 69.0, 69.0, 67.0, 67.0, 68.0, 66.0, 66.0, 53.0, 54.0, 54.0, 53.0, 52.0, 58.0, 65.0, 67.0, 56.0, 57.0, 62.0, 62.0, 61.0, 61.0, 61.0, 60.0, 60.0, 60.0, 60.0, 61.0, 60.0, 59.0, 59.0, 59.0, 58.0, 58.0, 58.0, 58.0, 59.0, 59.0, 59.0, 59.0, 58.0, 59.0, 51.0, 51.0, 51.0, 50.0, 50.0, 51.0, 51.0, 51.0, 51.0, 51.0, 51.0, 51.0, 51.0, 51.0, 51.0, 50.0, 50.0, 50.0, 49.0, 49.0, 49.0, 50.0, 50.0, 50.0, 51.0, 51.0, 51.0, 50.0, 52.0, 58.0, 58.0, 58.0, 58.0, 58.0, 58.0, 58.0, 58.0, 58.0, 57.0, 57.0, 55.0, 54.0, 52.0, 53.0, 51.0, 50.0, 50.0, 50.0, 50.0, 57.0, 64.0, 64.0, 65.0, 64.0, 63.0, 63.0, 64.0, 64.0, 63.0, 63.0, 62.0, 63.0, 63.0, 62.0, 63.0, 63.0, 63.0, 64.0, 57.0, 58.0, 60.0, 60.0, 61.0, 61.0, 63.0, 63.0, 63.0, 62.0, 62.0, 62.0, 62.0, 62.0, 58.0, 58.0, 57.0, 57.0, 57.0, 59.0, 59.0, 59.0, 60.0, 60.0, 60.0, 60.0, 59.0, 60.0, 60.0, 60.0, 62.0, 63.0, 63.0, 64.0, 64.0, 65.0, 61.0, 58.0, 58.0, 58.0, 58.0, 58.0, 58.0, 62.0, 62.0, 62.0, 62.0, 62.0, 63.0, 62.0, 62.0, 62.0, 61.0, 59.0, 60.0, 60.0, 61.0, 63.0, 63.0, 65.0, 65.0, 64.0, 65.0, 65.0, 65.0, 65.0, 65.0, 65.0, 64.0, 64.0, 64.0, 64.0, 65.0, 58.0, 58.0, 64.0, 64.0, 65.0, 63.0, 63.0, 63.0, 63.0, 63.0, 66.0, 70.0, 66.0, 65.0, 65.0, 65.0, 62.0, 63.0, 62.0, 60.0, 60.0, 62.0, 63.0, 65.0, 70.0, 71.0, 66.0, 65.0, 67.0, 66.0, 67.0, 67.0, 69.0, 70.0, 71.0, 70.0, 71.0, 72.0, 72.0, 73.0, 75.0, 74.0, 73.0, 72.0, 73.0, 76.0, 78.0, 78.0, 79.0, 78.0, 78.0, 77.0, 76.0, 77.0, 76.0, 75.0, 75.0, 75.0, 73.0, 72.0, 70.0, 69.0, 68.0, 70.0, 78.0, 79.0, 78.0, 74.0, 67.0, 67.0, 64.0, 63.0, 63.0, 67.0, 81.0, 83.0, 80.0, 79.0, 79.0, 79.0, 77.0, 74.0], \"z\": [0.006, 0.003, 0.003, 0.006999999999999999, 0.005, 0.009000000000000001, 0.006, 0.006, 0.006, 0.003, 0.005, 0.005, 0.0, 0.0, 0.0, 0.0, 0.008, 0.009000000000000001, 0.006, 0.005, 0.005, 0.006, 0.009000000000000001, 0.008, 0.006, 0.002, 0.004, 0.0, 0.0, 0.0, 0.002, 0.003, 0.005, 0.005, 0.0, 0.0, 0.0, 0.008, 0.005, 0.005, 0.0, 0.003, 0.001, 0.0, 0.001, 0.006999999999999999, 0.006999999999999999, 0.0, 0.001, 0.01, 0.008, 0.008, 0.006, 0.006999999999999999, 0.003, 0.005, 0.0, 0.002, 0.0, 0.015, 0.013000000000000001, 0.013999999999999999, 0.008, 0.0, 0.0, 0.0, 0.01, 0.005, 0.005, 0.008, 0.003, 0.003, 0.004, 0.0, 0.006999999999999999, 0.006, 0.0, 0.006999999999999999, 0.005, 0.005, 0.0, 0.006999999999999999, 0.0, 0.003, 0.001, 0.004, 0.0, 0.0, 0.0, 0.006, 0.0, 0.0, 0.0, 0.0, 0.001, 0.002, 0.002, 0.0, 0.003, 0.003, 0.005, 0.008, 0.001, 0.002, 0.003, 0.002, 0.0, 0.0, 0.006, 0.004, 0.0, 0.002, 0.001, 0.002, 0.006999999999999999, 0.006999999999999999, 0.006, 0.005, 0.004, 0.005, 0.004, 0.003, 0.003, 0.002, 0.003, 0.001, 0.0, 0.0, 0.001, 0.002, 0.002, 0.005, 0.0, 0.008, 0.003, 0.011000000000000001, 0.009000000000000001, 0.017, 0.0, 0.0, 0.013000000000000001, 0.004, 0.0, 0.006, 0.0, 0.003, 0.0, 0.0, 0.0, 0.0, 0.0, 0.0, 0.0, 0.0, 0.0, 0.005, 0.0, 0.008, 0.003, 0.01, 0.005, 0.002, 0.003, 0.005, 0.006, 0.003, 0.0, 0.002, 0.006, 0.002, 0.0, 0.006999999999999999, 0.006, 0.006, 0.003, 0.003, 0.0, 0.004, 0.0, 0.0, 0.003, 0.003, 0.005, 0.008, 0.006999999999999999, 0.006, 0.01, 0.002, 0.0, 0.0, 0.006999999999999999, 0.006, 0.006999999999999999, 0.012, 0.004, 0.0, 0.0, 0.0, 0.0, 0.0, 0.008, 0.006, 0.006999999999999999, 0.005, 0.01, 0.013000000000000001, 0.002, 0.0, 0.0, 0.003, 0.0, 0.001, 0.0, 0.004, 0.005, 0.005, 0.002, 0.0, 0.006999999999999999, 0.0, 0.0, 0.0, 0.002, 0.0, 0.0, 0.009000000000000001, 0.008, 0.009000000000000001, 0.012, 0.006, 0.005, 0.009000000000000001, 0.011000000000000001, 0.011000000000000001, 0.006, 0.008, 0.01, 0.0, 0.0, 0.0, 0.0, 0.0, 0.0, 0.002, 0.0, 0.0, 0.0, 0.013000000000000001, 0.012, 0.011000000000000001, 0.011000000000000001, 0.008, 0.011000000000000001, 0.006999999999999999, 0.001, 0.001, 0.004, 0.001, 0.0, 0.006999999999999999, 0.01, 0.0, 0.0, 0.0, 0.006999999999999999, 0.006, 0.004, 0.008, 0.003, 0.004, 0.006, 0.003, 0.0, 0.008, 0.009000000000000001, 0.006, 0.01, 0.011000000000000001, 0.011000000000000001, 0.012, 0.009000000000000001, 0.013999999999999999, 0.011000000000000001, 0.013999999999999999, 0.016, 0.015, 0.013999999999999999, 0.013999999999999999, 0.015, 0.008, 0.008, 0.008, 0.006, 0.008, 0.006, 0.009000000000000001, 0.008, 0.006, 0.006999999999999999, 0.003, 0.008, 0.006, 0.009000000000000001, 0.009000000000000001, 0.005, 0.008, 0.002, 0.0, 0.008, 0.01, 0.01, 0.012, 0.015, 0.013999999999999999, 0.013000000000000001, 0.019, 0.016, 0.016, 0.003, 0.001, 0.001, 0.006999999999999999, 0.001, 0.0, 0.0, 0.01, 0.016, 0.003, 0.0, 0.006, 0.003, 0.003, 0.005, 0.004, 0.0, 0.001, 0.0, 0.002, 0.002, 0.006999999999999999, 0.006999999999999999, 0.006999999999999999, 0.008, 0.006999999999999999, 0.001, 0.006999999999999999, 0.006999999999999999, 0.009000000000000001, 0.013000000000000001, 0.0, 0.003, 0.004, 0.003, 0.0, 0.003, 0.003, 0.003, 0.003, 0.001, 0.0, 0.0, 0.003, 0.0, 0.0, 0.006, 0.006, 0.008, 0.004, 0.002, 0.006, 0.01, 0.008, 0.005, 0.008, 0.005, 0.008, 0.006, 0.01, 0.002, 0.006, 0.005, 0.009000000000000001, 0.011000000000000001, 0.009000000000000001, 0.015, 0.0, 0.0, 0.008, 0.013000000000000001, 0.0, 0.008, 0.008, 0.006999999999999999, 0.009000000000000001, 0.011000000000000001, 0.003, 0.0, 0.013000000000000001, 0.017, 0.003, 0.0, 0.0, 0.006999999999999999, 0.004, 0.004, 0.0, 0.0, 0.008, 0.009000000000000001, 0.003, 0.004, 0.001, 0.001, 0.002, 0.002, 0.001, 0.001, 0.0, 0.012, 0.01, 0.013999999999999999, 0.01, 0.013000000000000001, 0.01, 0.001, 0.001, 0.003, 0.003, 0.005, 0.0, 0.005, 0.006999999999999999, 0.006999999999999999, 0.008, 0.004, 0.006, 0.003, 0.006999999999999999, 0.001, 0.0, 0.0, 0.0, 0.003, 0.005, 0.008, 0.006, 0.008, 0.003, 0.002, 0.0, 0.006, 0.004, 0.006, 0.003, 0.005, 0.0, 0.008, 0.002, 0.008, 0.009000000000000001, 0.01, 0.008, 0.008, 0.008, 0.005, 0.009000000000000001, 0.004, 0.001, 0.0, 0.001, 0.001, 0.001, 0.001, 0.0, 0.0, 0.0, 0.0, 0.0, 0.003, 0.003, 0.004, 0.003, 0.001, 0.0, 0.003, 0.003, 0.004, 0.003, 0.003, 0.0, 0.0, 0.0, 0.0, 0.001, 0.0, 0.0, 0.001, 0.003, 0.003, 0.004, 0.003, 0.0, 0.002, 0.0, 0.0, 0.0, 0.0, 0.0, 0.0, 0.0, 0.006999999999999999, 0.006, 0.004, 0.008, 0.0, 0.0, 0.0, 0.0, 0.0, 0.001, 0.001, 0.001, 0.002, 0.002, 0.001, 0.002, 0.0, 0.0, 0.0, 0.0, 0.0, 0.0, 0.0, 0.0, 0.001, 0.003, 0.003, 0.001, 0.002, 0.002, 0.0, 0.001, 0.002, 0.006999999999999999, 0.008, 0.005, 0.004, 0.003, 0.002, 0.002, 0.001, 0.002, 0.002, 0.001, 0.001, 0.0, 0.001, 0.001, 0.001, 0.0, 0.002, 0.0, 0.0, 0.001, 0.001, 0.0, 0.002, 0.0, 0.0, 0.0, 0.001, 0.0, 0.001, 0.004, 0.003, 0.002, 0.0, 0.0, 0.0, 0.0, 0.004, 0.005, 0.008, 0.006, 0.002, 0.003, 0.005, 0.0, 0.0, 0.003, 0.004, 0.0, 0.0, 0.0, 0.0, 0.0, 0.002, 0.004, 0.005, 0.002, 0.0, 0.002, 0.001, 0.005, 0.005, 0.0, 0.0, 0.002, 0.003, 0.003, 0.0, 0.0, 0.0, 0.0, 0.003, 0.002, 0.004, 0.0, 0.003, 0.006, 0.005, 0.003, 0.0, 0.01, 0.005, 0.0, 0.0, 0.0, 0.0, 0.0, 0.0, 0.0, 0.0, 0.001, 0.0, 0.005, 0.003, 0.005, 0.005, 0.0, 0.0, 0.0, 0.0, 0.0, 0.0, 0.0, 0.0, 0.002, 0.0, 0.004, 0.006, 0.006, 0.006999999999999999, 0.0, 0.0, 0.001, 0.008, 0.008, 0.012, 0.011000000000000001, 0.011000000000000001, 0.009000000000000001, 0.01, 0.011000000000000001, 0.013000000000000001, 0.004, 0.003, 0.006, 0.006999999999999999, 0.009000000000000001, 0.013999999999999999, 0.015, 0.008, 0.011000000000000001, 0.012, 0.012, 0.003, 0.004, 0.002, 0.004, 0.002, 0.004, 0.004, 0.006999999999999999, 0.008, 0.006, 0.006999999999999999, 0.005, 0.003, 0.002, 0.003, 0.003, 0.008, 0.002, 0.008, 0.006999999999999999, 0.006, 0.002, 0.009000000000000001, 0.011000000000000001, 0.003, 0.003, 0.013999999999999999, 0.013000000000000001, 0.004, 0.006999999999999999, 0.0, 0.001, 0.0, 0.001, 0.0, 0.001, 0.0, 0.0, 0.001, 0.0, 0.004, 0.003, 0.004, 0.004, 0.005, 0.006999999999999999, 0.006, 0.006999999999999999, 0.01, 0.005, 0.008, 0.006999999999999999, 0.0, 0.0, 0.0, 0.0, 0.004, 0.003, 0.0, 0.0, 0.01, 0.013999999999999999, 0.013999999999999999, 0.01, 0.006999999999999999, 0.008, 0.001, 0.0, 0.006, 0.006999999999999999, 0.002, 0.002, 0.002, 0.0, 0.003, 0.003, 0.002, 0.001, 0.002, 0.002, 0.001, 0.0, 0.006, 0.004, 0.001, 0.0, 0.002, 0.0, 0.016, 0.018000000000000002, 0.012, 0.017, 0.001, 0.0, 0.003, 0.0, 0.004, 0.002, 0.006999999999999999, 0.0, 0.003, 0.0, 0.002, 0.002, 0.003, 0.005, 0.0, 0.0, 0.0, 0.0, 0.0, 0.0, 0.0, 0.001, 0.001, 0.0, 0.0, 0.001, 0.002, 0.004, 0.004, 0.002, 0.0, 0.006, 0.006, 0.005, 0.003, 0.002, 0.0, 0.002, 0.003, 0.0, 0.0, 0.0, 0.0, 0.0, 0.0, 0.004, 0.004, 0.0, 0.0, 0.0, 0.0, 0.0, 0.006999999999999999, 0.008, 0.009000000000000001, 0.003, 0.001, 0.0, 0.0, 0.006999999999999999, 0.01, 0.009000000000000001, 0.01, 0.011000000000000001, 0.01, 0.006, 0.011000000000000001, 0.011000000000000001, 0.009000000000000001, 0.009000000000000001, 0.0, 0.0, 0.002, 0.0, 0.0, 0.004, 0.0, 0.003, 0.004, 0.0, 0.006, 0.006, 0.006, 0.006999999999999999, 0.006999999999999999, 0.005, 0.0, 0.0, 0.0, 0.001, 0.0, 0.0, 0.002, 0.002, 0.003, 0.002, 0.004, 0.003, 0.012, 0.008, 0.001, 0.0, 0.005, 0.005, 0.004, 0.006, 0.003, 0.004, 0.005, 0.006, 0.003, 0.0, 0.001, 0.0, 0.0, 0.0, 0.0, 0.0, 0.0, 0.006, 0.01, 0.006999999999999999, 0.002, 0.001, 0.0, 0.002, 0.0, 0.001, 0.0, 0.001, 0.0, 0.002, 0.003, 0.003, 0.002, 0.002, 0.004, 0.006999999999999999, 0.005, 0.0, 0.006, 0.005, 0.005, 0.0, 0.01, 0.018000000000000002, 0.009000000000000001, 0.008, 0.003, 0.0, 0.008, 0.001, 0.003, 0.001, 0.0, 0.002, 0.002, 0.0, 0.0, 0.003, 0.004, 0.004, 0.0, 0.003, 0.0, 0.001, 0.0, 0.0, 0.0, 0.005, 0.006999999999999999, 0.006, 0.005, 0.008, 0.0, 0.006999999999999999, 0.013000000000000001, 0.005, 0.002, 0.003, 0.0, 0.002, 0.0, 0.003, 0.0, 0.005, 0.002, 0.003, 0.0, 0.004, 0.006, 0.003, 0.001, 0.004, 0.006, 0.006999999999999999, 0.011000000000000001, 0.002, 0.0, 0.006, 0.005, 0.0, 0.0, 0.002, 0.0, 0.003, 0.006999999999999999, 0.006999999999999999, 0.013999999999999999, 0.015, 0.006999999999999999, 0.008, 0.004, 0.003, 0.0, 0.002, 0.008, 0.006999999999999999, 0.006, 0.0, 0.003, 0.001, 0.004, 0.0, 0.005, 0.006, 0.006999999999999999, 0.008, 0.008, 0.008, 0.006999999999999999, 0.003, 0.006, 0.0, 0.005, 0.0, 0.004, 0.005, 0.006999999999999999, 0.008, 0.006, 0.011000000000000001, 0.001, 0.0, 0.001, 0.0, 0.005, 0.001, 0.01, 0.009000000000000001, 0.01, 0.01, 0.008, 0.008, 0.005, 0.002, 0.002, 0.0, 0.003, 0.001, 0.0, 0.0, 0.008, 0.008, 0.004, 0.006999999999999999, 0.006, 0.003, 0.003, 0.003, 0.0, 0.001, 0.0, 0.004, 0.0, 0.004, 0.006, 0.005, 0.006999999999999999, 0.0, 0.0, 0.001, 0.001, 0.002, 0.0, 0.004, 0.003, 0.005, 0.005, 0.005, 0.004, 0.004, 0.0, 0.009000000000000001, 0.013000000000000001, 0.008, 0.002, 0.009000000000000001, 0.008, 0.006, 0.002, 0.006, 0.01, 0.005, 0.004, 0.004, 0.006, 0.001, 0.002, 0.009000000000000001, 0.01, 0.01, 0.011000000000000001, 0.006, 0.008, 0.006, 0.006, 0.006999999999999999, 0.01, 0.006, 0.008, 0.002, 0.003, 0.001, 0.006, 0.013000000000000001, 0.003, 0.0, 0.004, 0.004, 0.003, 0.005, 0.005, 0.001, 0.0, 0.0, 0.0, 0.0, 0.0, 0.005, 0.006, 0.004, 0.002, 0.004, 0.006, 0.01, 0.009000000000000001, 0.01, 0.002, 0.0, 0.0, 0.009000000000000001, 0.013000000000000001, 0.006, 0.013000000000000001, 0.002, 0.0, 0.006999999999999999, 0.0, 0.006, 0.009000000000000001, 0.002, 0.0, 0.01, 0.008, 0.004, 0.002, 0.006, 0.006999999999999999, 0.004, 0.0, 0.004, 0.002, 0.0, 0.003, 0.003, 0.002, 0.0, 0.0, 0.0, 0.001, 0.0, 0.003, 0.005, 0.008, 0.0, 0.0, 0.0, 0.002, 0.0, 0.002, 0.003, 0.003, 0.004, 0.001, 0.0, 0.0, 0.0, 0.0, 0.0, 0.006999999999999999, 0.006, 0.006, 0.003, 0.0, 0.0, 0.0, 0.001, 0.0, 0.002, 0.002, 0.003, 0.005, 0.005, 0.006, 0.004, 0.002, 0.0, 0.003, 0.003, 0.004, 0.0, 0.004, 0.003, 0.009000000000000001, 0.012, 0.004, 0.002, 0.008, 0.0, 0.001, 0.002, 0.0, 0.0, 0.001, 0.0, 0.001, 0.0, 0.001, 0.0, 0.001, 0.0, 0.001, 0.0, 0.0, 0.0, 0.0, 0.0, 0.0, 0.0, 0.0, 0.0, 0.0, 0.005, 0.0, 0.009000000000000001, 0.01, 0.0, 0.005, 0.002, 0.006, 0.004, 0.0, 0.004, 0.005, 0.002, 0.002, 0.006, 0.001, 0.003, 0.004, 0.003, 0.003, 0.002, 0.002, 0.001, 0.013000000000000001, 0.012, 0.009000000000000001, 0.012, 0.011000000000000001, 0.01, 0.01, 0.01, 0.004, 0.002, 0.001, 0.002, 0.003, 0.004, 0.012, 0.009000000000000001, 0.006999999999999999, 0.006, 0.006999999999999999, 0.005, 0.008, 0.01, 0.009000000000000001, 0.008, 0.008, 0.008, 0.006999999999999999, 0.008, 0.006999999999999999, 0.005, 0.0, 0.0, 0.0, 0.0, 0.0, 0.003, 0.011000000000000001, 0.0, 0.0, 0.001, 0.0, 0.0, 0.006, 0.002, 0.003, 0.002, 0.003, 0.0, 0.004, 0.005, 0.006999999999999999, 0.003, 0.003, 0.003, 0.004, 0.003, 0.004, 0.004, 0.013999999999999999, 0.013000000000000001, 0.013000000000000001, 0.012, 0.013999999999999999, 0.013999999999999999, 0.012, 0.012, 0.011000000000000001, 0.01, 0.009000000000000001, 0.008, 0.006, 0.008, 0.006999999999999999, 0.006, 0.006, 0.009000000000000001, 0.011000000000000001, 0.009000000000000001, 0.012, 0.004, 0.006, 0.008, 0.006999999999999999, 0.008, 0.008, 0.008, 0.009000000000000001, 0.01, 0.008, 0.009000000000000001, 0.008, 0.01, 0.006999999999999999, 0.005, 0.005, 0.004, 0.003, 0.008, 0.008, 0.009000000000000001, 0.008, 0.006999999999999999, 0.008, 0.008, 0.005, 0.005, 0.005, 0.006, 0.005, 0.006999999999999999, 0.008, 0.009000000000000001, 0.009000000000000001, 0.008, 0.008, 0.009000000000000001, 0.011000000000000001, 0.011000000000000001, 0.01, 0.002, 0.003, 0.003, 0.003, 0.004, 0.003, 0.006, 0.005, 0.006999999999999999, 0.006, 0.004, 0.004, 0.005, 0.006, 0.005, 0.004, 0.01, 0.008, 0.008, 0.0, 0.0, 0.0, 0.0, 0.0, 0.0, 0.0, 0.0, 0.0, 0.0, 0.0, 0.0, 0.0, 0.0, 0.0, 0.0, 0.012, 0.009000000000000001, 0.009000000000000001, 0.011000000000000001, 0.011000000000000001, 0.006, 0.001, 0.001, 0.002, 0.003, 0.0, 0.0, 0.0, 0.0, 0.0, 0.0, 0.0, 0.0, 0.0, 0.0, 0.0, 0.0, 0.0, 0.0, 0.002, 0.002, 0.002, 0.002, 0.0, 0.0, 0.0, 0.0, 0.0, 0.0, 0.01, 0.009000000000000001, 0.009000000000000001, 0.012, 0.011000000000000001, 0.012, 0.013000000000000001, 0.013999999999999999, 0.013999999999999999, 0.016, 0.017, 0.015, 0.013999999999999999, 0.016, 0.013999999999999999, 0.013000000000000001, 0.013999999999999999, 0.015, 0.008, 0.006999999999999999, 0.006, 0.006, 0.004, 0.003, 0.003, 0.002, 0.002, 0.003, 0.001, 0.002, 0.004, 0.004, 0.006, 0.005, 0.004, 0.004, 0.005, 0.005, 0.004, 0.005, 0.006999999999999999, 0.006, 0.009000000000000001, 0.009000000000000001, 0.011000000000000001, 0.011000000000000001, 0.009000000000000001, 0.01, 0.013000000000000001, 0.006, 0.003, 0.004, 0.004, 0.004, 0.004, 0.003, 0.002, 0.002, 0.002, 0.003, 0.002, 0.002, 0.001, 0.001, 0.0, 0.0, 0.0, 0.0, 0.001, 0.0, 0.0, 0.0, 0.0, 0.0, 0.0, 0.0, 0.0, 0.0, 0.0, 0.0, 0.0, 0.0, 0.006999999999999999, 0.005, 0.011000000000000001, 0.01, 0.009000000000000001, 0.006999999999999999, 0.005, 0.006, 0.006, 0.006, 0.012, 0.011000000000000001, 0.012, 0.011000000000000001, 0.009000000000000001, 0.006999999999999999, 0.006999999999999999, 0.006, 0.005, 0.003, 0.002, 0.001, 0.008, 0.006999999999999999, 0.006999999999999999, 0.006, 0.006, 0.006, 0.008, 0.0, 0.0, 0.0, 0.0, 0.0, 0.0, 0.0, 0.0, 0.001, 0.0, 0.006, 0.005, 0.005, 0.004, 0.002, 0.001, 0.0, 0.0, 0.0, 0.0, 0.0, 0.0, 0.0, 0.0, 0.0, 0.0, 0.0, 0.0, 0.0, 0.0, 0.0, 0.0, 0.0, 0.0, 0.0, 0.0, 0.0, 0.0, 0.0, 0.0, 0.005, 0.0, 0.003, 0.003, 0.003, 0.0, 0.0, 0.0, 0.0, 0.0, 0.0, 0.0, 0.0, 0.0, 0.0, 0.0, 0.0, 0.009000000000000001, 0.009000000000000001, 0.009000000000000001, 0.008, 0.006999999999999999, 0.006999999999999999, 0.006999999999999999, 0.006999999999999999, 0.008, 0.006999999999999999, 0.005, 0.005, 0.005, 0.004, 0.003, 0.0, 0.0, 0.0, 0.001, 0.001, 0.0, 0.0, 0.0, 0.0, 0.0, 0.0, 0.0, 0.0, 0.0, 0.0, 0.0, 0.0, 0.0, 0.0, 0.0, 0.0, 0.0, 0.0, 0.0, 0.0, 0.0, 0.0, 0.0, 0.0, 0.0, 0.0, 0.0, 0.0, 0.0, 0.004, 0.0, 0.0, 0.0, 0.0, 0.002]}, {\"hoverlabel\": {\"namelength\": 0}, \"hovertemplate\": \"fetal_health=3<br>prolongued_decelerations=%{x}<br>abnormal_short_term_variability=%{y}<br>accelerations=%{z}\", \"legendgroup\": \"fetal_health=3\", \"marker\": {\"color\": \"#00cc96\", \"symbol\": \"circle\"}, \"mode\": \"markers\", \"name\": \"fetal_health=3\", \"scene\": \"scene\", \"showlegend\": true, \"type\": \"scatter3d\", \"x\": [0.002, 0.003, 0.0, 0.0, 0.0, 0.003, 0.003, 0.0, 0.0, 0.0, 0.0, 0.0, 0.0, 0.0, 0.0, 0.002, 0.0, 0.0, 0.0, 0.0, 0.0, 0.0, 0.0, 0.0, 0.0, 0.0, 0.0, 0.0, 0.0, 0.0, 0.0, 0.0, 0.0, 0.0, 0.0, 0.0, 0.0, 0.0, 0.0, 0.0, 0.0, 0.0, 0.0, 0.0, 0.0, 0.0, 0.0, 0.0, 0.0, 0.0, 0.0, 0.0, 0.0, 0.0, 0.0, 0.0, 0.0, 0.0, 0.004, 0.004, 0.002, 0.002, 0.002, 0.003, 0.002, 0.004, 0.003, 0.005, 0.0, 0.0, 0.0, 0.0, 0.0, 0.0, 0.0, 0.0, 0.0, 0.0, 0.0, 0.0, 0.0, 0.002, 0.003, 0.003, 0.003, 0.004, 0.001, 0.002, 0.0, 0.002, 0.002, 0.002, 0.002, 0.001, 0.002, 0.003, 0.002, 0.004, 0.003, 0.003, 0.003, 0.004, 0.005, 0.005, 0.004, 0.0, 0.0, 0.0, 0.0, 0.001, 0.001, 0.001, 0.002, 0.002, 0.002, 0.002, 0.002, 0.002, 0.001, 0.001, 0.002, 0.0, 0.0, 0.0, 0.0, 0.0, 0.0, 0.002, 0.002, 0.0, 0.002, 0.0, 0.0, 0.0, 0.001, 0.002, 0.002, 0.002, 0.002, 0.003, 0.003, 0.002, 0.002, 0.003, 0.002, 0.002, 0.002, 0.003, 0.002, 0.002, 0.001, 0.002, 0.002, 0.002, 0.003, 0.004, 0.004, 0.003, 0.002, 0.002, 0.001, 0.001, 0.002, 0.002, 0.002, 0.003, 0.003, 0.002, 0.002, 0.002, 0.002, 0.002, 0.002, 0.002, 0.002, 0.0], \"y\": [26.0, 29.0, 83.0, 84.0, 86.0, 30.0, 34.0, 80.0, 86.0, 86.0, 86.0, 87.0, 70.0, 68.0, 72.0, 26.0, 68.0, 74.0, 75.0, 70.0, 77.0, 79.0, 79.0, 71.0, 62.0, 62.0, 84.0, 79.0, 81.0, 73.0, 75.0, 73.0, 73.0, 77.0, 78.0, 69.0, 70.0, 47.0, 74.0, 83.0, 84.0, 84.0, 81.0, 81.0, 82.0, 81.0, 80.0, 84.0, 84.0, 82.0, 77.0, 73.0, 76.0, 73.0, 74.0, 70.0, 70.0, 71.0, 35.0, 37.0, 18.0, 29.0, 34.0, 29.0, 61.0, 80.0, 80.0, 80.0, 64.0, 65.0, 81.0, 83.0, 79.0, 67.0, 68.0, 81.0, 80.0, 78.0, 79.0, 61.0, 61.0, 24.0, 29.0, 30.0, 34.0, 36.0, 32.0, 30.0, 32.0, 68.0, 68.0, 68.0, 68.0, 67.0, 68.0, 67.0, 64.0, 63.0, 62.0, 60.0, 61.0, 62.0, 64.0, 65.0, 64.0, 59.0, 59.0, 59.0, 60.0, 62.0, 62.0, 64.0, 64.0, 62.0, 64.0, 63.0, 64.0, 64.0, 63.0, 62.0, 64.0, 61.0, 66.0, 67.0, 66.0, 68.0, 70.0, 60.0, 57.0, 57.0, 58.0, 59.0, 61.0, 62.0, 62.0, 63.0, 64.0, 64.0, 66.0, 62.0, 60.0, 62.0, 61.0, 60.0, 60.0, 60.0, 60.0, 60.0, 60.0, 60.0, 60.0, 60.0, 61.0, 60.0, 61.0, 63.0, 63.0, 62.0, 61.0, 61.0, 65.0, 65.0, 65.0, 65.0, 65.0, 66.0, 66.0, 66.0, 67.0, 67.0, 66.0, 65.0, 66.0, 65.0, 65.0, 63.0], \"z\": [0.001, 0.001, 0.0, 0.0, 0.0, 0.0, 0.0, 0.0, 0.0, 0.0, 0.0, 0.0, 0.0, 0.0, 0.0, 0.0, 0.0, 0.0, 0.0, 0.0, 0.0, 0.0, 0.0, 0.0, 0.0, 0.0, 0.0, 0.0, 0.0, 0.0, 0.0, 0.0, 0.0, 0.0, 0.0, 0.0, 0.0, 0.0, 0.0, 0.0, 0.0, 0.0, 0.0, 0.0, 0.0, 0.0, 0.0, 0.0, 0.0, 0.0, 0.0, 0.0, 0.0, 0.0, 0.0, 0.0, 0.0, 0.0, 0.0, 0.0, 0.0, 0.001, 0.0, 0.0, 0.0, 0.0, 0.0, 0.0, 0.0, 0.0, 0.0, 0.0, 0.0, 0.0, 0.0, 0.0, 0.0, 0.0, 0.0, 0.0, 0.0, 0.001, 0.0, 0.0, 0.0, 0.0, 0.0, 0.0, 0.0, 0.003, 0.004, 0.003, 0.002, 0.004, 0.003, 0.0, 0.0, 0.002, 0.005, 0.004, 0.004, 0.004, 0.003, 0.003, 0.004, 0.0, 0.0, 0.0, 0.0, 0.0, 0.0, 0.0, 0.0, 0.0, 0.0, 0.0, 0.0, 0.0, 0.0, 0.0, 0.0, 0.0, 0.0, 0.0, 0.0, 0.0, 0.0, 0.0, 0.0, 0.0, 0.0, 0.002, 0.002, 0.001, 0.001, 0.002, 0.002, 0.002, 0.0, 0.0, 0.0, 0.0, 0.0, 0.0, 0.0, 0.0, 0.0, 0.0, 0.0, 0.0, 0.0, 0.0, 0.0, 0.001, 0.001, 0.0, 0.001, 0.001, 0.001, 0.0, 0.0, 0.0, 0.0, 0.0, 0.0, 0.0, 0.0, 0.0, 0.0, 0.0, 0.0, 0.0, 0.0, 0.0, 0.0, 0.0]}],\n",
              "                        {\"legend\": {\"tracegroupgap\": 0}, \"margin\": {\"t\": 60}, \"scene\": {\"domain\": {\"x\": [0.0, 1.0], \"y\": [0.0, 1.0]}, \"xaxis\": {\"title\": {\"text\": \"prolongued_decelerations\"}}, \"yaxis\": {\"title\": {\"text\": \"abnormal_short_term_variability\"}}, \"zaxis\": {\"title\": {\"text\": \"accelerations\"}}}, \"template\": {\"data\": {\"bar\": [{\"error_x\": {\"color\": \"#2a3f5f\"}, \"error_y\": {\"color\": \"#2a3f5f\"}, \"marker\": {\"line\": {\"color\": \"#E5ECF6\", \"width\": 0.5}}, \"type\": \"bar\"}], \"barpolar\": [{\"marker\": {\"line\": {\"color\": \"#E5ECF6\", \"width\": 0.5}}, \"type\": \"barpolar\"}], \"carpet\": [{\"aaxis\": {\"endlinecolor\": \"#2a3f5f\", \"gridcolor\": \"white\", \"linecolor\": \"white\", \"minorgridcolor\": \"white\", \"startlinecolor\": \"#2a3f5f\"}, \"baxis\": {\"endlinecolor\": \"#2a3f5f\", \"gridcolor\": \"white\", \"linecolor\": \"white\", \"minorgridcolor\": \"white\", \"startlinecolor\": \"#2a3f5f\"}, \"type\": \"carpet\"}], \"choropleth\": [{\"colorbar\": {\"outlinewidth\": 0, \"ticks\": \"\"}, \"type\": \"choropleth\"}], \"contour\": [{\"colorbar\": {\"outlinewidth\": 0, \"ticks\": \"\"}, \"colorscale\": [[0.0, \"#0d0887\"], [0.1111111111111111, \"#46039f\"], [0.2222222222222222, \"#7201a8\"], [0.3333333333333333, \"#9c179e\"], [0.4444444444444444, \"#bd3786\"], [0.5555555555555556, \"#d8576b\"], [0.6666666666666666, \"#ed7953\"], [0.7777777777777778, \"#fb9f3a\"], [0.8888888888888888, \"#fdca26\"], [1.0, \"#f0f921\"]], \"type\": \"contour\"}], \"contourcarpet\": [{\"colorbar\": {\"outlinewidth\": 0, \"ticks\": \"\"}, \"type\": \"contourcarpet\"}], \"heatmap\": [{\"colorbar\": {\"outlinewidth\": 0, \"ticks\": \"\"}, \"colorscale\": [[0.0, \"#0d0887\"], [0.1111111111111111, \"#46039f\"], [0.2222222222222222, \"#7201a8\"], [0.3333333333333333, \"#9c179e\"], [0.4444444444444444, \"#bd3786\"], [0.5555555555555556, \"#d8576b\"], [0.6666666666666666, \"#ed7953\"], [0.7777777777777778, \"#fb9f3a\"], [0.8888888888888888, \"#fdca26\"], [1.0, \"#f0f921\"]], \"type\": \"heatmap\"}], \"heatmapgl\": [{\"colorbar\": {\"outlinewidth\": 0, \"ticks\": \"\"}, \"colorscale\": [[0.0, \"#0d0887\"], [0.1111111111111111, \"#46039f\"], [0.2222222222222222, \"#7201a8\"], [0.3333333333333333, \"#9c179e\"], [0.4444444444444444, \"#bd3786\"], [0.5555555555555556, \"#d8576b\"], [0.6666666666666666, \"#ed7953\"], [0.7777777777777778, \"#fb9f3a\"], [0.8888888888888888, \"#fdca26\"], [1.0, \"#f0f921\"]], \"type\": \"heatmapgl\"}], \"histogram\": [{\"marker\": {\"colorbar\": {\"outlinewidth\": 0, \"ticks\": \"\"}}, \"type\": \"histogram\"}], \"histogram2d\": [{\"colorbar\": {\"outlinewidth\": 0, \"ticks\": \"\"}, \"colorscale\": [[0.0, \"#0d0887\"], [0.1111111111111111, \"#46039f\"], [0.2222222222222222, \"#7201a8\"], [0.3333333333333333, \"#9c179e\"], [0.4444444444444444, \"#bd3786\"], [0.5555555555555556, \"#d8576b\"], [0.6666666666666666, \"#ed7953\"], [0.7777777777777778, \"#fb9f3a\"], [0.8888888888888888, \"#fdca26\"], [1.0, \"#f0f921\"]], \"type\": \"histogram2d\"}], \"histogram2dcontour\": [{\"colorbar\": {\"outlinewidth\": 0, \"ticks\": \"\"}, \"colorscale\": [[0.0, \"#0d0887\"], [0.1111111111111111, \"#46039f\"], [0.2222222222222222, \"#7201a8\"], [0.3333333333333333, \"#9c179e\"], [0.4444444444444444, \"#bd3786\"], [0.5555555555555556, \"#d8576b\"], [0.6666666666666666, \"#ed7953\"], [0.7777777777777778, \"#fb9f3a\"], [0.8888888888888888, \"#fdca26\"], [1.0, \"#f0f921\"]], \"type\": \"histogram2dcontour\"}], \"mesh3d\": [{\"colorbar\": {\"outlinewidth\": 0, \"ticks\": \"\"}, \"type\": \"mesh3d\"}], \"parcoords\": [{\"line\": {\"colorbar\": {\"outlinewidth\": 0, \"ticks\": \"\"}}, \"type\": \"parcoords\"}], \"pie\": [{\"automargin\": true, \"type\": \"pie\"}], \"scatter\": [{\"marker\": {\"colorbar\": {\"outlinewidth\": 0, \"ticks\": \"\"}}, \"type\": \"scatter\"}], \"scatter3d\": [{\"line\": {\"colorbar\": {\"outlinewidth\": 0, \"ticks\": \"\"}}, \"marker\": {\"colorbar\": {\"outlinewidth\": 0, \"ticks\": \"\"}}, \"type\": \"scatter3d\"}], \"scattercarpet\": [{\"marker\": {\"colorbar\": {\"outlinewidth\": 0, \"ticks\": \"\"}}, \"type\": \"scattercarpet\"}], \"scattergeo\": [{\"marker\": {\"colorbar\": {\"outlinewidth\": 0, \"ticks\": \"\"}}, \"type\": \"scattergeo\"}], \"scattergl\": [{\"marker\": {\"colorbar\": {\"outlinewidth\": 0, \"ticks\": \"\"}}, \"type\": \"scattergl\"}], \"scattermapbox\": [{\"marker\": {\"colorbar\": {\"outlinewidth\": 0, \"ticks\": \"\"}}, \"type\": \"scattermapbox\"}], \"scatterpolar\": [{\"marker\": {\"colorbar\": {\"outlinewidth\": 0, \"ticks\": \"\"}}, \"type\": \"scatterpolar\"}], \"scatterpolargl\": [{\"marker\": {\"colorbar\": {\"outlinewidth\": 0, \"ticks\": \"\"}}, \"type\": \"scatterpolargl\"}], \"scatterternary\": [{\"marker\": {\"colorbar\": {\"outlinewidth\": 0, \"ticks\": \"\"}}, \"type\": \"scatterternary\"}], \"surface\": [{\"colorbar\": {\"outlinewidth\": 0, \"ticks\": \"\"}, \"colorscale\": [[0.0, \"#0d0887\"], [0.1111111111111111, \"#46039f\"], [0.2222222222222222, \"#7201a8\"], [0.3333333333333333, \"#9c179e\"], [0.4444444444444444, \"#bd3786\"], [0.5555555555555556, \"#d8576b\"], [0.6666666666666666, \"#ed7953\"], [0.7777777777777778, \"#fb9f3a\"], [0.8888888888888888, \"#fdca26\"], [1.0, \"#f0f921\"]], \"type\": \"surface\"}], \"table\": [{\"cells\": {\"fill\": {\"color\": \"#EBF0F8\"}, \"line\": {\"color\": \"white\"}}, \"header\": {\"fill\": {\"color\": \"#C8D4E3\"}, \"line\": {\"color\": \"white\"}}, \"type\": \"table\"}]}, \"layout\": {\"annotationdefaults\": {\"arrowcolor\": \"#2a3f5f\", \"arrowhead\": 0, \"arrowwidth\": 1}, \"coloraxis\": {\"colorbar\": {\"outlinewidth\": 0, \"ticks\": \"\"}}, \"colorscale\": {\"diverging\": [[0, \"#8e0152\"], [0.1, \"#c51b7d\"], [0.2, \"#de77ae\"], [0.3, \"#f1b6da\"], [0.4, \"#fde0ef\"], [0.5, \"#f7f7f7\"], [0.6, \"#e6f5d0\"], [0.7, \"#b8e186\"], [0.8, \"#7fbc41\"], [0.9, \"#4d9221\"], [1, \"#276419\"]], \"sequential\": [[0.0, \"#0d0887\"], [0.1111111111111111, \"#46039f\"], [0.2222222222222222, \"#7201a8\"], [0.3333333333333333, \"#9c179e\"], [0.4444444444444444, \"#bd3786\"], [0.5555555555555556, \"#d8576b\"], [0.6666666666666666, \"#ed7953\"], [0.7777777777777778, \"#fb9f3a\"], [0.8888888888888888, \"#fdca26\"], [1.0, \"#f0f921\"]], \"sequentialminus\": [[0.0, \"#0d0887\"], [0.1111111111111111, \"#46039f\"], [0.2222222222222222, \"#7201a8\"], [0.3333333333333333, \"#9c179e\"], [0.4444444444444444, \"#bd3786\"], [0.5555555555555556, \"#d8576b\"], [0.6666666666666666, \"#ed7953\"], [0.7777777777777778, \"#fb9f3a\"], [0.8888888888888888, \"#fdca26\"], [1.0, \"#f0f921\"]]}, \"colorway\": [\"#636efa\", \"#EF553B\", \"#00cc96\", \"#ab63fa\", \"#FFA15A\", \"#19d3f3\", \"#FF6692\", \"#B6E880\", \"#FF97FF\", \"#FECB52\"], \"font\": {\"color\": \"#2a3f5f\"}, \"geo\": {\"bgcolor\": \"white\", \"lakecolor\": \"white\", \"landcolor\": \"#E5ECF6\", \"showlakes\": true, \"showland\": true, \"subunitcolor\": \"white\"}, \"hoverlabel\": {\"align\": \"left\"}, \"hovermode\": \"closest\", \"mapbox\": {\"style\": \"light\"}, \"paper_bgcolor\": \"white\", \"plot_bgcolor\": \"#E5ECF6\", \"polar\": {\"angularaxis\": {\"gridcolor\": \"white\", \"linecolor\": \"white\", \"ticks\": \"\"}, \"bgcolor\": \"#E5ECF6\", \"radialaxis\": {\"gridcolor\": \"white\", \"linecolor\": \"white\", \"ticks\": \"\"}}, \"scene\": {\"xaxis\": {\"backgroundcolor\": \"#E5ECF6\", \"gridcolor\": \"white\", \"gridwidth\": 2, \"linecolor\": \"white\", \"showbackground\": true, \"ticks\": \"\", \"zerolinecolor\": \"white\"}, \"yaxis\": {\"backgroundcolor\": \"#E5ECF6\", \"gridcolor\": \"white\", \"gridwidth\": 2, \"linecolor\": \"white\", \"showbackground\": true, \"ticks\": \"\", \"zerolinecolor\": \"white\"}, \"zaxis\": {\"backgroundcolor\": \"#E5ECF6\", \"gridcolor\": \"white\", \"gridwidth\": 2, \"linecolor\": \"white\", \"showbackground\": true, \"ticks\": \"\", \"zerolinecolor\": \"white\"}}, \"shapedefaults\": {\"line\": {\"color\": \"#2a3f5f\"}}, \"ternary\": {\"aaxis\": {\"gridcolor\": \"white\", \"linecolor\": \"white\", \"ticks\": \"\"}, \"baxis\": {\"gridcolor\": \"white\", \"linecolor\": \"white\", \"ticks\": \"\"}, \"bgcolor\": \"#E5ECF6\", \"caxis\": {\"gridcolor\": \"white\", \"linecolor\": \"white\", \"ticks\": \"\"}}, \"title\": {\"x\": 0.05}, \"xaxis\": {\"automargin\": true, \"gridcolor\": \"white\", \"linecolor\": \"white\", \"ticks\": \"\", \"title\": {\"standoff\": 15}, \"zerolinecolor\": \"white\", \"zerolinewidth\": 2}, \"yaxis\": {\"automargin\": true, \"gridcolor\": \"white\", \"linecolor\": \"white\", \"ticks\": \"\", \"title\": {\"standoff\": 15}, \"zerolinecolor\": \"white\", \"zerolinewidth\": 2}}}},\n",
              "                        {\"responsive\": true}\n",
              "                    ).then(function(){\n",
              "                            \n",
              "var gd = document.getElementById('9725a148-a895-41bc-b635-4e40f1b95531');\n",
              "var x = new MutationObserver(function (mutations, observer) {{\n",
              "        var display = window.getComputedStyle(gd).display;\n",
              "        if (!display || display === 'none') {{\n",
              "            console.log([gd, 'removed!']);\n",
              "            Plotly.purge(gd);\n",
              "            observer.disconnect();\n",
              "        }}\n",
              "}});\n",
              "\n",
              "// Listen for the removal of the full notebook cells\n",
              "var notebookContainer = gd.closest('#notebook-container');\n",
              "if (notebookContainer) {{\n",
              "    x.observe(notebookContainer, {childList: true});\n",
              "}}\n",
              "\n",
              "// Listen for the clearing of the current output cell\n",
              "var outputEl = gd.closest('.output');\n",
              "if (outputEl) {{\n",
              "    x.observe(outputEl, {childList: true});\n",
              "}}\n",
              "\n",
              "                        })\n",
              "                };\n",
              "                \n",
              "            </script>\n",
              "        </div>\n",
              "</body>\n",
              "</html>"
            ]
          },
          "metadata": {}
        }
      ]
    },
    {
      "cell_type": "code",
      "metadata": {
        "id": "J9h-VS3r0F2t"
      },
      "source": [
        ""
      ],
      "execution_count": null,
      "outputs": []
    }
  ]
}